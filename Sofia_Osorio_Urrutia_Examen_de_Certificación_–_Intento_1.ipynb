{
  "cells": [
    {
      "cell_type": "markdown",
      "metadata": {
        "id": "qf4uOtz4Y1qD"
      },
      "source": [
        "#Examen de Certificación – Intento 1\n",
        "## Requisitos\n",
        "\n",
        "Tu tarea es limpiar y explorar un dataset para los ejecutivos de una empresa de telecomunicaciones que describe tendencias en la rotación de sus clientes.\n",
        "\n",
        "El dataset puede ser encontrado aquí.  \n"
      ]
    },
    {
      "cell_type": "markdown",
      "metadata": {
        "id": "lEpkpCtAbX38"
      },
      "source": [
        "\n",
        "## Limpieza de datos con Python:\n",
        "Identificar y solucionar cualquier valor duplicado.\n",
        "\n",
        "Asegurarse de que todas las columnas coincidan con los tipos de datos indicados en el diccionario de datos.\n",
        "\n",
        "Identificar y solucionar cualquier inconsistencia en los valores categóricos (ejemplo: cat, Cat, cats).\n",
        "\n",
        "Identificar y solucionar cualquier valor faltante en el dataset. Rellenar los valores faltantes con un marcador adecuado para el tipo de dato.\n",
        "\n",
        "Identificar y solucionar cualquier punto de dato inapropiado o inusual (ejemplo: la edad no puede ser 325).\n",
        "\n"
      ]
    },
    {
      "cell_type": "markdown",
      "metadata": {
        "id": "KhZAKkzQcEuK"
      },
      "source": [
        "### 1. Preparación del ambiente"
      ]
    },
    {
      "cell_type": "code",
      "execution_count": 158,
      "metadata": {
        "colab": {
          "base_uri": "https://localhost:8080/"
        },
        "id": "1YIUSF4Hbe2r",
        "outputId": "f54cd0b3-022d-49fb-ac25-6f4e3915549a"
      },
      "outputs": [
        {
          "name": "stdout",
          "output_type": "stream",
          "text": [
            "Drive already mounted at /content/drive; to attempt to forcibly remount, call drive.mount(\"/content/drive\", force_remount=True).\n"
          ]
        }
      ],
      "source": [
        "#se importan librerias que utilizaré para desarrollar el examen\n",
        "import pandas as pd\n",
        "from google.colab import drive\n",
        "#para visualizaciones\n",
        "import matplotlib.pyplot as plt\n",
        "import plotly.express as px\n",
        "\n",
        "#montar google drive para conectarse a la base de datos\n",
        "drive.mount('/content/drive')"
      ]
    },
    {
      "cell_type": "code",
      "execution_count": 120,
      "metadata": {
        "id": "5zPGCorYc6_R"
      },
      "outputs": [],
      "source": [
        "# Importar el DataFrame.\n",
        "path = \"/content/drive/MyDrive/SONDA | Data Science/Data Science Fundamentals/Examen/WA_Fn-UseC_-Telco-Customer-Churn.csv\"\n",
        "#como el tipo de archivo es un csv utilizamos la funcion read_csv\n",
        "df = pd.read_csv(path)"
      ]
    },
    {
      "cell_type": "markdown",
      "metadata": {
        "id": "Bz9vxuhBiJeo"
      },
      "source": [
        "### 2. Analizar y limpiar"
      ]
    },
    {
      "cell_type": "code",
      "execution_count": 121,
      "metadata": {
        "colab": {
          "base_uri": "https://localhost:8080/"
        },
        "id": "_PSb_xJ-dNOC",
        "outputId": "0d51d06c-a067-4e3d-fb7d-71dfb7ecc344"
      },
      "outputs": [
        {
          "name": "stdout",
          "output_type": "stream",
          "text": [
            "<class 'pandas.core.frame.DataFrame'>\n",
            "RangeIndex: 7043 entries, 0 to 7042\n",
            "Data columns (total 21 columns):\n",
            " #   Column            Non-Null Count  Dtype  \n",
            "---  ------            --------------  -----  \n",
            " 0   CustomerID        7043 non-null   object \n",
            " 1   Gender            7043 non-null   object \n",
            " 2   SeniorCitizen     7043 non-null   int64  \n",
            " 3   Partner           7043 non-null   object \n",
            " 4   Dependents        7043 non-null   object \n",
            " 5   Tenure            7043 non-null   int64  \n",
            " 6   PhoneService      7043 non-null   object \n",
            " 7   MultipleLines     7043 non-null   object \n",
            " 8   InternetService   7043 non-null   object \n",
            " 9   OnlineSecurity    7043 non-null   object \n",
            " 10  OnlineBackup      7043 non-null   object \n",
            " 11  DeviceProtection  7043 non-null   object \n",
            " 12  TechSupport       7043 non-null   object \n",
            " 13  StreamingTV       7043 non-null   object \n",
            " 14  StreamingMovies   7043 non-null   object \n",
            " 15  Contract          7043 non-null   object \n",
            " 16  PaperlessBilling  7043 non-null   object \n",
            " 17  PaymentMethod     7043 non-null   object \n",
            " 18  MonthlyCharges    7043 non-null   float64\n",
            " 19  TotalCharges      7043 non-null   object \n",
            " 20  Churn             7043 non-null   object \n",
            "dtypes: float64(1), int64(2), object(18)\n",
            "memory usage: 1.1+ MB\n"
          ]
        }
      ],
      "source": [
        "#ver las primeras 20 filas\n",
        "df.head(20)\n",
        "\n",
        "#limpiar los nombres de las columnas\n",
        "df.columns.str.strip()\n",
        "\n",
        "#cabeceras: algunas tienen mayuculas, voy a normalizar ya que las columnas\tcustomerID, gender, tenure no comienzan con letra mayuscula\n",
        "new_names = {\n",
        "    \"customerID\": \"CustomerID\",\n",
        "    \"gender\":\"Gender\",\n",
        "    \"tenure\":\"Tenure\"\n",
        "}\n",
        "\n",
        "df.rename(columns=new_names, inplace=True)\n",
        "df.head(5)\n",
        "df.info()"
      ]
    },
    {
      "cell_type": "code",
      "execution_count": 122,
      "metadata": {
        "colab": {
          "base_uri": "https://localhost:8080/",
          "height": 1000
        },
        "id": "YIykwaQ8jP54",
        "outputId": "2a066dc3-39c8-4a57-e2c1-9bf19c09078f"
      },
      "outputs": [
        {
          "name": "stdout",
          "output_type": "stream",
          "text": [
            "<class 'pandas.core.frame.DataFrame'>\n",
            "RangeIndex: 7043 entries, 0 to 7042\n",
            "Data columns (total 21 columns):\n",
            " #   Column            Non-Null Count  Dtype  \n",
            "---  ------            --------------  -----  \n",
            " 0   CustomerID        7043 non-null   object \n",
            " 1   Gender            7043 non-null   object \n",
            " 2   SeniorCitizen     7043 non-null   int64  \n",
            " 3   Partner           7043 non-null   object \n",
            " 4   Dependents        7043 non-null   object \n",
            " 5   Tenure            7043 non-null   int64  \n",
            " 6   PhoneService      7043 non-null   object \n",
            " 7   MultipleLines     7043 non-null   object \n",
            " 8   InternetService   7043 non-null   object \n",
            " 9   OnlineSecurity    7043 non-null   object \n",
            " 10  OnlineBackup      7043 non-null   object \n",
            " 11  DeviceProtection  7043 non-null   object \n",
            " 12  TechSupport       7043 non-null   object \n",
            " 13  StreamingTV       7043 non-null   object \n",
            " 14  StreamingMovies   7043 non-null   object \n",
            " 15  Contract          7043 non-null   object \n",
            " 16  PaperlessBilling  7043 non-null   object \n",
            " 17  PaymentMethod     7043 non-null   object \n",
            " 18  MonthlyCharges    7043 non-null   float64\n",
            " 19  TotalCharges      7043 non-null   object \n",
            " 20  Churn             7043 non-null   object \n",
            "dtypes: float64(1), int64(2), object(18)\n",
            "memory usage: 1.1+ MB\n"
          ]
        },
        {
          "data": {
            "text/html": [
              "<div>\n",
              "<style scoped>\n",
              "    .dataframe tbody tr th:only-of-type {\n",
              "        vertical-align: middle;\n",
              "    }\n",
              "\n",
              "    .dataframe tbody tr th {\n",
              "        vertical-align: top;\n",
              "    }\n",
              "\n",
              "    .dataframe thead th {\n",
              "        text-align: right;\n",
              "    }\n",
              "</style>\n",
              "<table border=\"1\" class=\"dataframe\">\n",
              "  <thead>\n",
              "    <tr style=\"text-align: right;\">\n",
              "      <th></th>\n",
              "      <th>0</th>\n",
              "    </tr>\n",
              "  </thead>\n",
              "  <tbody>\n",
              "    <tr>\n",
              "      <th>CustomerID</th>\n",
              "      <td>0</td>\n",
              "    </tr>\n",
              "    <tr>\n",
              "      <th>Gender</th>\n",
              "      <td>0</td>\n",
              "    </tr>\n",
              "    <tr>\n",
              "      <th>SeniorCitizen</th>\n",
              "      <td>0</td>\n",
              "    </tr>\n",
              "    <tr>\n",
              "      <th>Partner</th>\n",
              "      <td>0</td>\n",
              "    </tr>\n",
              "    <tr>\n",
              "      <th>Dependents</th>\n",
              "      <td>0</td>\n",
              "    </tr>\n",
              "    <tr>\n",
              "      <th>Tenure</th>\n",
              "      <td>0</td>\n",
              "    </tr>\n",
              "    <tr>\n",
              "      <th>PhoneService</th>\n",
              "      <td>0</td>\n",
              "    </tr>\n",
              "    <tr>\n",
              "      <th>MultipleLines</th>\n",
              "      <td>0</td>\n",
              "    </tr>\n",
              "    <tr>\n",
              "      <th>InternetService</th>\n",
              "      <td>0</td>\n",
              "    </tr>\n",
              "    <tr>\n",
              "      <th>OnlineSecurity</th>\n",
              "      <td>0</td>\n",
              "    </tr>\n",
              "    <tr>\n",
              "      <th>OnlineBackup</th>\n",
              "      <td>0</td>\n",
              "    </tr>\n",
              "    <tr>\n",
              "      <th>DeviceProtection</th>\n",
              "      <td>0</td>\n",
              "    </tr>\n",
              "    <tr>\n",
              "      <th>TechSupport</th>\n",
              "      <td>0</td>\n",
              "    </tr>\n",
              "    <tr>\n",
              "      <th>StreamingTV</th>\n",
              "      <td>0</td>\n",
              "    </tr>\n",
              "    <tr>\n",
              "      <th>StreamingMovies</th>\n",
              "      <td>0</td>\n",
              "    </tr>\n",
              "    <tr>\n",
              "      <th>Contract</th>\n",
              "      <td>0</td>\n",
              "    </tr>\n",
              "    <tr>\n",
              "      <th>PaperlessBilling</th>\n",
              "      <td>0</td>\n",
              "    </tr>\n",
              "    <tr>\n",
              "      <th>PaymentMethod</th>\n",
              "      <td>0</td>\n",
              "    </tr>\n",
              "    <tr>\n",
              "      <th>MonthlyCharges</th>\n",
              "      <td>0</td>\n",
              "    </tr>\n",
              "    <tr>\n",
              "      <th>TotalCharges</th>\n",
              "      <td>0</td>\n",
              "    </tr>\n",
              "    <tr>\n",
              "      <th>Churn</th>\n",
              "      <td>0</td>\n",
              "    </tr>\n",
              "  </tbody>\n",
              "</table>\n",
              "</div><br><label><b>dtype:</b> int64</label>"
            ],
            "text/plain": [
              "CustomerID          0\n",
              "Gender              0\n",
              "SeniorCitizen       0\n",
              "Partner             0\n",
              "Dependents          0\n",
              "Tenure              0\n",
              "PhoneService        0\n",
              "MultipleLines       0\n",
              "InternetService     0\n",
              "OnlineSecurity      0\n",
              "OnlineBackup        0\n",
              "DeviceProtection    0\n",
              "TechSupport         0\n",
              "StreamingTV         0\n",
              "StreamingMovies     0\n",
              "Contract            0\n",
              "PaperlessBilling    0\n",
              "PaymentMethod       0\n",
              "MonthlyCharges      0\n",
              "TotalCharges        0\n",
              "Churn               0\n",
              "dtype: int64"
            ]
          },
          "execution_count": 122,
          "metadata": {},
          "output_type": "execute_result"
        }
      ],
      "source": [
        "df.info() #ver columnas tipo de datos y cantidad de filas\n",
        "#En esta primera vista NO se observan datos nulos ya que todas las columnas tienen 7043 filas\n",
        "#Para confirmar que no existan nulos\n",
        "df.isna().sum()"
      ]
    },
    {
      "cell_type": "code",
      "execution_count": 123,
      "metadata": {
        "colab": {
          "base_uri": "https://localhost:8080/",
          "height": 178
        },
        "id": "r__iatfZeZJB",
        "outputId": "7594e90f-5b27-4461-96aa-fb6293324e84"
      },
      "outputs": [
        {
          "data": {
            "text/html": [
              "<div>\n",
              "<style scoped>\n",
              "    .dataframe tbody tr th:only-of-type {\n",
              "        vertical-align: middle;\n",
              "    }\n",
              "\n",
              "    .dataframe tbody tr th {\n",
              "        vertical-align: top;\n",
              "    }\n",
              "\n",
              "    .dataframe thead th {\n",
              "        text-align: right;\n",
              "    }\n",
              "</style>\n",
              "<table border=\"1\" class=\"dataframe\">\n",
              "  <thead>\n",
              "    <tr style=\"text-align: right;\">\n",
              "      <th></th>\n",
              "      <th>count</th>\n",
              "    </tr>\n",
              "    <tr>\n",
              "      <th>Churn</th>\n",
              "      <th></th>\n",
              "    </tr>\n",
              "  </thead>\n",
              "  <tbody>\n",
              "    <tr>\n",
              "      <th>No</th>\n",
              "      <td>5174</td>\n",
              "    </tr>\n",
              "    <tr>\n",
              "      <th>Yes</th>\n",
              "      <td>1869</td>\n",
              "    </tr>\n",
              "  </tbody>\n",
              "</table>\n",
              "</div><br><label><b>dtype:</b> int64</label>"
            ],
            "text/plain": [
              "Churn\n",
              "No     5174\n",
              "Yes    1869\n",
              "Name: count, dtype: int64"
            ]
          },
          "execution_count": 123,
          "metadata": {},
          "output_type": "execute_result"
        }
      ],
      "source": [
        "#Inicialmente, como tipo de datos existen object, int y float\n",
        "\n",
        "df[\"Gender\"].value_counts()\n",
        "df[\"SeniorCitizen\"].value_counts()\n",
        "df[\"Partner\"].value_counts()\n",
        "df[\"Dependents\"].value_counts()\n",
        "df[\"PhoneService\"].value_counts()\n",
        "df[\"MultipleLines\"].value_counts()\n",
        "df[\"InternetService\"].value_counts()\n",
        "df[\"OnlineSecurity\"].value_counts()\n",
        "df[\"DeviceProtection\"].value_counts()\n",
        "df[\"TechSupport\"].value_counts()\n",
        "df[\"StreamingTV\"].value_counts()\n",
        "df[\"StreamingMovies\"].value_counts()\n",
        "df[\"Contract\"].value_counts()\n",
        "df[\"PaperlessBilling\"].value_counts()\n",
        "df[\"PaymentMethod\"].value_counts()\n",
        "df[\"Churn\"].value_counts()"
      ]
    },
    {
      "cell_type": "code",
      "execution_count": 124,
      "metadata": {
        "colab": {
          "base_uri": "https://localhost:8080/"
        },
        "id": "IokvVJsQgv2e",
        "outputId": "b8a70ac7-4c71-4194-eaa4-ac780726609e"
      },
      "outputs": [
        {
          "name": "stdout",
          "output_type": "stream",
          "text": [
            "<class 'pandas.core.frame.DataFrame'>\n",
            "RangeIndex: 7043 entries, 0 to 7042\n",
            "Data columns (total 21 columns):\n",
            " #   Column            Non-Null Count  Dtype  \n",
            "---  ------            --------------  -----  \n",
            " 0   CustomerID        7043 non-null   object \n",
            " 1   Gender            7043 non-null   object \n",
            " 2   SeniorCitizen     7043 non-null   int64  \n",
            " 3   Partner           7043 non-null   object \n",
            " 4   Dependents        7043 non-null   object \n",
            " 5   Tenure            7043 non-null   int64  \n",
            " 6   PhoneService      7043 non-null   object \n",
            " 7   MultipleLines     7043 non-null   object \n",
            " 8   InternetService   7043 non-null   object \n",
            " 9   OnlineSecurity    7043 non-null   object \n",
            " 10  OnlineBackup      7043 non-null   object \n",
            " 11  DeviceProtection  7043 non-null   object \n",
            " 12  TechSupport       7043 non-null   object \n",
            " 13  StreamingTV       7043 non-null   object \n",
            " 14  StreamingMovies   7043 non-null   object \n",
            " 15  Contract          7043 non-null   object \n",
            " 16  PaperlessBilling  7043 non-null   object \n",
            " 17  PaymentMethod     7043 non-null   object \n",
            " 18  MonthlyCharges    7043 non-null   float64\n",
            " 19  TotalCharges      7043 non-null   object \n",
            " 20  Churn             7043 non-null   object \n",
            "dtypes: float64(1), int64(2), object(18)\n",
            "memory usage: 1.1+ MB\n"
          ]
        }
      ],
      "source": [
        "df.info()\n",
        "#se observa que la columna  TotalCharges  esta como objetc y debe ser float.\n",
        "#Inicialmente no fue posible aplicar df[\"TotalCharges\"] = df[\"TotalCharges\"].astype(float) el error muestra que hay str\n",
        "df[\"TotalCharges\"].value_counts() #se observa que hay 11 filas en las que TotalCharges hay un str vacío \"\" o con un espacio \" \" probablemente\n",
        "df[df[\"TotalCharges\"] == \" \"][[\"Tenure\", \"MonthlyCharges\", \"TotalCharges\"]] #existen 11 registros con TotalCharges en \" \"\n",
        "#se observa que Tenure (meses de tenencia del servicio) para estos 11 casos es igual 0\n",
        "#reviso otros casos donde Tenure sea 0\n",
        "df[(df[\"Tenure\"] == 0) & (df[\"TotalCharges\"] != \" \")][[\"Tenure\", \"MonthlyCharges\", \"TotalCharges\"]]\n",
        "\n",
        "#debido a que estos 11 casos presentan 0 meses de servicio y no existen casos donde 0 meses de servicio tenga un cobro, completaré los datos faltantes con 0\n",
        "df.loc[df[\"TotalCharges\"]  == \" \", \"TotalCharges\"] = 0"
      ]
    },
    {
      "cell_type": "code",
      "execution_count": 125,
      "metadata": {
        "colab": {
          "base_uri": "https://localhost:8080/",
          "height": 394
        },
        "id": "wmYFzuShnb5Z",
        "outputId": "ad1eca43-ffa6-44a5-ec29-13ceca53b594"
      },
      "outputs": [
        {
          "data": {
            "application/vnd.google.colaboratory.intrinsic+json": {
              "repr_error": "0",
              "type": "dataframe"
            },
            "text/html": [
              "\n",
              "  <div id=\"df-a951c87c-d679-4b70-bea9-8b3d6d44d7b6\" class=\"colab-df-container\">\n",
              "    <div>\n",
              "<style scoped>\n",
              "    .dataframe tbody tr th:only-of-type {\n",
              "        vertical-align: middle;\n",
              "    }\n",
              "\n",
              "    .dataframe tbody tr th {\n",
              "        vertical-align: top;\n",
              "    }\n",
              "\n",
              "    .dataframe thead th {\n",
              "        text-align: right;\n",
              "    }\n",
              "</style>\n",
              "<table border=\"1\" class=\"dataframe\">\n",
              "  <thead>\n",
              "    <tr style=\"text-align: right;\">\n",
              "      <th></th>\n",
              "      <th>Tenure</th>\n",
              "      <th>MonthlyCharges</th>\n",
              "      <th>TotalCharges</th>\n",
              "    </tr>\n",
              "  </thead>\n",
              "  <tbody>\n",
              "    <tr>\n",
              "      <th>488</th>\n",
              "      <td>0</td>\n",
              "      <td>52.55</td>\n",
              "      <td>0</td>\n",
              "    </tr>\n",
              "    <tr>\n",
              "      <th>753</th>\n",
              "      <td>0</td>\n",
              "      <td>20.25</td>\n",
              "      <td>0</td>\n",
              "    </tr>\n",
              "    <tr>\n",
              "      <th>936</th>\n",
              "      <td>0</td>\n",
              "      <td>80.85</td>\n",
              "      <td>0</td>\n",
              "    </tr>\n",
              "    <tr>\n",
              "      <th>1082</th>\n",
              "      <td>0</td>\n",
              "      <td>25.75</td>\n",
              "      <td>0</td>\n",
              "    </tr>\n",
              "    <tr>\n",
              "      <th>1340</th>\n",
              "      <td>0</td>\n",
              "      <td>56.05</td>\n",
              "      <td>0</td>\n",
              "    </tr>\n",
              "    <tr>\n",
              "      <th>3331</th>\n",
              "      <td>0</td>\n",
              "      <td>19.85</td>\n",
              "      <td>0</td>\n",
              "    </tr>\n",
              "    <tr>\n",
              "      <th>3826</th>\n",
              "      <td>0</td>\n",
              "      <td>25.35</td>\n",
              "      <td>0</td>\n",
              "    </tr>\n",
              "    <tr>\n",
              "      <th>4380</th>\n",
              "      <td>0</td>\n",
              "      <td>20.00</td>\n",
              "      <td>0</td>\n",
              "    </tr>\n",
              "    <tr>\n",
              "      <th>5218</th>\n",
              "      <td>0</td>\n",
              "      <td>19.70</td>\n",
              "      <td>0</td>\n",
              "    </tr>\n",
              "    <tr>\n",
              "      <th>6670</th>\n",
              "      <td>0</td>\n",
              "      <td>73.35</td>\n",
              "      <td>0</td>\n",
              "    </tr>\n",
              "    <tr>\n",
              "      <th>6754</th>\n",
              "      <td>0</td>\n",
              "      <td>61.90</td>\n",
              "      <td>0</td>\n",
              "    </tr>\n",
              "  </tbody>\n",
              "</table>\n",
              "</div>\n",
              "    <div class=\"colab-df-buttons\">\n",
              "\n",
              "  <div class=\"colab-df-container\">\n",
              "    <button class=\"colab-df-convert\" onclick=\"convertToInteractive('df-a951c87c-d679-4b70-bea9-8b3d6d44d7b6')\"\n",
              "            title=\"Convert this dataframe to an interactive table.\"\n",
              "            style=\"display:none;\">\n",
              "\n",
              "  <svg xmlns=\"http://www.w3.org/2000/svg\" height=\"24px\" viewBox=\"0 -960 960 960\">\n",
              "    <path d=\"M120-120v-720h720v720H120Zm60-500h600v-160H180v160Zm220 220h160v-160H400v160Zm0 220h160v-160H400v160ZM180-400h160v-160H180v160Zm440 0h160v-160H620v160ZM180-180h160v-160H180v160Zm440 0h160v-160H620v160Z\"/>\n",
              "  </svg>\n",
              "    </button>\n",
              "\n",
              "  <style>\n",
              "    .colab-df-container {\n",
              "      display:flex;\n",
              "      gap: 12px;\n",
              "    }\n",
              "\n",
              "    .colab-df-convert {\n",
              "      background-color: #E8F0FE;\n",
              "      border: none;\n",
              "      border-radius: 50%;\n",
              "      cursor: pointer;\n",
              "      display: none;\n",
              "      fill: #1967D2;\n",
              "      height: 32px;\n",
              "      padding: 0 0 0 0;\n",
              "      width: 32px;\n",
              "    }\n",
              "\n",
              "    .colab-df-convert:hover {\n",
              "      background-color: #E2EBFA;\n",
              "      box-shadow: 0px 1px 2px rgba(60, 64, 67, 0.3), 0px 1px 3px 1px rgba(60, 64, 67, 0.15);\n",
              "      fill: #174EA6;\n",
              "    }\n",
              "\n",
              "    .colab-df-buttons div {\n",
              "      margin-bottom: 4px;\n",
              "    }\n",
              "\n",
              "    [theme=dark] .colab-df-convert {\n",
              "      background-color: #3B4455;\n",
              "      fill: #D2E3FC;\n",
              "    }\n",
              "\n",
              "    [theme=dark] .colab-df-convert:hover {\n",
              "      background-color: #434B5C;\n",
              "      box-shadow: 0px 1px 3px 1px rgba(0, 0, 0, 0.15);\n",
              "      filter: drop-shadow(0px 1px 2px rgba(0, 0, 0, 0.3));\n",
              "      fill: #FFFFFF;\n",
              "    }\n",
              "  </style>\n",
              "\n",
              "    <script>\n",
              "      const buttonEl =\n",
              "        document.querySelector('#df-a951c87c-d679-4b70-bea9-8b3d6d44d7b6 button.colab-df-convert');\n",
              "      buttonEl.style.display =\n",
              "        google.colab.kernel.accessAllowed ? 'block' : 'none';\n",
              "\n",
              "      async function convertToInteractive(key) {\n",
              "        const element = document.querySelector('#df-a951c87c-d679-4b70-bea9-8b3d6d44d7b6');\n",
              "        const dataTable =\n",
              "          await google.colab.kernel.invokeFunction('convertToInteractive',\n",
              "                                                    [key], {});\n",
              "        if (!dataTable) return;\n",
              "\n",
              "        const docLinkHtml = 'Like what you see? Visit the ' +\n",
              "          '<a target=\"_blank\" href=https://colab.research.google.com/notebooks/data_table.ipynb>data table notebook</a>'\n",
              "          + ' to learn more about interactive tables.';\n",
              "        element.innerHTML = '';\n",
              "        dataTable['output_type'] = 'display_data';\n",
              "        await google.colab.output.renderOutput(dataTable, element);\n",
              "        const docLink = document.createElement('div');\n",
              "        docLink.innerHTML = docLinkHtml;\n",
              "        element.appendChild(docLink);\n",
              "      }\n",
              "    </script>\n",
              "  </div>\n",
              "\n",
              "\n",
              "    <div id=\"df-88b31cd2-33cd-4a45-9485-471570ef8b2d\">\n",
              "      <button class=\"colab-df-quickchart\" onclick=\"quickchart('df-88b31cd2-33cd-4a45-9485-471570ef8b2d')\"\n",
              "                title=\"Suggest charts\"\n",
              "                style=\"display:none;\">\n",
              "\n",
              "<svg xmlns=\"http://www.w3.org/2000/svg\" height=\"24px\"viewBox=\"0 0 24 24\"\n",
              "     width=\"24px\">\n",
              "    <g>\n",
              "        <path d=\"M19 3H5c-1.1 0-2 .9-2 2v14c0 1.1.9 2 2 2h14c1.1 0 2-.9 2-2V5c0-1.1-.9-2-2-2zM9 17H7v-7h2v7zm4 0h-2V7h2v10zm4 0h-2v-4h2v4z\"/>\n",
              "    </g>\n",
              "</svg>\n",
              "      </button>\n",
              "\n",
              "<style>\n",
              "  .colab-df-quickchart {\n",
              "      --bg-color: #E8F0FE;\n",
              "      --fill-color: #1967D2;\n",
              "      --hover-bg-color: #E2EBFA;\n",
              "      --hover-fill-color: #174EA6;\n",
              "      --disabled-fill-color: #AAA;\n",
              "      --disabled-bg-color: #DDD;\n",
              "  }\n",
              "\n",
              "  [theme=dark] .colab-df-quickchart {\n",
              "      --bg-color: #3B4455;\n",
              "      --fill-color: #D2E3FC;\n",
              "      --hover-bg-color: #434B5C;\n",
              "      --hover-fill-color: #FFFFFF;\n",
              "      --disabled-bg-color: #3B4455;\n",
              "      --disabled-fill-color: #666;\n",
              "  }\n",
              "\n",
              "  .colab-df-quickchart {\n",
              "    background-color: var(--bg-color);\n",
              "    border: none;\n",
              "    border-radius: 50%;\n",
              "    cursor: pointer;\n",
              "    display: none;\n",
              "    fill: var(--fill-color);\n",
              "    height: 32px;\n",
              "    padding: 0;\n",
              "    width: 32px;\n",
              "  }\n",
              "\n",
              "  .colab-df-quickchart:hover {\n",
              "    background-color: var(--hover-bg-color);\n",
              "    box-shadow: 0 1px 2px rgba(60, 64, 67, 0.3), 0 1px 3px 1px rgba(60, 64, 67, 0.15);\n",
              "    fill: var(--button-hover-fill-color);\n",
              "  }\n",
              "\n",
              "  .colab-df-quickchart-complete:disabled,\n",
              "  .colab-df-quickchart-complete:disabled:hover {\n",
              "    background-color: var(--disabled-bg-color);\n",
              "    fill: var(--disabled-fill-color);\n",
              "    box-shadow: none;\n",
              "  }\n",
              "\n",
              "  .colab-df-spinner {\n",
              "    border: 2px solid var(--fill-color);\n",
              "    border-color: transparent;\n",
              "    border-bottom-color: var(--fill-color);\n",
              "    animation:\n",
              "      spin 1s steps(1) infinite;\n",
              "  }\n",
              "\n",
              "  @keyframes spin {\n",
              "    0% {\n",
              "      border-color: transparent;\n",
              "      border-bottom-color: var(--fill-color);\n",
              "      border-left-color: var(--fill-color);\n",
              "    }\n",
              "    20% {\n",
              "      border-color: transparent;\n",
              "      border-left-color: var(--fill-color);\n",
              "      border-top-color: var(--fill-color);\n",
              "    }\n",
              "    30% {\n",
              "      border-color: transparent;\n",
              "      border-left-color: var(--fill-color);\n",
              "      border-top-color: var(--fill-color);\n",
              "      border-right-color: var(--fill-color);\n",
              "    }\n",
              "    40% {\n",
              "      border-color: transparent;\n",
              "      border-right-color: var(--fill-color);\n",
              "      border-top-color: var(--fill-color);\n",
              "    }\n",
              "    60% {\n",
              "      border-color: transparent;\n",
              "      border-right-color: var(--fill-color);\n",
              "    }\n",
              "    80% {\n",
              "      border-color: transparent;\n",
              "      border-right-color: var(--fill-color);\n",
              "      border-bottom-color: var(--fill-color);\n",
              "    }\n",
              "    90% {\n",
              "      border-color: transparent;\n",
              "      border-bottom-color: var(--fill-color);\n",
              "    }\n",
              "  }\n",
              "</style>\n",
              "\n",
              "      <script>\n",
              "        async function quickchart(key) {\n",
              "          const quickchartButtonEl =\n",
              "            document.querySelector('#' + key + ' button');\n",
              "          quickchartButtonEl.disabled = true;  // To prevent multiple clicks.\n",
              "          quickchartButtonEl.classList.add('colab-df-spinner');\n",
              "          try {\n",
              "            const charts = await google.colab.kernel.invokeFunction(\n",
              "                'suggestCharts', [key], {});\n",
              "          } catch (error) {\n",
              "            console.error('Error during call to suggestCharts:', error);\n",
              "          }\n",
              "          quickchartButtonEl.classList.remove('colab-df-spinner');\n",
              "          quickchartButtonEl.classList.add('colab-df-quickchart-complete');\n",
              "        }\n",
              "        (() => {\n",
              "          let quickchartButtonEl =\n",
              "            document.querySelector('#df-88b31cd2-33cd-4a45-9485-471570ef8b2d button');\n",
              "          quickchartButtonEl.style.display =\n",
              "            google.colab.kernel.accessAllowed ? 'block' : 'none';\n",
              "        })();\n",
              "      </script>\n",
              "    </div>\n",
              "\n",
              "    </div>\n",
              "  </div>\n"
            ],
            "text/plain": [
              "      Tenure  MonthlyCharges TotalCharges\n",
              "488        0           52.55            0\n",
              "753        0           20.25            0\n",
              "936        0           80.85            0\n",
              "1082       0           25.75            0\n",
              "1340       0           56.05            0\n",
              "3331       0           19.85            0\n",
              "3826       0           25.35            0\n",
              "4380       0           20.00            0\n",
              "5218       0           19.70            0\n",
              "6670       0           73.35            0\n",
              "6754       0           61.90            0"
            ]
          },
          "execution_count": 125,
          "metadata": {},
          "output_type": "execute_result"
        }
      ],
      "source": [
        "#compruebo que se haya aplicado el cambio y aparezacan 0 en vez de \" \"\n",
        "df[(df[\"Tenure\"] == 0) ][[\"Tenure\", \"MonthlyCharges\", \"TotalCharges\"]]"
      ]
    },
    {
      "cell_type": "code",
      "execution_count": 126,
      "metadata": {
        "id": "8S8FIAOasdaC"
      },
      "outputs": [],
      "source": [
        "#Ahora puedo aplicar la conversión de tipo de dato a la columna TotalCharges de objt a float\n",
        "df[\"TotalCharges\"] = df[\"TotalCharges\"].astype(float)"
      ]
    },
    {
      "cell_type": "code",
      "execution_count": 127,
      "metadata": {
        "colab": {
          "base_uri": "https://localhost:8080/"
        },
        "id": "UeSJwcRfsngQ",
        "outputId": "6115ec59-9602-4f62-f7bc-264ba7e577a6"
      },
      "outputs": [
        {
          "name": "stdout",
          "output_type": "stream",
          "text": [
            "<class 'pandas.core.frame.DataFrame'>\n",
            "RangeIndex: 7043 entries, 0 to 7042\n",
            "Data columns (total 21 columns):\n",
            " #   Column            Non-Null Count  Dtype  \n",
            "---  ------            --------------  -----  \n",
            " 0   CustomerID        7043 non-null   object \n",
            " 1   Gender            7043 non-null   object \n",
            " 2   SeniorCitizen     7043 non-null   int64  \n",
            " 3   Partner           7043 non-null   object \n",
            " 4   Dependents        7043 non-null   object \n",
            " 5   Tenure            7043 non-null   int64  \n",
            " 6   PhoneService      7043 non-null   object \n",
            " 7   MultipleLines     7043 non-null   object \n",
            " 8   InternetService   7043 non-null   object \n",
            " 9   OnlineSecurity    7043 non-null   object \n",
            " 10  OnlineBackup      7043 non-null   object \n",
            " 11  DeviceProtection  7043 non-null   object \n",
            " 12  TechSupport       7043 non-null   object \n",
            " 13  StreamingTV       7043 non-null   object \n",
            " 14  StreamingMovies   7043 non-null   object \n",
            " 15  Contract          7043 non-null   object \n",
            " 16  PaperlessBilling  7043 non-null   object \n",
            " 17  PaymentMethod     7043 non-null   object \n",
            " 18  MonthlyCharges    7043 non-null   float64\n",
            " 19  TotalCharges      7043 non-null   float64\n",
            " 20  Churn             7043 non-null   object \n",
            "dtypes: float64(2), int64(2), object(17)\n",
            "memory usage: 1.1+ MB\n"
          ]
        }
      ],
      "source": [
        "#confirmar el cambio en el tipo de dato\n",
        "df.info()"
      ]
    },
    {
      "cell_type": "code",
      "execution_count": 128,
      "metadata": {
        "colab": {
          "base_uri": "https://localhost:8080/"
        },
        "id": "wAzYmR0MeN6t",
        "outputId": "394a19d1-b6c5-4373-e117-a1faf659c64e"
      },
      "outputs": [
        {
          "data": {
            "text/plain": [
              "(7043, 21)"
            ]
          },
          "execution_count": 128,
          "metadata": {},
          "output_type": "execute_result"
        }
      ],
      "source": [
        "df.shape #se observan 21 columnas y 7043 filas"
      ]
    },
    {
      "cell_type": "code",
      "execution_count": 131,
      "metadata": {
        "colab": {
          "base_uri": "https://localhost:8080/",
          "height": 99
        },
        "id": "fg2RdOsQj5oQ",
        "outputId": "4979ebc3-0689-4390-db39-3fb71629045b"
      },
      "outputs": [
        {
          "data": {
            "application/vnd.google.colaboratory.intrinsic+json": {
              "type": "dataframe"
            },
            "text/html": [
              "\n",
              "  <div id=\"df-7a7f4248-927a-418e-b35a-5ad9d4913792\" class=\"colab-df-container\">\n",
              "    <div>\n",
              "<style scoped>\n",
              "    .dataframe tbody tr th:only-of-type {\n",
              "        vertical-align: middle;\n",
              "    }\n",
              "\n",
              "    .dataframe tbody tr th {\n",
              "        vertical-align: top;\n",
              "    }\n",
              "\n",
              "    .dataframe thead th {\n",
              "        text-align: right;\n",
              "    }\n",
              "</style>\n",
              "<table border=\"1\" class=\"dataframe\">\n",
              "  <thead>\n",
              "    <tr style=\"text-align: right;\">\n",
              "      <th></th>\n",
              "      <th>CustomerID</th>\n",
              "      <th>Gender</th>\n",
              "      <th>SeniorCitizen</th>\n",
              "      <th>Partner</th>\n",
              "      <th>Dependents</th>\n",
              "      <th>Tenure</th>\n",
              "      <th>PhoneService</th>\n",
              "      <th>MultipleLines</th>\n",
              "      <th>InternetService</th>\n",
              "      <th>OnlineSecurity</th>\n",
              "      <th>...</th>\n",
              "      <th>DeviceProtection</th>\n",
              "      <th>TechSupport</th>\n",
              "      <th>StreamingTV</th>\n",
              "      <th>StreamingMovies</th>\n",
              "      <th>Contract</th>\n",
              "      <th>PaperlessBilling</th>\n",
              "      <th>PaymentMethod</th>\n",
              "      <th>MonthlyCharges</th>\n",
              "      <th>TotalCharges</th>\n",
              "      <th>Churn</th>\n",
              "    </tr>\n",
              "  </thead>\n",
              "  <tbody>\n",
              "  </tbody>\n",
              "</table>\n",
              "<p>0 rows × 21 columns</p>\n",
              "</div>\n",
              "    <div class=\"colab-df-buttons\">\n",
              "\n",
              "  <div class=\"colab-df-container\">\n",
              "    <button class=\"colab-df-convert\" onclick=\"convertToInteractive('df-7a7f4248-927a-418e-b35a-5ad9d4913792')\"\n",
              "            title=\"Convert this dataframe to an interactive table.\"\n",
              "            style=\"display:none;\">\n",
              "\n",
              "  <svg xmlns=\"http://www.w3.org/2000/svg\" height=\"24px\" viewBox=\"0 -960 960 960\">\n",
              "    <path d=\"M120-120v-720h720v720H120Zm60-500h600v-160H180v160Zm220 220h160v-160H400v160Zm0 220h160v-160H400v160ZM180-400h160v-160H180v160Zm440 0h160v-160H620v160ZM180-180h160v-160H180v160Zm440 0h160v-160H620v160Z\"/>\n",
              "  </svg>\n",
              "    </button>\n",
              "\n",
              "  <style>\n",
              "    .colab-df-container {\n",
              "      display:flex;\n",
              "      gap: 12px;\n",
              "    }\n",
              "\n",
              "    .colab-df-convert {\n",
              "      background-color: #E8F0FE;\n",
              "      border: none;\n",
              "      border-radius: 50%;\n",
              "      cursor: pointer;\n",
              "      display: none;\n",
              "      fill: #1967D2;\n",
              "      height: 32px;\n",
              "      padding: 0 0 0 0;\n",
              "      width: 32px;\n",
              "    }\n",
              "\n",
              "    .colab-df-convert:hover {\n",
              "      background-color: #E2EBFA;\n",
              "      box-shadow: 0px 1px 2px rgba(60, 64, 67, 0.3), 0px 1px 3px 1px rgba(60, 64, 67, 0.15);\n",
              "      fill: #174EA6;\n",
              "    }\n",
              "\n",
              "    .colab-df-buttons div {\n",
              "      margin-bottom: 4px;\n",
              "    }\n",
              "\n",
              "    [theme=dark] .colab-df-convert {\n",
              "      background-color: #3B4455;\n",
              "      fill: #D2E3FC;\n",
              "    }\n",
              "\n",
              "    [theme=dark] .colab-df-convert:hover {\n",
              "      background-color: #434B5C;\n",
              "      box-shadow: 0px 1px 3px 1px rgba(0, 0, 0, 0.15);\n",
              "      filter: drop-shadow(0px 1px 2px rgba(0, 0, 0, 0.3));\n",
              "      fill: #FFFFFF;\n",
              "    }\n",
              "  </style>\n",
              "\n",
              "    <script>\n",
              "      const buttonEl =\n",
              "        document.querySelector('#df-7a7f4248-927a-418e-b35a-5ad9d4913792 button.colab-df-convert');\n",
              "      buttonEl.style.display =\n",
              "        google.colab.kernel.accessAllowed ? 'block' : 'none';\n",
              "\n",
              "      async function convertToInteractive(key) {\n",
              "        const element = document.querySelector('#df-7a7f4248-927a-418e-b35a-5ad9d4913792');\n",
              "        const dataTable =\n",
              "          await google.colab.kernel.invokeFunction('convertToInteractive',\n",
              "                                                    [key], {});\n",
              "        if (!dataTable) return;\n",
              "\n",
              "        const docLinkHtml = 'Like what you see? Visit the ' +\n",
              "          '<a target=\"_blank\" href=https://colab.research.google.com/notebooks/data_table.ipynb>data table notebook</a>'\n",
              "          + ' to learn more about interactive tables.';\n",
              "        element.innerHTML = '';\n",
              "        dataTable['output_type'] = 'display_data';\n",
              "        await google.colab.output.renderOutput(dataTable, element);\n",
              "        const docLink = document.createElement('div');\n",
              "        docLink.innerHTML = docLinkHtml;\n",
              "        element.appendChild(docLink);\n",
              "      }\n",
              "    </script>\n",
              "  </div>\n",
              "\n",
              "\n",
              "    </div>\n",
              "  </div>\n"
            ],
            "text/plain": [
              "Empty DataFrame\n",
              "Columns: [CustomerID, Gender, SeniorCitizen, Partner, Dependents, Tenure, PhoneService, MultipleLines, InternetService, OnlineSecurity, OnlineBackup, DeviceProtection, TechSupport, StreamingTV, StreamingMovies, Contract, PaperlessBilling, PaymentMethod, MonthlyCharges, TotalCharges, Churn]\n",
              "Index: []\n",
              "\n",
              "[0 rows x 21 columns]"
            ]
          },
          "execution_count": 131,
          "metadata": {},
          "output_type": "execute_result"
        }
      ],
      "source": [
        "#verificar si existen duplicados\n",
        "df.duplicated().sum() #no existen duplicados"
      ]
    },
    {
      "cell_type": "code",
      "execution_count": 132,
      "metadata": {
        "colab": {
          "base_uri": "https://localhost:8080/",
          "height": 175
        },
        "id": "4cVlwTm8kZ2J",
        "outputId": "7fc0b5c5-37d5-4898-860d-e819c38541d8"
      },
      "outputs": [
        {
          "data": {
            "application/vnd.google.colaboratory.intrinsic+json": {
              "summary": "{\n  \"name\": \"df\",\n  \"rows\": 4,\n  \"fields\": [\n    {\n      \"column\": \"count\",\n      \"properties\": {\n        \"dtype\": \"number\",\n        \"std\": 0.0,\n        \"min\": 7043.0,\n        \"max\": 7043.0,\n        \"num_unique_values\": 1,\n        \"samples\": [\n          7043.0\n        ],\n        \"semantic_type\": \"\",\n        \"description\": \"\"\n      }\n    },\n    {\n      \"column\": \"mean\",\n      \"properties\": {\n        \"dtype\": \"number\",\n        \"std\": 1123.9607683035626,\n        \"min\": 0.1621468124378816,\n        \"max\": 2279.7343035638223,\n        \"num_unique_values\": 4,\n        \"samples\": [\n          32.37114865824223\n        ],\n        \"semantic_type\": \"\",\n        \"description\": \"\"\n      }\n    },\n    {\n      \"column\": \"std\",\n      \"properties\": {\n        \"dtype\": \"number\",\n        \"std\": 1124.3016253686276,\n        \"min\": 0.36861160561002687,\n        \"max\": 2266.7944696890195,\n        \"num_unique_values\": 4,\n        \"samples\": [\n          24.55948102309423\n        ],\n        \"semantic_type\": \"\",\n        \"description\": \"\"\n      }\n    },\n    {\n      \"column\": \"min\",\n      \"properties\": {\n        \"dtype\": \"number\",\n        \"std\": 9.125,\n        \"min\": 0.0,\n        \"max\": 18.25,\n        \"num_unique_values\": 2,\n        \"samples\": [\n          18.25\n        ],\n        \"semantic_type\": \"\",\n        \"description\": \"\"\n      }\n    },\n    {\n      \"column\": \"25%\",\n      \"properties\": {\n        \"dtype\": \"number\",\n        \"std\": 192.44915075156868,\n        \"min\": 0.0,\n        \"max\": 398.55,\n        \"num_unique_values\": 4,\n        \"samples\": [\n          9.0\n        ],\n        \"semantic_type\": \"\",\n        \"description\": \"\"\n      }\n    },\n    {\n      \"column\": \"50%\",\n      \"properties\": {\n        \"dtype\": \"number\",\n        \"std\": 681.3284872218393,\n        \"min\": 0.0,\n        \"max\": 1394.55,\n        \"num_unique_values\": 4,\n        \"samples\": [\n          29.0\n        ],\n        \"semantic_type\": \"\",\n        \"description\": \"\"\n      }\n    },\n    {\n      \"column\": \"75%\",\n      \"properties\": {\n        \"dtype\": \"number\",\n        \"std\": 1869.5242538210089,\n        \"min\": 0.0,\n        \"max\": 3786.6,\n        \"num_unique_values\": 4,\n        \"samples\": [\n          55.0\n        ],\n        \"semantic_type\": \"\",\n        \"description\": \"\"\n      }\n    },\n    {\n      \"column\": \"max\",\n      \"properties\": {\n        \"dtype\": \"number\",\n        \"std\": 4310.713499598993,\n        \"min\": 1.0,\n        \"max\": 8684.8,\n        \"num_unique_values\": 4,\n        \"samples\": [\n          72.0\n        ],\n        \"semantic_type\": \"\",\n        \"description\": \"\"\n      }\n    }\n  ]\n}",
              "type": "dataframe"
            },
            "text/html": [
              "\n",
              "  <div id=\"df-7e6b5eed-1535-4e09-85cd-b7628713c1b9\" class=\"colab-df-container\">\n",
              "    <div>\n",
              "<style scoped>\n",
              "    .dataframe tbody tr th:only-of-type {\n",
              "        vertical-align: middle;\n",
              "    }\n",
              "\n",
              "    .dataframe tbody tr th {\n",
              "        vertical-align: top;\n",
              "    }\n",
              "\n",
              "    .dataframe thead th {\n",
              "        text-align: right;\n",
              "    }\n",
              "</style>\n",
              "<table border=\"1\" class=\"dataframe\">\n",
              "  <thead>\n",
              "    <tr style=\"text-align: right;\">\n",
              "      <th></th>\n",
              "      <th>count</th>\n",
              "      <th>mean</th>\n",
              "      <th>std</th>\n",
              "      <th>min</th>\n",
              "      <th>25%</th>\n",
              "      <th>50%</th>\n",
              "      <th>75%</th>\n",
              "      <th>max</th>\n",
              "    </tr>\n",
              "  </thead>\n",
              "  <tbody>\n",
              "    <tr>\n",
              "      <th>SeniorCitizen</th>\n",
              "      <td>7043.0</td>\n",
              "      <td>0.162147</td>\n",
              "      <td>0.368612</td>\n",
              "      <td>0.00</td>\n",
              "      <td>0.00</td>\n",
              "      <td>0.00</td>\n",
              "      <td>0.00</td>\n",
              "      <td>1.00</td>\n",
              "    </tr>\n",
              "    <tr>\n",
              "      <th>Tenure</th>\n",
              "      <td>7043.0</td>\n",
              "      <td>32.371149</td>\n",
              "      <td>24.559481</td>\n",
              "      <td>0.00</td>\n",
              "      <td>9.00</td>\n",
              "      <td>29.00</td>\n",
              "      <td>55.00</td>\n",
              "      <td>72.00</td>\n",
              "    </tr>\n",
              "    <tr>\n",
              "      <th>MonthlyCharges</th>\n",
              "      <td>7043.0</td>\n",
              "      <td>64.761692</td>\n",
              "      <td>30.090047</td>\n",
              "      <td>18.25</td>\n",
              "      <td>35.50</td>\n",
              "      <td>70.35</td>\n",
              "      <td>89.85</td>\n",
              "      <td>118.75</td>\n",
              "    </tr>\n",
              "    <tr>\n",
              "      <th>TotalCharges</th>\n",
              "      <td>7043.0</td>\n",
              "      <td>2279.734304</td>\n",
              "      <td>2266.794470</td>\n",
              "      <td>0.00</td>\n",
              "      <td>398.55</td>\n",
              "      <td>1394.55</td>\n",
              "      <td>3786.60</td>\n",
              "      <td>8684.80</td>\n",
              "    </tr>\n",
              "  </tbody>\n",
              "</table>\n",
              "</div>\n",
              "    <div class=\"colab-df-buttons\">\n",
              "\n",
              "  <div class=\"colab-df-container\">\n",
              "    <button class=\"colab-df-convert\" onclick=\"convertToInteractive('df-7e6b5eed-1535-4e09-85cd-b7628713c1b9')\"\n",
              "            title=\"Convert this dataframe to an interactive table.\"\n",
              "            style=\"display:none;\">\n",
              "\n",
              "  <svg xmlns=\"http://www.w3.org/2000/svg\" height=\"24px\" viewBox=\"0 -960 960 960\">\n",
              "    <path d=\"M120-120v-720h720v720H120Zm60-500h600v-160H180v160Zm220 220h160v-160H400v160Zm0 220h160v-160H400v160ZM180-400h160v-160H180v160Zm440 0h160v-160H620v160ZM180-180h160v-160H180v160Zm440 0h160v-160H620v160Z\"/>\n",
              "  </svg>\n",
              "    </button>\n",
              "\n",
              "  <style>\n",
              "    .colab-df-container {\n",
              "      display:flex;\n",
              "      gap: 12px;\n",
              "    }\n",
              "\n",
              "    .colab-df-convert {\n",
              "      background-color: #E8F0FE;\n",
              "      border: none;\n",
              "      border-radius: 50%;\n",
              "      cursor: pointer;\n",
              "      display: none;\n",
              "      fill: #1967D2;\n",
              "      height: 32px;\n",
              "      padding: 0 0 0 0;\n",
              "      width: 32px;\n",
              "    }\n",
              "\n",
              "    .colab-df-convert:hover {\n",
              "      background-color: #E2EBFA;\n",
              "      box-shadow: 0px 1px 2px rgba(60, 64, 67, 0.3), 0px 1px 3px 1px rgba(60, 64, 67, 0.15);\n",
              "      fill: #174EA6;\n",
              "    }\n",
              "\n",
              "    .colab-df-buttons div {\n",
              "      margin-bottom: 4px;\n",
              "    }\n",
              "\n",
              "    [theme=dark] .colab-df-convert {\n",
              "      background-color: #3B4455;\n",
              "      fill: #D2E3FC;\n",
              "    }\n",
              "\n",
              "    [theme=dark] .colab-df-convert:hover {\n",
              "      background-color: #434B5C;\n",
              "      box-shadow: 0px 1px 3px 1px rgba(0, 0, 0, 0.15);\n",
              "      filter: drop-shadow(0px 1px 2px rgba(0, 0, 0, 0.3));\n",
              "      fill: #FFFFFF;\n",
              "    }\n",
              "  </style>\n",
              "\n",
              "    <script>\n",
              "      const buttonEl =\n",
              "        document.querySelector('#df-7e6b5eed-1535-4e09-85cd-b7628713c1b9 button.colab-df-convert');\n",
              "      buttonEl.style.display =\n",
              "        google.colab.kernel.accessAllowed ? 'block' : 'none';\n",
              "\n",
              "      async function convertToInteractive(key) {\n",
              "        const element = document.querySelector('#df-7e6b5eed-1535-4e09-85cd-b7628713c1b9');\n",
              "        const dataTable =\n",
              "          await google.colab.kernel.invokeFunction('convertToInteractive',\n",
              "                                                    [key], {});\n",
              "        if (!dataTable) return;\n",
              "\n",
              "        const docLinkHtml = 'Like what you see? Visit the ' +\n",
              "          '<a target=\"_blank\" href=https://colab.research.google.com/notebooks/data_table.ipynb>data table notebook</a>'\n",
              "          + ' to learn more about interactive tables.';\n",
              "        element.innerHTML = '';\n",
              "        dataTable['output_type'] = 'display_data';\n",
              "        await google.colab.output.renderOutput(dataTable, element);\n",
              "        const docLink = document.createElement('div');\n",
              "        docLink.innerHTML = docLinkHtml;\n",
              "        element.appendChild(docLink);\n",
              "      }\n",
              "    </script>\n",
              "  </div>\n",
              "\n",
              "\n",
              "    <div id=\"df-3598c49b-0db3-4aa3-8a14-f891dffc7165\">\n",
              "      <button class=\"colab-df-quickchart\" onclick=\"quickchart('df-3598c49b-0db3-4aa3-8a14-f891dffc7165')\"\n",
              "                title=\"Suggest charts\"\n",
              "                style=\"display:none;\">\n",
              "\n",
              "<svg xmlns=\"http://www.w3.org/2000/svg\" height=\"24px\"viewBox=\"0 0 24 24\"\n",
              "     width=\"24px\">\n",
              "    <g>\n",
              "        <path d=\"M19 3H5c-1.1 0-2 .9-2 2v14c0 1.1.9 2 2 2h14c1.1 0 2-.9 2-2V5c0-1.1-.9-2-2-2zM9 17H7v-7h2v7zm4 0h-2V7h2v10zm4 0h-2v-4h2v4z\"/>\n",
              "    </g>\n",
              "</svg>\n",
              "      </button>\n",
              "\n",
              "<style>\n",
              "  .colab-df-quickchart {\n",
              "      --bg-color: #E8F0FE;\n",
              "      --fill-color: #1967D2;\n",
              "      --hover-bg-color: #E2EBFA;\n",
              "      --hover-fill-color: #174EA6;\n",
              "      --disabled-fill-color: #AAA;\n",
              "      --disabled-bg-color: #DDD;\n",
              "  }\n",
              "\n",
              "  [theme=dark] .colab-df-quickchart {\n",
              "      --bg-color: #3B4455;\n",
              "      --fill-color: #D2E3FC;\n",
              "      --hover-bg-color: #434B5C;\n",
              "      --hover-fill-color: #FFFFFF;\n",
              "      --disabled-bg-color: #3B4455;\n",
              "      --disabled-fill-color: #666;\n",
              "  }\n",
              "\n",
              "  .colab-df-quickchart {\n",
              "    background-color: var(--bg-color);\n",
              "    border: none;\n",
              "    border-radius: 50%;\n",
              "    cursor: pointer;\n",
              "    display: none;\n",
              "    fill: var(--fill-color);\n",
              "    height: 32px;\n",
              "    padding: 0;\n",
              "    width: 32px;\n",
              "  }\n",
              "\n",
              "  .colab-df-quickchart:hover {\n",
              "    background-color: var(--hover-bg-color);\n",
              "    box-shadow: 0 1px 2px rgba(60, 64, 67, 0.3), 0 1px 3px 1px rgba(60, 64, 67, 0.15);\n",
              "    fill: var(--button-hover-fill-color);\n",
              "  }\n",
              "\n",
              "  .colab-df-quickchart-complete:disabled,\n",
              "  .colab-df-quickchart-complete:disabled:hover {\n",
              "    background-color: var(--disabled-bg-color);\n",
              "    fill: var(--disabled-fill-color);\n",
              "    box-shadow: none;\n",
              "  }\n",
              "\n",
              "  .colab-df-spinner {\n",
              "    border: 2px solid var(--fill-color);\n",
              "    border-color: transparent;\n",
              "    border-bottom-color: var(--fill-color);\n",
              "    animation:\n",
              "      spin 1s steps(1) infinite;\n",
              "  }\n",
              "\n",
              "  @keyframes spin {\n",
              "    0% {\n",
              "      border-color: transparent;\n",
              "      border-bottom-color: var(--fill-color);\n",
              "      border-left-color: var(--fill-color);\n",
              "    }\n",
              "    20% {\n",
              "      border-color: transparent;\n",
              "      border-left-color: var(--fill-color);\n",
              "      border-top-color: var(--fill-color);\n",
              "    }\n",
              "    30% {\n",
              "      border-color: transparent;\n",
              "      border-left-color: var(--fill-color);\n",
              "      border-top-color: var(--fill-color);\n",
              "      border-right-color: var(--fill-color);\n",
              "    }\n",
              "    40% {\n",
              "      border-color: transparent;\n",
              "      border-right-color: var(--fill-color);\n",
              "      border-top-color: var(--fill-color);\n",
              "    }\n",
              "    60% {\n",
              "      border-color: transparent;\n",
              "      border-right-color: var(--fill-color);\n",
              "    }\n",
              "    80% {\n",
              "      border-color: transparent;\n",
              "      border-right-color: var(--fill-color);\n",
              "      border-bottom-color: var(--fill-color);\n",
              "    }\n",
              "    90% {\n",
              "      border-color: transparent;\n",
              "      border-bottom-color: var(--fill-color);\n",
              "    }\n",
              "  }\n",
              "</style>\n",
              "\n",
              "      <script>\n",
              "        async function quickchart(key) {\n",
              "          const quickchartButtonEl =\n",
              "            document.querySelector('#' + key + ' button');\n",
              "          quickchartButtonEl.disabled = true;  // To prevent multiple clicks.\n",
              "          quickchartButtonEl.classList.add('colab-df-spinner');\n",
              "          try {\n",
              "            const charts = await google.colab.kernel.invokeFunction(\n",
              "                'suggestCharts', [key], {});\n",
              "          } catch (error) {\n",
              "            console.error('Error during call to suggestCharts:', error);\n",
              "          }\n",
              "          quickchartButtonEl.classList.remove('colab-df-spinner');\n",
              "          quickchartButtonEl.classList.add('colab-df-quickchart-complete');\n",
              "        }\n",
              "        (() => {\n",
              "          let quickchartButtonEl =\n",
              "            document.querySelector('#df-3598c49b-0db3-4aa3-8a14-f891dffc7165 button');\n",
              "          quickchartButtonEl.style.display =\n",
              "            google.colab.kernel.accessAllowed ? 'block' : 'none';\n",
              "        })();\n",
              "      </script>\n",
              "    </div>\n",
              "\n",
              "    </div>\n",
              "  </div>\n"
            ],
            "text/plain": [
              "                 count         mean          std    min     25%      50%  \\\n",
              "SeniorCitizen   7043.0     0.162147     0.368612   0.00    0.00     0.00   \n",
              "Tenure          7043.0    32.371149    24.559481   0.00    9.00    29.00   \n",
              "MonthlyCharges  7043.0    64.761692    30.090047  18.25   35.50    70.35   \n",
              "TotalCharges    7043.0  2279.734304  2266.794470   0.00  398.55  1394.55   \n",
              "\n",
              "                    75%      max  \n",
              "SeniorCitizen      0.00     1.00  \n",
              "Tenure            55.00    72.00  \n",
              "MonthlyCharges    89.85   118.75  \n",
              "TotalCharges    3786.60  8684.80  "
            ]
          },
          "execution_count": 132,
          "metadata": {},
          "output_type": "execute_result"
        }
      ],
      "source": [
        "#comprobar la coherencia de los datos\n",
        "df.describe().T"
      ]
    },
    {
      "cell_type": "markdown",
      "metadata": {
        "id": "vR0v_kgjbcXK"
      },
      "source": [
        "##Exploración de datos con Python:\n",
        "Crear dos tipos diferentes de visualizaciones exploratorias univariadas. Cada visualización debe incluir una breve interpretación dentro del archivo de código.\n",
        "Crear dos tipos diferentes de visualizaciones exploratorias multivariadas. Cada visualización debe incluir una breve interpretación dentro del archivo de código."
      ]
    },
    {
      "cell_type": "markdown",
      "metadata": {
        "id": "B1d3P89Ju1jE"
      },
      "source": [
        "### Visualizaciones Univariadas"
      ]
    },
    {
      "cell_type": "markdown",
      "metadata": {
        "id": "X-doHrcS64AF"
      },
      "source": [
        "#### Visualización N 1"
      ]
    },
    {
      "cell_type": "code",
      "execution_count": 157,
      "metadata": {
        "colab": {
          "base_uri": "https://localhost:8080/",
          "height": 473
        },
        "id": "mgh5oVs5uv5j",
        "outputId": "d263098f-ea67-4d30-c142-637bc01cb6f1"
      },
      "outputs": [
        {
          "data": {
            "image/png": "[encoded data removed]",
            "text/plain": [
              "<Figure size 640x480 with 1 Axes>"
            ]
          },
          "metadata": {},
          "output_type": "display_data"
        }
      ],
      "source": [
        "#tipo de servicio de internet y numero de clientes\n",
        "servicio_clientes = df[\"InternetService\"].value_counts()\n",
        "plt.bar(servicio_clientes.index, servicio_clientes.values,color='orange')\n",
        "plt.title('Servicio de Internet Más Usados', fontsize=14, weight=\"bold\")\n",
        "plt.xlabel('Servicio de Internet')\n",
        "plt.ylabel('Número de Clientes')\n",
        "plt.show()"
      ]
    },
    {
      "cell_type": "markdown",
      "metadata": {
        "id": "LhJtwE--4QDS"
      },
      "source": [
        "En este gráfico de barras podemos observar que la mayoría de los clientes que tiene contratado un servicio de internet opta por Fibra Optica. Tambien podemos concluir que al rededor de 1500 clientes no tienen contratado un servicio de internet."
      ]
    },
    {
      "cell_type": "markdown",
      "metadata": {
        "id": "Q21_groJlF7o"
      },
      "source": [
        "#### Visualización N 2"
      ]
    },
    {
      "cell_type": "code",
      "execution_count": 169,
      "metadata": {
        "colab": {
          "base_uri": "https://localhost:8080/",
          "height": 428
        },
        "id": "o1ReSFj4bTYc",
        "outputId": "ec7051c1-e746-443c-bf2b-0cd95defc2d3"
      },
      "outputs": [
        {
          "data": {
            "image/png": "[encoded data removed]",
            "text/plain": [
              "<Figure size 640x480 with 1 Axes>"
            ]
          },
          "metadata": {},
          "output_type": "display_data"
        }
      ],
      "source": [
        "churn_counts = df[\"Churn\"].value_counts()\n",
        "plt.pie(churn_counts, labels=churn_counts.index, autopct=\"%.1f%%\")\n",
        "plt.title(\"Abandono vs Retenidos\")\n",
        "plt.show()"
      ]
    },
    {
      "cell_type": "markdown",
      "metadata": {
        "id": "eR9lYLpF6Rib"
      },
      "source": [
        "En este gráfico de torta se observa que un 26,5% de los clientes abandonó el servicio y un 73.5% no lo abandonó."
      ]
    },
    {
      "cell_type": "markdown",
      "metadata": {
        "id": "S1LJp4nj6_Dl"
      },
      "source": [
        "### Visualizaciones Multivariadas\n"
      ]
    },
    {
      "cell_type": "markdown",
      "metadata": {
        "id": "_Z88qMLn66RU"
      },
      "source": [
        "#### Visualización N 4"
      ]
    },
    {
      "cell_type": "code",
      "execution_count": 198,
      "metadata": {
        "colab": {
          "base_uri": "https://localhost:8080/",
          "height": 542
        },
        "id": "X1XK4bws7EhJ",
        "outputId": "d19f8e7e-88fd-4709-e666-6795c50a6e33"
      },
      "outputs": [
        {
          "data": {
            "text/html": [
              "<html>\n",
              "<head><meta charset=\"utf-8\" /></head>\n",
              "<body>\n",
              "    <div>            <script src=\"https://cdnjs.cloudflare.com/ajax/libs/mathjax/2.7.5/MathJax.js?config=TeX-AMS-MML_SVG\"></script><script type=\"text/javascript\">if (window.MathJax && window.MathJax.Hub && window.MathJax.Hub.Config) {window.MathJax.Hub.Config({SVG: {font: \"STIX-Web\"}});}</script>                <script type=\"text/javascript\">window.PlotlyConfig = {MathJaxConfig: 'local'};</script>\n",
              "        <script charset=\"utf-8\" src=\"https://cdn.plot.ly/plotly-2.35.2.min.js\"></script>                <div id=\"5f9b6f75-f77d-4c1b-aab0-fcc3ff3e3a28\" class=\"plotly-graph-div\" style=\"height:525px; width:100%;\"></div>            <script type=\"text/javascript\">                                    window.PLOTLYENV=window.PLOTLYENV || {};                                    if (document.getElementById(\"5f9b6f75-f77d-4c1b-aab0-fcc3ff3e3a28\")) {                    Plotly.newPlot(                        \"5f9b6f75-f77d-4c1b-aab0-fcc3ff3e3a28\",                        [{\"hovertemplate\":\"Churn=No\\u003cbr\\u003eGender=Female\\u003cbr\\u003eMonthlyCharges=%{x}\\u003cbr\\u003eTotalCharges=%{y}\\u003cbr\\u003eTenure=%{marker.size}\\u003cextra\\u003e\\u003c\\u002fextra\\u003e\",\"legendgroup\":\"No, Female\",\"marker\":{\"color\":\"#636efa\",\"size\":[1,10,69,52,21,58,30,71,27,72,46,70,17,63,13,49,69,43,25,60,63,34,72,47,18,3,31,50,52,3,56,46,8,45,11,42,49,35,48,46,65,1,66,72,32,52,43,64,36,41,56,6,7,4,13,43,23,64,72,61,65,8,70,6,14,22,13,2,11,16,32,34,15,1,13,40,69,72,20,27,14,33,1,29,57,8,71,12,31,47,72,29,10,72,41,65,13,51,67,61,29,31,45,61,19,71,5,6,10,1,68,22,20,6,12,71,68,1,22,43,5,72,9,52,11,28,17,35,8,68,36,32,71,66,41,1,70,23,64,7,16,41,47,1,56,43,61,41,42,27,2,19,42,66,23,32,11,68,46,29,48,16,40,5,7,10,55,10,68,72,26,16,49,54,18,36,52,64,22,61,24,30,24,44,17,7,20,72,15,0,2,70,71,70,52,1,56,28,5,56,24,63,33,69,60,72,11,1,65,72,23,56,1,11,60,11,28,1,3,66,32,44,15,66,57,7,62,20,25,66,72,46,40,68,49,15,17,10,57,3,70,53,48,61,40,1,1,22,1,2,65,20,58,14,71,26,22,5,72,27,30,72,47,2,61,5,72,3,63,27,2,3,72,72,11,72,3,59,5,34,24,60,8,34,6,20,1,70,46,72,42,25,55,61,62,14,70,37,72,13,15,65,12,72,72,5,68,66,5,72,3,51,60,67,49,7,27,63,53,2,56,8,71,15,23,26,21,63,22,32,68,30,16,12,4,0,65,15,24,13,72,54,32,8,15,71,32,56,71,59,11,35,20,39,72,12,56,58,22,10,37,53,71,1,64,23,39,5,45,60,47,50,62,71,13,16,14,8,43,52,16,40,36,72,34,14,59,58,59,3,52,16,51,71,7,20,9,63,69,69,71,38,48,50,23,26,72,63,13,32,3,41,1,52,45,53,62,60,23,67,71,5,32,14,13,46,53,58,71,35,47,14,20,42,17,12,60,3,9,69,62,72,49,70,3,21,45,24,56,55,72,45,47,2,12,4,53,62,55,71,72,72,36,72,1,30,62,70,20,5,24,66,45,69,28,36,11,3,10,71,43,23,72,1,15,0,8,28,57,51,67,9,9,72,51,33,27,39,58,70,46,48,12,72,1,62,4,24,14,35,71,43,58,18,60,70,48,23,43,65,40,58,52,6,36,60,23,8,69,44,13,51,71,56,23,66,1,52,51,37,45,18,23,67,14,63,41,17,5,3,63,7,3,19,59,35,69,72,4,46,60,31,39,2,7,55,10,15,23,15,68,21,56,6,65,68,50,7,63,62,2,70,72,49,2,46,54,30,1,3,48,68,7,29,59,27,53,65,9,8,45,8,23,4,67,72,35,40,63,42,55,3,5,71,29,46,17,2,51,6,3,17,45,7,66,41,56,72,54,50,72,12,44,68,2,58,27,71,63,68,28,2,26,42,57,44,71,23,30,36,34,71,23,72,61,6,32,45,22,1,4,56,71,55,38,47,65,52,26,64,51,41,72,43,23,46,12,41,7,5,72,65,3,72,22,59,53,51,51,13,1,71,70,20,49,72,46,5,33,42,53,60,20,23,57,45,69,35,17,67,9,5,31,28,16,72,24,15,5,43,1,28,69,1,69,71,69,48,66,30,34,67,14,23,36,50,48,50,18,40,46,3,33,71,72,22,55,12,67,1,56,54,7,21,62,46,1,25,24,57,15,72,13,59,62,21,2,1,19,5,50,29,28,19,17,19,36,69,50,12,70,64,66,71,71,23,70,41,1,67,72,56,66,69,40,11,15,64,1,15,60,8,49,72,40,40,44,7,8,5,72,54,48,8,3,9,48,72,49,71,65,49,4,72,26,35,57,25,47,57,48,68,30,3,14,4,71,5,49,67,55,72,1,66,71,29,3,43,1,8,31,38,2,12,9,71,42,45,43,25,27,11,18,17,50,3,14,31,7,2,72,27,72,4,71,48,70,29,67,6,47,53,2,28,68,42,6,38,4,70,34,72,64,72,23,64,34,47,7,71,41,70,65,70,72,12,62,25,52,56,12,47,18,8,38,71,13,65,72,42,71,35,53,30,12,57,58,37,44,8,25,57,12,62,65,71,21,7,72,1,72,64,72,29,13,31,14,72,2,60,33,1,55,65,70,36,5,1,2,64,15,70,39,29,14,61,66,59,72,51,4,29,72,72,7,22,68,71,34,35,61,53,72,24,54,19,72,56,2,25,63,4,1,60,43,61,42,31,19,69,64,46,12,13,67,13,43,25,24,15,28,55,20,62,43,60,65,39,62,72,41,4,13,66,66,41,41,23,4,52,11,2,26,12,64,60,47,10,66,12,24,42,64,31,11,72,60,37,6,72,6,21,6,43,35,72,72,50,69,33,12,64,51,56,26,4,1,34,14,65,59,72,26,35,55,33,37,1,18,24,11,9,29,18,2,8,68,25,67,48,61,2,71,67,64,37,21,10,10,6,61,52,35,68,4,39,71,17,55,58,50,72,43,1,44,70,69,26,72,36,41,15,47,8,26,23,4,25,69,64,50,21,17,51,27,3,64,45,71,58,15,3,9,3,68,50,72,72,6,5,64,17,41,2,24,13,15,24,61,26,19,72,10,36,66,6,68,52,10,72,4,34,14,65,69,13,41,4,24,5,5,72,24,42,4,33,3,48,15,25,48,37,26,64,28,1,1,18,55,7,68,49,16,72,2,71,54,68,64,46,11,53,71,1,2,41,58,7,65,58,58,68,61,42,56,4,35,64,31,67,70,29,47,8,26,72,70,28,21,53,70,11,41,71,34,46,58,52,70,29,67,1,30,48,55,31,15,35,56,2,18,23,4,18,38,52,26,3,2,58,59,70,8,16,57,72,17,16,10,1,72,49,50,7,33,53,21,35,32,28,1,72,40,3,50,9,45,55,38,70,13,61,69,72,72,62,71,16,24,1,72,11,60,49,30,53,9,51,70,28,32,37,10,51,9,24,33,1,1,41,40,3,37,32,32,59,30,27,68,69,55,57,42,18,23,25,72,2,8,2,41,4,12,42,1,72,11,5,55,40,57,47,12,66,58,9,66,18,3,53,58,6,52,2,65,51,24,64,26,15,27,8,2,46,50,54,26,1,19,26,68,51,9,12,18,3,72,17,7,68,38,72,48,52,35,1,60,60,59,24,37,18,67,25,10,70,4,2,9,5,56,18,72,3,8,68,68,52,32,72,43,8,72,8,70,70,69,39,38,51,1,23,2,52,36,1,28,7,10,7,56,5,72,18,59,60,70,44,64,58,46,72,34,72,14,1,68,14,16,14,10,29,30,72,10,1,20,1,29,20,6,67,72,22,59,51,20,40,19,10,55,36,12,35,67,13,29,57,72,59,72,50,1,12,62,1,36,69,63,71,45,70,22,52,65,72,7,24,72,61,48,71,72,33,16,56,1,1,40,56,10,24,19,70,49,72,46,72,72,28,1,6,48,52,32,54,64,12,45,29,24,45,49,29,22,23,3,14,2,7,15,54,11,18,72,71,52,68,42,50,7,6,3,15,23,49,56,63,21,25,45,22,67,68,0,4,17,9,72,66,7,46,32,37,72,16,57,21,17,8,16,49,70,32,18,4,16,19,1,63,60,70,68,48,26,3,3,59,61,64,54,18,72,11,39,72,8,22,38,70,28,15,57,46,44,67,71,32,1,17,72,9,8,71,71,20,60,72,62,10,71,71,72,26,33,10,57,10,39,11,68,52,67,11,72,65,72,2,6,8,63,12,13,72,2,40,1,1,37,23,42,32,22,8,65,70,67,25,20,2,46,72,46,72,70,2,16,35,59,49,2,56,56,6,65,64,66,20,60,50,72,69,71,56,72,11,15,34,56,58,71,6,69,53,5,2,19,71,1,4,31,55,36,10,72,28,61,34,54,1,46,55,1,58,39,12,18,41,25,67,43,24,37,54,53,20,48,7,16,72,7,30,46,66,41,7,38,44,24,33,58,72,71,72,22,2,15,71,39,61,52,1,4,72,45,36,71,4,29,59,17,68,2,18,71,56,22,42,72,12,26,7,6,47,16,69,64,6,61,43,12,34,41,72,41,23,72,7,12,1,48,10,35,1,54,16,68,53,72,30,18,55,30,71,22,49,42,7,67,40,22,2,57,7,65,55,72,28,18,52,47,23,8,71,50,66,42,5,27,25,47,13,1,66,49,3,62,2,2,55,30,16,1,7,57,1,12,20,26,53,68,68,50,41,23,72,66,72,51,70,37,14,17,10,29,65,8,45,40,26,33,65,45,70,12,31,33,59,66,69,66,56,33,72,19,71,61,71,68,53,50,57,54,60,10,43,69,61,70,32,72,69,26,58,30,55,47,64,37,38,52,1,26,4,66,65,34,50,58,56,4,51,6,48,35,50,33,9,54,46,63,51,64,15,18,57,72,38,30,31,72,37,46,1,19,61,3,41,71,37,6,11,10,62,26,53,71,29,1,72,9,1,11,65,12,28,9,67,1,18,55,7,54,72,66,31,21,55,67,14,63,70,5,72,13,56,4,49,44,37,41,42,48,27,46,23,2,65,55,35,13,58,45,72,38,20,22,11,22,20,46,28,33,1,44,37,4,39,61,49,64,34,1,33,72,15,19,2,11,12,70,23,24,32,27,18,47,70,36,10,71,48,38,61,21,59,47,22,53,28,48,3,23,65,71,37,12,35,1,27,18,72,4,25,40,47,17,42,71,6,3,70,69,35,22,72,65,30,2,61,13,2,3,62,35,15,55,11,61,71,17,47,3,1,44,18,65,34,14,13,47,69,39,33,9,70,52,26,72,26,27,6,61,72,38,36,57,68,37,4,33,62,1,49,31,46,17,38,22,57,1,6,1,71,67,37,50,54,3,41,34,13,20,51,41,13,12,7,53,5,37,12,38,9,47,41,43,6,58,39,8,26,53,70,13,64,10,65,62,55,25,72,71,1,71,69,64,4,2,19,40,66,72,48,14,8,17,57,56,14,58,67,46,3,67,39,69,1,72,26,2,36,60,19,1,59,54,66,42,18,13,68,59,5,69,25,19,70,1,72,72,59,60,69,1,56,60,3,13,45,25,2,22,35,29,15,70,21,23,23,8,59,48,31,64,52,67,67,71,32,2,71,60,55,6,48,30,40,9,62,70,46,23,67,14,55,2,26,35,61,68,72,7,2,9,64,24,72,10,35,58,60,8,36,55,72,54,60,39,15,63,72,58,21,72,41,16,58,70,19,35,32,17,67,9,27,41,50,59,60,6,19,60,13,5,61,26,21,67,44,46,63,6,18,43,15,25,18,53,26,34,19,62,63,61,6,33,56,8,4,34,45,9,22,2,10,49,54,71,22,50,43,45,23,68,57,40,3,48,9,46,59,7,72,10,3,2,71,20,6,29,28,63,49,72,47,1,36,27,38,35,0,59,2,36,41,13,60,11,45,12,67,39,41,25,71,30,54,59,1,72,48,49,11,49,67,37,13,72,24,24,71,63,52,12,56,69,72,4,1,62,72,11,21,19,67,55,13,70,19,20,70,40,45,57,3,59,4,8,53,18,15,18,2,42,58,71,48,8,52,63,68,31,64,62,21,72,32,71,34,35,3,4,48,30,56,64,25,1,57,69,72,72,53,25,65,28,67,72,61,48,47,5,12,13,38,42,49,61,53,51,24,62,70,8,72,23,35,23,20,43,27,13,67,64,62,40,1,51,39,63,18,68,6,2,12,72,72,11],\"sizemode\":\"area\",\"sizeref\":0.18,\"symbol\":\"circle\"},\"mode\":\"markers\",\"name\":\"No, Female\",\"showlegend\":true,\"x\":[29.85,29.75,113.25,20.65,90.05,59.9,55.3,96.35,66.15,99.9,74.8,69.2,20.75,79.85,76.2,84.5,64.15,90.25,69.5,74.85,99.65,24.95,107.5,100.5,54.4,75.3,79.2,20.15,20.4,64.5,110.5,55.65,54.65,25.9,50.55,103.8,20.15,62.15,20.65,19.95,111.05,19.45,45.55,104.15,30.15,57.95,91.65,54.6,31.05,20.65,99.8,20.7,50.7,20.85,85.95,25.7,75.0,20.2,88.05,101.05,99.05,68.55,108.15,19.7,80.9,84.15,56.0,69.7,20.6,20.4,20.55,24.7,105.35,45.3,19.65,56.6,19.75,109.7,96.55,101.9,80.05,79.95,25.25,20.0,58.75,80.0,24.75,19.35,81.15,85.3,20.25,25.15,29.6,86.6,74.7,94.4,54.8,93.5,59.55,115.1,45.0,49.85,113.3,88.1,105.0,24.25,50.55,55.15,51.2,25.4,54.45,76.0,44.35,89.35,19.7,76.05,60.3,19.25,89.05,115.05,69.35,60.0,48.6,102.7,82.9,35.9,82.65,19.85,19.2,88.15,94.8,54.65,85.75,67.45,20.25,72.1,19.45,44.95,97.0,89.15,54.1,98.8,20.55,19.15,99.75,85.1,89.65,86.2,54.75,95.6,44.3,19.9,95.05,90.05,20.05,19.75,20.05,55.9,24.45,74.95,70.65,73.25,24.8,24.3,69.85,40.7,51.65,85.95,58.25,65.2,44.45,112.95,101.55,114.65,64.8,80.4,25.05,24.7,69.75,24.4,104.15,80.8,69.45,19.9,20.65,75.7,81.45,108.5,100.15,52.55,59.0,19.8,80.7,65.2,84.05,19.85,105.45,54.3,70.05,99.9,21.1,81.55,58.45,95.65,80.6,113.1,58.95,19.55,105.05,115.6,25.6,68.75,19.9,40.4,19.25,64.9,110.85,19.0,20.0,74.25,109.55,109.8,48.85,102.85,87.55,78.55,92.05,19.7,95.15,104.6,111.65,55.0,54.55,70.9,89.85,25.25,24.8,45.25,19.5,74.75,57.8,19.85,24.55,73.8,103.75,71.1,49.9,20.05,20.65,20.55,59.6,81.0,24.7,86.0,58.25,50.35,26.25,80.85,79.05,90.15,110.45,89.85,65.0,80.45,24.1,44.05,110.8,75.05,90.05,56.7,90.35,19.85,90.35,66.85,35.8,110.65,40.3,107.0,44.8,60.85,78.4,59.85,19.85,67.65,45.0,25.55,20.0,75.65,64.2,76.8,25.25,84.6,103.7,106.35,25.8,25.55,74.1,88.8,105.0,30.85,20.55,84.85,33.15,89.8,115.8,64.35,20.5,89.0,20.5,98.2,34.8,60.15,64.75,111.25,35.8,84.35,110.5,81.2,105.55,19.5,105.6,19.95,111.25,89.0,75.4,80.7,104.55,79.7,81.7,76.3,103.75,86.45,75.1,33.6,83.25,80.85,108.05,19.9,21.05,30.15,65.5,104.1,91.35,75.6,58.95,25.45,86.1,73.25,77.35,75.95,75.25,54.95,19.5,47.85,23.75,43.8,80.3,24.35,25.25,26.1,19.85,95.85,58.65,49.5,24.4,19.5,51.05,84.7,86.1,110.0,94.9,69.75,23.65,81.85,49.15,19.3,70.2,54.25,99.3,74.0,35.5,80.75,19.55,112.4,50.2,55.7,96.65,24.5,79.2,69.55,19.6,74.75,107.45,100.45,81.25,20.0,79.75,97.45,24.25,24.6,89.85,24.25,105.25,82.5,66.25,81.95,114.65,20.0,88.95,75.5,60.25,40.35,18.85,64.3,24.65,18.7,97.95,94.1,95.1,72.35,82.7,53.8,100.4,54.25,80.0,79.2,93.45,61.05,104.05,99.25,74.45,50.45,60.0,20.75,78.9,49.4,25.0,70.15,69.4,20.2,70.45,24.65,100.85,24.7,58.7,28.5,105.15,83.15,103.2,88.8,85.9,34.2,20.15,80.15,51.25,80.25,53.6,101.15,56.8,99.4,20.1,114.85,19.25,105.5,74.1,107.5,84.5,80.6,80.7,75.6,57.6,58.2,81.0,19.7,59.55,75.55,20.9,24.6,19.95,24.65,51.25,54.25,19.4,25.15,75.35,56.05,20.0,20.5,100.75,49.65,65.65,19.5,75.2,92.0,85.5,60.9,20.25,19.85,66.8,44.6,24.95,102.5,58.35,68.75,20.35,110.8,82.85,84.35,19.55,23.3,104.1,92.55,55.5,49.85,99.8,113.05,19.95,24.8,64.85,109.4,50.25,97.8,100.3,19.5,106.05,99.65,73.75,19.2,105.4,49.05,96.85,69.75,99.2,106.8,57.75,70.85,19.55,98.15,79.15,40.2,102.15,71.1,88.45,19.25,84.8,19.5,68.6,92.6,20.55,19.6,109.85,20.65,95.4,56.2,18.4,25.75,19.8,78.95,50.3,21.1,19.85,80.55,81.5,20.35,34.65,81.55,67.8,46.3,20.4,19.65,60.65,71.7,65.2,48.95,53.5,109.05,106.8,64.95,19.35,26.0,70.35,80.4,90.95,20.05,29.05,70.6,97.2,90.05,43.8,69.95,24.35,84.4,20.65,19.85,65.5,56.15,90.8,108.8,76.85,20.25,115.65,74.6,25.1,80.15,105.4,25.0,50.15,20.15,75.55,20.65,90.45,73.85,82.75,24.4,55.25,19.4,19.9,83.8,56.4,20.1,94.9,94.2,81.65,44.25,90.55,104.45,19.8,116.45,20.05,89.7,96.6,54.3,74.85,20.05,45.4,110.65,20.55,115.15,58.55,19.35,54.9,91.15,66.05,105.2,19.6,61.5,91.05,73.65,19.4,53.1,20.65,95.15,79.35,20.5,51.35,45.65,54.2,50.9,63.55,45.0,25.3,24.3,19.7,19.4,19.3,67.45,58.9,50.5,60.7,104.4,93.8,19.7,70.65,86.45,55.8,43.95,20.15,24.85,78.5,30.5,106.1,95.5,64.6,89.1,85.35,72.1,111.8,19.85,60.5,19.55,20.9,20.5,90.25,95.5,95.4,101.3,53.1,34.25,88.6,60.15,100.3,53.6,19.35,85.6,69.75,20.0,93.3,46.35,83.55,105.65,75.5,20.15,20.1,49.9,86.25,116.85,20.15,19.6,25.05,63.95,70.6,64.45,110.5,24.7,85.4,47.6,19.4,103.85,25.15,19.55,85.35,94.1,59.1,75.3,55.8,39.7,29.5,20.15,19.65,78.85,44.95,20.2,59.4,118.65,64.45,80.15,21.0,75.85,75.5,20.15,106.6,69.95,66.85,64.85,115.05,101.1,50.1,74.6,19.75,84.5,25.05,83.7,20.2,94.05,81.0,60.25,60.85,43.95,20.25,19.55,84.15,31.2,25.55,20.2,61.95,58.2,85.85,104.0,104.4,25.25,49.85,108.95,89.9,82.0,64.05,34.6,104.45,78.35,95.85,35.7,89.55,24.95,100.8,105.35,19.65,70.5,20.1,19.8,51.2,65.6,80.55,20.85,52.15,113.65,20.6,91.55,104.15,48.2,100.15,85.3,107.45,91.3,55.5,90.25,69.85,65.6,104.5,93.25,25.25,100.5,95.45,20.45,19.95,109.15,85.7,102.05,94.7,26.8,66.05,65.2,45.0,114.9,106.4,46.1,39.7,20.05,95.75,84.0,67.4,75.1,19.7,117.15,25.7,49.4,109.7,39.5,29.65,50.2,55.45,19.8,90.7,95.0,30.25,49.85,93.0,84.8,94.45,20.85,80.45,20.2,86.45,53.8,20.1,35.65,25.2,19.65,59.8,73.55,61.4,81.5,109.55,74.4,110.45,74.45,24.55,19.55,19.7,20.0,25.25,19.85,106.35,99.5,45.0,90.45,78.45,20.35,90.75,20.25,19.6,26.05,20.1,24.3,110.5,25.25,68.75,115.1,84.75,20.25,100.4,24.45,101.1,92.2,26.0,111.95,53.8,78.85,70.75,76.15,39.1,20.05,19.45,26.9,50.0,60.0,20.05,99.0,25.0,91.55,24.85,100.4,25.0,19.25,108.25,101.3,105.3,69.85,65.25,19.8,19.6,49.4,88.4,100.6,19.45,20.3,107.65,80.45,58.85,75.15,73.0,70.1,98.65,111.45,114.9,100.55,20.4,104.35,80.45,91.35,80.55,50.05,25.7,83.4,64.75,100.15,113.0,40.65,59.9,19.8,20.0,25.0,84.35,75.35,59.3,66.1,18.8,86.45,47.4,109.15,115.05,95.15,20.05,20.35,100.65,116.75,59.1,49.8,38.9,87.95,96.35,24.15,19.1,60.6,25.65,20.4,95.1,44.9,92.65,72.6,24.5,61.05,108.25,20.4,55.3,89.45,75.2,101.15,99.0,21.0,24.85,84.45,115.0,84.8,19.7,63.15,74.0,74.65,94.1,108.9,88.95,48.85,56.05,89.8,20.35,106.05,19.65,59.85,103.9,19.75,48.7,109.55,20.65,55.2,43.8,61.15,63.85,20.0,19.3,84.4,48.25,19.85,94.2,62.15,79.3,20.3,90.6,79.2,63.8,20.55,109.25,84.6,20.45,22.95,19.45,64.0,64.9,90.15,104.95,19.85,63.4,95.1,74.1,79.2,48.8,55.45,25.4,63.8,85.1,103.05,116.0,105.35,19.4,92.85,80.75,60.25,20.25,80.3,19.55,25.6,46.35,109.3,90.3,25.45,26.0,113.2,69.05,20.1,90.0,25.25,60.6,20.3,20.0,19.75,71.0,61.5,19.95,20.7,110.8,69.3,105.6,65.65,103.3,44.45,89.9,106.6,24.05,100.05,68.65,75.75,20.55,50.95,79.4,58.75,59.45,82.45,20.5,58.6,61.4,20.15,94.45,79.8,19.4,113.65,106.0,19.1,89.15,107.9,24.95,38.85,78.45,19.2,109.1,101.75,75.45,64.1,95.85,54.4,72.75,19.05,46.25,74.35,19.35,20.85,19.35,25.5,19.6,20.0,81.3,95.2,83.3,20.3,19.8,19.1,80.55,20.25,25.5,79.6,88.05,117.6,20.0,19.65,65.8,20.05,35.4,20.45,24.7,71.95,84.45,19.7,43.7,19.65,39.7,111.6,55.55,104.5,110.6,70.55,85.0,85.8,91.1,20.1,100.85,105.1,20.4,79.4,20.35,20.85,88.5,35.0,55.15,50.95,64.0,80.2,49.3,84.35,20.05,20.1,80.0,79.65,25.2,19.9,44.8,80.05,47.85,25.55,20.25,75.55,70.25,50.3,20.3,75.35,88.0,43.8,20.1,101.35,84.05,105.9,44.1,90.2,74.65,94.15,55.6,48.7,19.9,19.4,19.3,79.85,68.4,20.65,55.15,44.1,99.25,91.7,100.7,78.45,19.55,20.45,55.6,86.8,20.95,20.05,113.65,87.8,41.9,56.3,69.5,97.0,58.35,70.4,94.3,19.55,94.8,54.6,56.3,90.55,60.8,103.15,107.75,95.7,97.65,35.65,85.25,19.5,25.1,100.05,55.7,83.85,91.5,21.1,104.75,20.3,74.15,78.55,50.7,77.8,83.45,20.1,90.1,29.2,69.3,94.3,76.45,113.65,75.25,19.6,53.45,112.1,69.0,19.35,19.8,79.15,108.65,40.65,95.7,71.05,59.45,84.6,99.15,62.1,79.5,19.55,20.35,23.3,65.1,80.5,19.85,40.75,81.3,20.0,66.15,101.75,55.15,103.95,87.3,85.3,90.95,96.1,19.85,20.1,79.65,71.25,24.55,19.7,100.5,74.45,104.1,19.05,19.05,90.15,19.55,89.9,19.4,24.1,54.25,87.55,88.4,96.55,24.25,20.5,30.55,98.05,63.9,69.15,64.65,98.85,89.6,83.25,70.25,24.5,73.0,61.4,75.75,99.65,54.55,20.45,77.15,35.05,108.1,84.05,20.2,71.65,106.5,58.5,79.2,66.5,49.55,82.65,25.2,25.45,77.75,26.2,19.9,19.3,84.05,105.2,95.3,20.25,90.95,73.55,19.3,20.25,109.1,94.05,19.35,20.45,19.35,78.65,19.9,58.35,100.5,20.05,95.0,45.45,49.2,19.25,109.65,94.75,105.45,24.0,25.6,73.5,54.4,34.2,43.75,79.8,88.85,74.95,106.85,19.7,51.3,118.6,20.3,115.5,25.05,109.1,19.65,29.9,116.05,115.25,81.25,66.3,72.1,95.95,109.4,71.05,40.25,19.85,20.15,50.95,20.25,55.8,88.9,57.65,108.05,57.55,29.25,19.6,111.75,106.5,19.3,20.05,60.4,85.2,25.1,38.5,84.7,66.0,61.45,99.75,20.3,56.15,20.4,19.65,54.35,108.1,54.45,45.35,59.0,69.45,18.85,25.05,45.05,51.0,110.45,20.25,25.45,20.6,84.8,50.15,94.6,59.75,100.25,97.7,56.25,24.9,50.1,50.15,79.6,19.5,38.9,95.8,78.15,26.1,40.35,79.2,20.9,49.9,68.9,20.25,76.0,89.4,29.45,106.7,94.45,65.25,99.45,19.95,19.7,74.8,94.95,36.25,103.65,92.9,20.1,39.85,60.5,67.8,19.35,55.0,117.35,89.75,65.7,75.7,19.5,86.55,101.35,20.7,20.25,73.7,108.75,25.95,70.05,24.05,84.75,23.05,59.95,19.55,20.05,78.6,116.8,65.2,75.15,19.6,115.75,59.55,19.05,95.65,19.95,19.75,64.1,90.55,65.9,52.5,56.1,26.0,99.4,115.55,104.45,91.15,92.4,19.9,25.75,20.95,97.05,101.25,90.95,20.1,110.3,85.15,73.55,58.55,24.6,25.5,19.0,19.55,50.6,79.1,20.55,80.35,70.15,69.9,51.1,60.0,76.4,84.95,110.1,99.65,59.85,80.65,66.4,100.2,20.35,50.35,18.8,20.45,98.7,20.7,85.6,80.3,80.9,20.05,100.3,80.0,20.85,89.95,20.0,48.75,19.4,59.5,103.95,103.1,24.7,110.2,62.45,78.9,71.45,94.65,49.9,20.75,75.4,21.05,79.5,100.65,79.7,61.4,69.8,75.65,90.7,60.6,44.75,98.0,104.7,86.45,24.95,69.55,98.1,19.55,54.2,24.45,89.2,53.85,115.6,25.3,89.75,20.0,20.7,26.0,66.05,19.9,68.15,75.5,80.6,83.2,109.4,45.55,88.15,19.65,105.15,79.3,44.15,92.7,26.25,20.45,55.75,114.6,66.8,69.8,106.15,105.75,104.85,60.95,19.1,90.1,118.75,85.9,95.0,20.15,101.3,21.2,24.2,20.3,85.3,50.95,26.1,25.0,24.15,45.25,64.75,20.7,49.45,74.05,89.6,54.2,19.3,24.05,18.75,20.15,24.4,70.7,26.45,19.65,19.05,74.75,75.8,44.45,104.3,89.0,36.15,19.2,19.25,61.2,35.05,86.4,108.9,107.4,90.85,19.9,100.7,20.75,95.8,106.65,45.85,61.3,96.85,40.55,90.45,86.4,66.9,20.0,70.15,80.05,49.2,54.95,19.9,81.25,115.5,79.0,94.65,100.45,19.7,91.55,113.15,19.7,59.1,91.15,68.95,51.55,96.8,69.2,19.55,54.7,84.85,94.75,74.9,19.8,80.85,54.65,118.6,116.15,80.6,20.3,99.8,75.0,19.9,84.3,41.1,45.0,40.2,19.75,78.35,109.7,33.45,94.6,20.3,100.05,94.45,24.9,58.95,48.8,63.05,84.9,19.3,74.65,69.1,62.5,94.9,19.9,20.45,85.15,56.35,107.55,19.85,95.9,23.85,74.55,39.2,79.55,19.6,20.1,99.95,59.8,49.75,44.55,57.2,110.75,97.05,76.35,84.4,55.5,19.4,94.75,74.55,53.0,19.85,19.55,25.05,24.45,25.6,59.65,83.3,79.55,19.2,29.8,45.5,74.05,19.7,43.95,111.15,19.65,88.65,94.5,20.1,65.0,35.45,19.7,19.85,81.85,109.9,50.3,89.15,19.4,29.9,19.3,80.05,45.15,99.1,79.95,54.45,25.1,84.7,48.8,35.2,76.25,66.3,20.9,49.45,19.45,92.15,19.85,100.25,71.35,20.75,20.35,19.75,20.45,89.85,45.05,110.15,82.85,20.1,59.45,58.6,49.7,73.5,113.65,83.4,61.35,85.9,75.65,49.85,20.1,99.7,81.9,19.75,104.55,87.2,30.75,19.2,20.1,20.35,25.65,94.4,68.25,74.35,53.65,70.35,19.65,45.9,20.35,45.8,108.95,64.35,84.7,70.8,104.4,91.1,26.45,108.1,110.15,111.5,106.5,91.2,59.45,92.55,24.5,58.0,107.45,65.5,100.15,105.75,54.75,53.75,105.85,89.3,20.15,20.05,76.05,90.65,68.7,88.9,20.15,108.1,109.6,79.15,66.75,48.8,80.7,115.1,59.7,86.45,104.05,108.75,41.1,20.35,105.9,65.5,78.8,82.45,20.25,64.55,73.6,109.75,106.4,81.9,105.2,19.7,66.05,58.9,96.9,45.4,84.1,66.25,89.35,35.4,20.4,59.75,82.5,20.35,104.95,75.8,98.0,64.4,69.15,49.25,105.1,20.1,19.75,70.4,20.35,86.2,95.65,63.55,24.95,99.0,94.0,50.3,95.0,78.5,20.05,100.45,84.75,79.5,19.8,90.95,54.5,49.6,25.0,44.75,101.6,95.65,75.1,19.7,51.0,88.85,65.1,56.05,98.6,89.45,74.2,84.6,84.2,69.05,45.4,25.2,25.3,30.25,59.9,55.3,92.45,48.45,19.35,84.25,69.2,24.75,105.0,92.15,20.9,95.4,85.1,86.15,78.85,20.6,19.8,80.2,116.4,31.65,76.85,20.15,103.0,95.1,95.15,20.45,20.0,24.0,19.15,91.3,83.75,19.4,26.5,19.15,40.9,54.15,100.4,62.55,70.45,54.5,91.0,20.55,64.05,54.7,19.5,69.1,39.1,20.05,48.6,77.55,95.25,20.15,101.25,25.3,71.8,49.85,64.2,35.0,51.45,80.45,76.5,86.85,45.55,78.1,19.3,110.5,20.3,19.7,104.05,52.85,24.65,21.3,110.2,51.05,19.9,19.85,20.0,20.2,24.2,99.85,99.5,20.25,19.05,19.85,25.7,39.4,70.25,60.0,59.8,109.0,68.1,20.4,60.55,20.3,89.2,74.8,84.4,25.15,19.8,50.85,60.0,80.05,49.55,23.9,85.95,44.6,115.15,26.3,70.55,20.05,24.45,105.05,19.3,51.4,49.7,78.75,70.4,76.1,94.0,110.8,48.8,50.55,44.65,19.45,89.3,70.5,19.65,20.85,44.0,94.4,75.4,71.0,79.95,19.7,20.3,19.75,85.35,59.85,24.15,50.85,98.9,80.2,87.15,112.75,78.8,78.2,89.25,19.75,84.7,19.95,34.85,95.3,44.95,100.3,25.45,19.8,84.45,35.9,61.75,87.6,84.25,79.85,20.2,50.35,74.6,20.35,89.75,24.9,93.2,84.8,19.35,100.65,94.1,74.55,80.55,61.25,20.45,18.9,19.6,45.2,19.45,29.3,20.25,110.5,19.95,19.6,76.6,19.6,85.3,20.05,78.45,25.1,55.0,71.1,40.3,87.1,49.5,73.8,19.2,18.8,24.9,64.9,61.35,113.95,90.15,54.1,94.25,47.05,70.2,24.7,110.25,85.0,23.9,54.15,59.8,83.85,104.9,109.5,73.85,51.45,19.5,19.55,59.3,109.8,78.1,64.9,53.4,20.25,19.95,54.2,99.1,66.9,25.85,109.2,85.8,20.5,89.65,49.45,89.1,19.4,88.75,18.95,102.4,55.65,74.7,104.15,83.65,19.5,80.7,105.1,54.75,20.15,58.4,20.05,107.45,83.6,80.1,60.8,99.15,19.25,44.85,97.2,19.9,35.4,96.75,54.2,45.25,20.85,33.45,20.2,20.35,104.3,44.95,49.45,93.5,20.05,79.85,20.2,50.4,113.35,80.95,24.9,54.9,109.25,19.9,70.35,25.6,44.45,100.15,73.85,70.1,64.5,105.95,75.85,43.6,89.75,104.4,90.15,104.0,69.65,100.9,56.55,69.05,19.7,93.7,110.25,80.45,62.8,74.9,74.85,68.3,25.15,20.7,20.1,56.85,19.55,49.75,58.2,91.95,73.1,59.75,59.8,101.4,50.65,56.15,83.0,108.3,45.35,71.05,24.25,50.05,19.35,20.5,79.6,24.9,106.9,101.35,55.35,50.55,19.5,19.9,81.3,70.35,20.6,94.15,19.55,75.9,110.8,53.45,69.95,94.35,29.8,35.1,105.7,56.25,99.65,50.65,54.85,25.1,34.0,45.9,65.8,20.35,96.75,73.05,64.35,20.5,54.75,96.0,61.45,19.0,100.0,98.7,19.5,29.15,55.0,51.0,90.1,59.05,20.3,73.55,78.0,72.1,106.75,19.25,20.55,20.0,24.65,23.85,25.8,74.3,96.35,20.4,83.45,20.15,19.4,20.35,94.05,84.1,70.3,74.6,20.1,77.55,20.05,20.2,67.45,29.75,24.2,20.45,53.65,39.65,54.65,104.8,83.85,103.65,99.05,73.35,100.05,43.95,70.7,94.3,29.15,37.7,36.05,50.25,20.3,112.35,41.15,74.65,48.25,71.1,79.3,20.5,106.15,19.9,25.7,69.7,98.35,89.2,79.3,107.05,19.5,45.3,115.15,19.55,89.55,87.25,109.25,35.45,49.85,68.75,25.6,117.5,78.9,19.65,79.95,19.75,51.1,53.15,24.7,25.6,85.1,70.15,111.15,89.35,89.1,105.55,19.1,85.7,94.0,71.1,93.35,50.55,19.05,20.9,103.6,38.8,55.95,69.0,67.7,25.15,111.3,60.6,65.5,94.6,81.15,89.05,49.2,19.45,104.3,86.05,25.2,35.15,99.65,105.35,24.3,80.7,29.05,99.7,68.95,68.45,43.85,18.7,53.55,20.1,108.75,97.85,84.05,74.1,20.05,110.8,35.75,69.9,55.65,50.7,45.55,103.7,49.4,45.05,19.75,89.1,95.55,56.3,94.2,94.0,98.85,64.35,72.0,80.7,65.45,74.35,83.2,108.35,69.5,76.0,24.45,76.1,80.5,20.55,105.4,84.95,93.4,49.95,20.65,20.15,103.5,95.05,64.1,44.4,20.05,60.65,21.15,103.2,29.6],\"xaxis\":\"x\",\"y\":[29.85,301.9,7895.15,1022.95,1862.9,3505.1,1530.6,6766.95,1874.45,7251.7,3548.3,4872.35,418.25,4861.45,981.45,3906.7,4254.1,3838.75,1752.65,4456.35,6311.2,894.3,7853.7,4707.1,957.1,244.1,2497.2,930.9,1090.65,177.4,6139.5,2688.85,482.25,1216.6,565.35,4327.5,973.35,2215.45,1057.0,927.1,7107.0,19.45,3027.25,7303.05,927.65,3042.25,3954.1,3423.5,1126.35,835.15,5515.45,112.75,350.35,62.9,1215.65,1188.2,1778.5,1277.75,6425.65,5971.25,6416.7,564.35,7930.55,113.5,1152.8,1821.95,764.55,135.2,233.9,321.4,654.55,780.2,1559.25,45.3,244.8,2379.1,1375.4,8129.3,1901.65,2681.15,1112.3,2684.85,25.25,540.05,3437.45,624.6,1836.9,219.35,2545.75,4107.25,1566.9,702.0,299.05,6350.5,3187.65,6126.15,731.3,4619.55,4103.9,7008.15,1228.65,1520.1,5032.25,5526.75,2007.25,1732.95,244.75,322.9,498.25,25.4,3687.75,1783.6,927.15,567.8,220.35,5436.45,4109.0,19.25,1886.25,4895.1,341.6,4264.0,422.3,5138.1,880.05,973.65,1470.05,739.35,161.95,6148.45,3565.65,1830.1,6223.8,4508.65,865.0,72.1,1303.5,996.85,6430.9,574.35,889.0,3959.15,945.7,19.15,5608.4,3662.25,5308.7,3339.05,2348.45,2595.25,89.3,367.55,3944.5,5965.95,415.1,624.15,237.7,3848.8,1066.15,2149.05,3545.05,1195.75,1024.7,132.25,515.45,449.3,2838.55,858.6,3975.7,4784.45,1183.8,1882.55,5070.4,6049.5,1166.7,2937.65,1270.25,1642.75,1545.4,1417.9,2494.65,2369.3,1614.05,868.1,330.6,554.05,1671.6,8003.8,1415.0,0.0,114.15,1397.65,5676.0,4543.15,4326.8,19.85,5916.95,1546.3,302.6,5706.3,490.65,5029.05,1955.4,6744.2,4946.7,8248.5,601.6,19.55,6744.25,8220.4,514.75,3808.0,19.9,422.6,1103.25,697.25,3204.4,19.0,61.7,4859.25,3608.0,4860.35,631.4,6976.75,4884.85,522.95,5755.8,406.95,2395.7,6819.45,7943.45,2473.95,2236.2,4911.35,4287.2,394.85,475.25,428.7,1167.6,238.1,4039.3,1039.45,1203.95,4616.05,4188.4,71.1,49.9,417.0,20.65,33.6,3739.8,1683.7,1519.0,1164.05,4145.9,1277.5,605.9,356.1,5730.7,2423.4,3327.05,6697.35,2879.9,137.1,1551.6,202.15,7882.25,202.9,5817.0,1652.95,190.5,57.2,6563.4,4758.8,363.15,8065.65,92.5,6152.3,220.45,2003.6,1832.4,3590.2,146.6,2339.3,298.7,507.4,20.0,5411.4,3009.5,5468.45,1108.2,2088.05,5656.75,6751.35,1563.95,372.45,5222.3,3340.55,7589.8,394.1,295.95,5459.2,444.75,6510.45,8476.5,352.65,1424.9,5898.6,104.3,7015.9,113.95,3077.0,4039.5,7511.65,1782.0,609.65,2857.6,4965.1,5682.25,27.55,6068.65,170.9,7984.15,1288.3,1643.55,2193.0,2239.4,4786.15,1820.9,2404.15,7039.45,2538.05,1212.85,435.45,308.05,0.0,7118.9,320.45,531.55,382.2,4919.7,5645.8,2896.55,535.55,955.15,1813.35,2723.75,4054.2,5550.1,4542.35,888.65,1916.0,413.0,1886.4,1679.25,540.95,4513.65,1423.85,555.4,225.55,784.25,5016.25,4145.25,49.5,1601.2,470.2,2066.0,392.5,3861.45,6668.35,4615.25,3557.7,1416.75,5924.4,649.4,360.35,1046.5,447.75,4209.95,3877.65,552.7,3208.65,620.75,8046.85,1815.3,795.15,5580.8,1497.9,4590.35,200.2,1012.4,1129.35,5680.9,7159.7,580.1,417.65,769.1,6253.0,1641.8,1678.05,6293.45,914.4,4997.5,4179.1,1533.8,2070.05,8333.95,1209.25,1161.75,2324.7,170.5,1677.85,18.85,3410.6,1138.8,1005.7,5936.55,5475.9,2326.05,4991.5,5831.2,283.95,3217.65,773.2,1029.35,3593.8,4872.2,3478.75,7413.55,3532.0,3510.3,765.45,1259.35,844.45,1348.95,611.65,1505.05,194.2,571.45,1412.65,4300.45,1830.05,4847.35,1685.9,168.6,629.35,4730.9,2033.05,5744.35,4805.3,6110.75,1596.6,1046.2,194.55,612.1,303.7,2879.2,6638.35,3112.05,7168.25,1326.25,8317.95,679.8,7544.0,74.1,3242.5,5193.2,5460.2,1614.2,402.5,1367.75,3810.8,3533.6,1396.9,1646.45,2680.15,202.3,86.35,187.75,1710.15,2151.6,1221.55,1496.45,25.15,1114.55,0.0,141.6,563.05,5985.0,2553.35,4322.85,178.85,633.85,6474.4,4421.95,2033.85,538.2,854.8,3970.4,3058.15,1165.9,4904.25,740.55,4888.2,20.35,6840.95,319.6,1938.05,294.5,797.1,7412.25,4039.0,3166.9,865.75,5985.75,7869.05,936.7,615.35,2908.2,7227.45,2023.55,5458.8,5244.45,106.8,3834.4,5941.05,1756.6,156.85,6998.95,2265.0,1235.55,3562.5,7213.75,5914.4,1282.85,4738.85,19.55,4993.4,4018.55,1478.85,4735.35,1247.75,2130.55,1372.9,1203.9,1215.1,2877.05,1579.7,96.1,55.25,7002.95,158.95,293.15,1093.4,1057.85,882.55,1436.95,5730.15,217.1,937.1,1128.1,2471.6,3107.3,45.3,246.6,4509.5,653.15,639.45,478.75,270.6,3975.9,1497.05,3512.15,273.25,3517.9,7508.55,5347.95,493.65,1263.85,1638.7,120.25,5717.85,6468.6,923.1,44.75,3231.05,5129.45,2627.2,43.8,220.45,1133.7,5746.75,134.05,573.05,3801.3,1439.35,4921.2,7082.45,663.55,174.65,5125.5,548.9,611.45,319.85,7035.6,1849.2,1655.35,804.85,4707.85,958.1,5044.8,196.4,417.75,1725.4,1620.2,967.85,323.15,163.7,2928.5,100.35,273.2,1608.15,3618.7,313.45,6130.95,4162.05,1119.9,8013.55,1102.4,4304.5,6827.5,654.5,3268.05,1386.9,80.95,6526.65,583.3,8078.1,3503.5,1292.65,1505.15,168.5,1652.4,4599.15,1134.25,2722.2,6293.75,1642.75,578.5,1901.25,716.4,6770.85,1835.3,1502.25,3244.4,323.45,1739.6,2333.85,1381.8,45.0,116.95,1261.7,1415.85,1083.0,755.5,3252.0,3857.1,2566.3,1597.4,6721.6,4539.35,804.25,5011.15,3574.5,1327.85,2007.85,260.7,962.25,571.05,167.2,7657.4,6153.85,174.2,6352.4,1961.6,4194.85,5809.75,996.95,3145.15,265.3,20.9,1500.95,6385.95,1916.2,4613.95,7261.25,2459.8,163.55,2888.7,2421.6,5200.8,3237.05,433.75,1868.4,3894.4,886.4,6398.05,1662.05,1329.15,6717.9,637.4,117.95,589.25,1410.25,1340.1,8477.7,456.85,331.6,125.5,2737.05,70.6,1867.6,7455.45,24.7,5869.4,3377.8,1346.2,4946.05,1683.6,608.5,2896.6,6302.8,772.85,1702.9,1941.5,1932.75,1423.05,970.85,391.7,3126.85,2168.9,65.95,1952.8,8477.6,4528.0,1790.65,1210.3,854.45,5229.45,20.15,5893.95,3871.85,458.1,1336.8,7133.45,4674.4,50.1,1797.75,498.1,4845.4,369.1,6096.9,273.25,5483.9,4985.9,1258.35,111.4,43.95,383.65,99.6,4164.4,926.2,672.2,382.2,1070.7,1045.25,3003.55,7028.5,5232.9,274.7,3370.2,7111.3,5958.85,5999.85,4492.9,813.45,7349.35,3211.2,95.85,2545.7,6448.85,1468.9,6690.75,7240.65,830.25,829.3,302.45,1336.65,51.2,1010.0,4847.05,161.65,2583.75,8124.2,827.3,3673.6,4495.65,340.35,908.55,420.45,7576.7,4965.0,2627.35,743.75,199.85,593.3,5068.05,6688.95,1211.65,7030.65,6223.3,1024.65,82.9,7789.6,2067.0,3452.55,5468.95,733.55,3021.45,3687.85,2196.3,7843.55,3211.9,130.15,692.35,85.5,6849.4,424.75,3306.85,5064.45,1140.05,8529.5,25.7,3251.85,7904.25,1082.75,90.05,2169.4,55.45,160.05,2835.5,3591.25,63.75,617.15,870.25,6046.1,3923.8,892.15,3398.9,507.9,2401.05,651.55,407.05,646.05,1306.3,60.65,824.85,2094.65,438.9,162.55,7887.25,1972.35,8058.85,294.45,1719.15,883.35,1341.5,599.3,1733.15,119.3,4849.1,5424.25,89.75,2509.25,5333.35,869.9,512.25,814.75,93.45,1856.4,682.1,1778.7,7069.25,1841.2,1689.45,7334.05,2839.45,873.4,715.0,1681.6,4016.2,6474.45,1654.85,7795.95,3952.45,876.75,4263.45,1992.95,1982.1,1090.1,227.45,1250.85,892.7,487.75,678.2,7061.65,332.5,5963.95,1871.85,4303.65,1753.0,617.65,5935.1,2974.5,1275.65,4003.0,3791.6,813.3,780.25,408.25,2191.15,5611.7,246.25,1296.15,7082.85,5662.25,1215.45,525.0,5265.2,70.1,7129.45,7266.95,8496.7,2878.75,261.3,3205.6,1137.05,6697.2,188.1,2911.5,826.1,83.4,3617.1,6643.5,7987.6,1547.35,287.85,19.8,40.9,1584.8,1302.65,5437.75,2209.15,1912.15,255.55,5175.3,3177.25,6557.75,8405.0,5000.05,91.45,617.35,7334.05,8277.05,369.25,1049.05,2719.2,6365.35,3190.25,812.5,1143.8,3297.0,1887.0,482.8,5064.85,839.65,6733.0,4084.35,46.4,1540.2,6780.1,94.5,55.3,5294.6,3254.35,6383.9,4135.0,697.7,434.8,5848.6,7396.15,3958.85,260.9,816.8,4868.4,966.25,4107.3,2809.05,2072.75,736.8,1522.65,4959.6,442.6,6703.5,779.25,3483.45,6767.1,757.95,3008.55,8165.1,875.55,220.65,592.65,4017.45,4174.35,810.3,772.4,1936.85,202.25,1070.5,999.9,113.1,2015.8,246.7,5817.45,4765.0,3007.25,252.75,7082.5,1017.35,527.35,1014.25,1225.65,1910.75,716.1,6716.45,6236.75,717.5,348.8,6843.15,450.9,1742.45,297.35,2444.25,949.8,4684.3,6155.4,5153.5,8182.85,3465.05,198.1,5980.75,4116.9,3282.75,493.95,324.2,19.55,917.15,672.7,7337.55,5194.05,1866.45,684.05,3914.05,3842.6,670.35,3371.75,25.25,1156.35,459.95,211.95,210.65,2080.1,1087.45,38.15,137.6,7553.6,1813.1,7112.15,3094.65,6518.35,82.7,6342.7,7244.7,1559.15,3810.55,1493.2,777.3,187.35,307.6,4820.55,3038.55,2136.9,5646.6,79.05,2224.5,4310.35,353.65,5073.1,4526.85,1023.95,8182.75,4532.3,19.1,3990.75,7475.85,1718.35,1025.15,5682.25,702.9,4454.25,1669.4,3545.1,504.05,2475.35,1249.25,317.75,461.3,3121.4,4759.55,1033.0,435.25,307.0,1281.25,561.15,63.6,5129.3,4285.8,5894.5,1160.75,272.95,52.0,653.9,71.2,1821.8,4024.2,6520.8,8308.9,109.2,92.05,4068.0,337.9,1412.4,42.45,571.75,923.85,1287.85,452.55,2696.55,494.9,710.05,8012.75,551.3,3684.95,7210.85,433.95,5607.75,4433.3,964.35,1460.85,399.25,3634.8,292.4,5071.9,1442.65,272.35,3645.05,135.75,1319.85,229.4,370.25,5714.2,1233.25,3571.6,83.3,579.4,241.3,3870.3,387.9,527.5,2104.55,3019.1,1190.5,1714.95,535.35,75.55,70.25,908.75,1079.05,564.65,6161.9,2106.05,318.6,7323.15,186.05,7521.95,2369.7,6297.65,4869.35,4408.45,580.8,2495.2,1389.35,19.4,44.4,3320.75,3972.25,155.9,3673.15,2413.05,5846.65,6424.7,6018.65,3373.4,1080.55,82.85,2016.45,5327.25,683.25,1263.05,7714.65,2621.75,1875.25,401.5,1800.05,7104.2,4214.25,1992.2,1948.35,1007.9,6859.05,617.85,2364.0,6239.05,2042.05,4594.65,6332.75,4976.15,6982.5,1025.15,5714.2,19.5,789.55,4834.0,3131.8,2674.15,1400.3,741.0,5841.35,31.9,1345.75,1843.05,214.55,1358.6,3147.15,1078.75,2312.55,98.5,153.8,5610.15,4519.5,7939.25,576.7,314.45,3053.0,7965.95,1108.0,295.55,198.25,79.15,7726.35,2070.75,4729.75,472.65,1884.65,4449.75,1956.4,2096.1,2665.0,543.8,20.35,1623.15,2586.0,232.35,943.1,359.4,3541.1,1087.25,2522.4,7069.3,742.9,6423.0,6055.55,6129.2,6652.45,6019.35,1379.6,296.15,1928.7,71.25,1750.7,216.2,6029.0,3721.9,3121.1,990.45,157.65,4554.85,1462.05,2433.5,641.15,861.85,583.0,4475.9,788.6,2263.45,838.5,20.5,30.55,3990.6,2635.0,235.0,2347.85,3089.6,2901.8,4949.1,2198.9,761.95,5163.0,4059.85,4264.25,5497.05,2455.05,357.0,1759.4,844.45,7774.05,134.05,140.95,135.75,4282.4,224.85,943.85,2762.75,49.55,5919.35,245.15,134.75,4266.4,1077.5,1115.6,890.5,966.55,6936.85,5817.7,186.15,5930.05,1359.45,54.7,1048.45,6393.65,518.75,1031.7,34.8,1319.95,3950.85,533.5,3756.45,2599.95,284.3,2462.55,411.75,103.7,864.2,5405.8,5121.75,2715.3,24.0,485.9,1905.7,3723.65,1782.0,405.7,1001.2,1594.75,212.4,7677.4,340.35,419.35,7990.05,749.35,8425.15,1171.5,5647.95,708.8,29.9,6925.9,6758.45,4639.45,1559.45,2658.4,1745.5,7281.6,1837.7,411.45,1328.35,68.45,123.05,172.35,300.4,4968.0,992.7,7806.6,161.45,226.95,1441.65,7511.3,5621.85,593.2,1423.65,2640.55,695.75,1857.85,330.8,5991.05,4891.5,4131.2,4036.0,743.05,2898.95,20.4,451.55,117.05,5839.3,1893.5,45.35,1654.45,477.05,163.2,189.95,2560.1,286.8,7982.5,401.95,1534.05,1093.0,5917.55,2139.1,5948.7,3624.35,4753.85,6869.7,1765.95,1859.2,709.5,50.15,5515.8,272.0,664.4,1346.3,765.15,692.55,1187.05,5401.9,247.0,49.9,1370.35,20.25,2215.25,1871.15,161.45,7009.5,6921.7,1441.8,5623.7,1028.75,395.6,2971.7,1760.25,374.0,5676.65,3379.25,232.4,1434.6,3870.0,842.25,601.6,3094.05,8436.25,5496.9,4575.35,3876.2,19.5,1066.9,6164.7,20.7,717.95,4885.85,6871.7,1801.9,3062.45,1764.75,1816.75,1255.1,3921.1,1463.45,96.8,1846.65,8456.75,3965.05,3772.65,1416.5,8443.7,2016.3,326.65,5471.75,19.95,19.75,2460.35,5116.6,660.05,1208.15,1033.9,2006.95,5025.0,8312.4,4863.85,6637.9,6786.1,543.0,25.75,109.5,4692.95,5301.1,2897.95,1079.45,6997.3,979.05,3349.1,1718.95,605.25,1121.05,918.7,521.8,1073.3,1783.75,57.4,1058.1,123.8,497.3,711.15,3273.95,838.7,1443.65,7746.7,6951.15,3103.25,5330.2,2727.8,5038.45,150.6,314.55,56.0,330.8,2249.1,1032.05,4902.8,4995.35,1714.95,520.1,4483.95,1706.45,1327.4,5974.3,0.0,179.85,358.05,530.05,7556.9,6595.0,149.05,4972.1,2045.55,2976.95,5025.85,1461.15,2782.4,452.2,1322.55,139.75,1264.2,4917.75,5743.3,1864.65,1221.65,302.35,1374.9,1297.8,44.75,6218.45,6333.8,5950.2,1614.9,3435.6,2510.7,61.05,140.4,1493.1,5500.6,3399.85,6431.05,454.65,6595.9,196.35,762.45,1776.0,574.5,400.3,2656.3,5212.65,2244.95,1130.0,6252.7,2062.15,3973.2,1335.2,7555.0,2570.0,44.15,1556.85,1988.05,147.55,446.8,8100.25,4689.15,1540.35,6411.25,7629.85,6312.9,629.55,1372.45,6310.9,8672.45,2196.45,3008.15,220.8,5779.6,222.65,914.6,246.3,5560.0,2610.65,1759.55,300.7,1776.45,2933.95,4804.75,39.85,314.6,600.15,5538.8,690.5,279.3,1709.15,53.15,777.35,24.4,70.7,911.6,478.1,761.85,2282.95,1615.1,369.3,6725.3,6293.2,2434.45,532.1,375.25,125.95,1620.25,6058.95,4854.3,7748.75,6470.1,57.4,1522.7,700.45,5655.45,5174.35,105.6,3346.8,5219.65,217.5,5957.9,5442.05,4370.25,416.45,4224.7,4042.2,3580.95,3772.5,1397.3,4620.4,8312.75,929.3,1285.05,3414.65,1051.9,5511.65,7993.3,94.45,4134.7,4862.5,351.5,106.2,1743.05,4982.5,19.55,235.05,2633.4,5276.1,2659.45,196.75,5824.75,1517.5,7365.7,3946.9,4299.95,20.3,4391.25,4213.9,19.9,4916.4,1597.05,524.35,711.95,806.95,1837.9,7344.45,1500.25,2283.15,755.4,5299.65,5042.75,505.95,2789.7,349.8,1067.05,6065.3,144.95,2308.6,3255.35,4136.4,3848.0,173.15,781.25,3670.5,1381.2,3645.5,1158.85,6954.15,1672.1,5430.65,849.9,151.75,299.4,1389.6,3767.4,3641.5,2535.55,44.55,223.75,7751.7,4385.05,2606.35,5969.3,227.35,554.25,5597.65,1215.8,3656.25,52.0,389.25,1873.7,1385.85,548.8,2536.55,6042.7,958.25,459.6,201.95,285.2,3496.3,301.55,2960.1,6953.4,116.85,5321.25,4156.8,223.6,2157.5,1391.65,1379.8,810.45,1810.85,7624.2,355.1,1057.55,19.4,1388.75,185.2,2835.9,45.15,5437.1,1267.95,3674.95,1275.6,5893.9,1536.75,607.3,4154.55,1923.5,1493.2,1031.4,921.3,3875.4,144.15,6689.0,2847.2,452.35,41.85,1272.05,150.75,5844.65,2462.6,7881.2,2320.8,370.5,3043.7,2723.4,1081.25,632.2,8166.8,4113.7,4193.4,3729.75,399.45,1336.15,486.05,4747.2,1028.9,19.75,6779.05,4345.0,82.85,1123.65,43.15,35.1,1388.0,2638.1,1114.85,74.35,404.35,4124.65,19.65,505.95,393.15,1147.0,5718.2,4539.6,5711.05,3478.15,4133.95,2198.3,1914.5,7238.6,7998.8,5703.25,7397.0,3382.3,780.85,1614.7,270.15,1734.5,7047.5,573.15,4459.8,4228.55,1406.9,1857.3,6725.5,4192.15,1411.2,264.55,2227.8,2989.6,4070.95,6000.1,1337.5,7181.95,5953.0,2531.4,4760.3,953.65,5705.05,6993.65,4122.65,5762.95,5566.4,5431.9,2258.25,1092.35,6401.25,616.9,3460.3,5555.3,1278.8,4504.9,2316.85,8075.35,7251.9,2078.55,6225.4,599.25,3462.1,2813.05,6314.35,1593.1,3187.65,3330.1,89.35,978.6,84.75,3996.8,5215.1,673.2,5222.35,4415.75,5270.6,253.0,3649.6,255.6,5083.55,644.5,989.05,2406.1,191.1,4524.05,4664.2,4014.2,1288.0,6375.8,1505.45,913.3,5535.8,5602.25,741.5,3096.9,2613.4,5661.7,695.05,4236.6,54.5,962.9,1498.35,148.05,3930.55,6856.95,2658.8,129.55,581.7,929.45,3846.75,1553.2,5311.85,6435.25,1993.25,84.6,5986.55,651.5,45.4,321.05,1748.55,368.85,1654.7,501.2,6140.85,48.45,309.25,4589.85,477.55,1342.15,7578.05,6056.9,689.35,2025.1,4657.95,5883.85,1043.8,1298.7,1378.75,384.25,8543.25,389.95,4275.75,84.5,5166.2,4060.55,3532.85,775.6,833.55,1183.05,501.35,4126.35,1849.95,61.05,1698.55,998.1,1383.6,701.05,5749.8,2796.45,5165.7,2076.05,1859.5,469.85,733.95,1178.75,403.15,3168.0,1096.6,669.45,48.6,3471.1,3314.15,91.4,3949.15,1554.9,3472.05,3210.35,2106.3,35.0,1758.9,5737.6,1155.6,1564.4,84.4,864.85,228.75,7752.05,470.6,494.05,3416.85,1498.65,471.35,1041.8,7689.8,1815.0,199.45,1326.35,935.9,735.9,1445.2,1992.55,5890.0,1029.8,454.05,1049.6,734.6,1978.65,229.7,1347.15,3808.2,7661.8,2479.25,266.6,1982.6,20.3,2383.6,1438.05,6096.45,99.95,475.2,2036.55,2768.65,1345.65,2077.95,1663.5,514.6,122.7,8250.0,1763.55,2419.0,470.2,1709.1,6914.95,602.9,96.8,2961.4,995.35,154.8,257.6,5757.2,3836.3,720.1,2832.75,472.25,1336.35,6388.65,1165.6,921.55,72.0,44.0,4295.35,1380.4,4386.2,2727.3,263.65,275.4,948.9,5897.4,2341.5,800.3,466.6,6838.6,4297.6,2274.1,8192.6,2006.1,2078.95,487.05,1311.6,6185.15,756.4,1267.2,5567.45,3085.35,3541.4,84.2,641.35,4959.15,35.9,3024.15,2724.25,3847.6,1387.35,746.05,1098.85,4368.95,20.35,552.65,24.9,6506.15,5598.3,683.75,5189.75,5060.9,233.65,3263.9,1993.2,254.5,347.65,967.9,1841.9,232.1,355.9,129.15,5835.5,109.6,727.8,893.0,763.1,781.4,1016.7,3126.45,1070.15,340.4,4299.2,1630.4,713.6,1265.65,4003.85,1401.4,251.25,1595.5,685.55,3874.1,6891.4,4916.95,1373.0,6849.75,3263.6,70.2,1810.55,7467.55,5484.4,97.5,101.65,1130.85,3532.25,6891.45,7854.9,3581.4,727.85,159.35,280.85,3274.35,6109.65,1122.4,3795.45,3579.15,890.35,58.0,3623.95,3877.95,4577.9,25.85,7711.45,2193.65,38.25,3348.1,2907.55,1620.8,19.4,5348.65,1031.1,6471.85,2421.75,1294.6,1299.1,5733.4,1222.65,374.8,7234.8,1266.35,387.7,4113.15,20.05,7658.3,5959.3,4693.2,3603.45,6875.35,19.25,2564.95,5611.75,45.75,450.4,4442.75,1423.15,74.2,450.65,1175.85,558.8,335.95,7188.5,926.25,1119.35,2341.55,163.6,4786.1,1027.25,1580.1,7222.75,4233.95,1680.25,3725.5,7707.7,601.55,139.25,1888.25,2773.9,5409.75,401.3,3238.4,1985.15,4335.2,647.5,2748.7,6367.2,4904.2,2044.95,7039.05,921.4,5448.6,118.25,1815.65,730.4,5860.7,7279.35,5886.85,418.3,136.05,708.2,4378.8,553.0,1482.3,184.4,1861.1,1079.65,3069.45,469.25,3301.05,4144.9,4265.0,3246.45,6176.6,1905.4,931.9,5243.05,7679.65,2540.1,1524.85,1784.5,2029.05,275.9,1191.4,5589.45,467.7,3756.45,3334.9,920.5,3431.75,150.35,550.1,3190.65,3533.6,1286.0,5811.8,124.45,1375.6,6640.7,718.1,320.4,5703.0,786.5,770.4,6816.95,2419.55,4630.2,3221.25,355.1,428.45,1505.35,693.45,1679.65,369.6,5206.55,1959.5,2053.05,398.55,3425.35,6109.75,3751.15,105.5,3320.6,5669.5,162.15,110.05,1885.15,2264.5,816.8,1253.5,41.2,693.3,3824.2,3886.05,7283.25,412.55,1070.25,817.95,1171.3,625.65,1911.5,4166.35,3915.4,63.15,3887.85,238.15,958.15,1267.0,633.45,6129.65,676.15,239.05,39.8,5574.35,406.05,123.65,1801.1,790.7,1618.2,900.9,3784.0,1798.65,54.65,3886.45,2310.2,3988.5,3554.6,0.0,6034.85,85.1,2511.95,3893.6,357.15,2288.7,402.6,2221.55,224.5,7388.45,1700.9,3090.65,1293.8,5224.95,2427.1,1035.7,6256.2,19.9,1937.4,3023.65,4889.2,990.3,3902.45,7142.5,805.2,528.45,8349.7,470.2,2259.35,6328.7,6841.4,1958.95,552.1,3815.4,1673.4,8670.1,299.75,19.65,4819.75,1567.0,531.15,1183.2,465.85,1790.35,4600.95,886.7,7737.55,1686.85,1879.25,7195.35,780.1,3778.1,5438.95,213.35,5386.5,235.65,201.7,1146.05,1806.35,603.0,1082.8,147.8,2882.25,1509.9,7985.9,2985.25,564.35,5025.8,5224.5,6185.8,1498.55,1208.6,6613.65,1818.9,1787.35,1051.05,7181.25,3688.6,821.6,239.45,129.6,4977.2,2038.7,4014.0,2751.0,383.65,53.55,1087.7,7493.05,6841.3,6052.25,3833.95,471.7,7245.9,961.4,4615.9,3880.05,3088.75,2108.35,4730.6,232.55,523.1,246.7,3342.0,3930.6,2780.6,5895.45,4871.45,4947.55,1558.65,4284.2,5617.95,554.45,5237.4,2032.3,3726.15,1652.1,1588.75,993.15,2093.4,1011.8,1343.4,6794.75,5150.55,3756.4,49.95,1020.75,826.0,6479.4,1679.4,4326.25,263.05,39.25,743.3,1419.4,7362.9,346.45],\"yaxis\":\"y\",\"type\":\"scattergl\"},{\"hovertemplate\":\"Churn=No\\u003cbr\\u003eGender=Male\\u003cbr\\u003eMonthlyCharges=%{x}\\u003cbr\\u003eTotalCharges=%{y}\\u003cbr\\u003eTenure=%{marker.size}\\u003cextra\\u003e\\u003c\\u002fextra\\u003e\",\"legendgroup\":\"No, Male\",\"marker\":{\"color\":\"#636efa\",\"size\":[34,45,22,62,13,16,58,25,71,12,49,72,2,1,1,10,2,52,66,60,72,47,10,1,64,62,30,9,29,30,1,66,72,71,52,1,38,5,43,72,3,27,33,72,1,71,67,57,64,71,3,30,15,62,22,16,10,53,69,72,43,14,61,33,20,3,43,59,24,59,72,1,71,13,44,72,64,61,23,72,66,65,1,24,30,54,50,18,16,72,4,41,42,32,10,50,57,50,57,20,21,14,35,23,1,35,40,23,4,38,52,29,38,48,51,71,35,1,69,46,63,37,17,64,42,5,58,18,23,71,72,33,24,37,1,17,72,48,44,1,27,33,33,20,72,60,32,51,70,29,44,52,18,2,41,36,72,35,1,8,72,60,28,2,1,6,72,70,64,72,9,24,35,11,72,72,63,61,1,28,34,69,11,20,61,30,12,67,29,55,52,72,58,35,70,2,68,12,34,50,15,72,55,38,11,1,56,3,7,59,7,71,15,71,47,61,31,9,35,2,52,5,72,71,72,46,63,30,1,16,4,51,65,16,2,46,72,38,51,72,66,50,8,10,40,23,72,10,31,68,50,24,35,10,68,45,37,1,65,49,53,22,65,3,45,3,51,52,51,1,31,47,72,47,72,66,35,29,4,27,29,29,72,46,32,68,2,61,9,65,5,25,32,70,42,72,48,70,7,0,66,1,65,22,14,41,17,11,71,27,63,72,72,68,2,31,39,18,71,34,5,70,43,47,5,34,38,60,62,36,44,72,52,2,72,72,26,64,62,3,57,66,45,33,26,1,37,31,32,30,71,50,67,4,19,72,12,72,72,60,12,16,33,72,24,4,35,22,22,4,25,7,17,8,3,49,58,40,1,27,34,13,72,2,4,21,23,3,9,71,4,28,37,27,66,68,56,3,29,26,10,47,24,20,22,1,32,46,0,32,29,70,41,1,67,5,15,54,42,40,60,32,39,52,70,20,25,12,27,47,26,2,71,11,14,6,11,18,29,7,70,25,26,1,70,72,43,39,57,18,3,38,35,66,15,37,18,56,7,54,62,17,9,64,30,61,47,20,54,61,13,25,30,23,1,2,69,56,64,62,63,5,49,36,25,1,59,64,63,72,67,72,42,48,7,8,32,60,22,69,50,31,64,19,11,72,66,48,10,61,54,23,1,45,72,61,2,64,72,29,33,3,8,66,8,29,65,35,64,67,63,12,71,44,45,35,9,27,8,3,41,20,1,23,8,18,52,31,29,42,22,36,9,1,12,62,31,45,2,39,72,1,11,3,64,13,49,68,54,71,56,37,8,72,14,7,69,63,72,30,63,25,6,22,26,12,39,4,72,11,1,47,21,42,48,17,4,48,27,46,69,65,72,17,51,51,34,67,53,27,69,20,11,68,38,63,66,72,37,60,17,58,1,35,68,47,14,66,72,6,7,56,72,23,27,12,7,70,60,39,72,54,71,47,11,69,30,52,68,8,72,3,30,31,64,61,1,72,40,16,67,52,27,62,54,20,50,58,35,63,71,1,65,72,72,60,68,54,42,72,35,1,22,7,72,36,17,1,12,1,72,60,72,65,42,8,32,1,54,45,59,69,19,46,71,6,48,1,72,1,72,47,72,3,26,29,27,24,67,14,4,16,68,38,17,4,72,3,40,69,7,44,24,24,22,70,25,37,1,3,1,20,1,63,3,46,1,55,67,14,24,23,8,66,24,72,21,31,10,14,27,45,22,67,54,70,53,13,38,52,62,12,71,2,41,1,71,7,16,7,3,45,51,72,37,71,51,64,65,47,39,14,56,16,70,72,21,72,10,9,2,69,18,11,55,33,34,30,45,40,46,1,31,1,41,42,23,15,12,16,30,3,11,18,6,21,68,51,28,70,4,67,72,53,71,56,2,46,71,69,71,56,56,66,52,72,34,8,10,20,72,38,33,58,4,45,36,54,23,5,27,44,30,11,72,72,56,70,52,1,30,72,3,8,72,1,69,71,67,34,71,57,72,18,43,35,4,11,63,28,16,5,72,8,61,72,8,3,9,67,46,33,62,49,1,14,18,64,69,71,2,11,47,60,11,21,48,5,71,8,20,71,11,6,28,60,7,27,10,4,68,1,26,59,30,9,17,32,7,11,47,57,50,8,1,8,60,49,67,69,3,4,56,61,12,24,39,18,27,41,50,72,44,71,29,52,24,2,53,72,72,67,69,72,34,35,8,2,2,45,3,72,66,15,48,10,27,71,25,18,71,28,17,56,63,63,22,56,35,1,13,62,33,66,63,27,42,30,71,46,69,28,72,8,52,2,1,41,8,1,41,62,32,21,62,27,49,11,52,64,66,67,7,34,3,3,46,5,1,26,25,64,30,13,24,6,10,7,38,27,72,71,57,4,55,58,7,2,37,68,53,39,63,15,1,1,60,40,42,49,3,24,60,66,17,42,1,70,67,1,4,26,57,19,22,12,68,67,58,1,13,43,71,12,32,52,32,51,68,8,49,54,1,68,40,31,55,68,71,40,53,72,46,40,12,9,49,4,20,51,27,12,24,59,3,72,3,19,1,24,57,67,52,71,72,1,12,1,62,2,19,9,27,1,38,54,44,59,67,33,5,72,9,67,17,67,32,72,1,37,65,50,25,25,24,1,51,47,71,45,2,51,60,9,17,46,28,11,2,9,26,56,72,36,5,44,68,16,68,4,5,70,24,1,70,14,13,6,17,15,29,3,14,19,39,31,24,14,52,28,58,72,34,66,12,58,40,1,40,48,40,51,41,68,70,3,2,3,7,12,53,63,36,4,16,65,16,5,10,11,17,17,61,22,1,47,24,65,13,23,55,49,60,40,67,68,69,38,1,1,66,63,18,66,0,12,12,40,23,12,27,21,57,19,31,52,57,68,72,72,1,56,4,62,26,62,18,2,12,54,69,53,61,2,25,29,40,36,39,70,65,1,37,4,72,1,8,65,65,70,19,47,9,44,2,25,44,66,68,9,19,4,1,53,51,11,60,17,1,43,37,2,64,25,71,29,72,71,70,71,61,68,62,6,28,27,7,30,63,17,16,59,40,63,40,8,34,9,31,25,1,38,34,41,21,55,69,47,33,37,23,9,17,72,39,39,8,71,71,38,49,67,7,4,71,22,44,30,16,71,43,50,9,26,69,11,1,10,44,69,11,29,28,23,62,67,62,2,35,24,72,26,48,60,55,1,1,3,15,72,52,43,3,55,29,27,9,6,8,12,43,42,1,10,50,1,2,17,69,72,50,46,72,72,4,0,12,64,10,51,1,46,53,61,5,47,19,70,17,50,9,22,71,26,71,4,13,42,56,67,53,34,19,11,72,39,2,71,67,11,50,9,9,19,7,1,70,17,29,63,59,72,1,42,45,37,63,3,66,71,16,66,51,14,24,42,45,72,72,72,55,63,72,42,72,63,68,67,8,52,7,59,46,5,59,58,11,54,54,56,68,55,9,53,70,1,3,64,50,6,7,72,8,33,70,36,53,63,35,26,53,34,43,6,56,34,56,47,24,21,71,7,65,27,1,11,39,26,2,65,72,6,32,61,72,61,18,21,68,12,1,62,23,10,10,5,21,69,44,72,72,14,7,55,1,45,3,8,69,71,57,56,46,63,68,69,63,22,42,57,35,45,25,64,50,4,45,9,67,10,66,51,40,25,72,33,69,56,65,71,40,1,71,31,5,38,5,69,33,64,59,13,31,29,63,24,36,13,1,71,66,63,21,1,30,22,1,19,70,24,8,71,66,66,27,34,30,33,14,37,17,60,51,28,43,42,68,45,4,22,18,29,31,50,7,68,57,19,42,67,1,66,4,1,54,3,60,61,37,72,17,72,30,10,32,13,9,1,17,1,41,62,56,72,20,19,53,6,9,68,34,26,7,72,4,16,31,58,70,69,18,18,56,45,3,65,63,1,55,25,7,21,4,72,52,69,60,22,44,71,26,3,13,4,2,72,42,22,51,13,26,19,18,24,31,52,13,72,21,54,1,6,49,32,50,58,38,64,60,46,31,19,12,44,72,56,64,35,22,9,23,68,33,31,66,72,34,37,1,71,35,62,9,53,5,72,59,3,49,2,72,38,52,67,64,56,72,72,22,54,32,67,65,69,20,7,41,69,18,64,57,63,13,57,71,34,16,48,58,31,50,28,72,44,47,53,4,20,57,24,15,51,72,14,51,70,64,62,30,63,15,27,45,1,16,10,20,29,2,13,18,47,19,7,13,72,66,24,71,51,72,62,6,25,66,23,71,14,71,72,6,23,9,20,20,20,19,22,39,56,18,9,33,44,1,23,15,67,53,21,39,8,49,71,35,17,66,46,29,57,71,2,55,71,50,1,5,66,11,28,65,41,17,72,9,23,8,19,61,15,54,4,72,12,30,1,29,60,72,9,59,3,38,37,72,72,0,1,61,72,12,7,9,58,2,9,41,68,55,19,72,12,71,35,70,30,54,55,69,37,9,69,10,13,46,70,1,46,33,43,13,1,43,56,49,37,24,5,44,1,20,30,71,66,72,25,69,53,26,21,48,60,18,65,70,62,16,71,18,4,56,10,4,63,2,31,34,71,61,14,18,70,68,65,51,55,33,26,45,62,67,60,34,64,25,10,33,24,20,52,69,1,54,33,45,6,21,43,60,17,35,1,70,18,70,71,1,59,45,51,44,2,68,21,71,22,21,4,70,21,20,22,61,1,35,72,61,70,70,51,48,25,13,31,6,17,10,15,68,2,11,72,40,62,7,3,58,6,64,6,39,64,39,70,65,1,18,24,63,4,34,35,43,4,3,1,40,45,43,41,5,72,4,9,72,15,29,72,1,49,2,69,58,67,19,72,1,18,67,69,72,40,32,69,2,15,22,16,30,57,44,69,5,58,72,72,53,46,63,14,72,39,19,34,19,57,72,61,48,16,65,60,66,34,31,30,19,6,53,7,35,72,63,62,35,3,44,3,33,23,17,59,10,12,71,71,67,52,1,1,6,7,25,69,4,59,67,72,62,20,6,51,62,13,34,18,56,70,1,1,20,72,11,16,22,36,5,66,64,10,29,57,53,15,11,12,36,2,72,62,48,35,52,60,23,39,15,24,5,33,35,4,63,13,61,16,19,11,59,7,59,61,72,1,64,36,61,26,68,57,4,72,21,16,1,18,21,8,69,72,6,65,52,2,6,71,67,3,50,23,32,60,2,7,45,4,47,35,32,61,72,44,41,50,8,18,72,69,25,13,52,61,29,15,44,58,62,10,26,66,51,72,65,70,72,3,58,33,54,72,54,54,60,3,50,69,60,62,44,27,54,57,62,6,4,26,2,39,21,46,71,63,12,54,28,47,68,57,1,23,47,38,15,3,42,10,10,55,27,70,67,4,44,66,65,1,38,23,72,70,38,26,54,72,52,43,2,40,67,31,69,32,52,52,41,67,17,35,52,4,58,60,1,66,15,59,17,6,51,49,59,50,18,10,14,35,8,18,53,72,13,37,64,26,24,17,52,1,70,56,11,15,72,63,55,70,63,28,1,24,68,31,18,23,9,5,61,70,15,8,68,70,72,64,26,14,71,64,72,14,2,5,29,71,9,26,64,16,25,24,69,57,50,28,25,61,51,6,36,48,72,43,27,7,19,69,43,72,37,8,5,40,72,28,18,22,50,28,68,13,72,70,46,68,15,27,67,1,4,52,10,68,70,43,52,0,42,22,27,51,1,71,14,57,48,31,57,3,29,13,35,25,72,43,27,43,5,6,39,72,72,27,4,60,8,35,67,6,1,5,13,29,1,30,66,38,44,2,58,67,49,3,53,54,62,22,51,35,30,70,9,44,54,27,54,3,15,5,48,58,10,71,35,68,3,68,32,49,15,67,9,9,50,24,1,31,37,36,71,57,26,38,23,72,41,34,12,72,44,13,55,38,19,24,66],\"sizemode\":\"area\",\"sizeref\":0.18,\"symbol\":\"diamond\"},\"mode\":\"markers\",\"name\":\"No, Male\",\"showlegend\":true,\"x\":[56.95,42.3,89.1,56.15,49.95,18.95,100.35,105.5,106.7,19.8,59.6,90.25,95.5,20.2,45.25,49.55,49.25,79.75,108.45,89.9,42.1,78.9,79.85,49.05,111.6,24.25,74.75,99.3,33.75,82.05,74.7,84.0,100.9,66.85,21.0,20.2,95.0,24.3,94.35,19.4,89.85,85.2,88.95,23.55,19.75,56.45,50.55,19.6,84.3,23.95,19.6,64.5,69.5,86.1,20.15,64.25,25.7,73.9,19.9,89.05,84.25,81.95,20.55,74.75,51.8,30.4,71.9,19.3,24.1,111.35,112.25,20.75,105.55,78.3,68.85,55.45,102.45,19.75,86.8,45.25,56.6,84.2,20.2,50.6,89.9,108.0,93.5,73.15,19.75,109.2,75.35,65.0,99.0,83.7,19.85,114.35,89.85,24.9,59.75,107.05,64.95,55.0,61.2,86.8,20.25,100.8,74.55,64.9,90.4,81.85,24.8,75.55,101.15,78.75,110.05,19.9,91.5,44.8,60.05,94.9,20.5,62.8,44.6,105.25,97.1,20.2,50.3,75.9,59.95,98.65,112.6,20.6,35.75,96.1,25.35,86.75,64.8,108.1,90.4,44.0,84.8,109.9,54.6,19.7,19.8,95.4,93.95,87.35,98.7,100.55,25.7,105.1,75.6,53.45,19.75,20.85,114.05,89.85,55.05,94.75,105.5,60.2,92.9,20.0,75.1,19.65,116.05,40.05,102.1,89.7,70.05,53.6,76.05,19.65,84.5,88.6,104.8,64.05,20.4,60.9,116.25,79.45,78.0,94.3,106.45,95.0,20.05,105.4,51.6,85.5,91.25,115.75,94.7,19.6,20.05,79.95,107.15,89.55,78.95,101.9,19.75,110.3,19.35,70.6,70.2,49.3,107.25,23.6,69.7,99.5,64.3,70.85,101.9,73.5,59.6,81.05,98.05,70.5,94.55,19.65,63.25,20.1,99.15,90.4,111.9,24.9,83.5,84.3,45.6,54.85,65.55,90.35,20.4,74.55,19.95,108.65,86.65,81.0,47.85,114.55,20.55,69.5,25.25,34.55,85.05,84.25,89.85,20.35,99.45,25.4,69.65,70.0,20.1,95.1,88.85,78.8,20.35,20.05,69.55,30.2,25.55,24.85,110.35,107.95,81.4,64.4,24.6,30.1,83.4,20.45,75.25,20.55,85.15,84.95,66.5,63.3,83.15,84.9,49.25,104.65,75.3,80.1,25.4,89.15,85.65,80.35,20.2,20.55,21.25,74.2,20.35,75.5,50.6,101.0,79.35,114.95,19.25,80.15,71.35,20.25,19.7,20.8,19.9,78.85,20.4,74.25,64.8,20.45,73.35,54.75,40.6,55.3,69.65,76.9,64.2,81.7,23.8,55.2,108.55,30.4,20.05,88.0,79.15,103.1,63.95,44.85,25.05,93.25,71.4,79.2,20.4,92.0,85.15,24.85,86.05,64.8,19.8,93.4,39.0,26.4,97.55,19.95,99.7,54.65,19.3,20.05,91.2,89.3,81.1,94.3,116.1,94.4,81.35,56.4,65.35,106.1,20.05,25.2,65.55,24.15,20.45,75.4,80.6,19.3,79.85,20.5,20.5,55.1,95.1,56.75,81.75,29.8,20.5,60.9,20.85,93.85,70.1,19.6,19.75,19.15,19.6,20.0,20.7,70.3,69.55,20.0,20.75,50.15,95.9,80.1,40.05,54.35,70.35,71.6,25.1,114.7,80.9,50.25,19.8,20.05,62.25,19.65,89.25,54.0,56.75,21.1,20.05,98.85,25.75,87.65,75.35,64.95,68.5,80.55,89.55,55.7,24.8,105.2,19.55,50.15,39.6,98.85,53.85,89.45,59.5,70.55,61.6,49.05,19.4,86.05,19.15,19.25,19.8,65.15,19.65,20.2,75.2,56.8,35.6,54.85,76.1,19.9,51.55,19.65,44.05,114.0,94.3,49.8,53.75,87.9,85.7,104.85,69.15,85.25,19.45,104.5,25.55,93.15,69.55,20.4,23.75,65.75,24.6,69.25,90.4,75.35,87.2,64.4,105.85,98.3,19.45,20.15,64.5,90.45,19.45,50.3,95.2,94.8,76.1,115.55,24.65,19.45,88.2,60.7,20.95,62.8,19.85,19.55,68.8,84.45,111.2,110.6,45.1,70.95,19.95,66.7,94.8,65.85,56.25,23.95,35.4,20.4,73.05,19.95,20.45,60.95,20.35,111.45,70.15,82.15,84.4,95.3,19.85,84.35,82.3,98.45,70.7,86.55,24.3,85.8,20.1,19.95,66.25,25.3,44.55,101.45,94.55,95.5,100.3,89.55,19.15,74.15,92.0,73.85,24.45,20.75,68.95,49.0,19.9,55.8,111.15,98.55,50.05,20.85,19.35,69.5,48.8,94.5,20.65,108.3,95.9,20.0,64.95,74.6,49.2,92.3,88.65,95.95,20.25,35.55,65.1,51.25,79.5,20.25,94.25,19.95,55.35,54.1,19.65,80.4,100.55,67.45,43.55,21.0,19.6,64.2,75.75,80.3,19.85,50.0,104.75,85.9,80.8,25.25,20.9,67.25,45.05,69.35,75.4,111.4,20.05,96.1,36.0,80.45,26.3,21.1,18.85,96.9,19.55,94.65,95.75,19.55,104.1,20.1,111.55,60.5,19.7,50.95,19.4,59.45,81.5,59.2,75.9,70.95,102.6,59.0,29.45,87.1,90.35,80.95,34.4,20.75,18.8,25.6,70.8,25.4,24.8,103.15,72.1,25.4,45.75,24.45,85.25,19.6,70.55,26.4,58.85,97.55,19.65,25.25,114.45,70.7,84.8,20.45,35.65,97.65,69.1,61.35,76.75,54.75,19.7,107.95,49.9,71.05,89.45,99.0,19.05,114.45,20.4,71.4,24.85,110.75,48.7,74.3,79.95,19.4,54.9,24.45,89.65,75.7,93.25,48.75,109.05,25.0,24.75,104.35,92.2,30.4,69.4,24.75,26.2,43.85,69.7,38.55,64.45,25.1,96.65,75.5,19.7,19.2,98.35,74.35,20.3,90.65,25.05,74.85,20.5,47.95,90.05,75.95,66.4,35.75,18.8,20.1,19.45,25.1,99.0,44.05,24.1,45.55,114.1,95.2,88.55,20.75,44.65,60.2,55.45,70.3,60.4,31.1,50.95,69.1,86.5,69.95,90.95,19.9,90.6,92.0,36.0,19.95,20.65,20.5,51.1,54.95,20.45,85.95,60.35,19.8,81.05,20.5,20.2,19.7,21.05,71.5,54.65,19.2,49.8,90.4,104.6,50.2,84.85,99.95,70.7,54.8,54.8,80.8,19.6,90.7,95.25,19.95,80.85,78.75,19.6,67.85,45.2,79.25,85.7,61.8,20.4,75.4,108.15,95.7,105.75,60.95,60.3,74.3,90.55,19.45,69.65,19.5,77.4,108.45,81.0,86.65,92.95,90.35,76.4,24.8,103.15,100.75,19.35,19.9,101.05,55.85,106.05,84.1,24.7,79.55,24.8,94.05,90.75,99.5,80.55,70.2,59.45,93.35,26.1,21.25,95.0,61.9,20.2,20.45,80.45,44.45,74.55,48.15,19.65,91.0,25.4,20.15,74.85,50.5,72.9,19.0,19.55,84.1,24.15,106.8,96.6,101.1,86.05,19.4,102.65,19.9,95.5,103.2,50.2,19.95,116.25,24.45,84.2,85.65,21.2,63.85,25.75,104.9,99.85,19.55,19.5,89.95,79.35,101.15,39.1,19.55,70.5,20.35,19.45,69.9,59.7,71.45,45.85,24.85,54.45,69.35,74.4,93.05,52.7,114.95,104.45,49.85,19.8,25.1,55.9,64.4,85.95,45.2,79.2,91.25,100.9,97.7,104.65,90.45,63.7,20.1,104.3,73.45,20.7,90.6,89.4,64.4,85.05,55.8,19.95,24.4,33.6,90.45,19.7,80.35,19.6,54.2,45.2,72.75,20.05,39.2,44.75,82.65,93.9,99.25,112.55,90.3,19.4,61.25,55.3,103.75,19.5,26.05,91.05,105.3,85.45,59.25,90.7,79.05,54.55,19.7,60.0,84.95,49.65,100.5,35.75,38.55,39.9,70.05,20.3,82.95,55.65,50.8,19.9,19.45,74.9,59.65,24.55,90.65,105.05,20.45,70.45,85.65,20.55,97.95,70.9,84.7,86.05,44.55,75.85,25.0,20.5,60.45,100.55,20.05,53.8,70.2,75.5,20.35,20.6,24.5,90.1,19.2,99.65,91.45,78.75,19.9,97.75,50.9,107.2,113.4,40.55,72.1,69.95,20.05,19.2,84.55,45.45,115.55,50.55,19.35,20.15,20.0,20.05,109.6,19.9,68.35,79.1,51.0,66.7,86.4,84.65,25.25,94.95,81.8,59.6,55.55,52.1,94.95,93.55,79.5,105.4,20.1,20.7,19.7,85.45,40.4,105.2,91.0,19.3,19.65,81.4,19.85,44.0,53.95,29.35,20.45,25.25,43.7,18.95,20.5,19.95,20.6,106.65,20.25,72.95,104.65,68.75,111.05,19.4,77.2,19.45,41.35,19.6,20.25,19.65,20.65,99.3,81.05,67.6,70.15,29.1,50.05,20.0,44.4,85.4,56.2,26.1,85.45,74.35,80.1,19.1,86.1,19.45,97.1,36.65,24.55,24.05,20.45,19.25,26.35,50.15,20.45,61.4,70.75,20.25,98.7,25.1,56.25,99.0,85.9,70.35,19.35,50.15,88.55,101.4,44.6,63.75,85.75,107.95,19.7,87.0,79.95,25.75,116.1,50.0,20.45,19.95,26.45,53.95,35.5,93.5,63.9,64.85,44.45,19.95,43.35,49.65,89.8,69.9,95.1,40.25,25.75,113.6,24.0,86.1,102.65,97.75,97.95,19.95,24.6,50.95,75.6,90.4,20.2,64.15,99.0,100.75,53.75,58.35,113.75,90.4,65.25,60.65,24.1,19.5,85.95,53.5,20.5,20.85,89.9,109.65,19.2,34.0,20.4,38.6,74.75,20.6,20.4,81.7,25.0,80.45,65.65,89.2,86.75,25.1,34.05,19.95,89.7,20.4,26.3,19.45,49.35,20.35,64.45,49.9,55.05,104.1,70.5,19.6,38.1,34.25,45.8,96.4,90.5,105.7,53.3,24.3,59.9,23.95,20.15,95.65,81.0,54.4,84.8,20.4,74.05,49.15,25.95,100.55,95.4,75.15,19.5,19.5,69.95,82.85,19.0,20.35,95.0,74.4,74.3,51.05,76.45,72.8,18.95,25.65,75.1,19.85,94.85,19.35,69.6,90.7,101.4,20.25,48.8,68.75,100.2,45.0,48.9,89.85,54.65,29.35,19.15,106.0,55.25,20.4,70.55,80.0,79.6,80.25,79.6,77.3,29.75,44.9,29.8,20.75,56.3,105.25,19.55,53.65,29.9,55.3,19.85,49.45,20.45,54.5,20.55,62.1,101.8,84.9,93.2,24.4,20.05,74.8,24.8,20.0,57.2,58.6,94.8,102.5,84.9,69.2,117.2,109.95,94.75,20.3,19.2,107.35,70.8,59.1,95.3,19.85,19.35,25.0,62.05,20.9,85.05,53.45,19.95,57.5,19.65,93.8,89.25,104.9,25.05,84.45,25.55,70.6,19.95,19.0,107.6,61.55,90.7,84.3,59.5,69.85,109.55,92.15,95.95,107.75,71.3,19.5,98.8,98.15,35.35,81.4,104.8,70.95,44.95,91.15,45.9,25.1,19.7,51.3,85.75,100.75,19.85,45.0,94.8,59.9,70.95,46.6,74.3,54.0,104.25,19.95,24.95,84.75,19.75,44.9,24.6,25.0,20.95,110.6,55.5,19.45,84.85,19.8,74.2,109.2,53.65,100.2,55.35,105.6,83.2,90.05,97.65,68.05,102.1,23.4,19.45,92.2,19.85,43.9,90.5,90.45,19.95,20.5,51.7,81.2,74.5,60.3,75.0,90.15,69.05,59.7,95.7,46.3,19.6,49.8,99.65,73.7,50.05,60.25,54.25,50.0,72.25,55.3,69.5,25.15,113.8,25.0,81.9,69.7,25.35,24.65,60.0,49.8,109.9,35.5,50.8,99.0,59.75,111.5,70.4,84.9,54.5,75.35,44.45,20.1,84.3,19.9,20.4,50.75,20.45,65.4,59.75,78.5,48.95,18.25,40.65,24.8,88.8,20.05,69.8,49.2,24.6,104.9,75.5,78.9,109.45,59.2,29.15,20.05,73.6,49.0,110.9,80.85,56.35,50.4,55.25,19.1,75.75,19.85,69.1,54.75,81.45,80.2,100.3,20.0,79.85,20.15,44.55,54.45,19.65,105.0,88.7,75.15,30.75,112.9,78.85,55.3,25.35,74.75,25.65,20.0,83.25,19.65,72.8,65.0,114.1,20.65,86.95,25.35,25.4,102.55,98.25,103.1,100.65,116.05,82.0,65.15,44.8,19.3,56.1,24.15,111.3,80.6,20.8,89.95,19.55,24.8,19.9,69.95,86.4,94.65,34.7,44.8,19.7,68.25,25.15,20.25,44.0,79.15,94.8,45.9,102.6,61.35,107.7,69.95,63.7,50.9,79.25,110.1,90.7,25.3,24.35,54.55,96.6,81.15,92.9,20.75,54.5,109.75,80.85,67.8,19.8,25.7,86.7,64.95,19.8,114.3,109.2,84.65,60.05,44.65,93.25,94.1,34.8,60.75,51.35,64.05,98.9,60.25,46.2,63.35,64.65,99.55,74.0,79.55,46.3,99.35,74.0,82.3,99.15,19.8,59.15,44.75,90.8,49.55,19.45,67.95,20.35,77.4,99.7,19.15,78.95,62.85,71.55,86.1,19.55,24.8,84.05,98.6,19.9,80.5,103.85,24.85,89.0,76.15,20.3,19.75,45.2,25.2,75.0,49.95,67.05,110.9,87.95,19.8,62.15,115.15,20.4,19.8,45.65,56.4,73.3,33.6,104.05,20.15,19.75,19.6,85.55,43.55,60.8,54.9,108.2,92.0,75.1,25.05,19.5,19.3,112.2,70.3,20.25,80.65,80.6,19.4,36.1,19.75,19.7,110.2,106.35,104.5,88.75,73.15,54.65,89.7,18.85,25.4,19.7,35.0,70.2,73.85,88.05,60.95,46.0,19.75,86.35,110.1,69.75,65.6,82.1,90.65,75.75,110.0,20.85,67.45,20.75,25.55,90.55,45.4,69.0,48.65,20.55,44.55,91.8,20.2,64.75,89.45,58.75,79.8,79.85,54.1,24.5,20.15,19.6,114.3,80.0,20.35,20.25,100.4,57.95,19.2,59.55,68.95,89.55,20.35,46.35,25.45,66.1,69.35,88.85,97.0,66.4,69.2,40.55,80.5,101.15,24.95,20.3,60.0,20.25,107.7,93.9,19.4,75.0,78.2,94.2,50.05,90.1,44.65,80.35,53.35,48.95,40.15,25.6,70.35,91.7,24.1,19.75,24.05,84.3,97.95,103.9,20.15,77.35,80.85,87.55,20.7,75.3,93.4,73.75,49.2,49.0,49.8,20.95,19.5,105.5,96.95,115.8,108.2,20.2,54.9,20.15,90.35,100.3,105.35,85.2,18.95,20.55,25.25,19.75,81.15,20.8,90.15,74.1,89.6,56.25,115.85,103.65,35.1,99.1,67.25,59.55,77.8,55.1,20.25,54.6,94.75,115.8,83.8,95.35,116.6,65.05,20.0,71.0,93.6,65.25,50.55,45.25,70.3,108.95,25.1,20.15,20.45,44.0,50.35,20.0,58.4,94.1,66.4,25.6,19.85,94.65,104.35,55.45,61.15,78.95,109.2,19.8,108.25,105.05,110.7,102.1,20.5,38.25,96.6,19.9,84.6,85.25,20.8,59.5,20.05,20.6,20.3,39.55,20.45,25.25,91.25,72.45,75.1,25.0,69.15,35.8,19.85,19.8,19.9,24.4,70.05,19.5,78.75,103.65,54.15,20.0,99.25,19.35,114.05,91.7,24.55,19.45,80.3,54.05,104.9,97.25,83.05,74.55,70.5,24.65,104.25,20.2,39.4,69.15,51.35,20.3,46.4,104.05,59.6,108.5,40.55,20.75,113.15,100.85,80.55,64.4,75.2,59.05,20.55,76.55,111.65,106.05,113.45,92.55,65.6,84.35,71.1,49.7,30.2,83.85,84.8,76.1,19.55,39.15,108.5,60.15,19.05,84.0,103.45,80.65,24.7,18.9,74.45,24.4,20.05,84.3,100.2,20.4,44.35,73.6,50.1,24.35,93.8,103.75,56.75,20.8,24.45,30.05,65.65,110.75,49.5,20.6,115.8,34.65,52.3,95.6,109.3,25.4,69.8,20.0,101.5,78.8,96.8,20.65,19.8,104.6,73.15,105.35,45.65,75.85,24.9,54.3,75.35,104.45,95.7,93.15,69.7,19.8,40.6,54.4,66.15,86.85,96.75,106.65,65.85,65.65,70.9,103.05,66.2,72.6,116.5,106.8,24.95,89.25,19.25,25.7,86.2,30.1,99.35,94.55,56.1,24.75,76.25,54.15,19.45,34.95,104.0,64.85,20.0,44.8,90.8,24.95,101.5,54.3,103.95,19.95,75.1,19.9,111.1,70.7,24.85,65.6,109.95,38.5,19.7,20.6,25.45,104.45,21.15,96.2,44.4,94.35,20.3,81.15,89.55,105.75,64.2,87.7,67.2,94.55,107.5,73.0,114.75,77.9,110.45,44.85,29.8,58.75,19.85,86.9,59.65,66.4,56.9,25.15,20.55,33.7,80.1,40.45,70.45,90.1,66.25,89.7,93.65,61.45,54.6,20.55,54.05,19.1,50.0,85.45,76.9,74.6,116.95,40.65,114.35,69.7,98.65,61.65,95.4,19.95,19.25,24.75,25.35,20.0,90.8,105.25,23.75,61.3,52.0,45.8,30.5,39.35,19.75,20.45,103.8,97.2,85.55,61.4,80.55,114.3,62.65,92.7,75.2,100.9,95.3,45.45,107.75,89.1,103.15,61.35,20.05,70.15,20.75,19.95,79.0,81.0,49.6,106.3,99.35,50.75,87.1,20.15,98.7,55.7,65.35,24.25,60.5,25.1,20.05,20.2,25.15,101.3,76.95,86.7,55.7,64.65,54.65,23.95,59.85,20.05,44.8,80.35,115.05,19.95,86.55,42.4,24.25,20.5,19.6,20.25,94.15,20.65,55.25,82.15,79.8,74.8,78.35,19.1,19.95,19.15,19.75,75.5,80.25,70.8,60.2,55.2,85.5,20.75,20.35,104.8,51.1,89.8,74.85,25.0,20.3,26.35,90.25,20.65,25.45,66.15,59.8,105.35,25.1,49.75,94.75,93.0,71.9,19.85,25.05,53.15,100.55,19.7,69.6,19.75,80.8,19.2,90.65,20.0,74.65,61.2,19.95,54.8,73.45,85.3,79.3,25.4,19.65,81.35,55.3,56.55,80.65,19.8,87.3,89.4,20.05,83.25,102.9,39.1,114.5,55.8,72.8,26.0,19.9,96.5,20.3,91.55,105.7,93.75,90.65,81.95,65.6,82.5,82.3,68.15,20.2,20.2,102.4,55.5,109.75,106.4,88.8,75.55,66.4,18.8,108.4,80.9,111.8,20.6,105.1,59.8,79.85,90.05,59.95,25.35,34.3,19.15,71.85,75.4,81.6,103.95,19.95,96.1,19.25,19.65,19.35,21.2,61.05,24.35,50.3,50.25,51.65,24.0,25.45,23.9,75.7,91.6,85.0,44.3,60.9,34.2,54.3,19.1,19.95,19.5,65.55,105.25,20.65,68.7,78.65,24.75,89.1,59.9,108.9,33.6,85.85,84.6,24.7,50.7,55.0,68.4,55.05,80.75,78.65,63.7,89.15,20.0,104.4,20.05,34.3,20.65,19.65,19.8,79.15,21.05,94.7,74.95,111.95,19.85,20.05,108.95,19.65,71.75,30.35,54.85,19.5,24.2,56.15,20.35,25.45,94.9,109.4,65.85,99.4,20.0,61.55,45.9,25.0,35.3,76.75,81.0,105.55,49.8,24.4,95.0,69.9,39.95,103.25,20.55,19.65,81.0,75.9,19.75,19.95,25.15,75.3,66.65,19.3,118.2,59.45,93.55,39.9,24.9,44.7,114.0,83.85,20.2,20.35,90.0,91.05,20.95,19.65,74.35,75.15,70.65,90.05,91.0,90.8,99.9,88.7,54.3,55.7,103.95,20.15,20.05,91.95,110.05,25.5,25.15,95.65,80.8,24.85,50.75,20.05,71.6,81.45,53.7,19.6,89.4,84.2,106.1,25.75,64.95,85.45,20.7,25.3,100.6,74.0,99.4,99.05,65.3,89.55,74.5,39.45,110.55,76.95,20.45,100.1,85.9,61.0,86.9,69.4,20.6,19.55,54.55,79.45,100.0,19.6,80.0,116.3,25.25,21.05,24.95,91.25,40.3,105.25,74.3,20.25,96.9,104.1,20.1,68.6,20.05,94.4,54.95,98.9,79.4,25.85,48.4,105.05,19.5,92.95,19.35,104.35,19.55,74.05,40.1,83.55,106.15,78.95,92.4,65.25,116.6,109.3,19.2,70.1,25.25,43.9,79.3,84.9,79.25,53.75,44.25,20.15,69.35,19.15,61.0,50.2,90.65,89.85,79.0,19.55,116.25,87.75,44.3,44.45,49.15,29.45,85.3,69.1,70.35,74.15,75.05,44.6,21.45,43.45,20.05,64.15,109.55,97.0,90.6,73.55,19.4,19.75,54.6,103.05,20.3,60.35,59.8,60.9,59.65,64.7,91.35,20.5,20.35,36.1,105.8,24.4,51.15,41.95,54.35,19.65,19.8,73.8,20.05,106.2,116.55,99.7,19.7,90.8,72.95,84.3,103.5,59.45,20.05,82.55,81.25,109.7,66.6,44.5,80.1,69.05,19.7,50.1,86.65,60.05,78.75,55.55,20.1,53.65,20.75,103.4,50.8,79.0,96.5,19.4,19.85,18.55,23.55,92.3,29.3,20.35,23.5,20.85,92.45,44.15,109.75,94.3,76.15,96.55,89.6,106.3,100.35,85.6,51.1,99.4,85.45,95.9,100.75,25.75,84.1,20.05,72.95,19.65,50.35,20.8,20.35,55.9,79.2,24.0,101.35,79.4,35.2,19.65,61.9,79.9,89.75,19.4,93.65,19.9,72.9,19.75,55.7,19.85,20.65,79.75,29.9,45.0,44.8,109.95,20.8,108.4,19.55,69.05,91.25,90.35,20.4,100.45,69.85,25.85,81.3,20.7,79.05,19.6,20.2,88.4,79.7,19.3,55.75,19.95,89.65,45.85,83.55,65.7,94.9,61.9,20.0,92.85,19.95,74.6,89.85,61.1,46.0,80.4,100.05,94.0,69.0,44.5,114.6,85.5,19.55,89.4,19.7,79.85,74.45,18.8,64.4,55.8,99.15,56.75,104.15,89.2,20.0,19.1,101.05,36.25,19.9,19.8,64.55,86.25,102.6,43.05,49.7,24.2,25.0,40.2,93.6,100.55,89.55,35.75,95.1,19.3,63.1,89.2,85.2,19.2,104.95,84.8,73.35,60.0,69.5,78.7,84.8,105.65],\"xaxis\":\"x\",\"y\":[1889.5,1840.75,1949.4,3487.95,587.45,326.8,5681.1,2686.05,7382.25,202.25,2970.3,6369.45,181.65,20.2,45.25,475.7,97.0,4217.8,7076.35,5450.7,2962.0,3650.35,887.35,49.05,7099.0,1424.6,2111.3,918.75,1009.25,2570.2,74.7,5714.25,7459.05,4748.7,1107.2,20.2,3605.6,100.2,3921.3,1363.25,248.4,2151.6,3027.65,1723.95,19.75,3985.35,3260.1,1170.55,5289.05,1756.2,61.35,1929.95,1071.4,5215.25,419.9,1024.0,251.6,3958.25,1363.45,6254.45,3539.25,1181.75,1252.0,2453.3,1023.85,82.15,3173.35,1192.7,587.4,6519.75,8041.65,20.75,7405.5,1033.95,2958.95,4179.2,6654.1,1124.2,1975.85,3139.8,3789.2,5324.5,20.2,1288.75,2723.15,5760.65,4747.5,1305.95,284.35,7878.3,273.4,2531.8,4298.45,2633.3,193.05,5791.1,4925.35,1195.25,3450.15,2172.05,1339.8,771.95,2021.2,1940.8,20.25,3437.5,3015.75,1509.8,356.65,3141.7,1229.1,2054.4,3741.85,3682.45,5686.4,1355.1,3236.35,44.8,4176.7,4422.95,1328.15,2278.75,681.4,6823.4,4016.75,83.75,2878.55,1373.05,1406.0,6962.85,8126.65,690.25,830.8,3646.8,25.35,1410.25,4732.35,5067.45,4063.0,44.0,2309.55,3694.7,1803.7,419.4,1468.75,5812.0,2861.45,4473.0,6858.9,2830.45,1110.5,5376.4,1395.05,119.5,899.45,720.05,8468.2,3161.2,55.05,759.55,7611.55,3582.4,2768.35,38.0,75.1,100.9,8404.9,2799.75,6538.45,6588.95,564.4,1315.35,2747.2,225.75,6130.85,6201.95,6597.25,3902.6,20.4,1785.65,3899.05,5502.55,851.8,1818.3,6300.15,2852.4,265.45,6989.45,1442.0,4713.4,4738.3,8399.15,5430.35,686.95,1360.25,174.45,7379.8,1021.75,2647.2,5265.5,311.6,7966.9,1153.25,2708.2,760.05,49.3,6033.3,89.05,516.15,5861.75,445.95,4973.4,1667.25,5357.75,2754.0,4747.65,3082.1,597.9,3365.4,38.8,3342.45,85.1,7422.1,6668.05,8071.05,1174.8,5435.0,2438.6,45.6,916.15,237.2,4614.55,1414.45,1170.5,47.7,4903.2,6094.25,3084.9,2356.75,8306.05,1357.1,3418.2,186.3,362.6,3355.65,1968.1,6562.9,176.3,3109.9,1620.2,3442.15,1732.6,655.3,865.1,6132.7,3597.5,697.65,20.05,4459.15,1453.1,1336.1,493.4,7246.15,313.6,3775.85,195.65,1266.4,1623.4,4149.45,20.45,2344.5,1013.05,6316.2,4018.05,4811.6,4189.7,2848.45,2516.2,208.45,2964.0,2263.4,2211.8,1710.9,4245.55,2664.3,5589.3,34.75,1305.95,204.55,4805.65,92.75,1901.05,1653.45,7085.5,3344.1,8196.4,855.1,5600.15,515.75,0.0,1253.8,20.8,1292.6,1600.25,275.7,3089.1,1175.6,237.3,5154.5,1510.3,2588.95,3983.6,4908.25,5023.0,143.65,2548.65,903.8,1058.1,7616.0,938.65,94.15,5986.45,3566.6,4889.3,318.1,1442.6,963.95,5774.55,4487.3,2854.95,905.55,6782.15,4461.85,62.0,6309.65,4719.75,457.3,5822.3,2337.45,121.25,5598.0,1269.1,4634.35,1665.2,504.2,20.05,3247.55,2823.0,2619.25,2679.7,8310.55,4914.9,5398.6,234.85,1231.85,7848.5,267.0,1798.9,4807.45,1505.9,255.35,1189.4,2651.1,1304.8,2001.0,77.6,759.35,1253.15,2162.6,245.15,2028.8,220.45,365.8,551.95,60.65,4733.1,4048.95,808.95,19.75,537.35,678.8,268.45,1492.1,132.4,284.9,417.7,485.2,160.85,827.45,5585.4,162.45,1426.45,2552.9,1957.1,1697.7,7849.85,4557.5,152.3,572.2,505.9,612.95,973.1,2210.2,1055.9,1304.85,21.1,614.45,4564.9,0.0,2766.4,2243.9,4523.25,2839.95,80.55,6038.55,259.4,324.15,5637.85,839.4,2058.5,2424.5,3145.9,2200.7,4577.75,4144.8,1493.55,1611.0,593.05,529.8,3865.6,515.75,48.35,1396.25,723.35,228.65,98.35,775.3,1074.65,1072.6,370.4,5264.25,510.8,1295.4,19.65,3011.65,8093.15,3953.15,1971.15,3196.0,1500.5,256.75,3887.25,2490.15,5538.35,340.85,3778.0,467.85,5253.95,521.35,1090.6,1446.8,1111.2,190.1,4447.75,2820.65,4729.3,4017.45,1398.6,5826.65,6066.55,270.2,536.35,1888.45,2117.25,19.45,92.75,6671.7,5264.3,4818.8,7159.05,1574.5,86.05,4159.45,2234.55,495.15,62.8,1188.25,1240.15,4111.35,5899.85,7530.8,7962.2,2049.05,3629.2,147.5,579.0,3131.55,3928.3,1292.2,1713.1,1748.9,609.1,4688.65,373.5,250.8,4549.05,1359.5,5315.1,735.5,4904.85,4484.05,2192.9,19.85,3858.05,5815.15,6145.2,129.2,5632.55,1643.25,2440.25,620.55,58.3,546.45,1673.8,343.45,2948.6,6078.75,3418.2,6603.8,6373.1,1177.05,741.4,6585.2,3122.4,1088.25,739.9,593.85,1291.35,153.95,154.55,4507.15,2031.95,50.05,473.9,152.6,1199.4,2555.05,2979.2,654.85,4586.15,2234.95,666.75,547.8,74.6,571.15,5731.45,2683.2,4456.65,36.8,1309.15,4754.3,51.25,795.65,61.45,6081.4,243.65,2633.95,3794.5,1008.7,5727.15,5514.95,2443.3,335.4,1493.75,300.4,475.0,5388.15,4896.35,1434.1,1474.9,6536.5,2199.05,457.1,566.5,518.3,832.3,1790.6,261.65,5480.25,1183.05,20.05,4391.45,780.15,3375.9,1245.05,385.55,84.2,4473.45,520.55,4312.5,6511.25,1218.65,7447.7,279.5,5720.35,3121.45,675.6,3521.7,1110.35,1611.65,5553.25,1191.2,866.4,4741.45,4009.2,3707.6,1983.15,6230.1,3419.3,4859.1,592.75,1185.95,18.8,901.25,4859.95,1139.2,321.7,7031.3,5016.65,153.3,344.2,1431.65,6083.1,426.65,1943.9,314.95,465.7,6669.05,1161.75,947.75,8375.05,3770.0,6152.4,943.0,425.1,6743.55,2093.9,3169.55,5233.25,438.05,1421.9,318.6,1441.95,2168.15,5692.65,5969.3,19.05,8100.55,745.3,1212.1,1583.5,5832.0,1421.75,4698.05,4362.05,415.4,2614.1,1513.6,3161.6,4676.7,6669.45,48.75,7108.2,1802.55,1859.1,6339.45,6392.85,1621.35,3058.3,1769.6,954.9,43.85,1490.4,280.0,4720.0,930.95,1588.25,75.5,258.35,19.2,6929.4,4453.3,1401.15,5931.0,949.85,572.45,696.8,47.95,4931.8,3273.8,3958.2,2492.25,279.2,936.85,1378.45,171.0,4744.35,44.05,1734.65,45.55,8086.4,4563.0,6362.35,67.1,1156.55,1834.15,1477.65,1706.45,3953.7,419.7,207.35,1083.7,5882.75,2657.55,1612.2,76.65,6441.85,266.8,1382.9,1399.35,150.0,865.05,1269.6,1348.5,471.55,5931.75,1404.65,726.1,81.05,76.95,20.2,415.9,21.05,4576.3,189.1,908.15,49.8,5099.15,6885.75,668.85,2048.8,2292.75,553.4,3465.7,1291.3,5728.55,390.4,2845.15,1021.55,268.4,2204.35,3600.65,422.5,4627.65,2460.55,5731.85,4616.1,750.1,743.5,3865.45,6825.65,1184.0,7382.85,134.6,2511.3,74.3,6404.0,165.35,1043.3,128.6,206.15,4964.7,4085.75,6224.8,3415.25,6325.25,3966.3,1514.85,6792.45,4669.2,779.2,283.75,5594.0,857.8,7554.05,5981.65,467.15,5810.9,223.9,811.65,174.75,6841.45,1406.65,834.7,3157.0,3092.0,980.35,711.9,4368.85,2647.1,845.6,20.45,2429.1,44.45,3023.55,2032.3,436.9,1430.05,313.0,341.35,2181.75,147.75,818.45,348.8,128.6,1737.45,1498.85,5498.8,2684.35,6994.8,308.1,1284.2,7550.3,1110.05,6707.15,5873.75,109.25,862.4,8564.75,1718.2,5956.85,4824.45,1238.65,4264.6,1345.85,7537.5,3343.15,161.15,225.85,1648.45,5753.25,3956.7,1309.0,1108.8,294.2,929.2,754.5,3883.3,1414.2,371.6,1246.4,1013.6,1588.7,712.25,5360.75,6735.05,3019.7,7711.25,5481.25,49.85,576.65,1789.9,157.55,581.7,6151.9,45.2,5420.65,6589.6,6733.15,3410.0,7288.4,5229.8,4464.8,401.85,4451.85,2661.1,73.05,1020.2,5597.65,1802.15,1391.15,274.35,1322.85,203.95,2117.2,6565.85,168.9,253.8,197.4,3838.2,2065.15,2447.45,1263.9,1838.15,44.75,1185.0,1743.9,6549.45,7806.5,6287.3,50.6,729.95,2654.05,5969.95,226.8,565.75,4370.75,550.6,6300.85,436.6,1781.35,5552.5,601.25,111.65,1682.05,4984.85,305.55,2673.45,389.8,156.1,2796.35,70.05,511.25,4903.15,1653.85,463.6,329.75,674.55,490.55,683.25,1160.45,5199.8,5163.3,162.3,70.45,659.45,1205.05,4917.9,4677.1,5878.9,244.85,220.75,4261.2,1501.75,255.5,1440.75,3895.35,388.6,1389.85,2894.55,4025.6,1354.4,926.0,1816.2,2656.7,1054.75,2404.85,171.45,3942.45,1529.65,6991.6,3281.65,7317.1,8164.1,1325.85,2495.15,562.7,33.7,37.2,3713.95,141.7,8425.3,3364.55,278.85,982.95,198.7,552.9,7854.15,505.45,1299.8,5564.85,1381.8,1077.05,4922.4,5377.8,1559.3,2142.8,4534.45,2094.9,55.55,670.65,5791.85,3055.5,5196.1,6713.2,562.6,828.85,625.05,6029.9,1842.7,7386.05,2626.15,1414.8,169.75,4354.45,51.6,44.0,2215.4,216.45,20.45,996.45,2618.3,613.95,402.85,1244.8,581.85,5168.1,208.0,3829.75,6889.8,4447.55,7321.05,168.65,2753.8,69.25,107.25,851.2,109.8,19.65,595.5,2513.5,5135.35,2000.2,931.75,688.0,288.35,185.4,265.8,3297.0,1567.55,1851.45,6028.95,4317.35,336.15,1001.5,4890.5,136.75,184.15,1315.0,1657.4,1301.9,790.0,1237.65,378.6,50.15,20.45,3638.25,2921.75,854.9,4920.55,79.8,1454.25,6017.9,5595.3,1201.65,867.3,50.15,6306.5,6841.05,44.6,226.2,2146.5,5969.85,386.5,1850.65,1043.4,1686.15,7839.85,2919.85,20.45,253.8,1110.05,3888.65,432.25,2970.8,3334.95,2010.95,2181.55,1303.25,371.4,2409.9,4667.0,69.9,6683.4,1564.05,755.6,6292.7,1664.3,6045.9,4108.15,5043.2,7114.25,907.05,973.95,605.75,661.55,4494.65,55.7,1274.45,5038.15,2793.55,648.65,1346.9,6561.25,268.45,4478.85,196.9,439.2,19.5,2107.15,3035.8,1430.95,1071.6,6457.15,7880.25,19.2,442.45,20.4,2345.55,144.8,414.95,181.8,2212.55,25.0,3162.65,3566.7,4040.2,5186.0,1672.15,1113.95,107.05,6339.3,184.1,1688.9,369.05,3321.35,707.5,4641.1,49.9,2030.75,6700.05,3486.65,411.15,970.4,828.2,45.8,4911.05,4318.35,7472.15,2296.25,38.45,3043.6,1506.4,163.7,1640.0,3846.35,1516.6,888.75,42.9,678.45,1237.3,1444.05,7325.1,3474.2,392.65,835.5,1193.55,1205.5,5776.45,78.9,122.0,6602.9,1712.9,74.3,3635.15,1117.55,930.05,110.15,440.2,1151.55,535.05,335.75,324.8,1394.55,3413.25,3143.65,439.75,664.4,3482.85,2688.45,2689.35,3527.0,3091.75,3632.0,381.2,1035.5,4178.65,55.25,854.9,3420.5,3168.75,3974.7,3439.0,5461.45,5498.2,96.85,111.05,94.4,141.1,628.65,5576.3,1245.6,1939.35,118.25,875.35,1267.05,799.0,106.9,568.2,184.95,1096.65,1752.45,5264.5,2157.3,24.4,951.55,1821.2,1600.95,218.55,1423.35,3068.6,4690.65,6157.6,3369.05,4671.65,8035.95,7634.25,3653.0,20.3,19.2,7051.95,4448.8,1011.05,6273.4,0.0,212.3,316.2,2511.55,454.0,999.8,1461.45,416.4,3265.95,358.15,2939.8,4652.4,5913.95,1629.2,6033.1,1867.7,70.6,1126.75,73.45,6912.7,1581.95,5586.45,1537.9,130.5,837.5,6118.95,6480.9,5036.9,6521.9,157.75,516.3,2807.1,4116.8,1317.95,3213.75,7308.95,4555.2,44.95,3369.25,199.75,1790.8,19.7,411.6,5688.45,6674.65,1433.8,865.85,4535.85,542.4,3250.45,87.9,1952.25,2440.25,6860.6,1377.7,190.25,1651.95,78.3,44.9,1279.0,1260.7,267.35,6586.85,934.15,19.45,3645.6,677.05,140.1,6741.15,1355.45,7209.0,1636.95,7581.5,6126.1,6333.4,6687.85,4158.25,7149.35,1429.65,113.5,2568.15,470.0,278.4,2595.85,5825.5,310.6,290.55,3005.8,3292.3,4674.55,2448.5,658.1,3128.8,653.95,1825.5,2338.35,46.3,717.3,1734.2,4220.35,1558.7,2743.45,4055.5,2538.2,1750.85,2575.45,1284.2,653.25,412.6,7845.8,1004.35,3219.75,572.85,1847.55,1766.75,2193.2,2398.4,7332.4,249.55,202.3,6994.6,1374.35,4915.15,2044.75,1398.25,3778.2,3161.4,2188.45,190.25,2281.6,1356.7,231.45,50.75,242.4,2774.55,4069.9,874.2,1323.7,534.7,947.4,1476.25,5903.15,1201.65,146.65,1701.65,592.65,7732.65,2018.1,3771.5,6572.85,3175.85,29.15,20.05,232.5,749.25,8240.85,4079.55,2391.15,137.25,3119.9,529.5,1929.0,178.8,435.0,445.85,912.0,3581.6,4222.95,20.0,797.25,989.05,44.55,87.3,351.55,7297.75,6301.7,3822.45,1489.3,8061.5,5763.15,238.5,0.0,827.05,1740.8,198.6,4089.45,19.65,3249.4,3363.8,7132.15,93.55,4138.9,566.1,1782.05,1742.5,4858.7,970.45,2415.95,8297.5,2083.1,4681.75,176.2,259.65,2386.85,1402.25,7567.2,4348.1,635.9,1682.4,223.15,1874.3,791.15,143.9,6172.0,6079.0,383.55,2230.85,180.7,576.95,468.35,174.7,44.0,5536.5,1563.9,1332.4,6296.75,3645.5,7919.8,69.95,2763.35,2298.55,2911.8,6705.7,237.65,1672.35,1654.6,825.1,6424.25,4126.2,1337.45,487.05,2301.15,4900.65,5727.45,4804.65,1414.65,1443.65,5309.5,4546.0,849.9,8058.55,7049.75,5683.6,3994.05,369.15,4631.7,701.3,1980.3,2893.4,262.3,3886.85,5780.7,662.95,2431.95,3409.1,3665.55,6668.0,4052.4,718.55,2546.85,6944.5,74.0,214.4,6171.2,1013.2,336.7,333.65,6511.8,393.45,600.25,4664.15,695.85,4155.95,6330.4,638.0,2034.25,3419.5,2427.35,3551.65,122.9,1424.2,2909.95,5581.05,942.95,2088.45,2215.0,1901.0,605.45,4929.55,595.05,19.75,492.0,987.95,1908.35,107.1,4309.55,7922.75,522.35,587.7,3778.85,8349.45,1226.45,342.3,985.05,3948.45,828.05,33.6,6590.5,405.6,208.25,189.45,408.5,1011.5,4263.4,2549.1,7840.6,6632.75,1013.35,152.95,1026.35,19.3,5031.85,220.4,158.35,5542.55,5708.2,1061.6,1971.5,856.5,1275.85,7467.5,7261.75,6590.8,1885.15,3088.25,3134.7,3165.6,867.3,546.85,1274.05,1782.4,280.35,3371.0,801.3,4119.4,492.1,1344.5,4267.15,4469.1,1729.35,4566.5,2603.1,6322.1,4284.65,7138.65,1539.75,2731.0,20.75,1898.1,2929.75,214.75,2669.45,235.2,1403.1,1462.6,5960.5,1192.3,877.35,2807.65,1696.2,5034.05,1857.75,1992.85,343.6,20.15,1387.45,7383.7,5040.2,422.7,20.25,2936.25,1271.8,19.2,1144.6,4858.7,2187.15,178.7,3353.4,1699.15,4428.45,1927.3,3000.25,3021.3,2245.4,944.65,1390.85,1336.9,6067.4,1222.25,487.95,2548.55,835.5,7320.9,4200.25,93.4,1573.95,1468.75,2607.6,1523.4,4549.45,322.5,5375.15,3090.05,955.6,1626.05,1784.9,70.35,6075.9,73.1,19.75,1230.9,235.05,5867.0,6449.15,785.75,5396.25,1445.95,6463.15,587.1,720.45,2979.3,956.65,447.9,49.0,836.35,20.95,798.2,6487.2,5432.2,8424.9,2203.7,387.4,3045.75,130.5,767.9,6754.35,3540.65,2184.6,130.55,1432.55,101.9,313.4,2640.55,1212.25,6237.05,5031.0,1633.0,969.85,6567.9,4747.85,101.1,6496.15,4234.15,59.55,4323.35,1466.1,144.35,1125.2,422.4,8332.15,4331.4,6382.0,7049.5,1427.55,860.85,5012.1,2404.1,209.9,610.75,155.35,144.0,7875.0,1097.15,432.5,1042.65,659.35,1285.8,377.55,964.9,2322.85,2019.8,1334.5,252.0,6747.35,2271.85,2966.95,61.15,494.95,5290.45,607.7,5431.4,6004.85,4428.6,6688.1,1198.8,1755.35,2877.95,357.7,959.9,3704.15,1521.2,3389.25,1198.05,754.0,467.15,373.0,481.1,1728.2,2964.05,2156.25,5013.0,1738.9,2275.1,1316.9,19.85,1388.45,666.0,1413.0,657.5,1050.5,426.35,7634.8,3116.15,49.65,4920.8,46.35,8289.2,3479.05,1331.05,1195.95,5017.7,2959.8,7559.55,7133.1,1799.3,4191.45,2201.75,1620.45,6812.95,1376.5,825.4,488.65,2075.1,1356.3,812.4,6605.55,3509.4,6991.9,590.35,1123.15,7953.25,3527.3,1248.9,3035.35,4300.8,1882.8,1067.65,2065.4,8022.85,4510.8,5317.8,4779.45,250.1,1745.2,4140.1,1167.8,469.65,4307.1,6141.65,1054.8,1086.75,2692.75,6880.85,3753.2,637.55,5329.55,1539.8,2209.75,1174.35,18.9,1261.35,253.9,400.0,2357.75,198.5,251.65,768.05,3522.65,910.45,150.85,1261.0,7346.2,3708.4,469.65,1730.65,1529.45,4664.5,7053.35,312.7,541.5,7942.15,768.45,3765.05,1273.3,7782.85,1797.1,377.85,445.3,906.85,1641.3,1826.7,417.5,344.5,2180.55,2730.85,5794.45,747.2,724.65,847.8,2390.45,75.35,2184.85,1451.1,6368.2,3729.6,350.1,1494.5,475.1,3199.0,6263.8,3403.4,1672.1,4097.05,3047.15,1964.6,5925.75,4692.55,154.3,6382.55,7623.2,1261.45,89.25,86.05,1714.55,893.2,810.85,6347.55,3851.45,946.95,1777.6,684.85,1312.45,159.2,610.2,6363.45,950.75,1149.65,169.65,6397.6,280.4,2917.65,54.3,2964.8,1189.9,5336.35,164.6,6555.2,225.65,955.75,2313.8,7852.4,2763.0,0.0,20.6,1538.6,7459.0,306.05,639.7,348.15,5563.65,40.25,784.45,3729.75,7322.5,3627.3,1725.95,4671.7,1173.55,7713.55,2471.25,7842.3,2351.45,6077.75,2479.05,2134.3,2203.1,183.15,6194.1,638.95,831.75,2560.1,1790.15,20.55,1537.85,2603.3,1912.85,849.1,90.1,2907.35,4952.95,4520.15,2302.35,1242.25,99.45,2375.2,19.1,1003.05,2509.95,5522.7,4798.4,8594.4,970.55,7665.8,3686.05,2537.0,1393.6,4445.3,1258.15,331.35,1715.1,1715.15,1250.1,1442.2,7291.75,424.5,249.4,2884.9,436.2,118.4,2395.05,39.3,638.55,3470.8,6910.3,5251.75,815.55,1411.65,8244.3,4375.8,5968.4,3901.25,5552.05,3275.15,1233.15,4882.8,5411.65,6895.5,3766.2,679.0,4480.7,499.4,219.5,2576.8,1923.85,939.8,5487.0,6856.45,50.75,4735.2,682.15,4525.8,335.65,1424.4,1077.95,3694.45,382.8,746.75,20.2,1940.85,1794.65,5289.8,6179.35,55.7,3735.45,2553.7,1216.35,2603.95,42.7,2983.65,1747.2,8016.6,433.5,1857.25,146.4,1724.15,429.55,356.15,488.25,5731.85,20.65,1924.1,5784.3,4914.8,5315.8,5445.95,1007.8,1004.5,477.6,265.75,2424.45,493.4,1207.0,563.5,864.55,5696.6,44.2,215.25,7470.1,2092.9,5629.55,485.25,78.25,1131.5,184.05,5629.15,109.3,958.45,4392.5,2343.85,7511.9,1725.0,49.75,1691.9,2248.05,4479.2,63.0,852.7,1930.9,4304.0,117.8,207.4,19.75,3132.75,903.7,3882.3,879.8,383.65,4390.25,68.2,452.8,5329.0,1219.85,2414.55,1809.35,19.65,4060.9,108.65,3952.65,4807.35,1311.3,1637.3,6376.55,20.05,1611.15,6989.7,2779.5,8331.95,2283.3,2333.05,1796.55,33.7,1392.25,475.1,1540.05,3181.8,5625.55,3974.15,5601.4,339.9,4828.05,5980.55,4808.7,1068.15,917.45,6444.05,767.55,7932.5,4040.65,1672.35,2425.4,1286.05,1094.35,7719.5,4932.5,5443.65,330.25,6631.85,3561.15,5234.95,3097.0,1848.8,723.3,577.15,124.4,3827.9,533.05,2815.25,7517.7,1234.8,6001.45,677.9,68.35,847.25,52.05,2018.4,538.5,846.8,2997.45,524.5,269.65,1789.65,1626.4,5060.85,4627.8,85.0,44.3,414.1,256.6,1296.8,1268.85,59.25,1147.85,4361.55,7609.75,1218.45,1416.2,483.3,1234.6,5618.3,788.35,3625.2,550.35,4793.8,5706.2,24.7,50.7,1165.55,4855.35,608.15,1321.3,1663.75,2188.5,413.25,1374.2,6692.65,218.5,1004.75,1125.6,978.0,304.6,827.7,262.05,3512.5,151.75,8033.1,1253.65,1036.0,4025.5,928.4,4374.55,678.75,2191.7,239.75,609.05,291.45,689.75,809.25,360.55,7031.45,902.25,5943.65,275.7,1093.2,521.9,1510.5,264.8,4541.9,4976.15,7542.25,49.8,1548.65,3440.25,4226.7,1023.75,7074.4,1252.85,67.55,5750.0,1549.75,294.9,19.95,476.8,1570.7,520.95,1447.9,8547.15,357.6,6069.25,2020.9,49.7,276.5,8175.9,5588.8,50.6,938.95,2024.1,2871.5,1270.55,31.2,533.6,3480.35,293.85,4137.2,3180.5,3023.85,6241.35,6501.35,2317.1,2237.55,5231.3,165.5,358.5,6614.9,7430.75,630.6,331.85,5088.4,4860.85,788.05,688.2,845.25,4230.25,4983.05,521.0,471.85,5976.9,4299.75,7548.6,1654.75,4551.5,6227.5,57.5,1474.35,3270.25,3919.15,7285.7,5295.7,3512.9,5231.2,217.45,2021.35,7610.1,4543.95,1297.35,4378.35,2220.1,3283.05,4939.25,4237.5,116.6,68.8,1362.85,145.15,3835.55,397.0,3769.7,8309.55,1573.05,235.8,1364.75,2483.65,1794.8,7173.15,4018.35,20.25,2085.45,5135.15,730.1,1108.6,75.45,4014.6,568.85,1064.95,4238.45,788.55,3442.8,7171.7,96.85,4122.9,1240.8,6578.55,19.55,2802.3,857.75,6093.3,7475.1,2862.55,2349.8,3529.95,8337.45,5731.4,776.25,141.65,1006.9,3097.2,2484.0,5785.65,2619.15,2790.65,2276.1,802.35,4653.25,343.45,2130.45,2554.0,367.95,5125.75,4801.1,19.55,7862.25,1242.2,2666.75,792.15,295.65,1459.35,4297.95,4096.9,3454.6,1387.0,786.3,641.25,705.45,345.5,345.9,3491.55,7920.7,1334.45,3358.65,4764.0,525.55,483.15,934.8,5364.8,20.3,4138.7,3457.45,688.5,867.1,4746.05,5764.7,1177.95,1458.1,2298.9,2998.0,24.4,1275.7,2965.75,1647.0,411.25,465.45,704.3,95.55,6375.2,8152.3,1566.75,130.25,6302.85,5265.55,5997.1,6548.65,1507.0,299.3,5832.65,5567.55,7898.45,979.5,90.05,398.55,1958.45,1301.1,484.05,2208.75,3845.45,1218.25,1405.3,533.9,3804.4,1118.8,5236.4,1386.8,1902.0,5673.7,997.75,138.85,689.0,1173.35,6719.9,1224.05,531.6,173.0,467.5,6460.55,1931.3,7758.9,3460.95,645.8,500.1,3488.15,7565.35,2799.0,1601.5,1232.9,5059.75,2289.9,6503.2,1313.25,1864.2,5979.7,902.0,4953.25,332.65,1411.35,1411.9,20.35,238.5,4016.3,226.55,7110.75,5528.9,1463.7,1025.05,0.0,3313.4,1938.9,460.25,4839.15,19.9,5139.65,309.35,3171.6,916.0,702.05,4438.2,92.25,1242.45,559.2,3782.4,460.2,7767.25,876.15,1793.25,4013.8,434.5,107.6,3801.7,5102.35,1872.2,2272.8,83.75,4663.4,125.0,684.4,5798.3,497.6,19.3,266.95,257.0,2623.65,45.85,2570.2,4378.9,3616.25,2924.05,32.7,5305.05,1311.75,3720.35,244.45,3357.9,2424.05,4981.15,2090.25,4905.75,2441.7,1307.8,7882.5,791.7,819.95,4869.5,509.3,4308.25,221.1,294.95,316.9,2651.2,5720.95,503.25,7365.3,3251.3,1396.0,53.05,6770.5,1151.05,1022.6,309.4,4250.1,770.5,897.75,2208.05,1218.25,24.2,789.2,1525.35,3366.05,7113.75,5012.35,1022.5,3691.2,486.2,4685.55,3645.75,2874.45,239.0,7544.3,3626.35,931.55,3316.1,2625.25,1495.1,1990.5,6844.5],\"yaxis\":\"y\",\"type\":\"scattergl\"},{\"hovertemplate\":\"Churn=Yes\\u003cbr\\u003eGender=Female\\u003cbr\\u003eMonthlyCharges=%{x}\\u003cbr\\u003eTotalCharges=%{y}\\u003cbr\\u003eTenure=%{marker.size}\\u003cextra\\u003e\\u003c\\u002fextra\\u003e\",\"legendgroup\":\"Yes, Female\",\"marker\":{\"color\":\"#EF553B\",\"size\":[2,8,28,10,17,11,2,15,8,9,1,7,12,25,37,10,27,25,1,8,20,4,2,53,15,7,1,13,1,19,4,1,11,2,2,16,52,1,4,38,54,2,7,2,43,2,21,10,25,55,34,1,22,1,61,60,1,28,13,1,15,48,8,2,5,12,20,6,5,27,23,1,35,12,1,4,1,12,65,9,7,65,43,2,3,1,8,4,2,4,1,2,3,25,4,30,45,15,22,1,5,1,46,10,2,16,50,4,55,12,62,3,60,15,6,63,1,12,9,3,13,4,6,3,2,1,33,35,34,4,7,18,2,3,8,1,5,5,10,23,2,2,41,13,11,4,37,19,14,11,2,3,12,6,1,1,11,3,2,16,16,15,11,1,7,2,46,68,11,70,18,34,39,4,1,1,14,18,9,13,1,1,22,34,64,4,18,1,2,15,2,5,16,4,24,2,8,1,2,29,14,5,63,53,1,16,3,17,7,42,15,23,35,56,9,17,34,42,1,3,46,41,29,26,1,66,21,9,1,1,2,3,41,18,4,38,12,19,10,1,23,31,2,1,38,19,1,3,35,16,1,1,5,44,31,3,2,7,58,14,12,25,16,1,1,2,57,49,4,47,10,1,5,15,26,2,22,1,49,43,1,1,32,4,1,37,8,3,1,33,30,2,2,30,2,1,7,1,14,28,34,1,3,2,6,1,3,16,13,4,54,48,29,15,56,21,1,1,1,35,33,8,5,2,42,40,57,8,31,18,14,5,1,53,14,25,16,9,8,1,1,31,39,1,67,1,33,47,33,4,19,4,7,1,13,28,2,1,1,1,10,15,25,4,50,9,41,12,1,4,1,6,61,1,47,1,48,1,1,28,20,7,3,62,32,3,22,16,50,2,1,32,3,5,17,6,2,4,8,1,5,1,13,32,16,29,38,17,1,4,5,1,8,43,22,1,1,7,12,54,23,37,34,4,1,1,4,1,2,9,41,12,5,11,16,1,4,1,1,21,11,2,2,4,4,4,68,26,4,9,1,11,50,15,46,1,14,9,2,1,2,3,12,18,2,4,1,2,1,9,50,1,54,1,13,1,24,67,6,20,11,2,1,3,57,5,1,1,1,26,15,31,18,3,1,57,4,35,58,30,21,21,1,72,3,1,47,6,48,2,1,3,9,6,6,7,25,20,4,11,4,54,2,1,1,20,14,30,3,40,2,1,10,1,68,1,9,24,1,13,1,63,15,37,2,29,28,11,1,6,3,1,22,43,3,31,2,66,1,31,14,35,37,7,1,32,17,8,1,1,9,49,2,21,69,17,3,30,1,1,16,15,1,1,7,42,1,12,17,1,72,11,39,15,30,3,1,12,22,27,10,22,1,21,6,54,1,2,33,15,30,2,4,2,25,25,2,27,56,66,1,4,3,24,1,65,53,15,4,9,22,8,16,1,37,5,3,31,2,37,38,48,3,4,1,5,28,30,1,4,4,8,1,26,6,3,1,61,40,58,18,7,39,15,5,1,16,2,2,1,36,39,4,33,11,1,40,7,15,11,44,17,7,34,1,47,24,8,2,8,48,43,8,2,27,5,6,6,3,5,1,28,1,6,6,25,13,49,1,37,12,10,3,54,10,1,1,5,26,1,9,2,20,70,1,13,1,7,5,55,6,8,1,5,1,1,1,61,3,3,18,3,1,1,70,26,46,1,40,3,3,13,39,1,42,7,1,10,17,1,1,39,58,70,1,20,4,27,13,10,13,1,68,39,1,1,36,15,5,13,2,17,1,9,3,17,2,21,1,10,1,53,49,14,47,26,8,9,42,33,31,12,15,42,5,3,43,70,1,36,12,59,3,1,1,29,52,47,5,42,25,9,16,31,1,11,5,6,1,7,1,5,1,1,1,2,3,71,5,9,26,30,4,17,60,13,38,1,45,1,1,3,32,51,72,6,1,1,5,1,1,1,13,58,42,29,42,9,1,2,1,14,1,7,13,3,38,12,34,1,10,16,7,9,48,2,2,14,3,64,2,40,12,54,4,1,1,11,1,14,64,18,66,11,9,1,54,25,37,14,4,3,45,1,6,8,6,1,41,33,56,3,1,48,13,24,27,22,18,56,30,8,50,41,3,1,4,9,67],\"sizemode\":\"area\",\"sizeref\":0.18,\"symbol\":\"circle\"},\"mode\":\"markers\",\"name\":\"Yes, Female\",\"showlegend\":true,\"x\":[70.7,99.65,104.8,55.2,64.7,97.85,80.65,99.1,80.65,94.4,79.35,75.15,78.95,98.5,76.5,100.25,78.05,58.6,70.45,71.15,82.4,70.9,104.4,94.85,74.45,76.45,29.95,79.25,24.8,106.6,70.15,55.2,95.0,70.4,44.6,94.45,105.05,73.6,95.45,80.3,82.45,70.35,73.85,80.6,104.6,90.4,41.9,80.25,104.95,85.45,73.95,19.9,83.3,75.3,19.4,105.9,69.55,81.05,55.95,74.7,69.0,45.3,83.55,74.4,28.45,99.7,94.1,80.5,74.35,75.2,75.6,85.0,100.25,19.0,75.3,89.2,85.7,61.65,105.25,65.0,20.0,105.5,56.15,89.5,69.55,74.6,19.65,24.25,69.65,45.65,75.05,34.7,75.1,79.85,85.95,91.7,87.25,85.9,89.25,19.9,88.9,52.2,110.0,98.5,86.2,89.45,108.55,78.85,100.0,19.8,100.15,95.1,50.8,105.1,83.9,100.55,24.6,98.9,98.3,79.4,81.15,84.6,79.05,74.4,96.0,90.55,80.6,85.3,70.0,94.3,95.35,90.1,68.95,88.3,92.1,19.65,39.5,80.0,84.7,90.05,69.75,49.05,114.5,74.3,89.7,94.4,78.95,44.85,64.7,104.05,95.15,80.4,89.75,109.9,60.15,80.25,66.35,80.3,75.9,49.95,96.15,19.4,90.15,75.8,79.3,30.9,95.25,89.6,44.05,115.55,85.2,97.65,89.55,20.35,69.25,25.2,87.25,88.35,94.75,95.05,79.2,49.95,69.25,94.25,100.05,99.8,35.0,76.0,93.85,84.3,91.4,75.55,100.0,70.4,98.75,55.05,19.75,25.8,42.6,68.85,75.35,69.95,107.5,106.1,91.7,95.6,45.0,98.6,59.5,77.95,64.65,94.75,86.45,98.25,75.75,85.35,109.8,84.65,85.8,44.3,96.05,113.6,78.9,60.05,34.7,102.45,104.4,74.25,69.6,19.5,87.15,84.75,113.2,20.15,20.35,84.25,78.1,89.65,98.7,76.35,79.15,86.55,35.1,45.15,57.15,73.2,45.95,83.75,100.5,72.65,21.0,45.1,78.95,84.8,19.55,79.1,80.75,81.1,102.1,90.9,29.2,89.15,84.75,45.7,69.95,44.6,95.25,100.45,87.1,98.75,86.45,45.3,81.0,88.15,90.8,49.4,79.2,95.6,59.75,108.15,71.35,20.15,93.2,33.65,19.3,99.2,85.2,75.25,70.55,86.15,85.0,80.55,75.8,85.15,88.55,91.3,86.25,100.8,86.3,89.95,64.4,102.45,80.1,80.2,98.15,70.9,86.85,65.2,48.75,85.65,110.35,103.25,98.6,83.05,104.75,94.25,45.95,70.15,85.55,70.3,103.7,94.2,96.25,70.7,33.55,94.55,112.95,103.35,99.95,90.0,104.85,89.35,77.15,98.4,80.45,89.7,96.4,83.3,80.1,54.75,94.6,98.9,30.1,80.2,94.35,19.6,110.45,85.3,83.35,89.6,95.15,70.05,79.65,50.1,100.8,90.1,85.7,44.4,95.65,20.95,34.7,19.75,74.3,98.1,109.65,74.55,79.9,98.1,20.5,99.6,81.95,91.1,99.15,71.0,70.55,79.7,60.35,69.25,73.5,92.35,105.85,75.45,31.0,100.15,74.4,55.3,55.15,84.95,71.05,30.4,45.4,84.15,19.75,85.4,55.85,56.25,85.55,68.65,87.05,25.1,54.2,19.45,84.45,85.95,59.4,30.6,99.55,70.0,45.3,76.65,99.15,25.05,49.85,55.55,69.5,93.85,50.45,74.65,94.2,106.55,83.8,106.75,87.45,79.15,69.1,69.6,77.95,78.45,70.75,84.45,106.3,89.4,83.15,99.5,53.9,85.45,50.85,59.2,54.9,103.9,19.25,75.45,54.85,73.75,88.95,50.7,83.0,88.8,45.3,85.35,20.9,84.8,95.05,59.45,105.2,79.6,89.65,72.9,86.25,45.65,70.2,55.35,100.15,48.35,24.4,20.95,49.55,50.15,25.25,45.15,84.4,75.1,70.15,45.8,75.0,71.15,54.15,108.75,49.15,79.15,102.0,20.65,70.8,96.6,104.5,50.6,68.95,55.8,25.2,91.25,49.1,65.25,85.45,74.25,74.2,70.1,105.65,85.95,109.45,100.2,74.05,55.95,80.15,109.25,35.2,78.8,106.4,93.55,82.05,78.55,78.65,34.25,58.5,74.4,105.3,84.55,24.75,85.8,24.45,76.5,93.5,101.5,69.6,50.55,20.5,24.45,71.0,40.3,50.6,84.85,65.7,70.5,94.85,69.6,100.2,78.05,74.75,93.55,20.25,23.9,85.45,99.9,101.25,28.6,24.35,98.65,103.3,96.2,90.6,50.8,75.85,69.95,61.15,109.55,19.6,79.85,49.6,105.95,40.1,73.9,89.8,72.25,96.55,40.1,79.55,84.05,94.4,75.75,19.1,74.9,80.85,90.85,79.7,86.5,103.95,89.15,19.85,99.7,50.45,100.25,88.45,25.4,20.9,69.4,74.9,74.15,70.1,78.3,94.4,84.3,92.45,99.55,80.45,79.75,100.05,85.8,50.55,84.5,84.3,85.25,80.05,48.8,85.05,102.8,99.95,79.5,19.45,75.55,104.4,86.2,51.2,19.5,74.9,74.9,100.25,102.8,94.2,88.3,100.65,80.55,44.45,80.85,79.4,99.3,71.1,106.25,20.8,89.85,46.0,66.25,90.0,105.5,81.0,69.8,76.25,93.9,70.4,91.15,70.95,99.5,83.9,117.45,25.25,84.05,74.7,90.8,106.15,85.35,35.75,46.0,91.65,94.45,20.15,74.95,47.95,63.6,44.1,104.4,39.3,106.45,96.05,75.1,104.7,55.7,19.85,70.3,85.35,79.65,79.6,20.2,99.15,55.9,75.35,93.8,20.1,75.3,99.2,20.05,75.3,94.0,96.1,104.2,80.3,79.6,36.45,80.35,40.65,84.9,73.55,20.15,34.7,107.55,101.15,79.75,94.55,69.05,90.1,89.3,95.2,45.7,79.65,101.3,80.05,19.5,49.65,34.0,88.35,107.95,74.45,64.75,95.5,29.65,70.3,103.95,74.75,50.8,70.6,81.0,89.15,24.8,89.45,76.4,61.6,65.3,69.55,31.05,44.35,79.7,84.85,77.75,84.35,84.95,46.0,46.0,70.15,81.1,20.55,106.6,89.45,97.9,39.05,83.9,69.85,53.55,93.9,84.95,54.35,48.6,55.8,75.5,74.75,96.65,103.45,19.9,84.3,79.0,70.25,84.6,24.1,60.0,20.85,50.75,105.5,109.5,75.7,90.8,97.95,104.3,89.4,81.0,70.15,70.15,96.55,95.55,69.65,89.3,87.55,96.3,85.2,35.1,19.6,85.45,79.35,90.8,75.8,88.25,70.0,97.35,69.65,100.6,86.0,106.95,95.6,78.95,85.2,93.85,84.0,48.75,73.9,24.5,89.9,74.05,55.0,105.2,83.6,91.5,49.05,114.2,70.75,97.35,44.55,101.1,50.65,55.4,90.6,99.05,111.25,95.05,53.85,50.25,99.5,71.0,93.2,104.2,44.9,95.15,85.75,98.25,25.7,69.0,76.4,100.5,35.05,73.0,70.1,70.65,99.0,93.7,75.55,77.65,95.0,19.65,79.0,91.85,106.0,100.35,74.95,20.3,89.3,74.3,20.4,55.1,91.05,77.5,54.2,69.25,94.4,55.0,67.95,69.5,69.2,82.3,84.6,93.4,94.2,25.1,104.75,74.65,56.25,79.75,68.65,100.2,70.85,70.75,94.1,29.7,105.0,91.3,62.65,74.5,102.1,50.15,86.5,79.55,95.5,79.2,45.25,74.3,74.1,70.2,70.75,79.2,96.0,100.1,56.5,85.0,69.2,48.55,20.2,105.95,47.85,99.85,80.45,100.75,91.75,79.55,111.1,89.1,101.9,91.65,88.85,25.3,54.15,69.7,89.5,101.35,55.9,43.95,70.25,103.75,73.85,75.15,30.5,107.4,82.0,75.4,101.25,74.4,99.75,111.95,94.1,95.65,88.05,66.5,75.05,74.45,60.4,44.2,102.95],\"xaxis\":\"x\",\"y\":[151.65,820.5,3046.05,528.35,1093.1,1105.4,144.15,1426.4,633.3,857.25,79.35,496.9,927.35,2514.5,2868.15,1064.65,2135.5,1502.65,70.45,563.65,1592.35,273.0,242.8,5000.2,1145.7,503.6,29.95,1111.65,24.8,1934.45,268.35,55.2,1120.3,147.15,80.55,1511.2,5624.85,73.6,396.1,3058.65,4350.1,139.05,511.25,155.8,4759.85,168.2,840.1,846.0,2566.5,4874.7,2524.45,19.9,1845.9,75.3,1182.55,6396.45,69.55,2227.1,734.35,74.7,994.8,2145.0,680.05,139.4,131.05,1238.45,1782.4,502.85,334.8,1929.35,1758.6,85.0,3527.6,233.55,75.3,346.2,85.7,713.75,6786.4,663.05,137.6,6985.65,2499.3,161.5,222.3,74.6,164.3,96.05,145.15,191.05,75.05,62.25,270.7,2015.35,381.3,2758.15,3941.7,1269.55,1907.85,19.9,454.15,52.2,4874.8,1058.25,178.7,1430.25,5610.7,292.8,5509.3,229.6,6413.65,307.4,3027.4,1582.75,497.55,6215.35,24.6,1120.95,923.5,205.05,952.3,360.1,434.5,215.8,174.8,90.55,2656.5,2917.5,2416.1,424.45,660.9,1612.75,119.75,273.75,729.95,19.65,210.75,412.5,832.05,2169.8,144.55,91.1,4527.45,940.35,1047.7,387.2,2839.65,893.55,941.0,1133.65,196.9,224.05,1052.4,669.45,60.15,80.25,740.8,250.05,143.35,810.2,1529.2,289.3,987.95,75.8,523.15,59.05,4424.2,6127.6,483.7,8127.6,1553.9,3207.55,3474.45,76.35,69.25,25.2,1258.6,1639.3,889.9,1290.0,79.2,49.95,1554.0,3217.55,6254.2,442.85,553.0,76.0,170.85,1308.4,193.6,349.65,1534.75,281.0,2407.3,102.75,145.0,25.8,72.4,1970.5,1025.95,330.15,6873.75,5769.75,91.7,1555.65,127.1,1704.95,415.95,3384.0,994.55,2293.6,3029.1,5508.35,655.9,1463.45,3587.25,3541.35,85.8,134.5,4399.5,4594.95,2384.15,1616.15,34.7,6615.15,2200.25,639.65,69.6,19.5,183.75,264.85,4689.5,390.85,77.5,3264.5,947.3,1761.05,973.25,76.35,1676.95,2697.4,68.75,45.15,2250.65,1441.1,45.95,247.25,3653.35,1194.3,21.0,45.1,378.4,3862.55,658.95,246.5,159.45,576.65,5885.4,1259.0,309.1,2257.75,1350.15,45.7,69.95,97.1,5464.65,4941.8,341.45,4533.7,830.85,45.3,371.65,1390.6,2361.8,106.55,1742.75,95.6,2934.3,4600.7,71.35,20.15,2931.0,137.85,19.3,3754.6,627.4,242.0,70.55,2745.7,2624.25,184.1,160.75,2555.9,179.25,91.3,587.1,100.8,1180.95,2625.55,2088.75,102.45,217.55,146.05,567.45,70.9,220.95,1043.35,633.4,321.65,5893.15,5037.55,2933.2,1258.3,5510.65,1973.75,45.95,70.15,85.55,2416.55,3467.0,777.3,512.45,141.45,1445.3,3640.45,6465.0,847.3,3186.65,1527.35,1531.4,461.7,77.15,5149.5,1072.0,2187.55,1581.2,803.3,679.3,54.75,94.6,2911.3,1131.3,80.2,6341.45,19.6,3655.45,4045.65,2757.85,365.65,1789.25,266.9,604.7,50.1,1308.1,2598.95,169.8,44.4,95.65,20.95,329.8,297.3,1863.8,396.3,5551.15,622.9,3326.2,1060.2,20.5,347.65,81.95,455.3,6010.05,71.0,3309.25,79.7,2896.4,69.25,73.5,2602.9,2239.65,480.75,95.05,6283.3,2276.95,196.15,1206.05,1378.25,3444.85,78.65,45.4,2585.95,58.85,425.9,937.5,389.1,187.45,261.25,762.1,25.1,308.25,19.45,1058.6,2628.6,1023.9,856.35,3734.25,1144.5,45.3,333.6,465.05,25.05,365.55,2342.2,1498.2,93.85,50.45,521.1,1046.1,5763.3,1900.25,4056.75,2874.15,317.25,69.1,69.6,305.55,78.45,146.9,762.5,4443.45,1095.65,446.05,1056.95,834.15,85.45,239.55,59.2,54.9,2254.2,180.3,158.4,104.2,325.45,355.2,151.3,5685.8,2274.35,196.95,754.65,20.9,906.85,4888.7,892.65,4822.85,79.6,1208.35,651.4,181.65,45.65,115.95,165.2,1164.3,810.7,36.55,85.5,49.55,115.1,25.25,416.45,4116.15,75.1,3715.65,45.8,999.45,71.15,1240.25,7156.2,270.8,1520.9,1145.35,38.7,70.8,291.9,5921.35,249.95,68.95,55.8,25.2,2351.8,679.55,1994.3,1505.85,210.3,74.2,3913.3,443.9,3110.1,6144.55,2983.8,1565.7,1157.05,80.15,8109.8,108.95,78.8,5127.95,536.4,4029.95,149.55,78.65,139.35,539.85,434.1,545.2,646.85,692.1,1727.5,86.6,837.95,362.2,5373.1,131.65,50.55,20.5,482.8,914.0,1172.95,155.35,3303.05,134.35,70.5,953.45,69.6,6851.65,78.05,706.6,2264.05,20.25,300.8,85.45,6137.0,1457.25,973.55,41.85,2862.75,2890.65,1222.05,90.6,288.05,256.6,69.95,1422.05,4830.25,59.75,2404.15,114.7,6975.25,40.1,2217.15,1129.1,2568.55,3580.3,293.3,79.55,2781.85,1607.2,606.25,19.1,74.9,751.65,4515.85,165.0,1808.7,7446.9,1496.9,63.75,2967.35,50.45,100.25,1422.1,399.6,20.9,69.4,541.15,3229.4,70.1,909.25,1617.5,84.3,6440.25,1131.2,3201.55,1111.85,3046.15,272.2,50.55,916.9,1855.65,2287.25,830.7,1054.6,85.05,2110.15,547.65,4370.25,19.45,166.3,3409.6,1270.2,1561.5,31.55,321.75,147.15,2387.75,2660.2,193.8,2467.75,5688.05,5265.1,44.45,302.75,244.65,2431.35,71.1,6979.8,1021.8,1424.95,193.6,620.55,1993.8,829.55,1312.15,69.8,2841.55,486.85,204.7,2995.45,137.95,3762.0,3233.6,5438.9,58.9,333.55,74.7,455.5,3152.5,2530.4,35.75,181.6,365.4,742.95,20.15,1834.95,305.1,155.65,44.1,6405.0,1637.4,6145.85,1740.7,552.95,4134.85,899.8,108.05,70.3,1375.15,152.7,195.05,20.2,3615.6,2184.35,338.1,3124.5,221.35,75.3,4062.2,164.85,1147.45,1078.9,4364.1,1743.5,526.7,2718.3,36.45,3825.85,933.3,764.95,145.4,156.25,1604.5,4533.9,842.9,164.5,2724.6,318.5,521.3,577.6,292.85,198.0,79.65,2812.2,80.05,146.3,267.35,853.0,1222.8,5293.2,74.45,2345.2,1115.15,291.4,235.5,5639.05,799.65,50.8,70.6,389.6,2277.65,24.8,853.1,160.8,1174.35,4759.75,69.55,347.25,44.35,586.05,415.55,4458.15,474.9,668.4,46.0,221.7,70.15,81.1,20.55,6428.4,240.45,315.3,669.85,267.4,69.85,53.55,6579.05,2169.75,2460.15,48.6,2109.35,220.6,229.5,1244.5,3994.45,19.9,3588.4,522.95,70.25,865.55,409.9,60.0,20.85,2011.4,6205.5,7674.55,75.7,1951.0,384.5,2867.75,1132.35,818.05,916.75,70.15,6581.9,3692.85,69.65,89.3,3078.1,1426.75,474.8,446.1,35.85,1451.6,79.35,809.75,246.3,1460.65,153.05,2119.5,69.65,1060.2,86.0,5785.5,4783.5,1101.85,3969.35,2381.55,613.4,442.2,3160.55,740.3,2806.9,872.65,757.1,4400.75,404.2,242.95,2076.2,7723.9,70.75,3457.9,480.6,6039.9,151.3,55.4,90.6,2952.85,5916.45,4504.55,259.8,2203.65,2369.05,672.55,1573.7,3243.45,44.9,997.65,470.95,560.6,25.7,506.9,76.4,514.0,35.05,73.0,70.1,142.35,287.4,6585.35,413.65,714.15,2497.2,655.85,303.15,1574.45,6441.4,1358.85,2869.85,20.3,4016.85,74.3,20.4,154.65,2954.5,3807.35,3937.45,418.4,94.4,55.0,350.3,69.5,69.2,82.3,1115.2,5435.6,4186.3,712.85,4323.45,703.55,56.25,159.4,68.65,1369.8,70.85,450.8,1215.6,91.7,4026.4,1094.5,2274.9,74.5,1068.85,762.25,582.5,723.4,4627.85,172.85,85.5,1096.25,228.0,4481.0,154.85,3233.85,1062.1,5440.9,235.1,85.0,69.2,501.0,20.2,1348.9,3147.5,1776.95,5224.35,1129.75,865.8,79.55,6014.85,2368.4,3545.35,1301.0,372.45,77.75,2319.8,69.7,573.3,780.5,365.35,43.95,2868.05,3361.05,4092.85,216.75,30.5,5121.3,1127.2,1747.85,2754.45,1692.6,1836.25,6418.9,2804.45,778.1,4367.35,2728.6,256.25,74.45,272.15,403.35,6886.25],\"yaxis\":\"y\",\"type\":\"scattergl\"},{\"hovertemplate\":\"Churn=Yes\\u003cbr\\u003eGender=Male\\u003cbr\\u003eMonthlyCharges=%{x}\\u003cbr\\u003eTotalCharges=%{y}\\u003cbr\\u003eTenure=%{marker.size}\\u003cextra\\u003e\\u003c\\u002fextra\\u003e\",\"legendgroup\":\"Yes, Male\",\"marker\":{\"color\":\"#EF553B\",\"size\":[2,49,1,1,47,1,5,34,18,5,68,55,3,1,2,1,7,58,8,6,1,2,4,1,2,15,1,1,3,13,59,1,1,5,18,1,8,10,24,32,5,24,68,63,4,27,5,2,1,1,11,69,1,3,12,4,7,1,24,5,1,22,2,40,34,10,13,39,32,56,9,49,43,56,10,1,20,1,2,52,1,2,3,1,3,33,10,20,3,15,33,2,2,62,6,40,1,58,70,21,7,60,1,1,1,20,22,4,59,10,50,17,9,10,1,35,2,1,1,8,7,44,71,1,62,1,27,32,18,12,8,26,38,14,32,12,40,2,23,49,7,2,17,25,3,39,7,1,13,1,60,1,15,21,7,53,1,17,19,24,1,34,3,1,1,59,7,8,6,15,16,47,1,59,2,1,66,3,10,4,4,59,10,5,41,9,15,1,12,4,1,5,37,13,61,41,22,19,15,1,17,2,8,1,1,10,66,12,2,1,30,13,67,48,17,11,1,50,5,51,1,3,1,4,1,9,1,14,13,2,1,32,32,19,57,1,24,1,65,10,1,1,52,1,2,30,56,1,49,47,8,65,1,1,24,69,11,1,58,23,24,5,2,5,67,67,1,22,21,47,7,1,17,1,1,5,40,1,51,29,13,7,24,1,7,67,57,17,10,12,23,1,65,66,1,53,69,12,1,2,17,32,1,1,38,2,7,28,15,1,4,59,46,31,13,35,2,1,1,36,1,45,25,13,46,25,18,60,30,39,3,1,7,61,10,6,2,7,1,52,22,18,24,1,2,1,22,4,4,19,5,8,2,3,15,10,5,5,1,4,31,17,53,16,9,3,10,32,9,66,3,29,1,8,7,14,25,22,70,1,22,25,20,18,9,11,12,53,41,7,22,51,5,28,10,69,12,27,1,14,5,23,1,1,71,46,49,23,6,4,3,1,30,72,2,2,1,9,18,25,17,52,3,54,1,3,10,31,29,12,1,33,35,19,31,10,4,38,51,1,10,1,13,1,6,12,3,53,1,10,1,51,24,18,72,4,1,7,5,42,2,8,1,43,3,70,5,1,16,8,31,32,20,26,5,1,36,5,9,8,51,2,39,26,9,29,42,1,9,46,1,19,20,46,16,4,7,2,4,1,7,4,1,1,41,66,35,10,54,2,61,1,24,43,4,25,36,1,4,3,41,1,11,18,1,20,1,3,1,49,16,28,1,28,1,14,4,1,14,58,22,49,7,1,2,27,57,25,35,71,6,9,5,55,24,4,1,11,5,8,29,13,2,66,62,17,56,3,24,1,19,2,1,3,55,1,39,6,1,58,1,19,3,3,15,10,38,1,12,4,41,55,8,1,23,9,1,67,1,2,1,72,3,8,5,1,65,43,10,9,69,22,24,36,1,1,1,39,5,24,2,5,11,1,1,2,44,18,1,38,53,1,7,9,10,8,2,37,36,17,3,4,4,26,5,1,1,50,3,14,2,19,11,10,6,19,66,21,2,35,45,7,6,3,47,1,7,67,8,24,15,1,9,36,3,22,53,16,20,52,37,69,40,11,8,29,19,1,1,15,10,26,5,18,2,32,36,53,1,12,6,64,13,10,9,32,1,1,7,54,1,33,11,49,15,16,44,4,30,9,59,1,13,68,11,1,1,4,22,9,7,29,1,23,1,14,1,1,1,1,1,8,6,22,21,71,32,6,1,1,19,5,1,9,1,1,20,70,20,21,5,24,3,46,11,45,37,49,1,13,5,3,1,12,18,42,4,7,14,3,16,65,6,53,68,12,68,25,66,27,3,29,1,2,1,1,2,2,13,19,52,5,3,1,10,4,43,4,47,1,4,17,43,21,42,46,2,22,1,1,3,33,2,26,67,1,54,2,1,1,1,50,65,7,2,1,13,10,4,41,71,69,1,1,31,58,47,44,2,1,1,1,40,3,1,1,1,2,10,49,6,2,35,70,2,15,21,16,15,2,55,66,1,22,1,1,43,1,2,1,6,27,1,3,57,3,12,51,4,35,38,37,3,61,19,56,2,4,15,1,1,55,32,7,6,13,1,13,3,12,3,1,9,43,1,1,5,70,25,1,4,16,3,3,40,23,1,12,1,4],\"sizemode\":\"area\",\"sizeref\":0.18,\"symbol\":\"diamond\"},\"mode\":\"markers\",\"name\":\"Yes, Male\",\"showlegend\":true,\"x\":[53.85,103.7,39.65,20.15,99.35,30.2,69.7,106.35,95.45,21.05,110.0,96.75,74.4,35.45,44.35,45.65,95.0,45.3,84.5,91.0,79.9,46.0,50.05,84.6,54.4,74.4,48.55,40.2,41.15,106.9,19.35,24.8,70.6,85.4,95.15,70.0,74.5,44.85,76.1,74.9,80.6,93.15,75.8,103.4,84.8,30.75,96.5,85.65,50.65,90.85,19.95,99.45,19.6,81.35,45.4,101.15,99.8,55.0,80.25,96.1,74.35,43.75,94.2,104.8,100.05,86.05,45.55,86.3,80.35,100.3,29.95,90.05,110.75,104.55,85.25,89.55,94.55,45.7,19.85,49.15,80.0,49.25,50.15,19.55,45.35,94.5,98.55,98.55,70.3,93.35,95.8,82.0,45.35,96.75,85.35,101.3,69.55,103.25,104.0,111.2,95.6,90.95,44.4,89.9,50.8,73.65,94.65,80.6,85.55,110.1,103.85,93.85,100.5,72.85,73.55,99.05,44.95,44.7,45.7,100.3,19.25,30.35,108.05,69.9,103.75,86.6,75.5,99.55,57.45,53.65,100.6,83.75,79.45,90.45,69.75,43.65,97.1,89.55,90.6,99.05,98.05,80.95,100.45,90.4,56.15,105.65,74.65,35.55,96.65,31.35,94.4,19.85,101.35,60.05,90.45,94.25,74.9,69.0,86.0,90.55,45.85,78.3,76.95,45.3,45.05,110.15,89.5,75.0,44.75,85.6,86.6,109.55,19.45,99.5,45.0,20.15,105.0,54.7,79.95,78.45,70.2,41.05,85.6,70.0,73.0,84.4,101.1,50.45,99.95,80.8,20.55,85.3,98.8,74.4,106.0,104.7,96.7,88.2,75.65,74.7,76.65,90.0,100.85,45.85,74.95,95.35,99.5,80.45,74.7,88.8,90.25,89.05,87.4,106.1,45.05,79.5,79.1,105.95,69.75,94.65,50.15,85.3,99.75,74.4,59.85,45.4,69.9,89.95,90.5,79.0,71.65,85.0,85.3,73.85,44.85,45.1,96.0,20.05,108.65,45.55,46.2,43.3,85.35,70.05,86.0,50.4,94.45,50.9,99.8,107.35,25.5,91.85,75.35,75.45,49.55,78.6,74.95,93.55,108.85,74.95,89.85,47.15,80.2,75.9,104.1,90.6,20.2,79.35,96.8,83.35,48.7,69.75,80.85,79.95,54.35,24.95,42.35,75.3,94.8,98.5,95.25,74.4,54.75,79.5,70.1,111.3,95.25,76.45,70.0,112.95,99.85,74.5,109.15,99.5,71.55,93.9,108.4,106.7,25.15,47.8,70.4,106.35,88.35,35.9,99.25,24.45,84.8,106.1,74.2,35.25,48.55,93.85,100.7,55.25,54.45,75.35,75.7,74.25,69.5,85.25,19.4,62.7,25.3,98.15,93.7,105.95,82.0,95.75,94.05,95.65,76.05,69.75,34.5,105.55,70.3,44.6,70.7,99.25,84.8,105.0,54.45,33.5,90.35,90.75,49.25,19.75,101.35,74.65,50.4,79.85,78.75,80.45,76.4,98.7,51.55,79.25,94.85,89.5,86.05,44.55,35.4,92.55,60.05,74.3,85.35,100.95,94.9,104.9,24.1,104.05,88.35,94.65,74.4,69.7,69.35,86.1,94.7,85.1,102.95,45.05,59.0,70.95,89.0,99.4,95.5,74.55,83.8,54.45,99.8,93.85,100.75,80.0,70.25,94.5,33.9,89.95,84.45,79.5,89.15,74.95,43.25,48.35,79.55,84.5,108.6,30.3,75.2,106.4,84.4,77.85,105.35,53.5,79.65,103.4,29.85,95.1,19.8,44.95,49.55,95.9,81.5,84.1,36.45,104.3,20.1,55.15,86.65,78.45,70.75,101.35,81.7,68.25,95.45,100.95,103.45,29.5,85.65,70.15,97.8,46.3,74.15,44.15,83.2,95.1,75.5,96.05,53.4,101.9,50.6,89.5,69.8,93.8,101.05,94.7,104.15,61.45,90.55,85.2,91.4,106.15,73.25,51.05,75.35,75.2,43.3,109.5,50.35,74.6,19.7,45.15,93.8,96.2,85.25,80.5,89.8,50.75,65.4,40.0,99.45,70.1,84.2,45.85,75.25,105.75,20.25,95.9,101.75,20.1,40.65,101.0,69.1,100.0,19.4,80.4,89.05,49.35,94.25,93.85,76.05,24.45,89.35,80.35,79.05,95.0,98.4,79.4,101.4,89.8,109.75,19.3,94.1,71.65,104.65,101.0,100.2,89.05,96.5,70.85,73.9,101.55,111.95,45.75,74.95,49.4,69.1,90.2,80.85,20.55,42.9,96.2,73.85,105.7,24.25,74.9,24.05,100.55,74.8,19.75,65.45,98.7,67.5,84.35,73.6,20.2,25.05,95.55,39.3,84.8,75.2,49.35,74.9,18.95,79.9,104.15,102.95,90.05,68.5,73.5,70.05,94.0,84.45,75.3,66.4,100.05,102.0,90.2,25.15,91.85,101.25,89.1,78.25,44.15,80.3,24.75,57.55,25.1,48.95,83.55,70.45,60.3,24.75,103.3,78.5,79.9,58.6,98.5,94.65,69.85,81.7,79.9,83.75,96.8,81.25,19.95,99.25,79.35,69.35,79.7,80.55,67.75,20.0,117.8,79.65,94.7,92.5,70.0,74.8,100.0,99.85,83.85,104.05,94.7,78.85,84.9,20.25,74.35,62.05,80.0,104.1,39.1,76.5,49.2,23.15,60.1,78.95,45.15,53.95,80.65,94.0,70.45,19.75,53.95,73.75,54.55,104.4,29.4,44.65,85.7,90.85,89.4,19.8,50.9,81.0,98.35,51.0,90.85,69.4,95.7,36.85,50.75,44.7,55.0,74.35,85.55,94.5,90.6,106.05,82.35,40.4,85.15,20.4,94.7,30.5,77.0,85.5,70.4,49.75,118.35,30.45,104.25,80.2,69.65,80.8,84.1,69.35,89.4,60.45,98.75,88.7,96.25,101.1,104.7,55.25,53.75,74.5,89.2,83.65,51.25,45.6,20.0,92.5,89.8,84.5,90.7,80.25,78.9,84.75,85.45,19.9,99.45,84.85,105.65,80.85,72.15,79.9,96.15,19.65,84.65,51.0,55.0,73.65,73.9,73.85,51.8,79.4,71.8,88.4,51.75,94.4,34.7,106.75,55.7,79.8,113.15,80.5,19.3,49.65,88.45,90.5,94.85,69.95,80.15,20.2,104.05,20.05,46.35,19.95,79.6,75.9,76.2,19.25,86.55,85.15,54.2,104.4,105.1,108.15,80.5,71.35,20.6,99.95,81.3,71.0,85.05,44.4,70.3,70.45,45.25,71.3,69.1,25.9,55.65,29.6,59.9,41.6,100.85,40.2,84.5,20.2,98.0,94.45,105.0,84.85,56.65,78.55,99.45,25.2,89.75,85.15,94.6,94.25,72.45,82.85,103.85,108.45,80.85,105.3,88.95,110.85,36.5,40.15,94.45,45.3,94.95,23.45,29.7,86.85,55.1,102.25,95.9,104.2,19.35,19.85,79.25,70.1,29.65,77.85,54.3,110.85,80.5,72.2,51.5,89.55,77.5,95.25,85.0,46.05,40.05,69.95,93.3,49.15,83.85,20.35,83.95,116.2,19.7,105.4,95.85,79.15,49.9,49.25,103.7,89.75,101.95,94.0,44.65,84.05,80.7,101.7,102.6,106.0,106.5,50.5,74.4,79.45,104.65,100.05,100.55,95.65,101.45,18.85,69.65,101.85,79.25,25.05,48.95,45.3,85.85,95.2,100.6,55.3,74.85,102.35,115.65,79.85,76.0,106.1,20.25,74.9,69.8,54.55,110.9,25.3,55.15,20.1,69.9,101.4,80.8,62.05,76.45,95.75,81.45,69.15,91.05,100.6,75.0,50.25,59.3,49.4,55.0,62.3,92.5,69.65,111.6,39.65,24.9,56.7,74.95,29.7,50.35,70.3,98.8,80.3,86.8,84.2,99.0,95.45,91.1,35.15,73.75,105.9,45.1,55.35,103.0,69.35,69.6,80.15,98.3,89.5,20.5,74.35,39.0,35.45,49.9,104.5,81.0,70.65,59.8,75.75,74.4],\"xaxis\":\"x\",\"y\":[108.15,5036.3,39.65,20.15,4749.15,30.2,316.9,3549.25,1752.55,113.85,7611.85,5238.9,229.55,35.45,81.25,45.65,655.5,2651.2,662.65,531.0,79.9,84.5,179.35,84.6,114.1,1074.3,48.55,40.2,132.2,1364.3,1099.6,24.8,70.6,401.1,1779.95,70.0,606.55,435.4,1712.7,2303.35,415.55,2231.05,5293.95,6603.0,371.9,805.1,492.55,181.5,50.65,90.85,214.75,7007.6,19.6,233.7,518.9,385.9,673.25,55.0,1861.5,453.4,74.35,903.6,167.5,4131.95,3480.0,834.1,597.0,3266.0,2596.15,5614.45,248.95,4547.25,4687.9,5794.65,855.3,89.55,1899.65,45.7,35.9,2550.9,80.0,91.1,168.15,19.55,141.5,3105.55,1008.55,1842.8,208.85,1444.65,3036.75,184.65,89.5,6125.4,489.45,4113.1,69.55,6017.65,7250.15,2317.1,644.35,5453.4,44.4,89.9,50.8,1463.5,2104.55,319.15,5084.65,1043.3,5017.9,1625.65,918.6,688.65,73.55,3395.8,85.15,44.7,45.7,832.35,112.3,1359.7,7532.15,69.9,6383.35,86.6,1893.95,3204.65,990.85,696.35,819.4,2070.6,3013.05,1266.1,2347.9,526.95,3706.95,185.55,1943.2,4853.75,713.0,171.15,1622.45,2178.6,168.15,4284.8,544.55,35.55,1162.85,31.35,5610.25,19.85,1553.95,1236.15,593.45,4867.95,74.9,1149.65,1532.45,2282.55,45.85,2564.3,228.4,45.3,45.05,6448.05,676.7,632.95,270.95,1345.55,1281.0,5124.55,19.45,5961.1,96.45,20.15,7133.25,169.45,857.2,330.05,237.95,2452.7,813.85,347.4,3001.2,732.5,1504.05,50.45,1132.75,332.45,20.55,424.15,3475.55,896.75,6547.7,4346.4,2082.95,1775.8,1146.65,74.7,1313.55,190.05,819.55,45.85,74.95,898.35,6710.5,950.2,165.4,88.8,2755.35,1169.35,5918.8,5082.8,770.6,868.5,79.1,5341.8,324.6,4812.75,50.15,264.8,99.75,299.7,59.85,418.8,69.9,1178.4,1201.15,143.65,71.65,2642.05,2661.1,1424.5,2572.95,45.1,2122.45,20.05,6937.95,402.6,46.2,43.3,4338.6,70.05,165.45,1527.5,5124.6,50.9,4872.45,5118.95,215.2,5940.85,75.35,75.45,1210.4,5356.45,825.7,93.55,6287.25,1710.45,2165.05,223.15,181.1,357.75,7040.85,6056.15,20.2,1730.35,2030.3,4065.0,340.25,69.75,1400.85,79.95,54.35,100.4,1716.45,75.3,4837.6,3004.15,1233.65,527.9,1338.15,79.5,467.55,7482.1,5427.05,1233.4,740.0,1384.75,2331.3,74.5,6941.2,6822.15,71.55,5029.2,7318.2,1253.9,25.15,92.45,1214.05,3520.75,88.35,35.9,3777.15,47.5,546.95,2847.4,1133.9,35.25,201.0,5574.75,4541.2,1715.65,706.85,2636.05,189.2,74.25,69.5,3132.75,19.4,2791.5,676.35,1230.25,4154.8,2655.25,1425.45,5742.9,2866.45,3759.05,231.8,69.75,279.25,6281.45,738.2,260.8,140.7,665.45,84.8,5426.85,1127.35,600.0,2238.5,90.75,90.35,19.75,2317.1,301.4,206.6,1471.75,412.1,583.45,151.8,293.65,765.5,793.55,462.8,477.7,86.05,174.3,1077.5,1515.1,3229.65,1178.25,758.6,329.95,1048.85,3351.55,259.8,6890.0,262.05,2649.15,74.4,560.85,451.1,1235.55,2362.1,1873.7,7101.5,45.05,1254.7,1767.35,1820.45,1742.95,829.1,824.75,1029.75,2854.55,4259.3,635.6,2095.0,4242.35,331.9,2659.4,298.45,6143.15,1059.55,2180.55,89.15,1036.75,219.0,1067.15,79.55,84.5,7690.9,1380.1,3678.3,2483.5,556.35,299.2,323.25,53.5,2365.15,7372.65,75.6,180.25,19.8,431.0,878.35,2448.75,1329.2,4348.65,93.7,5278.15,20.1,159.15,856.65,2435.15,1974.8,1218.55,81.7,2171.15,3474.05,1875.55,3066.45,255.25,338.9,2497.35,4913.3,46.3,811.8,44.15,1060.6,95.1,438.0,1148.1,188.7,5549.4,50.6,863.1,69.8,4750.95,2391.8,1687.95,7689.95,229.55,90.55,602.55,449.75,4512.7,131.05,415.05,75.35,3198.6,123.65,7534.65,237.25,74.6,342.4,438.4,3019.5,3183.4,1734.5,2088.8,502.6,50.75,2498.4,223.45,919.4,551.35,4146.05,81.0,3017.65,2710.25,178.5,2745.2,4273.45,20.1,328.95,4680.05,69.1,1888.65,374.5,3605.2,1448.6,219.65,669.0,196.75,318.9,24.45,631.85,307.4,79.05,95.0,4187.75,5154.6,3496.3,914.3,6110.2,28.3,5638.3,71.65,2542.45,4388.4,420.2,2177.45,3436.1,70.85,280.85,298.35,4534.9,45.75,815.5,874.8,69.1,1776.55,80.85,51.15,42.9,4718.25,1284.2,2979.5,24.25,2068.55,24.05,1415.55,321.9,19.75,937.6,5812.6,1544.05,4059.35,520.0,20.2,56.35,2510.2,2111.45,2043.45,2576.2,3515.25,469.8,185.6,343.95,5743.05,2496.7,368.1,68.5,791.75,346.4,773.65,2467.1,989.45,94.55,6871.9,6529.25,1454.15,1327.15,257.05,2440.15,89.1,1490.95,92.65,80.3,66.95,3046.4,25.1,1880.85,477.55,70.45,3563.8,24.75,2012.7,242.05,260.9,939.7,1037.75,3624.3,69.85,858.6,324.3,3273.55,5283.95,585.95,19.95,2186.4,661.25,69.35,5293.4,80.55,116.65,20.0,8684.8,251.75,740.3,452.7,70.0,4820.15,4211.55,990.9,790.15,7262.0,1914.9,1772.25,3067.2,20.25,74.35,62.05,3182.95,541.9,971.3,162.45,216.9,245.2,60.1,78.95,98.5,2375.4,1451.9,94.0,2597.6,1052.35,53.95,545.15,494.05,1081.45,221.9,74.9,3171.15,3186.7,1539.45,58.15,225.6,340.85,2515.3,305.95,90.85,69.4,4816.7,108.7,712.75,93.7,1046.5,834.2,851.75,575.45,1660.0,6981.35,1852.85,77.15,3030.6,930.45,673.1,208.7,237.75,4042.3,70.4,331.3,7804.15,226.45,2433.9,1217.25,69.65,713.1,3021.6,191.35,2001.5,3184.25,1587.55,1761.45,4990.25,3744.05,7220.35,2139.2,608.0,609.9,2698.35,1465.75,51.25,45.6,288.05,934.1,2335.3,453.75,1597.25,144.55,2447.95,3050.15,4517.25,19.9,1200.15,523.5,6903.1,1008.7,794.25,741.7,3019.25,19.65,84.65,354.05,3092.65,73.65,2405.05,926.25,2541.25,1156.1,1167.8,3912.9,201.1,2838.7,296.1,6252.9,55.7,973.45,7856.0,896.9,19.3,49.65,370.65,1910.6,890.6,529.5,2265.25,20.2,2470.1,20.05,667.7,19.95,79.6,75.9,76.2,19.25,649.65,503.6,1152.7,2157.95,7548.1,3432.9,463.05,71.35,20.6,1931.75,416.3,71.0,746.5,44.4,70.3,1470.95,3264.45,1389.2,1474.75,135.0,1400.55,79.45,2816.65,470.6,4740.0,1448.8,4254.85,20.2,1237.85,498.1,294.45,84.85,654.85,1422.65,4138.05,102.5,608.8,1139.2,279.55,1483.25,4653.85,460.25,5485.5,7176.55,866.45,7299.65,2291.2,7491.75,1032.0,130.75,2653.65,45.3,178.1,23.45,29.7,156.35,113.35,1359.0,1777.9,5568.35,126.05,64.55,79.25,659.65,118.5,3365.85,195.3,5275.8,80.5,305.55,900.5,3856.75,1625.0,3959.35,3969.4,80.35,880.2,69.95,93.3,169.05,2716.3,33.2,2254.2,7752.3,19.7,5643.4,197.7,79.15,49.9,49.25,5071.05,5769.6,700.85,181.7,44.65,1095.3,788.8,364.55,4213.35,7723.7,7348.8,50.5,74.4,2587.7,6219.6,4871.05,4398.15,167.3,101.45,18.85,69.65,4086.3,267.6,25.05,48.95,45.3,167.3,930.4,5069.65,324.25,156.4,3626.1,7968.85,152.45,1130.85,2249.95,327.45,1107.25,134.7,2978.3,7432.05,25.3,1193.05,20.1,69.9,4528.0,80.8,118.3,76.45,573.75,2122.05,69.15,289.1,5746.15,209.1,593.75,3014.65,184.4,2010.55,2354.8,3473.4,220.1,6876.05,733.35,1334.0,113.55,308.7,438.25,50.35,70.3,5617.75,2483.05,620.35,519.15,1301.7,95.45,1135.7,99.75,871.4,334.65,45.1,449.75,4414.3,69.35,69.6,385.0,6859.5,2196.15,20.5,265.35,679.85,106.85,130.1,4036.85,1917.1,70.65,727.8,75.75,306.6],\"yaxis\":\"y\",\"type\":\"scattergl\"}],                        {\"template\":{\"data\":{\"histogram2dcontour\":[{\"type\":\"histogram2dcontour\",\"colorbar\":{\"outlinewidth\":0,\"ticks\":\"\"},\"colorscale\":[[0.0,\"#0d0887\"],[0.1111111111111111,\"#46039f\"],[0.2222222222222222,\"#7201a8\"],[0.3333333333333333,\"#9c179e\"],[0.4444444444444444,\"#bd3786\"],[0.5555555555555556,\"#d8576b\"],[0.6666666666666666,\"#ed7953\"],[0.7777777777777778,\"#fb9f3a\"],[0.8888888888888888,\"#fdca26\"],[1.0,\"#f0f921\"]]}],\"choropleth\":[{\"type\":\"choropleth\",\"colorbar\":{\"outlinewidth\":0,\"ticks\":\"\"}}],\"histogram2d\":[{\"type\":\"histogram2d\",\"colorbar\":{\"outlinewidth\":0,\"ticks\":\"\"},\"colorscale\":[[0.0,\"#0d0887\"],[0.1111111111111111,\"#46039f\"],[0.2222222222222222,\"#7201a8\"],[0.3333333333333333,\"#9c179e\"],[0.4444444444444444,\"#bd3786\"],[0.5555555555555556,\"#d8576b\"],[0.6666666666666666,\"#ed7953\"],[0.7777777777777778,\"#fb9f3a\"],[0.8888888888888888,\"#fdca26\"],[1.0,\"#f0f921\"]]}],\"heatmap\":[{\"type\":\"heatmap\",\"colorbar\":{\"outlinewidth\":0,\"ticks\":\"\"},\"colorscale\":[[0.0,\"#0d0887\"],[0.1111111111111111,\"#46039f\"],[0.2222222222222222,\"#7201a8\"],[0.3333333333333333,\"#9c179e\"],[0.4444444444444444,\"#bd3786\"],[0.5555555555555556,\"#d8576b\"],[0.6666666666666666,\"#ed7953\"],[0.7777777777777778,\"#fb9f3a\"],[0.8888888888888888,\"#fdca26\"],[1.0,\"#f0f921\"]]}],\"heatmapgl\":[{\"type\":\"heatmapgl\",\"colorbar\":{\"outlinewidth\":0,\"ticks\":\"\"},\"colorscale\":[[0.0,\"#0d0887\"],[0.1111111111111111,\"#46039f\"],[0.2222222222222222,\"#7201a8\"],[0.3333333333333333,\"#9c179e\"],[0.4444444444444444,\"#bd3786\"],[0.5555555555555556,\"#d8576b\"],[0.6666666666666666,\"#ed7953\"],[0.7777777777777778,\"#fb9f3a\"],[0.8888888888888888,\"#fdca26\"],[1.0,\"#f0f921\"]]}],\"contourcarpet\":[{\"type\":\"contourcarpet\",\"colorbar\":{\"outlinewidth\":0,\"ticks\":\"\"}}],\"contour\":[{\"type\":\"contour\",\"colorbar\":{\"outlinewidth\":0,\"ticks\":\"\"},\"colorscale\":[[0.0,\"#0d0887\"],[0.1111111111111111,\"#46039f\"],[0.2222222222222222,\"#7201a8\"],[0.3333333333333333,\"#9c179e\"],[0.4444444444444444,\"#bd3786\"],[0.5555555555555556,\"#d8576b\"],[0.6666666666666666,\"#ed7953\"],[0.7777777777777778,\"#fb9f3a\"],[0.8888888888888888,\"#fdca26\"],[1.0,\"#f0f921\"]]}],\"surface\":[{\"type\":\"surface\",\"colorbar\":{\"outlinewidth\":0,\"ticks\":\"\"},\"colorscale\":[[0.0,\"#0d0887\"],[0.1111111111111111,\"#46039f\"],[0.2222222222222222,\"#7201a8\"],[0.3333333333333333,\"#9c179e\"],[0.4444444444444444,\"#bd3786\"],[0.5555555555555556,\"#d8576b\"],[0.6666666666666666,\"#ed7953\"],[0.7777777777777778,\"#fb9f3a\"],[0.8888888888888888,\"#fdca26\"],[1.0,\"#f0f921\"]]}],\"mesh3d\":[{\"type\":\"mesh3d\",\"colorbar\":{\"outlinewidth\":0,\"ticks\":\"\"}}],\"scatter\":[{\"fillpattern\":{\"fillmode\":\"overlay\",\"size\":10,\"solidity\":0.2},\"type\":\"scatter\"}],\"parcoords\":[{\"type\":\"parcoords\",\"line\":{\"colorbar\":{\"outlinewidth\":0,\"ticks\":\"\"}}}],\"scatterpolargl\":[{\"type\":\"scatterpolargl\",\"marker\":{\"colorbar\":{\"outlinewidth\":0,\"ticks\":\"\"}}}],\"bar\":[{\"error_x\":{\"color\":\"#2a3f5f\"},\"error_y\":{\"color\":\"#2a3f5f\"},\"marker\":{\"line\":{\"color\":\"#E5ECF6\",\"width\":0.5},\"pattern\":{\"fillmode\":\"overlay\",\"size\":10,\"solidity\":0.2}},\"type\":\"bar\"}],\"scattergeo\":[{\"type\":\"scattergeo\",\"marker\":{\"colorbar\":{\"outlinewidth\":0,\"ticks\":\"\"}}}],\"scatterpolar\":[{\"type\":\"scatterpolar\",\"marker\":{\"colorbar\":{\"outlinewidth\":0,\"ticks\":\"\"}}}],\"histogram\":[{\"marker\":{\"pattern\":{\"fillmode\":\"overlay\",\"size\":10,\"solidity\":0.2}},\"type\":\"histogram\"}],\"scattergl\":[{\"type\":\"scattergl\",\"marker\":{\"colorbar\":{\"outlinewidth\":0,\"ticks\":\"\"}}}],\"scatter3d\":[{\"type\":\"scatter3d\",\"line\":{\"colorbar\":{\"outlinewidth\":0,\"ticks\":\"\"}},\"marker\":{\"colorbar\":{\"outlinewidth\":0,\"ticks\":\"\"}}}],\"scattermapbox\":[{\"type\":\"scattermapbox\",\"marker\":{\"colorbar\":{\"outlinewidth\":0,\"ticks\":\"\"}}}],\"scatterternary\":[{\"type\":\"scatterternary\",\"marker\":{\"colorbar\":{\"outlinewidth\":0,\"ticks\":\"\"}}}],\"scattercarpet\":[{\"type\":\"scattercarpet\",\"marker\":{\"colorbar\":{\"outlinewidth\":0,\"ticks\":\"\"}}}],\"carpet\":[{\"aaxis\":{\"endlinecolor\":\"#2a3f5f\",\"gridcolor\":\"white\",\"linecolor\":\"white\",\"minorgridcolor\":\"white\",\"startlinecolor\":\"#2a3f5f\"},\"baxis\":{\"endlinecolor\":\"#2a3f5f\",\"gridcolor\":\"white\",\"linecolor\":\"white\",\"minorgridcolor\":\"white\",\"startlinecolor\":\"#2a3f5f\"},\"type\":\"carpet\"}],\"table\":[{\"cells\":{\"fill\":{\"color\":\"#EBF0F8\"},\"line\":{\"color\":\"white\"}},\"header\":{\"fill\":{\"color\":\"#C8D4E3\"},\"line\":{\"color\":\"white\"}},\"type\":\"table\"}],\"barpolar\":[{\"marker\":{\"line\":{\"color\":\"#E5ECF6\",\"width\":0.5},\"pattern\":{\"fillmode\":\"overlay\",\"size\":10,\"solidity\":0.2}},\"type\":\"barpolar\"}],\"pie\":[{\"automargin\":true,\"type\":\"pie\"}]},\"layout\":{\"autotypenumbers\":\"strict\",\"colorway\":[\"#636efa\",\"#EF553B\",\"#00cc96\",\"#ab63fa\",\"#FFA15A\",\"#19d3f3\",\"#FF6692\",\"#B6E880\",\"#FF97FF\",\"#FECB52\"],\"font\":{\"color\":\"#2a3f5f\"},\"hovermode\":\"closest\",\"hoverlabel\":{\"align\":\"left\"},\"paper_bgcolor\":\"white\",\"plot_bgcolor\":\"#E5ECF6\",\"polar\":{\"bgcolor\":\"#E5ECF6\",\"angularaxis\":{\"gridcolor\":\"white\",\"linecolor\":\"white\",\"ticks\":\"\"},\"radialaxis\":{\"gridcolor\":\"white\",\"linecolor\":\"white\",\"ticks\":\"\"}},\"ternary\":{\"bgcolor\":\"#E5ECF6\",\"aaxis\":{\"gridcolor\":\"white\",\"linecolor\":\"white\",\"ticks\":\"\"},\"baxis\":{\"gridcolor\":\"white\",\"linecolor\":\"white\",\"ticks\":\"\"},\"caxis\":{\"gridcolor\":\"white\",\"linecolor\":\"white\",\"ticks\":\"\"}},\"coloraxis\":{\"colorbar\":{\"outlinewidth\":0,\"ticks\":\"\"}},\"colorscale\":{\"sequential\":[[0.0,\"#0d0887\"],[0.1111111111111111,\"#46039f\"],[0.2222222222222222,\"#7201a8\"],[0.3333333333333333,\"#9c179e\"],[0.4444444444444444,\"#bd3786\"],[0.5555555555555556,\"#d8576b\"],[0.6666666666666666,\"#ed7953\"],[0.7777777777777778,\"#fb9f3a\"],[0.8888888888888888,\"#fdca26\"],[1.0,\"#f0f921\"]],\"sequentialminus\":[[0.0,\"#0d0887\"],[0.1111111111111111,\"#46039f\"],[0.2222222222222222,\"#7201a8\"],[0.3333333333333333,\"#9c179e\"],[0.4444444444444444,\"#bd3786\"],[0.5555555555555556,\"#d8576b\"],[0.6666666666666666,\"#ed7953\"],[0.7777777777777778,\"#fb9f3a\"],[0.8888888888888888,\"#fdca26\"],[1.0,\"#f0f921\"]],\"diverging\":[[0,\"#8e0152\"],[0.1,\"#c51b7d\"],[0.2,\"#de77ae\"],[0.3,\"#f1b6da\"],[0.4,\"#fde0ef\"],[0.5,\"#f7f7f7\"],[0.6,\"#e6f5d0\"],[0.7,\"#b8e186\"],[0.8,\"#7fbc41\"],[0.9,\"#4d9221\"],[1,\"#276419\"]]},\"xaxis\":{\"gridcolor\":\"white\",\"linecolor\":\"white\",\"ticks\":\"\",\"title\":{\"standoff\":15},\"zerolinecolor\":\"white\",\"automargin\":true,\"zerolinewidth\":2},\"yaxis\":{\"gridcolor\":\"white\",\"linecolor\":\"white\",\"ticks\":\"\",\"title\":{\"standoff\":15},\"zerolinecolor\":\"white\",\"automargin\":true,\"zerolinewidth\":2},\"scene\":{\"xaxis\":{\"backgroundcolor\":\"#E5ECF6\",\"gridcolor\":\"white\",\"linecolor\":\"white\",\"showbackground\":true,\"ticks\":\"\",\"zerolinecolor\":\"white\",\"gridwidth\":2},\"yaxis\":{\"backgroundcolor\":\"#E5ECF6\",\"gridcolor\":\"white\",\"linecolor\":\"white\",\"showbackground\":true,\"ticks\":\"\",\"zerolinecolor\":\"white\",\"gridwidth\":2},\"zaxis\":{\"backgroundcolor\":\"#E5ECF6\",\"gridcolor\":\"white\",\"linecolor\":\"white\",\"showbackground\":true,\"ticks\":\"\",\"zerolinecolor\":\"white\",\"gridwidth\":2}},\"shapedefaults\":{\"line\":{\"color\":\"#2a3f5f\"}},\"annotationdefaults\":{\"arrowcolor\":\"#2a3f5f\",\"arrowhead\":0,\"arrowwidth\":1},\"geo\":{\"bgcolor\":\"white\",\"landcolor\":\"#E5ECF6\",\"subunitcolor\":\"white\",\"showland\":true,\"showlakes\":true,\"lakecolor\":\"white\"},\"title\":{\"x\":0.05},\"mapbox\":{\"style\":\"light\"}}},\"xaxis\":{\"anchor\":\"y\",\"domain\":[0.0,1.0],\"title\":{\"text\":\"MonthlyCharges\"}},\"yaxis\":{\"anchor\":\"x\",\"domain\":[0.0,1.0],\"title\":{\"text\":\"TotalCharges\"}},\"legend\":{\"title\":{\"text\":\"Churn, Gender\"},\"tracegroupgap\":0,\"itemsizing\":\"constant\"},\"title\":{\"text\":\"Relación entre Cargos, Abandono y Género\"}},                        {\"responsive\": true}                    ).then(function(){\n",
              "                            \n",
              "var gd = document.getElementById('5f9b6f75-f77d-4c1b-aab0-fcc3ff3e3a28');\n",
              "var x = new MutationObserver(function (mutations, observer) {{\n",
              "        var display = window.getComputedStyle(gd).display;\n",
              "        if (!display || display === 'none') {{\n",
              "            console.log([gd, 'removed!']);\n",
              "            Plotly.purge(gd);\n",
              "            observer.disconnect();\n",
              "        }}\n",
              "}});\n",
              "\n",
              "// Listen for the removal of the full notebook cells\n",
              "var notebookContainer = gd.closest('#notebook-container');\n",
              "if (notebookContainer) {{\n",
              "    x.observe(notebookContainer, {childList: true});\n",
              "}}\n",
              "\n",
              "// Listen for the clearing of the current output cell\n",
              "var outputEl = gd.closest('.output');\n",
              "if (outputEl) {{\n",
              "    x.observe(outputEl, {childList: true});\n",
              "}}\n",
              "\n",
              "                        })                };                            </script>        </div>\n",
              "</body>\n",
              "</html>"
            ]
          },
          "metadata": {},
          "output_type": "display_data"
        }
      ],
      "source": [
        "fig = px.scatter(\n",
        "    df,\n",
        "    x='MonthlyCharges',\n",
        "    y='TotalCharges',\n",
        "    size='Tenure',\n",
        "    color='Churn',\n",
        "    symbol='Gender',\n",
        "    title='Relación entre Cargos, Abandono y Género'\n",
        ")\n",
        "fig.show()"
      ]
    },
    {
      "cell_type": "markdown",
      "metadata": {
        "id": "zbRCqcLl-JU0"
      },
      "source": [
        "\n",
        "En este gráfico de dispersión se observa que el tamaño de las figuras de \"Yes\" es decir de los abandonos es más pequeño, por lo que el tiempo en la compañia era menor. Esto indica que el abandono ocurre principalmente en los primeros meses de contrato."
      ]
    },
    {
      "cell_type": "markdown",
      "metadata": {
        "id": "zwYf2d4P7Bj7"
      },
      "source": [
        "#### Visualización N 5"
      ]
    },
    {
      "cell_type": "code",
      "execution_count": 185,
      "metadata": {
        "colab": {
          "base_uri": "https://localhost:8080/",
          "height": 542
        },
        "id": "PVl6tLkV-v9O",
        "outputId": "ccb18ff1-61f0-41a4-bdfc-e01829162e6f"
      },
      "outputs": [
        {
          "data": {
            "text/html": [
              "<html>\n",
              "<head><meta charset=\"utf-8\" /></head>\n",
              "<body>\n",
              "    <div>            <script src=\"https://cdnjs.cloudflare.com/ajax/libs/mathjax/2.7.5/MathJax.js?config=TeX-AMS-MML_SVG\"></script><script type=\"text/javascript\">if (window.MathJax && window.MathJax.Hub && window.MathJax.Hub.Config) {window.MathJax.Hub.Config({SVG: {font: \"STIX-Web\"}});}</script>                <script type=\"text/javascript\">window.PlotlyConfig = {MathJaxConfig: 'local'};</script>\n",
              "        <script charset=\"utf-8\" src=\"https://cdn.plot.ly/plotly-2.35.2.min.js\"></script>                <div id=\"b1ae902b-80bd-46df-8e93-6a0710c28824\" class=\"plotly-graph-div\" style=\"height:525px; width:100%;\"></div>            <script type=\"text/javascript\">                                    window.PLOTLYENV=window.PLOTLYENV || {};                                    if (document.getElementById(\"b1ae902b-80bd-46df-8e93-6a0710c28824\")) {                    Plotly.newPlot(                        \"b1ae902b-80bd-46df-8e93-6a0710c28824\",                        [{\"alignmentgroup\":\"True\",\"hovertemplate\":\"Churn=%{x}\\u003cbr\\u003eMonthlyCharges=%{y}\\u003cextra\\u003e\\u003c\\u002fextra\\u003e\",\"legendgroup\":\"No\",\"marker\":{\"color\":\"#636efa\"},\"name\":\"No\",\"notched\":false,\"offsetgroup\":\"No\",\"orientation\":\"v\",\"showlegend\":true,\"x\":[\"No\",\"No\",\"No\",\"No\",\"No\",\"No\",\"No\",\"No\",\"No\",\"No\",\"No\",\"No\",\"No\",\"No\",\"No\",\"No\",\"No\",\"No\",\"No\",\"No\",\"No\",\"No\",\"No\",\"No\",\"No\",\"No\",\"No\",\"No\",\"No\",\"No\",\"No\",\"No\",\"No\",\"No\",\"No\",\"No\",\"No\",\"No\",\"No\",\"No\",\"No\",\"No\",\"No\",\"No\",\"No\",\"No\",\"No\",\"No\",\"No\",\"No\",\"No\",\"No\",\"No\",\"No\",\"No\",\"No\",\"No\",\"No\",\"No\",\"No\",\"No\",\"No\",\"No\",\"No\",\"No\",\"No\",\"No\",\"No\",\"No\",\"No\",\"No\",\"No\",\"No\",\"No\",\"No\",\"No\",\"No\",\"No\",\"No\",\"No\",\"No\",\"No\",\"No\",\"No\",\"No\",\"No\",\"No\",\"No\",\"No\",\"No\",\"No\",\"No\",\"No\",\"No\",\"No\",\"No\",\"No\",\"No\",\"No\",\"No\",\"No\",\"No\",\"No\",\"No\",\"No\",\"No\",\"No\",\"No\",\"No\",\"No\",\"No\",\"No\",\"No\",\"No\",\"No\",\"No\",\"No\",\"No\",\"No\",\"No\",\"No\",\"No\",\"No\",\"No\",\"No\",\"No\",\"No\",\"No\",\"No\",\"No\",\"No\",\"No\",\"No\",\"No\",\"No\",\"No\",\"No\",\"No\",\"No\",\"No\",\"No\",\"No\",\"No\",\"No\",\"No\",\"No\",\"No\",\"No\",\"No\",\"No\",\"No\",\"No\",\"No\",\"No\",\"No\",\"No\",\"No\",\"No\",\"No\",\"No\",\"No\",\"No\",\"No\",\"No\",\"No\",\"No\",\"No\",\"No\",\"No\",\"No\",\"No\",\"No\",\"No\",\"No\",\"No\",\"No\",\"No\",\"No\",\"No\",\"No\",\"No\",\"No\",\"No\",\"No\",\"No\",\"No\",\"No\",\"No\",\"No\",\"No\",\"No\",\"No\",\"No\",\"No\",\"No\",\"No\",\"No\",\"No\",\"No\",\"No\",\"No\",\"No\",\"No\",\"No\",\"No\",\"No\",\"No\",\"No\",\"No\",\"No\",\"No\",\"No\",\"No\",\"No\",\"No\",\"No\",\"No\",\"No\",\"No\",\"No\",\"No\",\"No\",\"No\",\"No\",\"No\",\"No\",\"No\",\"No\",\"No\",\"No\",\"No\",\"No\",\"No\",\"No\",\"No\",\"No\",\"No\",\"No\",\"No\",\"No\",\"No\",\"No\",\"No\",\"No\",\"No\",\"No\",\"No\",\"No\",\"No\",\"No\",\"No\",\"No\",\"No\",\"No\",\"No\",\"No\",\"No\",\"No\",\"No\",\"No\",\"No\",\"No\",\"No\",\"No\",\"No\",\"No\",\"No\",\"No\",\"No\",\"No\",\"No\",\"No\",\"No\",\"No\",\"No\",\"No\",\"No\",\"No\",\"No\",\"No\",\"No\",\"No\",\"No\",\"No\",\"No\",\"No\",\"No\",\"No\",\"No\",\"No\",\"No\",\"No\",\"No\",\"No\",\"No\",\"No\",\"No\",\"No\",\"No\",\"No\",\"No\",\"No\",\"No\",\"No\",\"No\",\"No\",\"No\",\"No\",\"No\",\"No\",\"No\",\"No\",\"No\",\"No\",\"No\",\"No\",\"No\",\"No\",\"No\",\"No\",\"No\",\"No\",\"No\",\"No\",\"No\",\"No\",\"No\",\"No\",\"No\",\"No\",\"No\",\"No\",\"No\",\"No\",\"No\",\"No\",\"No\",\"No\",\"No\",\"No\",\"No\",\"No\",\"No\",\"No\",\"No\",\"No\",\"No\",\"No\",\"No\",\"No\",\"No\",\"No\",\"No\",\"No\",\"No\",\"No\",\"No\",\"No\",\"No\",\"No\",\"No\",\"No\",\"No\",\"No\",\"No\",\"No\",\"No\",\"No\",\"No\",\"No\",\"No\",\"No\",\"No\",\"No\",\"No\",\"No\",\"No\",\"No\",\"No\",\"No\",\"No\",\"No\",\"No\",\"No\",\"No\",\"No\",\"No\",\"No\",\"No\",\"No\",\"No\",\"No\",\"No\",\"No\",\"No\",\"No\",\"No\",\"No\",\"No\",\"No\",\"No\",\"No\",\"No\",\"No\",\"No\",\"No\",\"No\",\"No\",\"No\",\"No\",\"No\",\"No\",\"No\",\"No\",\"No\",\"No\",\"No\",\"No\",\"No\",\"No\",\"No\",\"No\",\"No\",\"No\",\"No\",\"No\",\"No\",\"No\",\"No\",\"No\",\"No\",\"No\",\"No\",\"No\",\"No\",\"No\",\"No\",\"No\",\"No\",\"No\",\"No\",\"No\",\"No\",\"No\",\"No\",\"No\",\"No\",\"No\",\"No\",\"No\",\"No\",\"No\",\"No\",\"No\",\"No\",\"No\",\"No\",\"No\",\"No\",\"No\",\"No\",\"No\",\"No\",\"No\",\"No\",\"No\",\"No\",\"No\",\"No\",\"No\",\"No\",\"No\",\"No\",\"No\",\"No\",\"No\",\"No\",\"No\",\"No\",\"No\",\"No\",\"No\",\"No\",\"No\",\"No\",\"No\",\"No\",\"No\",\"No\",\"No\",\"No\",\"No\",\"No\",\"No\",\"No\",\"No\",\"No\",\"No\",\"No\",\"No\",\"No\",\"No\",\"No\",\"No\",\"No\",\"No\",\"No\",\"No\",\"No\",\"No\",\"No\",\"No\",\"No\",\"No\",\"No\",\"No\",\"No\",\"No\",\"No\",\"No\",\"No\",\"No\",\"No\",\"No\",\"No\",\"No\",\"No\",\"No\",\"No\",\"No\",\"No\",\"No\",\"No\",\"No\",\"No\",\"No\",\"No\",\"No\",\"No\",\"No\",\"No\",\"No\",\"No\",\"No\",\"No\",\"No\",\"No\",\"No\",\"No\",\"No\",\"No\",\"No\",\"No\",\"No\",\"No\",\"No\",\"No\",\"No\",\"No\",\"No\",\"No\",\"No\",\"No\",\"No\",\"No\",\"No\",\"No\",\"No\",\"No\",\"No\",\"No\",\"No\",\"No\",\"No\",\"No\",\"No\",\"No\",\"No\",\"No\",\"No\",\"No\",\"No\",\"No\",\"No\",\"No\",\"No\",\"No\",\"No\",\"No\",\"No\",\"No\",\"No\",\"No\",\"No\",\"No\",\"No\",\"No\",\"No\",\"No\",\"No\",\"No\",\"No\",\"No\",\"No\",\"No\",\"No\",\"No\",\"No\",\"No\",\"No\",\"No\",\"No\",\"No\",\"No\",\"No\",\"No\",\"No\",\"No\",\"No\",\"No\",\"No\",\"No\",\"No\",\"No\",\"No\",\"No\",\"No\",\"No\",\"No\",\"No\",\"No\",\"No\",\"No\",\"No\",\"No\",\"No\",\"No\",\"No\",\"No\",\"No\",\"No\",\"No\",\"No\",\"No\",\"No\",\"No\",\"No\",\"No\",\"No\",\"No\",\"No\",\"No\",\"No\",\"No\",\"No\",\"No\",\"No\",\"No\",\"No\",\"No\",\"No\",\"No\",\"No\",\"No\",\"No\",\"No\",\"No\",\"No\",\"No\",\"No\",\"No\",\"No\",\"No\",\"No\",\"No\",\"No\",\"No\",\"No\",\"No\",\"No\",\"No\",\"No\",\"No\",\"No\",\"No\",\"No\",\"No\",\"No\",\"No\",\"No\",\"No\",\"No\",\"No\",\"No\",\"No\",\"No\",\"No\",\"No\",\"No\",\"No\",\"No\",\"No\",\"No\",\"No\",\"No\",\"No\",\"No\",\"No\",\"No\",\"No\",\"No\",\"No\",\"No\",\"No\",\"No\",\"No\",\"No\",\"No\",\"No\",\"No\",\"No\",\"No\",\"No\",\"No\",\"No\",\"No\",\"No\",\"No\",\"No\",\"No\",\"No\",\"No\",\"No\",\"No\",\"No\",\"No\",\"No\",\"No\",\"No\",\"No\",\"No\",\"No\",\"No\",\"No\",\"No\",\"No\",\"No\",\"No\",\"No\",\"No\",\"No\",\"No\",\"No\",\"No\",\"No\",\"No\",\"No\",\"No\",\"No\",\"No\",\"No\",\"No\",\"No\",\"No\",\"No\",\"No\",\"No\",\"No\",\"No\",\"No\",\"No\",\"No\",\"No\",\"No\",\"No\",\"No\",\"No\",\"No\",\"No\",\"No\",\"No\",\"No\",\"No\",\"No\",\"No\",\"No\",\"No\",\"No\",\"No\",\"No\",\"No\",\"No\",\"No\",\"No\",\"No\",\"No\",\"No\",\"No\",\"No\",\"No\",\"No\",\"No\",\"No\",\"No\",\"No\",\"No\",\"No\",\"No\",\"No\",\"No\",\"No\",\"No\",\"No\",\"No\",\"No\",\"No\",\"No\",\"No\",\"No\",\"No\",\"No\",\"No\",\"No\",\"No\",\"No\",\"No\",\"No\",\"No\",\"No\",\"No\",\"No\",\"No\",\"No\",\"No\",\"No\",\"No\",\"No\",\"No\",\"No\",\"No\",\"No\",\"No\",\"No\",\"No\",\"No\",\"No\",\"No\",\"No\",\"No\",\"No\",\"No\",\"No\",\"No\",\"No\",\"No\",\"No\",\"No\",\"No\",\"No\",\"No\",\"No\",\"No\",\"No\",\"No\",\"No\",\"No\",\"No\",\"No\",\"No\",\"No\",\"No\",\"No\",\"No\",\"No\",\"No\",\"No\",\"No\",\"No\",\"No\",\"No\",\"No\",\"No\",\"No\",\"No\",\"No\",\"No\",\"No\",\"No\",\"No\",\"No\",\"No\",\"No\",\"No\",\"No\",\"No\",\"No\",\"No\",\"No\",\"No\",\"No\",\"No\",\"No\",\"No\",\"No\",\"No\",\"No\",\"No\",\"No\",\"No\",\"No\",\"No\",\"No\",\"No\",\"No\",\"No\",\"No\",\"No\",\"No\",\"No\",\"No\",\"No\",\"No\",\"No\",\"No\",\"No\",\"No\",\"No\",\"No\",\"No\",\"No\",\"No\",\"No\",\"No\",\"No\",\"No\",\"No\",\"No\",\"No\",\"No\",\"No\",\"No\",\"No\",\"No\",\"No\",\"No\",\"No\",\"No\",\"No\",\"No\",\"No\",\"No\",\"No\",\"No\",\"No\",\"No\",\"No\",\"No\",\"No\",\"No\",\"No\",\"No\",\"No\",\"No\",\"No\",\"No\",\"No\",\"No\",\"No\",\"No\",\"No\",\"No\",\"No\",\"No\",\"No\",\"No\",\"No\",\"No\",\"No\",\"No\",\"No\",\"No\",\"No\",\"No\",\"No\",\"No\",\"No\",\"No\",\"No\",\"No\",\"No\",\"No\",\"No\",\"No\",\"No\",\"No\",\"No\",\"No\",\"No\",\"No\",\"No\",\"No\",\"No\",\"No\",\"No\",\"No\",\"No\",\"No\",\"No\",\"No\",\"No\",\"No\",\"No\",\"No\",\"No\",\"No\",\"No\",\"No\",\"No\",\"No\",\"No\",\"No\",\"No\",\"No\",\"No\",\"No\",\"No\",\"No\",\"No\",\"No\",\"No\",\"No\",\"No\",\"No\",\"No\",\"No\",\"No\",\"No\",\"No\",\"No\",\"No\",\"No\",\"No\",\"No\",\"No\",\"No\",\"No\",\"No\",\"No\",\"No\",\"No\",\"No\",\"No\",\"No\",\"No\",\"No\",\"No\",\"No\",\"No\",\"No\",\"No\",\"No\",\"No\",\"No\",\"No\",\"No\",\"No\",\"No\",\"No\",\"No\",\"No\",\"No\",\"No\",\"No\",\"No\",\"No\",\"No\",\"No\",\"No\",\"No\",\"No\",\"No\",\"No\",\"No\",\"No\",\"No\",\"No\",\"No\",\"No\",\"No\",\"No\",\"No\",\"No\",\"No\",\"No\",\"No\",\"No\",\"No\",\"No\",\"No\",\"No\",\"No\",\"No\",\"No\",\"No\",\"No\",\"No\",\"No\",\"No\",\"No\",\"No\",\"No\",\"No\",\"No\",\"No\",\"No\",\"No\",\"No\",\"No\",\"No\",\"No\",\"No\",\"No\",\"No\",\"No\",\"No\",\"No\",\"No\",\"No\",\"No\",\"No\",\"No\",\"No\",\"No\",\"No\",\"No\",\"No\",\"No\",\"No\",\"No\",\"No\",\"No\",\"No\",\"No\",\"No\",\"No\",\"No\",\"No\",\"No\",\"No\",\"No\",\"No\",\"No\",\"No\",\"No\",\"No\",\"No\",\"No\",\"No\",\"No\",\"No\",\"No\",\"No\",\"No\",\"No\",\"No\",\"No\",\"No\",\"No\",\"No\",\"No\",\"No\",\"No\",\"No\",\"No\",\"No\",\"No\",\"No\",\"No\",\"No\",\"No\",\"No\",\"No\",\"No\",\"No\",\"No\",\"No\",\"No\",\"No\",\"No\",\"No\",\"No\",\"No\",\"No\",\"No\",\"No\",\"No\",\"No\",\"No\",\"No\",\"No\",\"No\",\"No\",\"No\",\"No\",\"No\",\"No\",\"No\",\"No\",\"No\",\"No\",\"No\",\"No\",\"No\",\"No\",\"No\",\"No\",\"No\",\"No\",\"No\",\"No\",\"No\",\"No\",\"No\",\"No\",\"No\",\"No\",\"No\",\"No\",\"No\",\"No\",\"No\",\"No\",\"No\",\"No\",\"No\",\"No\",\"No\",\"No\",\"No\",\"No\",\"No\",\"No\",\"No\",\"No\",\"No\",\"No\",\"No\",\"No\",\"No\",\"No\",\"No\",\"No\",\"No\",\"No\",\"No\",\"No\",\"No\",\"No\",\"No\",\"No\",\"No\",\"No\",\"No\",\"No\",\"No\",\"No\",\"No\",\"No\",\"No\",\"No\",\"No\",\"No\",\"No\",\"No\",\"No\",\"No\",\"No\",\"No\",\"No\",\"No\",\"No\",\"No\",\"No\",\"No\",\"No\",\"No\",\"No\",\"No\",\"No\",\"No\",\"No\",\"No\",\"No\",\"No\",\"No\",\"No\",\"No\",\"No\",\"No\",\"No\",\"No\",\"No\",\"No\",\"No\",\"No\",\"No\",\"No\",\"No\",\"No\",\"No\",\"No\",\"No\",\"No\",\"No\",\"No\",\"No\",\"No\",\"No\",\"No\",\"No\",\"No\",\"No\",\"No\",\"No\",\"No\",\"No\",\"No\",\"No\",\"No\",\"No\",\"No\",\"No\",\"No\",\"No\",\"No\",\"No\",\"No\",\"No\",\"No\",\"No\",\"No\",\"No\",\"No\",\"No\",\"No\",\"No\",\"No\",\"No\",\"No\",\"No\",\"No\",\"No\",\"No\",\"No\",\"No\",\"No\",\"No\",\"No\",\"No\",\"No\",\"No\",\"No\",\"No\",\"No\",\"No\",\"No\",\"No\",\"No\",\"No\",\"No\",\"No\",\"No\",\"No\",\"No\",\"No\",\"No\",\"No\",\"No\",\"No\",\"No\",\"No\",\"No\",\"No\",\"No\",\"No\",\"No\",\"No\",\"No\",\"No\",\"No\",\"No\",\"No\",\"No\",\"No\",\"No\",\"No\",\"No\",\"No\",\"No\",\"No\",\"No\",\"No\",\"No\",\"No\",\"No\",\"No\",\"No\",\"No\",\"No\",\"No\",\"No\",\"No\",\"No\",\"No\",\"No\",\"No\",\"No\",\"No\",\"No\",\"No\",\"No\",\"No\",\"No\",\"No\",\"No\",\"No\",\"No\",\"No\",\"No\",\"No\",\"No\",\"No\",\"No\",\"No\",\"No\",\"No\",\"No\",\"No\",\"No\",\"No\",\"No\",\"No\",\"No\",\"No\",\"No\",\"No\",\"No\",\"No\",\"No\",\"No\",\"No\",\"No\",\"No\",\"No\",\"No\",\"No\",\"No\",\"No\",\"No\",\"No\",\"No\",\"No\",\"No\",\"No\",\"No\",\"No\",\"No\",\"No\",\"No\",\"No\",\"No\",\"No\",\"No\",\"No\",\"No\",\"No\",\"No\",\"No\",\"No\",\"No\",\"No\",\"No\",\"No\",\"No\",\"No\",\"No\",\"No\",\"No\",\"No\",\"No\",\"No\",\"No\",\"No\",\"No\",\"No\",\"No\",\"No\",\"No\",\"No\",\"No\",\"No\",\"No\",\"No\",\"No\",\"No\",\"No\",\"No\",\"No\",\"No\",\"No\",\"No\",\"No\",\"No\",\"No\",\"No\",\"No\",\"No\",\"No\",\"No\",\"No\",\"No\",\"No\",\"No\",\"No\",\"No\",\"No\",\"No\",\"No\",\"No\",\"No\",\"No\",\"No\",\"No\",\"No\",\"No\",\"No\",\"No\",\"No\",\"No\",\"No\",\"No\",\"No\",\"No\",\"No\",\"No\",\"No\",\"No\",\"No\",\"No\",\"No\",\"No\",\"No\",\"No\",\"No\",\"No\",\"No\",\"No\",\"No\",\"No\",\"No\",\"No\",\"No\",\"No\",\"No\",\"No\",\"No\",\"No\",\"No\",\"No\",\"No\",\"No\",\"No\",\"No\",\"No\",\"No\",\"No\",\"No\",\"No\",\"No\",\"No\",\"No\",\"No\",\"No\",\"No\",\"No\",\"No\",\"No\",\"No\",\"No\",\"No\",\"No\",\"No\",\"No\",\"No\",\"No\",\"No\",\"No\",\"No\",\"No\",\"No\",\"No\",\"No\",\"No\",\"No\",\"No\",\"No\",\"No\",\"No\",\"No\",\"No\",\"No\",\"No\",\"No\",\"No\",\"No\",\"No\",\"No\",\"No\",\"No\",\"No\",\"No\",\"No\",\"No\",\"No\",\"No\",\"No\",\"No\",\"No\",\"No\",\"No\",\"No\",\"No\",\"No\",\"No\",\"No\",\"No\",\"No\",\"No\",\"No\",\"No\",\"No\",\"No\",\"No\",\"No\",\"No\",\"No\",\"No\",\"No\",\"No\",\"No\",\"No\",\"No\",\"No\",\"No\",\"No\",\"No\",\"No\",\"No\",\"No\",\"No\",\"No\",\"No\",\"No\",\"No\",\"No\",\"No\",\"No\",\"No\",\"No\",\"No\",\"No\",\"No\",\"No\",\"No\",\"No\",\"No\",\"No\",\"No\",\"No\",\"No\",\"No\",\"No\",\"No\",\"No\",\"No\",\"No\",\"No\",\"No\",\"No\",\"No\",\"No\",\"No\",\"No\",\"No\",\"No\",\"No\",\"No\",\"No\",\"No\",\"No\",\"No\",\"No\",\"No\",\"No\",\"No\",\"No\",\"No\",\"No\",\"No\",\"No\",\"No\",\"No\",\"No\",\"No\",\"No\",\"No\",\"No\",\"No\",\"No\",\"No\",\"No\",\"No\",\"No\",\"No\",\"No\",\"No\",\"No\",\"No\",\"No\",\"No\",\"No\",\"No\",\"No\",\"No\",\"No\",\"No\",\"No\",\"No\",\"No\",\"No\",\"No\",\"No\",\"No\",\"No\",\"No\",\"No\",\"No\",\"No\",\"No\",\"No\",\"No\",\"No\",\"No\",\"No\",\"No\",\"No\",\"No\",\"No\",\"No\",\"No\",\"No\",\"No\",\"No\",\"No\",\"No\",\"No\",\"No\",\"No\",\"No\",\"No\",\"No\",\"No\",\"No\",\"No\",\"No\",\"No\",\"No\",\"No\",\"No\",\"No\",\"No\",\"No\",\"No\",\"No\",\"No\",\"No\",\"No\",\"No\",\"No\",\"No\",\"No\",\"No\",\"No\",\"No\",\"No\",\"No\",\"No\",\"No\",\"No\",\"No\",\"No\",\"No\",\"No\",\"No\",\"No\",\"No\",\"No\",\"No\",\"No\",\"No\",\"No\",\"No\",\"No\",\"No\",\"No\",\"No\",\"No\",\"No\",\"No\",\"No\",\"No\",\"No\",\"No\",\"No\",\"No\",\"No\",\"No\",\"No\",\"No\",\"No\",\"No\",\"No\",\"No\",\"No\",\"No\",\"No\",\"No\",\"No\",\"No\",\"No\",\"No\",\"No\",\"No\",\"No\",\"No\",\"No\",\"No\",\"No\",\"No\",\"No\",\"No\",\"No\",\"No\",\"No\",\"No\",\"No\",\"No\",\"No\",\"No\",\"No\",\"No\",\"No\",\"No\",\"No\",\"No\",\"No\",\"No\",\"No\",\"No\",\"No\",\"No\",\"No\",\"No\",\"No\",\"No\",\"No\",\"No\",\"No\",\"No\",\"No\",\"No\",\"No\",\"No\",\"No\",\"No\",\"No\",\"No\",\"No\",\"No\",\"No\",\"No\",\"No\",\"No\",\"No\",\"No\",\"No\",\"No\",\"No\",\"No\",\"No\",\"No\",\"No\",\"No\",\"No\",\"No\",\"No\",\"No\",\"No\",\"No\",\"No\",\"No\",\"No\",\"No\",\"No\",\"No\",\"No\",\"No\",\"No\",\"No\",\"No\",\"No\",\"No\",\"No\",\"No\",\"No\",\"No\",\"No\",\"No\",\"No\",\"No\",\"No\",\"No\",\"No\",\"No\",\"No\",\"No\",\"No\",\"No\",\"No\",\"No\",\"No\",\"No\",\"No\",\"No\",\"No\",\"No\",\"No\",\"No\",\"No\",\"No\",\"No\",\"No\",\"No\",\"No\",\"No\",\"No\",\"No\",\"No\",\"No\",\"No\",\"No\",\"No\",\"No\",\"No\",\"No\",\"No\",\"No\",\"No\",\"No\",\"No\",\"No\",\"No\",\"No\",\"No\",\"No\",\"No\",\"No\",\"No\",\"No\",\"No\",\"No\",\"No\",\"No\",\"No\",\"No\",\"No\",\"No\",\"No\",\"No\",\"No\",\"No\",\"No\",\"No\",\"No\",\"No\",\"No\",\"No\",\"No\",\"No\",\"No\",\"No\",\"No\",\"No\",\"No\",\"No\",\"No\",\"No\",\"No\",\"No\",\"No\",\"No\",\"No\",\"No\",\"No\",\"No\",\"No\",\"No\",\"No\",\"No\",\"No\",\"No\",\"No\",\"No\",\"No\",\"No\",\"No\",\"No\",\"No\",\"No\",\"No\",\"No\",\"No\",\"No\",\"No\",\"No\",\"No\",\"No\",\"No\",\"No\",\"No\",\"No\",\"No\",\"No\",\"No\",\"No\",\"No\",\"No\",\"No\",\"No\",\"No\",\"No\",\"No\",\"No\",\"No\",\"No\",\"No\",\"No\",\"No\",\"No\",\"No\",\"No\",\"No\",\"No\",\"No\",\"No\",\"No\",\"No\",\"No\",\"No\",\"No\",\"No\",\"No\",\"No\",\"No\",\"No\",\"No\",\"No\",\"No\",\"No\",\"No\",\"No\",\"No\",\"No\",\"No\",\"No\",\"No\",\"No\",\"No\",\"No\",\"No\",\"No\",\"No\",\"No\",\"No\",\"No\",\"No\",\"No\",\"No\",\"No\",\"No\",\"No\",\"No\",\"No\",\"No\",\"No\",\"No\",\"No\",\"No\",\"No\",\"No\",\"No\",\"No\",\"No\",\"No\",\"No\",\"No\",\"No\",\"No\",\"No\",\"No\",\"No\",\"No\",\"No\",\"No\",\"No\",\"No\",\"No\",\"No\",\"No\",\"No\",\"No\",\"No\",\"No\",\"No\",\"No\",\"No\",\"No\",\"No\",\"No\",\"No\",\"No\",\"No\",\"No\",\"No\",\"No\",\"No\",\"No\",\"No\",\"No\",\"No\",\"No\",\"No\",\"No\",\"No\",\"No\",\"No\",\"No\",\"No\",\"No\",\"No\",\"No\",\"No\",\"No\",\"No\",\"No\",\"No\",\"No\",\"No\",\"No\",\"No\",\"No\",\"No\",\"No\",\"No\",\"No\",\"No\",\"No\",\"No\",\"No\",\"No\",\"No\",\"No\",\"No\",\"No\",\"No\",\"No\",\"No\",\"No\",\"No\",\"No\",\"No\",\"No\",\"No\",\"No\",\"No\",\"No\",\"No\",\"No\",\"No\",\"No\",\"No\",\"No\",\"No\",\"No\",\"No\",\"No\",\"No\",\"No\",\"No\",\"No\",\"No\",\"No\",\"No\",\"No\",\"No\",\"No\",\"No\",\"No\",\"No\",\"No\",\"No\",\"No\",\"No\",\"No\",\"No\",\"No\",\"No\",\"No\",\"No\",\"No\",\"No\",\"No\",\"No\",\"No\",\"No\",\"No\",\"No\",\"No\",\"No\",\"No\",\"No\",\"No\",\"No\",\"No\",\"No\",\"No\",\"No\",\"No\",\"No\",\"No\",\"No\",\"No\",\"No\",\"No\",\"No\",\"No\",\"No\",\"No\",\"No\",\"No\",\"No\",\"No\",\"No\",\"No\",\"No\",\"No\",\"No\",\"No\",\"No\",\"No\",\"No\",\"No\",\"No\",\"No\",\"No\",\"No\",\"No\",\"No\",\"No\",\"No\",\"No\",\"No\",\"No\",\"No\",\"No\",\"No\",\"No\",\"No\",\"No\",\"No\",\"No\",\"No\",\"No\",\"No\",\"No\",\"No\",\"No\",\"No\",\"No\",\"No\",\"No\",\"No\",\"No\",\"No\",\"No\",\"No\",\"No\",\"No\",\"No\",\"No\",\"No\",\"No\",\"No\",\"No\",\"No\",\"No\",\"No\",\"No\",\"No\",\"No\",\"No\",\"No\",\"No\",\"No\",\"No\",\"No\",\"No\",\"No\",\"No\",\"No\",\"No\",\"No\",\"No\",\"No\",\"No\",\"No\",\"No\",\"No\",\"No\",\"No\",\"No\",\"No\",\"No\",\"No\",\"No\",\"No\",\"No\",\"No\",\"No\",\"No\",\"No\",\"No\",\"No\",\"No\",\"No\",\"No\",\"No\",\"No\",\"No\",\"No\",\"No\",\"No\",\"No\",\"No\",\"No\",\"No\",\"No\",\"No\",\"No\",\"No\",\"No\",\"No\",\"No\",\"No\",\"No\",\"No\",\"No\",\"No\",\"No\",\"No\",\"No\",\"No\",\"No\",\"No\",\"No\",\"No\",\"No\",\"No\",\"No\",\"No\",\"No\",\"No\",\"No\",\"No\",\"No\",\"No\",\"No\",\"No\",\"No\",\"No\",\"No\",\"No\",\"No\",\"No\",\"No\",\"No\",\"No\",\"No\",\"No\",\"No\",\"No\",\"No\",\"No\",\"No\",\"No\",\"No\",\"No\",\"No\",\"No\",\"No\",\"No\",\"No\",\"No\",\"No\",\"No\",\"No\",\"No\",\"No\",\"No\",\"No\",\"No\",\"No\",\"No\",\"No\",\"No\",\"No\",\"No\",\"No\",\"No\",\"No\",\"No\",\"No\",\"No\",\"No\",\"No\",\"No\",\"No\",\"No\",\"No\",\"No\",\"No\",\"No\",\"No\",\"No\",\"No\",\"No\",\"No\",\"No\",\"No\",\"No\",\"No\",\"No\",\"No\",\"No\",\"No\",\"No\",\"No\",\"No\",\"No\",\"No\",\"No\",\"No\",\"No\",\"No\",\"No\",\"No\",\"No\",\"No\",\"No\",\"No\",\"No\",\"No\",\"No\",\"No\",\"No\",\"No\",\"No\",\"No\",\"No\",\"No\",\"No\",\"No\",\"No\",\"No\",\"No\",\"No\",\"No\",\"No\",\"No\",\"No\",\"No\",\"No\",\"No\",\"No\",\"No\",\"No\",\"No\",\"No\",\"No\",\"No\",\"No\",\"No\",\"No\",\"No\",\"No\",\"No\",\"No\",\"No\",\"No\",\"No\",\"No\",\"No\",\"No\",\"No\",\"No\",\"No\",\"No\",\"No\",\"No\",\"No\",\"No\",\"No\",\"No\",\"No\",\"No\",\"No\",\"No\",\"No\",\"No\",\"No\",\"No\",\"No\",\"No\",\"No\",\"No\",\"No\",\"No\",\"No\",\"No\",\"No\",\"No\",\"No\",\"No\",\"No\",\"No\",\"No\",\"No\",\"No\",\"No\",\"No\",\"No\",\"No\",\"No\",\"No\",\"No\",\"No\",\"No\",\"No\",\"No\",\"No\",\"No\",\"No\",\"No\",\"No\",\"No\",\"No\",\"No\",\"No\",\"No\",\"No\",\"No\",\"No\",\"No\",\"No\",\"No\",\"No\",\"No\",\"No\",\"No\",\"No\",\"No\",\"No\",\"No\",\"No\",\"No\",\"No\",\"No\",\"No\",\"No\",\"No\",\"No\",\"No\",\"No\",\"No\",\"No\",\"No\",\"No\",\"No\",\"No\",\"No\",\"No\",\"No\",\"No\",\"No\",\"No\",\"No\",\"No\",\"No\",\"No\",\"No\",\"No\",\"No\",\"No\",\"No\",\"No\",\"No\",\"No\",\"No\",\"No\",\"No\",\"No\",\"No\",\"No\",\"No\",\"No\",\"No\",\"No\",\"No\",\"No\",\"No\",\"No\",\"No\",\"No\",\"No\",\"No\",\"No\",\"No\",\"No\",\"No\",\"No\",\"No\",\"No\",\"No\",\"No\",\"No\",\"No\",\"No\",\"No\",\"No\",\"No\",\"No\",\"No\",\"No\",\"No\",\"No\",\"No\",\"No\",\"No\",\"No\",\"No\",\"No\",\"No\",\"No\",\"No\",\"No\",\"No\",\"No\",\"No\",\"No\",\"No\",\"No\",\"No\",\"No\",\"No\",\"No\",\"No\",\"No\",\"No\",\"No\",\"No\",\"No\",\"No\",\"No\",\"No\",\"No\",\"No\",\"No\",\"No\",\"No\",\"No\",\"No\",\"No\",\"No\",\"No\",\"No\",\"No\",\"No\",\"No\",\"No\",\"No\",\"No\",\"No\",\"No\",\"No\",\"No\",\"No\",\"No\",\"No\",\"No\",\"No\",\"No\",\"No\",\"No\",\"No\",\"No\",\"No\",\"No\",\"No\",\"No\",\"No\",\"No\",\"No\",\"No\",\"No\",\"No\",\"No\",\"No\",\"No\",\"No\",\"No\",\"No\",\"No\",\"No\",\"No\",\"No\",\"No\",\"No\",\"No\",\"No\",\"No\",\"No\",\"No\",\"No\",\"No\",\"No\",\"No\",\"No\",\"No\",\"No\",\"No\",\"No\",\"No\",\"No\",\"No\",\"No\",\"No\",\"No\",\"No\",\"No\",\"No\",\"No\",\"No\",\"No\",\"No\",\"No\",\"No\",\"No\",\"No\",\"No\",\"No\",\"No\",\"No\",\"No\",\"No\",\"No\",\"No\",\"No\",\"No\",\"No\",\"No\",\"No\",\"No\",\"No\",\"No\",\"No\",\"No\",\"No\",\"No\",\"No\",\"No\",\"No\",\"No\",\"No\",\"No\",\"No\",\"No\",\"No\",\"No\",\"No\",\"No\",\"No\",\"No\",\"No\",\"No\",\"No\",\"No\",\"No\",\"No\",\"No\",\"No\",\"No\",\"No\",\"No\",\"No\",\"No\",\"No\",\"No\",\"No\",\"No\",\"No\",\"No\",\"No\",\"No\",\"No\",\"No\",\"No\",\"No\",\"No\",\"No\",\"No\",\"No\",\"No\",\"No\",\"No\",\"No\",\"No\",\"No\",\"No\",\"No\",\"No\",\"No\",\"No\",\"No\",\"No\",\"No\",\"No\",\"No\",\"No\",\"No\",\"No\",\"No\",\"No\",\"No\",\"No\",\"No\",\"No\",\"No\",\"No\",\"No\",\"No\",\"No\",\"No\",\"No\",\"No\",\"No\",\"No\",\"No\",\"No\",\"No\",\"No\",\"No\",\"No\",\"No\",\"No\",\"No\",\"No\",\"No\",\"No\",\"No\",\"No\",\"No\",\"No\",\"No\",\"No\",\"No\",\"No\",\"No\",\"No\",\"No\",\"No\",\"No\",\"No\",\"No\",\"No\",\"No\",\"No\",\"No\",\"No\",\"No\",\"No\",\"No\",\"No\",\"No\",\"No\",\"No\",\"No\",\"No\",\"No\",\"No\",\"No\",\"No\",\"No\",\"No\",\"No\",\"No\",\"No\",\"No\",\"No\",\"No\",\"No\",\"No\",\"No\",\"No\",\"No\",\"No\",\"No\",\"No\",\"No\",\"No\",\"No\",\"No\",\"No\",\"No\",\"No\",\"No\",\"No\",\"No\",\"No\",\"No\",\"No\",\"No\",\"No\",\"No\",\"No\",\"No\",\"No\",\"No\",\"No\",\"No\",\"No\",\"No\",\"No\",\"No\",\"No\",\"No\",\"No\",\"No\",\"No\",\"No\",\"No\",\"No\",\"No\",\"No\",\"No\",\"No\",\"No\",\"No\",\"No\",\"No\",\"No\",\"No\",\"No\",\"No\",\"No\",\"No\",\"No\",\"No\",\"No\",\"No\",\"No\",\"No\",\"No\",\"No\",\"No\",\"No\",\"No\",\"No\",\"No\",\"No\",\"No\",\"No\",\"No\",\"No\",\"No\",\"No\",\"No\",\"No\",\"No\",\"No\",\"No\",\"No\",\"No\",\"No\",\"No\",\"No\",\"No\",\"No\",\"No\",\"No\",\"No\",\"No\",\"No\",\"No\",\"No\",\"No\",\"No\",\"No\",\"No\",\"No\",\"No\",\"No\",\"No\",\"No\",\"No\",\"No\",\"No\",\"No\",\"No\",\"No\",\"No\",\"No\",\"No\",\"No\",\"No\",\"No\",\"No\",\"No\",\"No\",\"No\",\"No\",\"No\",\"No\",\"No\",\"No\",\"No\",\"No\",\"No\",\"No\",\"No\",\"No\",\"No\",\"No\",\"No\",\"No\",\"No\",\"No\",\"No\",\"No\",\"No\",\"No\",\"No\",\"No\",\"No\",\"No\",\"No\",\"No\",\"No\",\"No\",\"No\",\"No\",\"No\",\"No\",\"No\",\"No\",\"No\",\"No\",\"No\",\"No\",\"No\",\"No\",\"No\",\"No\",\"No\",\"No\",\"No\",\"No\",\"No\",\"No\",\"No\",\"No\",\"No\",\"No\",\"No\",\"No\",\"No\",\"No\",\"No\",\"No\",\"No\",\"No\",\"No\",\"No\",\"No\",\"No\",\"No\",\"No\",\"No\",\"No\",\"No\",\"No\",\"No\",\"No\",\"No\",\"No\",\"No\",\"No\",\"No\",\"No\",\"No\",\"No\",\"No\",\"No\",\"No\",\"No\",\"No\",\"No\",\"No\",\"No\",\"No\",\"No\",\"No\",\"No\",\"No\",\"No\",\"No\",\"No\",\"No\",\"No\",\"No\",\"No\",\"No\",\"No\",\"No\",\"No\",\"No\",\"No\",\"No\",\"No\",\"No\",\"No\",\"No\",\"No\",\"No\",\"No\",\"No\",\"No\",\"No\",\"No\",\"No\",\"No\",\"No\",\"No\",\"No\",\"No\",\"No\",\"No\",\"No\",\"No\",\"No\",\"No\",\"No\",\"No\",\"No\",\"No\",\"No\",\"No\",\"No\",\"No\",\"No\",\"No\",\"No\",\"No\",\"No\",\"No\",\"No\",\"No\",\"No\",\"No\",\"No\",\"No\",\"No\",\"No\",\"No\",\"No\",\"No\",\"No\",\"No\",\"No\",\"No\",\"No\",\"No\",\"No\",\"No\",\"No\",\"No\",\"No\",\"No\",\"No\",\"No\",\"No\",\"No\",\"No\",\"No\",\"No\",\"No\",\"No\",\"No\",\"No\",\"No\",\"No\",\"No\",\"No\",\"No\",\"No\",\"No\",\"No\",\"No\",\"No\",\"No\",\"No\",\"No\",\"No\",\"No\",\"No\",\"No\",\"No\",\"No\",\"No\",\"No\",\"No\",\"No\",\"No\",\"No\",\"No\",\"No\",\"No\",\"No\",\"No\",\"No\",\"No\",\"No\",\"No\",\"No\",\"No\",\"No\",\"No\",\"No\",\"No\",\"No\",\"No\",\"No\",\"No\",\"No\",\"No\",\"No\",\"No\",\"No\",\"No\",\"No\",\"No\",\"No\",\"No\",\"No\",\"No\",\"No\",\"No\",\"No\",\"No\",\"No\",\"No\",\"No\",\"No\",\"No\",\"No\",\"No\",\"No\",\"No\",\"No\",\"No\",\"No\",\"No\",\"No\",\"No\",\"No\",\"No\",\"No\",\"No\",\"No\",\"No\",\"No\",\"No\",\"No\",\"No\",\"No\",\"No\",\"No\",\"No\",\"No\",\"No\",\"No\",\"No\",\"No\",\"No\",\"No\",\"No\",\"No\",\"No\",\"No\",\"No\",\"No\",\"No\",\"No\",\"No\",\"No\",\"No\",\"No\",\"No\",\"No\",\"No\",\"No\",\"No\",\"No\",\"No\",\"No\",\"No\",\"No\",\"No\",\"No\",\"No\",\"No\",\"No\",\"No\",\"No\",\"No\",\"No\",\"No\",\"No\",\"No\",\"No\",\"No\",\"No\",\"No\",\"No\",\"No\",\"No\",\"No\",\"No\",\"No\",\"No\",\"No\",\"No\",\"No\",\"No\",\"No\",\"No\",\"No\",\"No\",\"No\",\"No\",\"No\",\"No\",\"No\",\"No\",\"No\",\"No\",\"No\",\"No\",\"No\",\"No\",\"No\",\"No\",\"No\",\"No\",\"No\",\"No\",\"No\",\"No\",\"No\",\"No\",\"No\",\"No\",\"No\",\"No\",\"No\",\"No\",\"No\",\"No\",\"No\",\"No\",\"No\",\"No\",\"No\",\"No\",\"No\",\"No\",\"No\",\"No\",\"No\",\"No\",\"No\",\"No\",\"No\",\"No\",\"No\",\"No\",\"No\",\"No\",\"No\",\"No\",\"No\",\"No\",\"No\",\"No\",\"No\",\"No\",\"No\",\"No\",\"No\",\"No\",\"No\",\"No\",\"No\",\"No\",\"No\",\"No\",\"No\",\"No\",\"No\",\"No\",\"No\",\"No\",\"No\",\"No\",\"No\",\"No\",\"No\",\"No\",\"No\",\"No\",\"No\",\"No\",\"No\",\"No\",\"No\",\"No\",\"No\",\"No\",\"No\",\"No\",\"No\",\"No\",\"No\",\"No\",\"No\",\"No\",\"No\",\"No\",\"No\",\"No\",\"No\",\"No\",\"No\",\"No\",\"No\",\"No\",\"No\",\"No\",\"No\",\"No\",\"No\",\"No\",\"No\",\"No\",\"No\",\"No\",\"No\",\"No\",\"No\",\"No\",\"No\",\"No\",\"No\",\"No\",\"No\",\"No\",\"No\",\"No\",\"No\",\"No\",\"No\",\"No\",\"No\",\"No\",\"No\",\"No\",\"No\",\"No\",\"No\",\"No\",\"No\",\"No\",\"No\",\"No\",\"No\",\"No\",\"No\",\"No\",\"No\",\"No\",\"No\",\"No\",\"No\",\"No\",\"No\",\"No\",\"No\",\"No\",\"No\",\"No\",\"No\",\"No\",\"No\",\"No\",\"No\",\"No\",\"No\",\"No\",\"No\",\"No\",\"No\",\"No\",\"No\",\"No\",\"No\",\"No\",\"No\",\"No\",\"No\",\"No\",\"No\",\"No\",\"No\",\"No\",\"No\",\"No\",\"No\",\"No\",\"No\",\"No\",\"No\",\"No\",\"No\",\"No\",\"No\",\"No\",\"No\",\"No\",\"No\",\"No\",\"No\",\"No\",\"No\",\"No\",\"No\",\"No\",\"No\",\"No\",\"No\",\"No\",\"No\",\"No\",\"No\",\"No\",\"No\",\"No\",\"No\",\"No\",\"No\",\"No\",\"No\",\"No\",\"No\",\"No\",\"No\",\"No\",\"No\",\"No\",\"No\",\"No\",\"No\",\"No\",\"No\",\"No\",\"No\",\"No\",\"No\",\"No\",\"No\",\"No\",\"No\",\"No\",\"No\",\"No\",\"No\",\"No\",\"No\",\"No\",\"No\",\"No\",\"No\",\"No\",\"No\",\"No\",\"No\",\"No\",\"No\",\"No\",\"No\",\"No\",\"No\",\"No\",\"No\",\"No\",\"No\",\"No\",\"No\",\"No\",\"No\",\"No\",\"No\",\"No\",\"No\",\"No\",\"No\",\"No\",\"No\",\"No\",\"No\",\"No\",\"No\",\"No\",\"No\",\"No\",\"No\",\"No\",\"No\",\"No\",\"No\",\"No\",\"No\",\"No\",\"No\",\"No\",\"No\",\"No\",\"No\",\"No\",\"No\",\"No\",\"No\",\"No\",\"No\",\"No\",\"No\",\"No\",\"No\",\"No\",\"No\",\"No\",\"No\",\"No\",\"No\",\"No\",\"No\",\"No\",\"No\",\"No\",\"No\",\"No\",\"No\",\"No\",\"No\",\"No\",\"No\",\"No\",\"No\",\"No\",\"No\",\"No\",\"No\",\"No\",\"No\",\"No\",\"No\",\"No\",\"No\",\"No\",\"No\",\"No\",\"No\",\"No\",\"No\",\"No\",\"No\",\"No\",\"No\",\"No\",\"No\",\"No\",\"No\",\"No\",\"No\",\"No\",\"No\",\"No\",\"No\",\"No\",\"No\",\"No\",\"No\",\"No\",\"No\",\"No\",\"No\",\"No\",\"No\",\"No\",\"No\",\"No\",\"No\",\"No\",\"No\",\"No\",\"No\",\"No\",\"No\",\"No\",\"No\",\"No\",\"No\",\"No\",\"No\",\"No\",\"No\",\"No\",\"No\",\"No\",\"No\",\"No\",\"No\",\"No\",\"No\",\"No\",\"No\",\"No\",\"No\",\"No\",\"No\",\"No\",\"No\",\"No\",\"No\",\"No\",\"No\",\"No\",\"No\",\"No\",\"No\",\"No\",\"No\",\"No\",\"No\",\"No\",\"No\",\"No\",\"No\",\"No\",\"No\",\"No\",\"No\",\"No\",\"No\",\"No\",\"No\",\"No\",\"No\",\"No\",\"No\",\"No\",\"No\",\"No\",\"No\",\"No\",\"No\",\"No\",\"No\",\"No\",\"No\",\"No\",\"No\",\"No\",\"No\",\"No\",\"No\",\"No\",\"No\",\"No\",\"No\",\"No\",\"No\",\"No\",\"No\",\"No\",\"No\",\"No\",\"No\",\"No\",\"No\",\"No\",\"No\",\"No\",\"No\",\"No\",\"No\",\"No\",\"No\",\"No\",\"No\",\"No\",\"No\",\"No\",\"No\",\"No\",\"No\",\"No\",\"No\",\"No\",\"No\",\"No\",\"No\",\"No\",\"No\",\"No\",\"No\",\"No\",\"No\",\"No\",\"No\",\"No\",\"No\",\"No\",\"No\",\"No\",\"No\",\"No\",\"No\",\"No\",\"No\",\"No\",\"No\",\"No\",\"No\",\"No\",\"No\",\"No\",\"No\",\"No\",\"No\",\"No\",\"No\",\"No\",\"No\",\"No\",\"No\",\"No\",\"No\",\"No\",\"No\",\"No\",\"No\",\"No\",\"No\",\"No\",\"No\",\"No\",\"No\",\"No\",\"No\",\"No\",\"No\",\"No\",\"No\",\"No\",\"No\",\"No\",\"No\",\"No\",\"No\",\"No\",\"No\",\"No\",\"No\",\"No\",\"No\",\"No\",\"No\",\"No\",\"No\",\"No\",\"No\",\"No\",\"No\",\"No\",\"No\",\"No\",\"No\",\"No\",\"No\",\"No\",\"No\",\"No\",\"No\",\"No\",\"No\",\"No\",\"No\",\"No\",\"No\",\"No\",\"No\",\"No\",\"No\",\"No\",\"No\",\"No\",\"No\",\"No\",\"No\",\"No\",\"No\",\"No\",\"No\",\"No\",\"No\",\"No\",\"No\",\"No\",\"No\",\"No\",\"No\",\"No\",\"No\",\"No\",\"No\",\"No\",\"No\",\"No\",\"No\",\"No\",\"No\",\"No\",\"No\",\"No\",\"No\",\"No\",\"No\",\"No\",\"No\",\"No\",\"No\",\"No\",\"No\",\"No\",\"No\",\"No\",\"No\",\"No\",\"No\",\"No\",\"No\",\"No\",\"No\",\"No\",\"No\",\"No\",\"No\",\"No\",\"No\",\"No\",\"No\",\"No\",\"No\",\"No\",\"No\",\"No\",\"No\",\"No\",\"No\",\"No\",\"No\",\"No\",\"No\",\"No\",\"No\",\"No\",\"No\",\"No\",\"No\",\"No\",\"No\",\"No\",\"No\",\"No\",\"No\",\"No\",\"No\",\"No\",\"No\",\"No\",\"No\",\"No\",\"No\",\"No\",\"No\",\"No\",\"No\",\"No\",\"No\",\"No\",\"No\",\"No\",\"No\",\"No\",\"No\",\"No\",\"No\",\"No\",\"No\",\"No\",\"No\",\"No\",\"No\",\"No\",\"No\",\"No\",\"No\",\"No\",\"No\",\"No\",\"No\",\"No\",\"No\",\"No\",\"No\",\"No\",\"No\",\"No\",\"No\",\"No\",\"No\",\"No\",\"No\",\"No\",\"No\",\"No\",\"No\",\"No\",\"No\",\"No\",\"No\",\"No\",\"No\",\"No\",\"No\",\"No\",\"No\",\"No\",\"No\",\"No\",\"No\",\"No\",\"No\",\"No\",\"No\",\"No\",\"No\",\"No\",\"No\",\"No\",\"No\",\"No\",\"No\",\"No\",\"No\",\"No\",\"No\",\"No\",\"No\",\"No\",\"No\",\"No\",\"No\",\"No\",\"No\",\"No\",\"No\",\"No\",\"No\",\"No\",\"No\",\"No\",\"No\",\"No\",\"No\",\"No\",\"No\",\"No\",\"No\",\"No\",\"No\",\"No\",\"No\",\"No\",\"No\",\"No\",\"No\",\"No\",\"No\",\"No\",\"No\",\"No\",\"No\",\"No\",\"No\",\"No\",\"No\",\"No\",\"No\",\"No\",\"No\",\"No\",\"No\",\"No\",\"No\",\"No\",\"No\",\"No\",\"No\",\"No\",\"No\",\"No\",\"No\",\"No\",\"No\",\"No\",\"No\",\"No\",\"No\",\"No\",\"No\",\"No\",\"No\",\"No\",\"No\",\"No\",\"No\",\"No\",\"No\",\"No\",\"No\",\"No\",\"No\",\"No\",\"No\",\"No\",\"No\",\"No\",\"No\",\"No\",\"No\",\"No\",\"No\",\"No\",\"No\",\"No\",\"No\",\"No\",\"No\",\"No\",\"No\",\"No\",\"No\",\"No\",\"No\",\"No\",\"No\",\"No\",\"No\",\"No\",\"No\",\"No\",\"No\",\"No\",\"No\",\"No\",\"No\",\"No\",\"No\",\"No\",\"No\",\"No\",\"No\",\"No\",\"No\",\"No\",\"No\",\"No\",\"No\",\"No\",\"No\",\"No\",\"No\",\"No\",\"No\",\"No\",\"No\",\"No\",\"No\",\"No\",\"No\",\"No\",\"No\",\"No\",\"No\",\"No\",\"No\",\"No\",\"No\",\"No\",\"No\",\"No\",\"No\",\"No\",\"No\",\"No\",\"No\",\"No\",\"No\",\"No\",\"No\",\"No\",\"No\",\"No\",\"No\",\"No\",\"No\",\"No\",\"No\",\"No\",\"No\",\"No\",\"No\",\"No\",\"No\",\"No\",\"No\",\"No\",\"No\",\"No\",\"No\",\"No\",\"No\",\"No\",\"No\",\"No\",\"No\",\"No\",\"No\",\"No\",\"No\",\"No\",\"No\",\"No\",\"No\",\"No\",\"No\",\"No\",\"No\",\"No\",\"No\",\"No\",\"No\",\"No\",\"No\",\"No\",\"No\",\"No\",\"No\",\"No\",\"No\",\"No\",\"No\",\"No\",\"No\",\"No\",\"No\",\"No\",\"No\",\"No\",\"No\",\"No\",\"No\",\"No\",\"No\",\"No\",\"No\",\"No\",\"No\",\"No\",\"No\",\"No\",\"No\",\"No\",\"No\",\"No\",\"No\",\"No\",\"No\",\"No\",\"No\",\"No\",\"No\",\"No\",\"No\",\"No\",\"No\",\"No\",\"No\",\"No\",\"No\",\"No\",\"No\",\"No\",\"No\",\"No\",\"No\",\"No\",\"No\",\"No\",\"No\",\"No\",\"No\",\"No\",\"No\",\"No\",\"No\",\"No\",\"No\",\"No\",\"No\",\"No\",\"No\",\"No\",\"No\",\"No\",\"No\",\"No\",\"No\",\"No\",\"No\",\"No\",\"No\",\"No\",\"No\",\"No\",\"No\",\"No\",\"No\",\"No\",\"No\",\"No\",\"No\",\"No\",\"No\",\"No\",\"No\",\"No\",\"No\",\"No\",\"No\",\"No\",\"No\",\"No\",\"No\",\"No\",\"No\",\"No\",\"No\",\"No\",\"No\",\"No\",\"No\",\"No\",\"No\",\"No\",\"No\",\"No\",\"No\",\"No\",\"No\",\"No\",\"No\",\"No\",\"No\",\"No\",\"No\",\"No\",\"No\",\"No\",\"No\",\"No\",\"No\",\"No\",\"No\",\"No\",\"No\",\"No\",\"No\",\"No\",\"No\",\"No\",\"No\",\"No\",\"No\",\"No\",\"No\",\"No\",\"No\",\"No\",\"No\",\"No\",\"No\",\"No\",\"No\",\"No\",\"No\",\"No\",\"No\",\"No\",\"No\",\"No\",\"No\",\"No\",\"No\",\"No\",\"No\",\"No\",\"No\",\"No\",\"No\",\"No\",\"No\",\"No\",\"No\",\"No\",\"No\",\"No\",\"No\",\"No\",\"No\",\"No\",\"No\",\"No\",\"No\",\"No\",\"No\",\"No\",\"No\",\"No\",\"No\",\"No\",\"No\",\"No\",\"No\",\"No\",\"No\",\"No\",\"No\",\"No\",\"No\",\"No\",\"No\",\"No\",\"No\",\"No\",\"No\",\"No\",\"No\",\"No\",\"No\",\"No\",\"No\",\"No\",\"No\",\"No\",\"No\",\"No\",\"No\",\"No\",\"No\",\"No\",\"No\",\"No\",\"No\",\"No\",\"No\",\"No\",\"No\",\"No\",\"No\",\"No\",\"No\",\"No\",\"No\",\"No\",\"No\",\"No\",\"No\",\"No\",\"No\",\"No\",\"No\",\"No\",\"No\",\"No\",\"No\",\"No\",\"No\",\"No\",\"No\",\"No\",\"No\",\"No\",\"No\",\"No\",\"No\",\"No\",\"No\",\"No\",\"No\",\"No\",\"No\",\"No\",\"No\",\"No\",\"No\",\"No\",\"No\",\"No\",\"No\",\"No\",\"No\",\"No\",\"No\",\"No\",\"No\",\"No\",\"No\",\"No\",\"No\",\"No\",\"No\",\"No\",\"No\",\"No\",\"No\",\"No\",\"No\",\"No\",\"No\",\"No\",\"No\",\"No\",\"No\",\"No\",\"No\",\"No\",\"No\",\"No\",\"No\",\"No\",\"No\",\"No\",\"No\",\"No\",\"No\",\"No\",\"No\",\"No\",\"No\",\"No\",\"No\",\"No\",\"No\",\"No\",\"No\",\"No\",\"No\",\"No\",\"No\",\"No\",\"No\",\"No\",\"No\",\"No\",\"No\",\"No\",\"No\",\"No\",\"No\",\"No\",\"No\",\"No\",\"No\",\"No\",\"No\",\"No\",\"No\",\"No\",\"No\",\"No\",\"No\",\"No\",\"No\",\"No\",\"No\",\"No\",\"No\",\"No\",\"No\",\"No\",\"No\",\"No\",\"No\",\"No\",\"No\",\"No\",\"No\",\"No\",\"No\",\"No\",\"No\",\"No\",\"No\",\"No\",\"No\",\"No\",\"No\",\"No\",\"No\",\"No\",\"No\",\"No\",\"No\",\"No\",\"No\",\"No\",\"No\",\"No\",\"No\",\"No\",\"No\",\"No\",\"No\",\"No\",\"No\",\"No\",\"No\",\"No\",\"No\",\"No\",\"No\",\"No\",\"No\",\"No\",\"No\",\"No\",\"No\",\"No\",\"No\",\"No\",\"No\",\"No\",\"No\",\"No\",\"No\",\"No\",\"No\",\"No\",\"No\",\"No\",\"No\",\"No\",\"No\",\"No\",\"No\",\"No\",\"No\",\"No\",\"No\",\"No\",\"No\",\"No\",\"No\",\"No\",\"No\",\"No\",\"No\",\"No\",\"No\",\"No\",\"No\",\"No\",\"No\",\"No\",\"No\",\"No\",\"No\",\"No\",\"No\",\"No\",\"No\",\"No\",\"No\",\"No\",\"No\",\"No\",\"No\",\"No\",\"No\",\"No\",\"No\",\"No\",\"No\",\"No\",\"No\",\"No\",\"No\",\"No\",\"No\",\"No\",\"No\",\"No\",\"No\",\"No\",\"No\",\"No\",\"No\",\"No\",\"No\",\"No\",\"No\",\"No\",\"No\",\"No\",\"No\",\"No\",\"No\",\"No\",\"No\",\"No\",\"No\",\"No\",\"No\",\"No\",\"No\",\"No\",\"No\",\"No\",\"No\",\"No\",\"No\",\"No\",\"No\",\"No\",\"No\",\"No\",\"No\",\"No\",\"No\",\"No\",\"No\",\"No\",\"No\",\"No\",\"No\",\"No\",\"No\",\"No\",\"No\",\"No\",\"No\",\"No\",\"No\",\"No\",\"No\",\"No\",\"No\",\"No\",\"No\",\"No\",\"No\",\"No\",\"No\",\"No\",\"No\",\"No\",\"No\",\"No\",\"No\",\"No\",\"No\",\"No\",\"No\",\"No\",\"No\",\"No\",\"No\",\"No\",\"No\",\"No\",\"No\",\"No\",\"No\",\"No\",\"No\",\"No\",\"No\",\"No\",\"No\",\"No\",\"No\",\"No\",\"No\",\"No\",\"No\",\"No\",\"No\",\"No\",\"No\",\"No\",\"No\",\"No\",\"No\",\"No\",\"No\",\"No\",\"No\",\"No\",\"No\",\"No\",\"No\",\"No\",\"No\",\"No\",\"No\",\"No\",\"No\",\"No\",\"No\",\"No\",\"No\",\"No\",\"No\",\"No\",\"No\",\"No\",\"No\",\"No\",\"No\",\"No\",\"No\",\"No\",\"No\",\"No\",\"No\",\"No\",\"No\",\"No\",\"No\",\"No\",\"No\",\"No\",\"No\",\"No\",\"No\",\"No\",\"No\",\"No\",\"No\",\"No\",\"No\",\"No\",\"No\",\"No\",\"No\",\"No\",\"No\",\"No\",\"No\",\"No\",\"No\",\"No\",\"No\",\"No\",\"No\",\"No\",\"No\",\"No\",\"No\",\"No\",\"No\",\"No\",\"No\",\"No\",\"No\",\"No\",\"No\",\"No\",\"No\",\"No\",\"No\",\"No\",\"No\",\"No\",\"No\",\"No\",\"No\",\"No\",\"No\",\"No\",\"No\",\"No\",\"No\",\"No\",\"No\",\"No\",\"No\",\"No\",\"No\",\"No\",\"No\",\"No\",\"No\",\"No\",\"No\",\"No\",\"No\",\"No\",\"No\",\"No\",\"No\",\"No\",\"No\",\"No\",\"No\",\"No\",\"No\",\"No\",\"No\",\"No\",\"No\",\"No\",\"No\",\"No\",\"No\",\"No\",\"No\",\"No\",\"No\",\"No\",\"No\",\"No\",\"No\",\"No\",\"No\",\"No\",\"No\",\"No\",\"No\",\"No\",\"No\",\"No\",\"No\",\"No\",\"No\",\"No\",\"No\",\"No\",\"No\",\"No\",\"No\",\"No\",\"No\",\"No\",\"No\",\"No\",\"No\",\"No\",\"No\",\"No\",\"No\",\"No\",\"No\",\"No\",\"No\",\"No\",\"No\",\"No\",\"No\",\"No\",\"No\",\"No\",\"No\",\"No\",\"No\",\"No\",\"No\",\"No\",\"No\",\"No\",\"No\",\"No\",\"No\",\"No\",\"No\",\"No\",\"No\",\"No\",\"No\",\"No\",\"No\",\"No\",\"No\",\"No\",\"No\",\"No\",\"No\",\"No\",\"No\",\"No\",\"No\",\"No\",\"No\",\"No\",\"No\",\"No\",\"No\",\"No\",\"No\",\"No\",\"No\",\"No\",\"No\",\"No\",\"No\",\"No\",\"No\",\"No\",\"No\",\"No\",\"No\",\"No\",\"No\",\"No\",\"No\",\"No\",\"No\",\"No\",\"No\",\"No\",\"No\",\"No\",\"No\",\"No\",\"No\",\"No\",\"No\",\"No\",\"No\",\"No\",\"No\",\"No\",\"No\",\"No\",\"No\",\"No\",\"No\",\"No\",\"No\",\"No\",\"No\",\"No\",\"No\",\"No\",\"No\",\"No\",\"No\",\"No\",\"No\",\"No\",\"No\",\"No\",\"No\",\"No\",\"No\",\"No\",\"No\",\"No\",\"No\",\"No\",\"No\",\"No\",\"No\",\"No\",\"No\",\"No\",\"No\",\"No\",\"No\",\"No\",\"No\",\"No\",\"No\",\"No\",\"No\",\"No\",\"No\",\"No\",\"No\",\"No\",\"No\",\"No\",\"No\",\"No\",\"No\",\"No\",\"No\",\"No\",\"No\",\"No\",\"No\",\"No\",\"No\"],\"x0\":\" \",\"xaxis\":\"x\",\"y\":[29.85,56.95,42.3,89.1,29.75,56.15,49.95,18.95,100.35,105.5,113.25,20.65,106.7,90.05,19.8,59.9,59.6,55.3,90.25,96.35,95.5,66.15,20.2,45.25,99.9,74.8,49.55,69.2,20.75,79.85,76.2,84.5,49.25,79.75,64.15,90.25,69.5,74.85,99.65,108.45,24.95,107.5,100.5,89.9,42.1,54.4,75.3,78.9,79.2,20.15,79.85,49.05,20.4,111.6,24.25,64.5,110.5,55.65,54.65,74.75,25.9,50.55,103.8,20.15,99.3,62.15,20.65,19.95,33.75,82.05,74.7,84.0,111.05,100.9,66.85,21.0,20.2,19.45,95.0,45.55,24.3,104.15,30.15,94.35,19.4,57.95,91.65,54.6,89.85,31.05,20.65,85.2,99.8,20.7,50.7,20.85,88.95,23.55,19.75,56.45,85.95,50.55,25.7,75.0,20.2,19.6,88.05,101.05,84.3,23.95,99.05,19.6,64.5,69.5,68.55,108.15,86.1,19.7,80.9,84.15,20.15,64.25,25.7,56.0,69.7,73.9,20.6,19.9,89.05,20.4,84.25,81.95,20.55,24.7,105.35,20.55,45.3,74.75,51.8,30.4,19.65,56.6,71.9,19.75,109.7,19.3,96.55,24.1,111.35,112.25,20.75,101.9,80.05,105.55,78.3,68.85,79.95,55.45,102.45,25.25,19.75,20.0,86.8,58.75,45.25,56.6,84.2,80.0,24.75,20.2,19.35,50.6,81.15,89.9,85.3,108.0,93.5,20.25,25.15,29.6,73.15,19.75,86.6,109.2,74.7,94.4,54.8,75.35,65.0,99.0,93.5,83.7,19.85,59.55,115.1,114.35,45.0,89.85,49.85,113.3,88.1,24.9,105.0,24.25,59.75,107.05,64.95,55.0,50.55,55.15,51.2,25.4,54.45,76.0,44.35,61.2,86.8,89.35,19.7,20.25,76.05,100.8,74.55,64.9,90.4,60.3,81.85,24.8,75.55,101.15,78.75,19.25,89.05,115.05,69.35,110.05,19.9,91.5,60.0,44.8,48.6,60.05,102.7,82.9,35.9,82.65,19.85,19.2,94.9,88.15,94.8,54.65,85.75,67.45,20.5,20.25,72.1,19.45,44.95,97.0,62.8,44.6,89.15,54.1,105.25,97.1,20.2,98.8,50.3,20.55,75.9,59.95,19.15,98.65,112.6,20.6,35.75,99.75,96.1,85.1,25.35,89.65,86.75,86.2,64.8,108.1,54.75,90.4,44.0,95.6,84.8,44.3,19.9,95.05,90.05,109.9,54.6,20.05,19.75,20.05,55.9,19.7,19.8,95.4,93.95,24.45,74.95,87.35,70.65,73.25,98.7,24.8,24.3,69.85,100.55,25.7,40.7,51.65,105.1,85.95,75.6,58.25,65.2,53.45,19.75,44.45,20.85,114.05,89.85,55.05,112.95,101.55,114.65,64.8,80.4,25.05,94.75,105.5,24.7,69.75,60.2,24.4,104.15,92.9,80.8,20.0,75.1,19.65,69.45,116.05,40.05,102.1,89.7,19.9,20.65,70.05,53.6,76.05,75.7,19.65,81.45,108.5,84.5,100.15,88.6,52.55,104.8,59.0,64.05,20.4,60.9,19.8,116.25,80.7,65.2,84.05,79.45,78.0,19.85,94.3,106.45,105.45,95.0,54.3,70.05,20.05,105.4,51.6,85.5,91.25,115.75,94.7,19.6,99.9,21.1,20.05,79.95,107.15,89.55,81.55,58.45,95.65,80.6,113.1,58.95,19.55,78.95,105.05,101.9,19.75,110.3,115.6,19.35,25.6,68.75,19.9,70.6,70.2,49.3,107.25,23.6,69.7,99.5,64.3,70.85,101.9,73.5,40.4,19.25,59.6,64.9,110.85,81.05,98.05,70.5,94.55,19.65,19.0,20.0,63.25,20.1,99.15,90.4,111.9,24.9,83.5,84.3,45.6,54.85,65.55,90.35,20.4,74.55,19.95,74.25,108.65,109.55,86.65,81.0,47.85,114.55,20.55,109.8,69.5,48.85,25.25,102.85,87.55,78.55,34.55,92.05,85.05,19.7,95.15,84.25,104.6,111.65,55.0,89.85,20.35,54.55,99.45,70.9,25.4,89.85,25.25,69.65,70.0,20.1,24.8,95.1,88.85,78.8,20.35,45.25,20.05,69.55,19.5,74.75,30.2,57.8,19.85,25.55,24.85,110.35,24.55,107.95,81.4,73.8,64.4,103.75,71.1,49.9,24.6,30.1,83.4,20.45,75.25,20.55,20.05,20.65,85.15,84.95,66.5,63.3,83.15,84.9,20.55,49.25,59.6,104.65,75.3,80.1,81.0,24.7,86.0,25.4,89.15,58.25,85.65,50.35,80.35,20.2,20.55,21.25,26.25,80.85,74.2,20.35,75.5,79.05,90.15,50.6,110.45,101.0,79.35,89.85,65.0,80.45,24.1,44.05,110.8,114.95,75.05,19.25,90.05,56.7,80.15,71.35,20.25,90.35,19.7,19.85,90.35,20.8,66.85,19.9,35.8,78.85,20.4,74.25,64.8,20.45,110.65,40.3,107.0,73.35,44.8,54.75,40.6,55.3,60.85,78.4,69.65,59.85,76.9,19.85,67.65,45.0,64.2,81.7,25.55,20.0,75.65,23.8,64.2,76.8,55.2,108.55,25.25,30.4,20.05,84.6,103.7,88.0,106.35,79.15,103.1,63.95,25.8,25.55,44.85,25.05,74.1,88.8,93.25,71.4,79.2,20.4,105.0,30.85,20.55,84.85,33.15,92.0,89.8,115.8,85.15,24.85,64.35,20.5,86.05,89.0,64.8,19.8,93.4,39.0,20.5,26.4,98.2,97.55,19.95,99.7,34.8,60.15,64.75,54.65,19.3,111.25,35.8,20.05,84.35,110.5,91.2,89.3,81.1,81.2,94.3,116.1,105.55,94.4,19.5,105.6,81.35,56.4,65.35,19.95,111.25,89.0,106.1,20.05,25.2,75.4,65.55,80.7,104.55,24.15,20.45,75.4,79.7,81.7,76.3,103.75,86.45,75.1,80.6,19.3,33.6,83.25,80.85,108.05,19.9,21.05,30.15,79.85,65.5,104.1,20.5,91.35,20.5,75.6,55.1,58.95,95.1,25.45,56.75,81.75,86.1,29.8,20.5,60.9,73.25,20.85,77.35,93.85,70.1,75.95,75.25,54.95,19.5,19.6,47.85,23.75,43.8,19.75,19.15,19.6,80.3,24.35,25.25,26.1,20.0,20.7,70.3,69.55,19.85,20.0,95.85,20.75,50.15,58.65,95.9,49.5,80.1,24.4,40.05,19.5,51.05,54.35,84.7,86.1,70.35,110.0,94.9,69.75,71.6,23.65,81.85,25.1,114.7,49.15,80.9,19.3,70.2,54.25,99.3,74.0,50.25,19.8,35.5,80.75,19.55,20.05,112.4,50.2,62.25,55.7,19.65,89.25,54.0,56.75,21.1,96.65,24.5,79.2,69.55,20.05,98.85,25.75,19.6,87.65,74.75,107.45,75.35,64.95,100.45,68.5,80.55,81.25,89.55,55.7,24.8,20.0,105.2,19.55,79.75,97.45,24.25,24.6,50.15,39.6,89.85,98.85,53.85,24.25,89.45,105.25,59.5,70.55,82.5,61.6,49.05,66.25,19.4,86.05,19.15,19.25,81.95,114.65,20.0,19.8,65.15,19.65,88.95,20.2,75.2,56.8,75.5,35.6,60.25,40.35,18.85,54.85,64.3,24.65,76.1,18.7,97.95,94.1,95.1,72.35,82.7,19.9,53.8,51.55,19.65,44.05,114.0,100.4,54.25,80.0,79.2,94.3,49.8,53.75,93.45,87.9,61.05,104.05,99.25,85.7,104.85,69.15,74.45,50.45,60.0,85.25,19.45,20.75,78.9,104.5,49.4,25.0,25.55,70.15,69.4,93.15,69.55,20.2,20.4,23.75,70.45,65.75,24.6,69.25,24.65,90.4,100.85,75.35,87.2,64.4,24.7,105.85,98.3,19.45,58.7,20.15,64.5,28.5,90.45,105.15,83.15,103.2,19.45,88.8,85.9,34.2,20.15,50.3,80.15,51.25,95.2,94.8,80.25,76.1,115.55,24.65,53.6,19.45,88.2,101.15,56.8,99.4,20.1,60.7,20.95,114.85,19.25,62.8,105.5,19.85,74.1,107.5,19.55,68.8,84.45,84.5,111.2,80.6,80.7,75.6,57.6,110.6,58.2,81.0,19.7,59.55,75.55,45.1,70.95,20.9,19.95,24.6,66.7,94.8,65.85,19.95,24.65,51.25,54.25,19.4,56.25,25.15,23.95,35.4,75.35,20.4,56.05,20.0,73.05,20.5,100.75,19.95,49.65,65.65,20.45,60.95,20.35,19.5,75.2,111.45,70.15,92.0,85.5,82.15,84.4,60.9,20.25,95.3,19.85,84.35,19.85,82.3,66.8,44.6,98.45,70.7,24.95,102.5,86.55,24.3,58.35,68.75,85.8,20.1,20.35,110.8,82.85,84.35,19.55,19.95,66.25,23.3,25.3,44.55,104.1,92.55,101.45,94.55,95.5,100.3,55.5,49.85,89.55,19.15,99.8,113.05,19.95,74.15,92.0,73.85,24.45,24.8,64.85,20.75,68.95,109.4,49.0,50.25,19.9,97.8,100.3,55.8,111.15,98.55,50.05,20.85,19.5,19.35,69.5,48.8,94.5,20.65,106.05,108.3,99.65,95.9,20.0,64.95,74.6,49.2,73.75,92.3,19.2,88.65,95.95,105.4,20.25,49.05,35.55,65.1,96.85,69.75,99.2,106.8,51.25,57.75,70.85,19.55,79.5,98.15,20.25,79.15,94.25,40.2,19.95,55.35,102.15,71.1,54.1,19.65,88.45,80.4,19.25,84.8,19.5,68.6,92.6,100.55,20.55,19.6,67.45,43.55,109.85,20.65,95.4,21.0,56.2,18.4,25.75,19.6,19.8,64.2,75.75,78.95,50.3,80.3,19.85,21.1,50.0,104.75,19.85,85.9,80.8,25.25,80.55,81.5,20.9,67.25,20.35,45.05,34.65,69.35,81.55,75.4,67.8,111.4,46.3,20.4,20.05,96.1,19.65,60.65,71.7,36.0,65.2,48.95,53.5,80.45,109.05,26.3,106.8,64.95,19.35,21.1,18.85,26.0,70.35,96.9,19.55,80.4,94.65,95.75,19.55,104.1,20.1,111.55,60.5,90.95,19.7,50.95,20.05,19.4,59.45,81.5,29.05,70.6,97.2,59.2,75.9,90.05,70.95,102.6,43.8,59.0,69.95,24.35,29.45,84.4,20.65,87.1,19.85,90.35,65.5,80.95,56.15,34.4,20.75,18.8,90.8,25.6,70.8,25.4,108.8,76.85,20.25,24.8,115.65,74.6,103.15,72.1,25.1,80.15,25.4,105.4,45.75,24.45,25.0,85.25,19.6,50.15,70.55,26.4,20.15,58.85,97.55,19.65,25.25,114.45,70.7,75.55,84.8,20.65,20.45,35.65,90.45,97.65,73.85,69.1,82.75,24.4,55.25,61.35,76.75,19.4,54.75,19.7,19.9,107.95,83.8,56.4,20.1,94.9,94.2,49.9,71.05,81.65,89.45,99.0,19.05,114.45,44.25,90.55,20.4,71.4,24.85,104.45,19.8,116.45,20.05,110.75,89.7,48.7,96.6,74.3,54.3,74.85,79.95,20.05,19.4,54.9,24.45,89.65,45.4,75.7,110.65,20.55,115.15,58.55,93.25,19.35,48.75,109.05,25.0,54.9,24.75,91.15,104.35,66.05,92.2,105.2,19.6,30.4,61.5,69.4,24.75,91.05,73.65,19.4,26.2,43.85,69.7,38.55,53.1,20.65,64.45,25.1,95.15,79.35,96.65,75.5,19.7,20.5,19.2,98.35,74.35,51.35,45.65,20.3,54.2,90.65,50.9,25.05,74.85,20.5,63.55,47.95,45.0,90.05,25.3,24.3,75.95,19.7,66.4,35.75,18.8,19.4,19.3,67.45,20.1,58.9,19.45,50.5,25.1,60.7,99.0,104.4,44.05,24.1,45.55,93.8,19.7,70.65,86.45,114.1,95.2,88.55,20.75,44.65,60.2,55.45,70.3,60.4,55.8,31.1,50.95,69.1,43.95,86.5,69.95,90.95,19.9,20.15,90.6,92.0,24.85,36.0,78.5,19.95,20.65,30.5,106.1,20.5,95.5,64.6,51.1,89.1,54.95,20.45,85.95,60.35,19.8,85.35,72.1,81.05,20.5,111.8,20.2,19.7,19.85,60.5,19.55,20.9,21.05,71.5,54.65,19.2,49.8,20.5,90.4,90.25,104.6,50.2,95.5,95.4,101.3,53.1,84.85,34.25,88.6,60.15,99.95,70.7,54.8,54.8,100.3,53.6,19.35,85.6,80.8,19.6,90.7,69.75,20.0,95.25,19.95,80.85,93.3,46.35,78.75,83.55,19.6,67.85,105.65,75.5,20.15,45.2,79.25,85.7,20.1,61.8,49.9,20.4,75.4,108.15,86.25,95.7,116.85,105.75,20.15,19.6,60.95,25.05,60.3,63.95,74.3,70.6,90.55,19.45,64.45,69.65,19.5,110.5,24.7,77.4,85.4,47.6,19.4,103.85,108.45,81.0,86.65,92.95,90.35,25.15,76.4,19.55,85.35,24.8,103.15,100.75,94.1,19.35,19.9,101.05,59.1,55.85,106.05,84.1,75.3,24.7,55.8,39.7,29.5,20.15,79.55,24.8,19.65,94.05,90.75,78.85,99.5,80.55,70.2,59.45,93.35,44.95,26.1,20.2,21.25,59.4,95.0,61.9,118.65,64.45,80.15,20.2,21.0,20.45,75.85,80.45,75.5,44.45,74.55,48.15,19.65,20.15,106.6,91.0,25.4,69.95,66.85,20.15,64.85,74.85,50.5,72.9,115.05,19.0,19.55,101.1,84.1,24.15,50.1,74.6,19.75,106.8,84.5,25.05,83.7,96.6,101.1,20.2,94.05,81.0,60.25,60.85,43.95,86.05,20.25,19.4,102.65,19.9,19.55,95.5,84.15,103.2,50.2,19.95,116.25,31.2,24.45,84.2,85.65,21.2,25.55,20.2,63.85,61.95,25.75,58.2,85.85,104.9,99.85,19.55,104.0,104.4,19.5,25.25,49.85,108.95,89.9,82.0,89.95,79.35,64.05,101.15,39.1,34.6,19.55,104.45,70.5,20.35,19.45,69.9,59.7,78.35,71.45,45.85,95.85,35.7,89.55,24.95,24.85,100.8,105.35,19.65,54.45,70.5,20.1,69.35,19.8,74.4,93.05,51.2,65.6,80.55,52.7,20.85,52.15,114.95,104.45,113.65,20.6,91.55,49.85,19.8,104.15,48.2,25.1,100.15,55.9,64.4,85.3,107.45,91.3,85.95,45.2,79.2,55.5,90.25,91.25,100.9,97.7,69.85,65.6,104.65,90.45,63.7,104.5,20.1,104.3,93.25,73.45,20.7,25.25,100.5,90.6,89.4,95.45,20.45,19.95,109.15,85.7,102.05,94.7,64.4,26.8,66.05,65.2,85.05,55.8,19.95,45.0,114.9,106.4,46.1,39.7,20.05,95.75,24.4,33.6,90.45,84.0,67.4,19.7,80.35,19.6,54.2,45.2,75.1,19.7,72.75,20.05,39.2,44.75,82.65,93.9,117.15,99.25,112.55,25.7,90.3,49.4,19.4,109.7,61.25,55.3,103.75,19.5,39.5,26.05,91.05,29.65,50.2,105.3,55.45,85.45,19.8,59.25,90.7,79.05,90.7,95.0,30.25,49.85,93.0,54.55,19.7,84.8,94.45,20.85,60.0,80.45,84.95,49.65,20.2,100.5,35.75,86.45,53.8,38.55,39.9,70.05,20.1,20.3,35.65,82.95,55.65,25.2,50.8,19.65,59.8,73.55,61.4,19.9,19.45,81.5,109.55,74.4,74.9,59.65,110.45,74.45,24.55,24.55,90.65,105.05,20.45,19.55,19.7,70.45,85.65,20.55,97.95,20.0,25.25,70.9,19.85,106.35,99.5,84.7,86.05,44.55,75.85,25.0,45.0,20.5,90.45,60.45,78.45,100.55,20.35,90.75,20.25,20.05,19.6,53.8,70.2,75.5,20.35,26.05,20.6,20.1,24.3,24.5,110.5,25.25,90.1,68.75,19.2,115.1,99.65,91.45,84.75,78.75,20.25,19.9,97.75,100.4,24.45,101.1,50.9,107.2,92.2,113.4,40.55,26.0,111.95,53.8,72.1,78.85,70.75,76.15,39.1,69.95,20.05,20.05,19.45,26.9,19.2,50.0,60.0,84.55,45.45,20.05,115.55,99.0,50.55,25.0,91.55,19.35,24.85,100.4,25.0,19.25,108.25,20.15,101.3,20.0,105.3,69.85,65.25,19.8,19.6,20.05,49.4,88.4,100.6,19.45,20.3,107.65,80.45,58.85,109.6,75.15,73.0,70.1,98.65,111.45,114.9,100.55,20.4,104.35,80.45,91.35,19.9,68.35,79.1,51.0,80.55,66.7,86.4,50.05,25.7,83.4,84.65,64.75,100.15,25.25,113.0,40.65,94.95,59.9,19.8,81.8,20.0,59.6,25.0,84.35,55.55,75.35,59.3,66.1,18.8,86.45,52.1,47.4,109.15,94.95,93.55,79.5,115.05,95.15,105.4,20.1,20.05,20.7,20.35,19.7,85.45,40.4,105.2,100.65,91.0,116.75,59.1,49.8,19.3,19.65,81.4,38.9,87.95,19.85,96.35,24.15,19.1,44.0,60.6,25.65,53.95,20.4,29.35,20.45,95.1,25.25,44.9,92.65,43.7,72.6,18.95,20.5,19.95,24.5,20.6,61.05,106.65,108.25,20.4,55.3,20.25,72.95,89.45,104.65,75.2,101.15,68.75,111.05,99.0,21.0,19.4,77.2,19.45,24.85,41.35,19.6,84.45,20.25,19.65,20.65,99.3,81.05,67.6,70.15,115.0,84.8,19.7,63.15,74.0,29.1,50.05,20.0,74.65,44.4,85.4,94.1,108.9,56.2,26.1,85.45,88.95,74.35,48.85,80.1,56.05,89.8,19.1,20.35,106.05,19.65,59.85,86.1,19.45,97.1,36.65,103.9,19.75,24.55,48.7,109.55,20.65,55.2,24.05,20.45,19.25,26.35,43.8,50.15,20.45,61.4,70.75,61.15,20.25,63.85,98.7,20.0,19.3,84.4,25.1,48.25,19.85,94.2,62.15,79.3,56.25,20.3,99.0,90.6,85.9,79.2,70.35,19.35,50.15,63.8,20.55,88.55,101.4,44.6,63.75,109.25,84.6,20.45,85.75,107.95,22.95,19.45,19.7,87.0,79.95,64.0,64.9,25.75,90.15,116.1,104.95,50.0,20.45,19.85,19.95,26.45,63.4,53.95,95.1,74.1,35.5,79.2,48.8,55.45,25.4,93.5,63.9,64.85,63.8,44.45,19.95,43.35,49.65,85.1,89.8,103.05,116.0,69.9,95.1,40.25,25.75,105.35,113.6,24.0,19.4,86.1,102.65,92.85,97.75,97.95,19.95,24.6,50.95,75.6,80.75,90.4,60.25,20.2,64.15,20.25,99.0,80.3,19.55,100.75,53.75,25.6,58.35,46.35,113.75,90.4,109.3,90.3,65.25,60.65,24.1,19.5,85.95,53.5,25.45,20.5,20.85,89.9,26.0,113.2,69.05,20.1,109.65,19.2,90.0,34.0,20.4,38.6,25.25,60.6,74.75,20.6,20.4,81.7,20.3,20.0,25.0,80.45,19.75,65.65,71.0,89.2,86.75,61.5,25.1,34.05,19.95,19.95,89.7,20.4,26.3,20.7,19.45,110.8,69.3,49.35,20.35,105.6,64.45,49.9,65.65,103.3,44.45,89.9,55.05,104.1,106.6,70.5,19.6,24.05,38.1,34.25,100.05,68.65,45.8,75.75,96.4,20.55,50.95,90.5,79.4,58.75,59.45,105.7,53.3,24.3,59.9,23.95,20.15,95.65,81.0,82.45,20.5,54.4,58.6,84.8,61.4,20.4,20.15,94.45,79.8,74.05,49.15,19.4,113.65,106.0,25.95,19.1,100.55,95.4,75.15,89.15,107.9,19.5,24.95,19.5,69.95,82.85,19.0,38.85,20.35,95.0,74.4,78.45,74.3,51.05,19.2,109.1,76.45,72.8,18.95,101.75,75.45,64.1,25.65,75.1,95.85,54.4,72.75,19.85,19.05,94.85,46.25,19.35,69.6,90.7,101.4,20.25,48.8,74.35,19.35,68.75,100.2,20.85,19.35,45.0,25.5,48.9,19.6,20.0,81.3,95.2,83.3,20.3,89.85,19.8,54.65,29.35,19.15,19.1,80.55,20.25,106.0,25.5,79.6,55.25,88.05,20.4,117.6,20.0,19.65,70.55,65.8,20.05,80.0,35.4,79.6,80.25,20.45,79.6,24.7,77.3,29.75,44.9,29.8,71.95,20.75,56.3,105.25,19.55,84.45,53.65,29.9,19.7,43.7,55.3,19.85,19.65,49.45,20.45,39.7,54.5,111.6,55.55,20.55,62.1,104.5,101.8,110.6,84.9,93.2,24.4,70.55,85.0,85.8,91.1,20.1,20.05,74.8,24.8,100.85,105.1,20.4,20.0,79.4,57.2,58.6,94.8,102.5,20.35,84.9,69.2,20.85,88.5,35.0,55.15,50.95,64.0,80.2,49.3,84.35,20.05,117.2,20.1,109.95,94.75,80.0,79.65,25.2,19.9,44.8,20.3,19.2,80.05,107.35,47.85,70.8,59.1,25.55,20.25,75.55,95.3,70.25,50.3,19.85,19.35,25.0,20.3,75.35,88.0,43.8,62.05,20.1,101.35,84.05,20.9,105.9,85.05,44.1,90.2,53.45,19.95,74.65,57.5,19.65,93.8,89.25,94.15,55.6,48.7,104.9,19.9,19.4,25.05,84.45,19.3,79.85,25.55,68.4,20.65,55.15,70.6,19.95,19.0,44.1,107.6,61.55,90.7,99.25,91.7,100.7,78.45,84.3,19.55,20.45,55.6,86.8,20.95,20.05,113.65,59.5,87.8,41.9,69.85,56.3,109.55,92.15,69.5,97.0,58.35,70.4,94.3,19.55,95.95,94.8,107.75,54.6,71.3,19.5,56.3,90.55,60.8,98.8,98.15,35.35,103.15,107.75,81.4,95.7,104.8,70.95,44.95,97.65,35.65,85.25,19.5,25.1,100.05,55.7,91.15,83.85,45.9,25.1,19.7,91.5,51.3,21.1,104.75,85.75,20.3,100.75,74.15,78.55,19.85,50.7,45.0,77.8,83.45,94.8,20.1,59.9,90.1,70.95,29.2,46.6,74.3,69.3,94.3,76.45,54.0,104.25,19.95,24.95,84.75,19.75,113.65,44.9,75.25,24.6,25.0,20.95,110.6,55.5,19.45,84.85,19.6,53.45,19.8,112.1,74.2,69.0,19.35,19.8,109.2,79.15,53.65,100.2,108.65,40.65,55.35,105.6,95.7,83.2,90.05,97.65,68.05,102.1,23.4,71.05,19.45,59.45,92.2,19.85,43.9,90.5,90.45,84.6,99.15,19.95,20.5,62.1,79.5,19.55,20.35,51.7,23.3,65.1,81.2,74.5,80.5,60.3,75.0,90.15,69.05,59.7,19.85,40.75,95.7,46.3,81.3,20.0,66.15,19.6,49.8,101.75,55.15,103.95,99.65,73.7,50.05,60.25,87.3,54.25,85.3,50.0,90.95,72.25,96.1,19.85,55.3,20.1,69.5,25.15,79.65,71.25,113.8,24.55,19.7,100.5,74.45,104.1,19.05,25.0,19.05,81.9,69.7,90.15,25.35,24.65,19.55,60.0,89.9,19.4,49.8,24.1,54.25,109.9,35.5,87.55,88.4,50.8,99.0,96.55,59.75,111.5,24.25,20.5,70.4,30.55,84.9,54.5,75.35,44.45,98.05,63.9,69.15,64.65,98.85,89.6,83.25,70.25,24.5,20.1,73.0,61.4,84.3,19.9,20.4,50.75,20.45,75.75,65.4,59.75,78.5,48.95,99.65,18.25,54.55,40.65,20.45,24.8,88.8,20.05,69.8,77.15,35.05,108.1,84.05,20.2,49.2,24.6,71.65,104.9,106.5,75.5,58.5,78.9,79.2,109.45,59.2,29.15,20.05,66.5,49.55,73.6,82.65,49.0,25.2,25.45,110.9,77.75,26.2,19.9,80.85,56.35,19.3,50.4,55.25,19.1,84.05,105.2,75.75,95.3,19.85,69.1,20.25,54.75,81.45,80.2,100.3,90.95,20.0,79.85,73.55,19.3,20.15,44.55,54.45,19.65,105.0,88.7,75.15,20.25,109.1,30.75,112.9,94.05,78.85,55.3,19.35,25.35,20.45,19.35,78.65,74.75,19.9,58.35,100.5,20.05,25.65,95.0,45.45,20.0,49.2,83.25,19.25,19.65,72.8,109.65,65.0,114.1,20.65,86.95,94.75,25.35,105.45,25.4,102.55,24.0,25.6,73.5,98.25,54.4,103.1,34.2,43.75,100.65,116.05,82.0,65.15,44.8,79.8,88.85,74.95,106.85,19.3,56.1,19.7,51.3,118.6,24.15,20.3,115.5,25.05,109.1,19.65,111.3,29.9,80.6,20.8,89.95,116.05,19.55,115.25,24.8,19.9,81.25,69.95,86.4,66.3,94.65,72.1,34.7,95.95,44.8,109.4,71.05,19.7,40.25,19.85,68.25,20.15,50.95,25.15,20.25,44.0,20.25,55.8,88.9,57.65,79.15,108.05,94.8,45.9,102.6,61.35,57.55,29.25,19.6,111.75,106.5,107.7,19.3,20.05,69.95,63.7,50.9,60.4,79.25,110.1,90.7,25.3,85.2,24.35,25.1,54.55,96.6,81.15,38.5,92.9,84.7,66.0,20.75,61.45,54.5,99.75,109.75,80.85,20.3,67.8,19.8,25.7,56.15,86.7,20.4,19.65,54.35,108.1,54.45,45.35,59.0,69.45,64.95,18.85,19.8,25.05,114.3,109.2,45.05,51.0,110.45,84.65,60.05,44.65,93.25,20.25,25.45,20.6,94.1,34.8,60.75,51.35,64.05,84.8,50.15,94.6,59.75,100.25,98.9,97.7,60.25,56.25,46.2,24.9,63.35,50.1,50.15,64.65,79.6,19.5,99.55,74.0,38.9,79.55,46.3,99.35,95.8,78.15,26.1,40.35,79.2,20.9,49.9,68.9,20.25,76.0,74.0,82.3,89.4,99.15,29.45,19.8,59.15,44.75,90.8,49.55,106.7,94.45,19.45,67.95,65.25,99.45,20.35,19.95,77.4,19.7,99.7,74.8,19.15,78.95,62.85,71.55,94.95,86.1,19.55,24.8,84.05,36.25,98.6,103.65,92.9,19.9,20.1,80.5,39.85,60.5,103.85,67.8,24.85,19.35,89.0,55.0,76.15,20.3,117.35,19.75,45.2,25.2,89.75,75.0,49.95,65.7,67.05,110.9,87.95,19.8,75.7,62.15,115.15,19.5,86.55,20.4,19.8,45.65,56.4,73.3,101.35,33.6,20.7,104.05,20.25,73.7,108.75,20.15,19.75,25.95,70.05,24.05,84.75,23.05,59.95,19.55,19.6,20.05,85.55,78.6,116.8,43.55,60.8,54.9,65.2,108.2,92.0,75.1,25.05,75.15,19.5,19.3,112.2,70.3,19.6,20.25,80.65,115.75,80.6,59.55,19.05,95.65,19.95,19.4,36.1,19.75,64.1,19.75,19.7,110.2,106.35,90.55,65.9,104.5,52.5,56.1,88.75,26.0,99.4,73.15,54.65,115.55,104.45,91.15,89.7,92.4,19.9,18.85,25.75,20.95,97.05,25.4,19.7,35.0,101.25,70.2,90.95,73.85,88.05,20.1,110.3,85.15,60.95,73.55,46.0,58.55,24.6,19.75,86.35,25.5,19.0,19.55,110.1,69.75,50.6,65.6,82.1,79.1,90.65,20.55,75.75,110.0,20.85,80.35,70.15,67.45,20.75,69.9,51.1,25.55,60.0,90.55,76.4,84.95,110.1,99.65,45.4,69.0,48.65,59.85,80.65,20.55,66.4,100.2,44.55,20.35,91.8,20.2,50.35,18.8,20.45,64.75,98.7,89.45,58.75,20.7,85.6,80.3,79.8,79.85,54.1,80.9,24.5,20.15,20.05,19.6,114.3,100.3,80.0,20.85,89.95,20.0,48.75,80.0,20.35,20.25,19.4,100.4,57.95,59.5,19.2,59.55,103.95,68.95,103.1,24.7,110.2,62.45,89.55,78.9,20.35,71.45,46.35,94.65,49.9,25.45,20.75,66.1,75.4,21.05,69.35,88.85,97.0,66.4,69.2,79.5,100.65,79.7,61.4,69.8,40.55,75.65,90.7,80.5,60.6,101.15,24.95,20.3,60.0,20.25,44.75,98.0,107.7,104.7,93.9,86.45,19.4,24.95,75.0,78.2,94.2,50.05,69.55,90.1,44.65,80.35,98.1,53.35,19.55,48.95,54.2,24.45,40.15,25.6,70.35,91.7,89.2,24.1,53.85,115.6,19.75,24.05,25.3,84.3,89.75,97.95,20.0,103.9,20.7,20.15,26.0,77.35,66.05,19.9,68.15,80.85,75.5,80.6,83.2,87.55,109.4,45.55,20.7,75.3,93.4,73.75,88.15,49.2,19.65,105.15,49.0,49.8,20.95,79.3,19.5,44.15,105.5,92.7,26.25,96.95,20.45,115.8,108.2,20.2,54.9,20.15,90.35,55.75,114.6,66.8,100.3,105.35,85.2,18.95,69.8,106.15,20.55,105.75,25.25,19.75,104.85,60.95,81.15,19.1,20.8,90.15,90.1,74.1,118.75,85.9,95.0,20.15,101.3,21.2,24.2,20.3,85.3,89.6,56.25,50.95,115.85,103.65,26.1,35.1,99.1,67.25,25.0,59.55,77.8,55.1,24.15,45.25,20.25,64.75,54.6,20.7,94.75,115.8,49.45,83.8,95.35,74.05,89.6,116.6,54.2,19.3,65.05,24.05,18.75,20.15,20.0,71.0,93.6,24.4,65.25,50.55,70.7,45.25,70.3,108.95,26.45,19.65,19.05,74.75,75.8,25.1,44.45,104.3,89.0,20.15,36.15,19.2,19.25,61.2,20.45,35.05,44.0,50.35,20.0,86.4,58.4,94.1,108.9,107.4,90.85,19.9,66.4,100.7,25.6,19.85,20.75,95.8,94.65,106.65,45.85,104.35,55.45,61.15,78.95,109.2,61.3,96.85,40.55,19.8,108.25,105.05,90.45,86.4,66.9,110.7,20.0,102.1,70.15,80.05,49.2,20.5,38.25,54.95,96.6,19.9,19.9,84.6,85.25,81.25,115.5,79.0,94.65,20.8,59.5,20.05,100.45,20.6,20.3,39.55,20.45,25.25,91.25,72.45,19.7,75.1,25.0,69.15,91.55,35.8,113.15,19.85,19.8,19.9,19.7,59.1,91.15,68.95,51.55,24.4,96.8,70.05,19.5,78.75,69.2,19.55,103.65,54.7,54.15,84.85,20.0,99.25,19.35,94.75,114.05,74.9,19.8,80.85,54.65,91.7,118.6,24.55,19.45,116.15,80.6,20.3,99.8,75.0,19.9,80.3,84.3,54.05,104.9,97.25,83.05,41.1,45.0,74.55,40.2,70.5,19.75,24.65,104.25,78.35,109.7,33.45,94.6,20.2,20.3,39.4,69.15,51.35,100.05,20.3,94.45,46.4,104.05,24.9,59.6,108.5,40.55,58.95,20.75,113.15,48.8,63.05,100.85,80.55,64.4,75.2,84.9,19.3,74.65,59.05,69.1,20.55,76.55,62.5,94.9,111.65,19.9,20.45,106.05,113.45,92.55,65.6,84.35,71.1,85.15,49.7,30.2,56.35,107.55,19.85,95.9,23.85,83.85,84.8,76.1,74.55,39.2,79.55,19.6,19.55,39.15,20.1,99.95,59.8,49.75,108.5,60.15,19.05,84.0,44.55,103.45,80.65,57.2,110.75,24.7,97.05,76.35,18.9,74.45,84.4,24.4,20.05,55.5,84.3,100.2,19.4,20.4,94.75,44.35,74.55,73.6,50.1,53.0,19.85,24.35,19.55,25.05,93.8,103.75,56.75,20.8,24.45,25.6,59.65,83.3,79.55,24.45,19.2,29.8,45.5,30.05,65.65,74.05,110.75,19.7,49.5,43.95,111.15,20.6,19.65,115.8,88.65,94.5,20.1,34.65,52.3,65.0,35.45,19.7,95.6,19.85,81.85,109.3,25.4,69.8,20.0,109.9,50.3,101.5,89.15,19.4,29.9,78.8,19.3,96.8,20.65,19.8,104.6,80.05,45.15,73.15,99.1,105.35,45.65,79.95,54.45,25.1,84.7,75.85,48.8,35.2,76.25,24.9,54.3,66.3,20.9,75.35,104.45,49.45,19.45,92.15,19.85,100.25,95.7,93.15,69.7,19.8,71.35,20.75,40.6,20.35,19.75,54.4,20.45,66.15,89.85,45.05,86.85,96.75,106.65,110.15,82.85,20.1,59.45,58.6,49.7,65.85,73.5,113.65,83.4,65.65,61.35,85.9,75.65,70.9,49.85,20.1,103.05,99.7,81.9,66.2,19.75,72.6,116.5,106.8,24.95,89.25,19.25,104.55,87.2,30.75,25.7,86.2,30.1,99.35,19.2,20.1,20.35,25.65,94.55,94.4,56.1,68.25,24.75,76.25,74.35,54.15,19.45,34.95,53.65,104.0,70.35,64.85,19.65,45.9,20.0,44.8,20.35,45.8,108.95,64.35,90.8,24.95,84.7,70.8,104.4,101.5,54.3,103.95,91.1,19.95,26.45,75.1,108.1,110.15,111.5,106.5,19.9,111.1,70.7,24.85,91.2,65.6,59.45,109.95,38.5,92.55,24.5,19.7,20.6,58.0,107.45,65.5,25.45,100.15,104.45,21.15,96.2,44.4,94.35,20.3,105.75,81.15,89.55,54.75,53.75,105.75,105.85,64.2,87.7,89.3,20.15,20.05,67.2,94.55,107.5,73.0,114.75,76.05,77.9,90.65,110.45,68.7,44.85,29.8,88.9,58.75,19.85,86.9,59.65,66.4,20.15,108.1,56.9,109.6,25.15,79.15,66.75,48.8,80.7,20.55,115.1,59.7,86.45,33.7,80.1,104.05,108.75,41.1,20.35,105.9,65.5,40.45,70.45,78.8,90.1,82.45,20.25,66.25,89.7,64.55,93.65,73.6,109.75,61.45,106.4,81.9,105.2,54.6,20.55,19.7,66.05,54.05,58.9,96.9,19.1,50.0,45.4,85.45,84.1,66.25,76.9,74.6,116.95,40.65,114.35,69.7,98.65,61.65,89.35,95.4,35.4,19.95,19.25,20.4,24.75,25.35,20.0,59.75,82.5,20.35,90.8,104.95,105.25,23.75,61.3,75.8,98.0,52.0,64.4,45.8,30.5,69.15,49.25,39.35,105.1,20.1,19.75,19.75,70.4,20.45,20.35,86.2,95.65,103.8,97.2,63.55,24.95,99.0,85.55,94.0,50.3,95.0,61.4,80.55,78.5,114.3,20.05,62.65,92.7,100.45,75.2,84.75,79.5,19.8,100.9,95.3,90.95,54.5,49.6,25.0,45.45,107.75,89.1,44.75,101.6,103.15,95.65,75.1,61.35,19.7,51.0,88.85,20.05,65.1,70.15,20.75,56.05,19.95,98.6,79.0,89.45,74.2,81.0,49.6,84.6,84.2,106.3,69.05,45.4,99.35,50.75,87.1,20.15,98.7,25.2,55.7,65.35,25.3,24.25,60.5,25.1,20.05,30.25,20.2,59.9,25.15,101.3,76.95,55.3,92.45,48.45,19.35,86.7,55.7,84.25,64.65,69.2,54.65,24.75,23.95,105.0,59.85,20.05,92.15,44.8,20.9,95.4,80.35,85.1,115.05,19.95,86.15,78.85,86.55,42.4,24.25,20.5,19.6,20.25,20.6,19.8,80.2,116.4,31.65,94.15,20.65,76.85,20.15,55.25,82.15,103.0,95.1,95.15,79.8,74.8,20.45,78.35,19.1,20.0,19.95,24.0,19.15,91.3,19.15,19.75,75.5,83.75,19.4,26.5,19.15,40.9,80.25,70.8,60.2,55.2,54.15,100.4,62.55,70.45,85.5,54.5,20.75,20.35,91.0,104.8,51.1,89.8,20.55,64.05,74.85,25.0,20.3,26.35,54.7,90.25,20.65,25.45,19.5,66.15,69.1,39.1,20.05,59.8,48.6,105.35,25.1,49.75,94.75,93.0,71.9,77.55,19.85,95.25,25.05,53.15,20.15,101.25,100.55,25.3,71.8,19.7,49.85,69.6,19.75,80.8,64.2,35.0,19.2,90.65,20.0,74.65,61.2,19.95,54.8,73.45,51.45,80.45,85.3,79.3,76.5,25.4,86.85,19.65,45.55,78.1,19.3,110.5,20.3,81.35,55.3,56.55,19.7,104.05,52.85,80.65,24.65,21.3,110.2,51.05,19.8,19.9,87.3,19.85,89.4,20.0,20.05,83.25,102.9,39.1,114.5,20.2,55.8,24.2,72.8,99.85,99.5,20.25,26.0,19.9,19.05,96.5,19.85,25.7,20.3,91.55,39.4,105.7,70.25,93.75,60.0,59.8,90.65,109.0,68.1,20.4,81.95,60.55,65.6,82.5,82.3,68.15,20.3,20.2,89.2,74.8,20.2,84.4,25.15,19.8,50.85,102.4,55.5,109.75,106.4,60.0,88.8,80.05,75.55,49.55,23.9,66.4,18.8,108.4,85.95,80.9,111.8,20.6,44.6,105.1,115.15,59.8,26.3,70.55,20.05,79.85,90.05,24.45,59.95,25.35,34.3,105.05,19.3,19.15,51.4,71.85,75.4,49.7,78.75,81.6,70.4,76.1,94.0,103.95,19.95,110.8,96.1,48.8,50.55,44.65,19.45,89.3,19.25,70.5,19.65,20.85,19.65,19.35,44.0,94.4,75.4,71.0,21.2,61.05,79.95,19.7,20.3,24.35,19.75,50.3,50.25,85.35,51.65,24.0,59.85,25.45,23.9,24.15,75.7,50.85,91.6,98.9,85.0,44.3,80.2,60.9,34.2,87.15,54.3,19.1,112.75,19.95,19.5,65.55,78.8,78.2,105.25,89.25,20.65,68.7,78.65,24.75,19.75,89.1,84.7,59.9,19.95,108.9,33.6,85.85,34.85,95.3,84.6,44.95,24.7,100.3,25.45,50.7,55.0,68.4,55.05,19.8,84.45,35.9,80.75,78.65,61.75,63.7,87.6,89.15,20.0,104.4,20.05,34.3,20.65,84.25,19.65,79.85,20.2,19.8,50.35,74.6,79.15,20.35,21.05,94.7,74.95,111.95,19.85,89.75,20.05,108.95,19.65,24.9,93.2,84.8,71.75,30.35,54.85,19.5,24.2,19.35,100.65,94.1,74.55,56.15,20.35,80.55,61.25,20.45,18.9,19.6,45.2,19.45,25.45,94.9,29.3,20.25,110.5,109.4,19.95,19.6,76.6,19.6,85.3,65.85,20.05,99.4,20.0,78.45,25.1,55.0,71.1,61.55,45.9,40.3,87.1,49.5,73.8,19.2,25.0,35.3,76.75,81.0,105.55,18.8,24.9,64.9,61.35,113.95,90.15,54.1,49.8,24.4,95.0,69.9,39.95,103.25,94.25,47.05,20.55,19.65,70.2,81.0,75.9,24.7,110.25,85.0,19.75,23.9,19.95,25.15,54.15,59.8,83.85,104.9,75.3,66.65,109.5,73.85,19.3,118.2,51.45,59.45,19.5,19.55,93.55,59.3,109.8,78.1,39.9,64.9,53.4,24.9,44.7,114.0,20.25,83.85,20.2,19.95,20.35,90.0,54.2,99.1,66.9,25.85,91.05,20.95,109.2,85.8,19.65,20.5,89.65,74.35,49.45,89.1,75.15,70.65,90.05,19.4,88.75,91.0,90.8,18.95,102.4,99.9,88.7,54.3,55.7,103.95,20.15,20.05,91.95,55.65,74.7,104.15,83.65,110.05,25.5,19.5,80.7,105.1,25.15,95.65,80.8,24.85,54.75,50.75,20.15,20.05,71.6,81.45,58.4,53.7,19.6,89.4,84.2,106.1,25.75,64.95,85.45,20.05,20.7,25.3,100.6,74.0,99.4,107.45,83.6,99.05,80.1,65.3,89.55,60.8,74.5,99.15,19.25,39.45,44.85,97.2,110.55,19.9,76.95,35.4,20.45,96.75,54.2,100.1,45.25,20.85,33.45,20.2,85.9,61.0,86.9,69.4,20.35,104.3,44.95,49.45,20.6,19.55,93.5,54.55,20.05,79.45,79.85,100.0,19.6,20.2,50.4,113.35,80.0,80.95,24.9,54.9,109.25,116.3,19.9,70.35,25.6,44.45,100.15,73.85,70.1,25.25,21.05,24.95,64.5,105.95,75.85,43.6,91.25,89.75,104.4,90.15,40.3,105.25,104.0,69.65,74.3,100.9,20.25,96.9,104.1,20.1,56.55,68.6,69.05,19.7,20.05,94.4,54.95,93.7,110.25,98.9,80.45,79.4,62.8,74.9,74.85,25.85,68.3,48.4,105.05,25.15,19.5,92.95,20.7,19.35,104.35,19.55,74.05,40.1,20.1,83.55,56.85,19.55,106.15,78.95,49.75,92.4,58.2,91.95,65.25,73.1,59.75,59.8,116.6,109.3,101.4,50.65,56.15,19.2,83.0,70.1,108.3,25.25,45.35,43.9,79.3,84.9,79.25,71.05,53.75,24.25,44.25,50.05,20.15,69.35,19.35,19.15,61.0,20.5,50.2,79.6,24.9,106.9,101.35,55.35,50.55,19.5,90.65,89.85,79.0,19.55,19.9,116.25,87.75,81.3,44.3,70.35,44.45,49.15,29.45,85.3,69.1,70.35,20.6,74.15,75.05,44.6,21.45,43.45,20.05,94.15,19.55,75.9,64.15,109.55,110.8,53.45,69.95,97.0,90.6,73.55,94.35,19.4,19.75,54.6,29.8,103.05,20.3,35.1,105.7,56.25,60.35,59.8,99.65,50.65,60.9,59.65,64.7,54.85,91.35,25.1,34.0,45.9,20.5,20.35,36.1,65.8,20.35,105.8,96.75,24.4,73.05,64.35,20.5,54.75,51.15,41.95,54.35,96.0,61.45,19.65,19.0,100.0,98.7,19.8,73.8,20.05,106.2,116.55,99.7,19.7,19.5,29.15,55.0,90.8,51.0,90.1,59.05,20.3,72.95,73.55,84.3,78.0,72.1,106.75,19.25,20.55,20.0,24.65,103.5,23.85,25.8,59.45,20.05,82.55,81.25,74.3,109.7,96.35,66.6,44.5,80.1,69.05,20.4,19.7,50.1,83.45,86.65,20.15,19.4,60.05,20.35,94.05,84.1,78.75,55.55,20.1,70.3,53.65,20.75,103.4,50.8,79.0,74.6,96.5,20.1,19.4,77.55,20.05,19.85,20.2,67.45,18.55,29.75,24.2,23.55,20.45,92.3,53.65,39.65,54.65,104.8,29.3,83.85,103.65,99.05,73.35,100.05,20.35,43.95,23.5,70.7,94.3,29.15,20.85,37.7,92.45,44.15,36.05,50.25,109.75,20.3,112.35,94.3,41.15,74.65,48.25,76.15,71.1,96.55,79.3,89.6,20.5,106.3,100.35,85.6,106.15,51.1,19.9,25.7,99.4,69.7,98.35,85.45,95.9,100.75,89.2,25.75,84.1,79.3,107.05,20.05,19.5,45.3,115.15,72.95,19.65,19.55,89.55,50.35,87.25,20.8,109.25,20.35,55.9,79.2,24.0,101.35,35.45,79.4,35.2,19.65,49.85,68.75,61.9,79.9,89.75,19.4,93.65,19.9,72.9,25.6,19.75,55.7,117.5,19.85,78.9,20.65,19.65,79.75,79.95,29.9,19.75,45.0,44.8,51.1,53.15,24.7,109.95,20.8,25.6,108.4,19.55,85.1,69.05,70.15,111.15,89.35,89.1,91.25,90.35,105.55,19.1,20.4,100.45,85.7,94.0,69.85,25.85,71.1,93.35,50.55,81.3,20.7,79.05,19.05,19.6,20.2,20.9,103.6,38.8,88.4,79.7,19.3,55.75,19.95,89.65,45.85,55.95,69.0,83.55,65.7,94.9,61.9,20.0,67.7,25.15,92.85,111.3,60.6,65.5,19.95,74.6,94.6,81.15,89.05,49.2,19.45,104.3,86.05,25.2,35.15,99.65,105.35,24.3,80.7,89.85,61.1,29.05,99.7,46.0,80.4,100.05,94.0,68.95,68.45,69.0,43.85,44.5,18.7,53.55,114.6,20.1,85.5,108.75,97.85,19.55,84.05,89.4,19.7,79.85,74.45,74.1,18.8,64.4,55.8,20.05,99.15,56.75,104.15,110.8,35.75,69.9,89.2,55.65,50.7,20.0,19.1,45.55,101.05,103.7,36.25,49.4,19.9,19.8,45.05,64.55,86.25,19.75,89.1,95.55,102.6,56.3,94.2,43.05,94.0,98.85,64.35,72.0,49.7,80.7,24.2,65.45,74.35,83.2,25.0,40.2,108.35,69.5,76.0,93.6,100.55,24.45,89.55,76.1,80.5,20.55,105.4,35.75,95.1,19.3,63.1,84.95,93.4,89.2,85.2,49.95,20.65,20.15,19.2,104.95,103.5,84.8,95.05,73.35,64.1,44.4,20.05,60.0,69.5,78.7,60.65,21.15,84.8,103.2,29.6,105.65],\"y0\":\" \",\"yaxis\":\"y\",\"type\":\"box\"},{\"alignmentgroup\":\"True\",\"hovertemplate\":\"Churn=%{x}\\u003cbr\\u003eMonthlyCharges=%{y}\\u003cextra\\u003e\\u003c\\u002fextra\\u003e\",\"legendgroup\":\"Yes\",\"marker\":{\"color\":\"#EF553B\"},\"name\":\"Yes\",\"notched\":false,\"offsetgroup\":\"Yes\",\"orientation\":\"v\",\"showlegend\":true,\"x\":[\"Yes\",\"Yes\",\"Yes\",\"Yes\",\"Yes\",\"Yes\",\"Yes\",\"Yes\",\"Yes\",\"Yes\",\"Yes\",\"Yes\",\"Yes\",\"Yes\",\"Yes\",\"Yes\",\"Yes\",\"Yes\",\"Yes\",\"Yes\",\"Yes\",\"Yes\",\"Yes\",\"Yes\",\"Yes\",\"Yes\",\"Yes\",\"Yes\",\"Yes\",\"Yes\",\"Yes\",\"Yes\",\"Yes\",\"Yes\",\"Yes\",\"Yes\",\"Yes\",\"Yes\",\"Yes\",\"Yes\",\"Yes\",\"Yes\",\"Yes\",\"Yes\",\"Yes\",\"Yes\",\"Yes\",\"Yes\",\"Yes\",\"Yes\",\"Yes\",\"Yes\",\"Yes\",\"Yes\",\"Yes\",\"Yes\",\"Yes\",\"Yes\",\"Yes\",\"Yes\",\"Yes\",\"Yes\",\"Yes\",\"Yes\",\"Yes\",\"Yes\",\"Yes\",\"Yes\",\"Yes\",\"Yes\",\"Yes\",\"Yes\",\"Yes\",\"Yes\",\"Yes\",\"Yes\",\"Yes\",\"Yes\",\"Yes\",\"Yes\",\"Yes\",\"Yes\",\"Yes\",\"Yes\",\"Yes\",\"Yes\",\"Yes\",\"Yes\",\"Yes\",\"Yes\",\"Yes\",\"Yes\",\"Yes\",\"Yes\",\"Yes\",\"Yes\",\"Yes\",\"Yes\",\"Yes\",\"Yes\",\"Yes\",\"Yes\",\"Yes\",\"Yes\",\"Yes\",\"Yes\",\"Yes\",\"Yes\",\"Yes\",\"Yes\",\"Yes\",\"Yes\",\"Yes\",\"Yes\",\"Yes\",\"Yes\",\"Yes\",\"Yes\",\"Yes\",\"Yes\",\"Yes\",\"Yes\",\"Yes\",\"Yes\",\"Yes\",\"Yes\",\"Yes\",\"Yes\",\"Yes\",\"Yes\",\"Yes\",\"Yes\",\"Yes\",\"Yes\",\"Yes\",\"Yes\",\"Yes\",\"Yes\",\"Yes\",\"Yes\",\"Yes\",\"Yes\",\"Yes\",\"Yes\",\"Yes\",\"Yes\",\"Yes\",\"Yes\",\"Yes\",\"Yes\",\"Yes\",\"Yes\",\"Yes\",\"Yes\",\"Yes\",\"Yes\",\"Yes\",\"Yes\",\"Yes\",\"Yes\",\"Yes\",\"Yes\",\"Yes\",\"Yes\",\"Yes\",\"Yes\",\"Yes\",\"Yes\",\"Yes\",\"Yes\",\"Yes\",\"Yes\",\"Yes\",\"Yes\",\"Yes\",\"Yes\",\"Yes\",\"Yes\",\"Yes\",\"Yes\",\"Yes\",\"Yes\",\"Yes\",\"Yes\",\"Yes\",\"Yes\",\"Yes\",\"Yes\",\"Yes\",\"Yes\",\"Yes\",\"Yes\",\"Yes\",\"Yes\",\"Yes\",\"Yes\",\"Yes\",\"Yes\",\"Yes\",\"Yes\",\"Yes\",\"Yes\",\"Yes\",\"Yes\",\"Yes\",\"Yes\",\"Yes\",\"Yes\",\"Yes\",\"Yes\",\"Yes\",\"Yes\",\"Yes\",\"Yes\",\"Yes\",\"Yes\",\"Yes\",\"Yes\",\"Yes\",\"Yes\",\"Yes\",\"Yes\",\"Yes\",\"Yes\",\"Yes\",\"Yes\",\"Yes\",\"Yes\",\"Yes\",\"Yes\",\"Yes\",\"Yes\",\"Yes\",\"Yes\",\"Yes\",\"Yes\",\"Yes\",\"Yes\",\"Yes\",\"Yes\",\"Yes\",\"Yes\",\"Yes\",\"Yes\",\"Yes\",\"Yes\",\"Yes\",\"Yes\",\"Yes\",\"Yes\",\"Yes\",\"Yes\",\"Yes\",\"Yes\",\"Yes\",\"Yes\",\"Yes\",\"Yes\",\"Yes\",\"Yes\",\"Yes\",\"Yes\",\"Yes\",\"Yes\",\"Yes\",\"Yes\",\"Yes\",\"Yes\",\"Yes\",\"Yes\",\"Yes\",\"Yes\",\"Yes\",\"Yes\",\"Yes\",\"Yes\",\"Yes\",\"Yes\",\"Yes\",\"Yes\",\"Yes\",\"Yes\",\"Yes\",\"Yes\",\"Yes\",\"Yes\",\"Yes\",\"Yes\",\"Yes\",\"Yes\",\"Yes\",\"Yes\",\"Yes\",\"Yes\",\"Yes\",\"Yes\",\"Yes\",\"Yes\",\"Yes\",\"Yes\",\"Yes\",\"Yes\",\"Yes\",\"Yes\",\"Yes\",\"Yes\",\"Yes\",\"Yes\",\"Yes\",\"Yes\",\"Yes\",\"Yes\",\"Yes\",\"Yes\",\"Yes\",\"Yes\",\"Yes\",\"Yes\",\"Yes\",\"Yes\",\"Yes\",\"Yes\",\"Yes\",\"Yes\",\"Yes\",\"Yes\",\"Yes\",\"Yes\",\"Yes\",\"Yes\",\"Yes\",\"Yes\",\"Yes\",\"Yes\",\"Yes\",\"Yes\",\"Yes\",\"Yes\",\"Yes\",\"Yes\",\"Yes\",\"Yes\",\"Yes\",\"Yes\",\"Yes\",\"Yes\",\"Yes\",\"Yes\",\"Yes\",\"Yes\",\"Yes\",\"Yes\",\"Yes\",\"Yes\",\"Yes\",\"Yes\",\"Yes\",\"Yes\",\"Yes\",\"Yes\",\"Yes\",\"Yes\",\"Yes\",\"Yes\",\"Yes\",\"Yes\",\"Yes\",\"Yes\",\"Yes\",\"Yes\",\"Yes\",\"Yes\",\"Yes\",\"Yes\",\"Yes\",\"Yes\",\"Yes\",\"Yes\",\"Yes\",\"Yes\",\"Yes\",\"Yes\",\"Yes\",\"Yes\",\"Yes\",\"Yes\",\"Yes\",\"Yes\",\"Yes\",\"Yes\",\"Yes\",\"Yes\",\"Yes\",\"Yes\",\"Yes\",\"Yes\",\"Yes\",\"Yes\",\"Yes\",\"Yes\",\"Yes\",\"Yes\",\"Yes\",\"Yes\",\"Yes\",\"Yes\",\"Yes\",\"Yes\",\"Yes\",\"Yes\",\"Yes\",\"Yes\",\"Yes\",\"Yes\",\"Yes\",\"Yes\",\"Yes\",\"Yes\",\"Yes\",\"Yes\",\"Yes\",\"Yes\",\"Yes\",\"Yes\",\"Yes\",\"Yes\",\"Yes\",\"Yes\",\"Yes\",\"Yes\",\"Yes\",\"Yes\",\"Yes\",\"Yes\",\"Yes\",\"Yes\",\"Yes\",\"Yes\",\"Yes\",\"Yes\",\"Yes\",\"Yes\",\"Yes\",\"Yes\",\"Yes\",\"Yes\",\"Yes\",\"Yes\",\"Yes\",\"Yes\",\"Yes\",\"Yes\",\"Yes\",\"Yes\",\"Yes\",\"Yes\",\"Yes\",\"Yes\",\"Yes\",\"Yes\",\"Yes\",\"Yes\",\"Yes\",\"Yes\",\"Yes\",\"Yes\",\"Yes\",\"Yes\",\"Yes\",\"Yes\",\"Yes\",\"Yes\",\"Yes\",\"Yes\",\"Yes\",\"Yes\",\"Yes\",\"Yes\",\"Yes\",\"Yes\",\"Yes\",\"Yes\",\"Yes\",\"Yes\",\"Yes\",\"Yes\",\"Yes\",\"Yes\",\"Yes\",\"Yes\",\"Yes\",\"Yes\",\"Yes\",\"Yes\",\"Yes\",\"Yes\",\"Yes\",\"Yes\",\"Yes\",\"Yes\",\"Yes\",\"Yes\",\"Yes\",\"Yes\",\"Yes\",\"Yes\",\"Yes\",\"Yes\",\"Yes\",\"Yes\",\"Yes\",\"Yes\",\"Yes\",\"Yes\",\"Yes\",\"Yes\",\"Yes\",\"Yes\",\"Yes\",\"Yes\",\"Yes\",\"Yes\",\"Yes\",\"Yes\",\"Yes\",\"Yes\",\"Yes\",\"Yes\",\"Yes\",\"Yes\",\"Yes\",\"Yes\",\"Yes\",\"Yes\",\"Yes\",\"Yes\",\"Yes\",\"Yes\",\"Yes\",\"Yes\",\"Yes\",\"Yes\",\"Yes\",\"Yes\",\"Yes\",\"Yes\",\"Yes\",\"Yes\",\"Yes\",\"Yes\",\"Yes\",\"Yes\",\"Yes\",\"Yes\",\"Yes\",\"Yes\",\"Yes\",\"Yes\",\"Yes\",\"Yes\",\"Yes\",\"Yes\",\"Yes\",\"Yes\",\"Yes\",\"Yes\",\"Yes\",\"Yes\",\"Yes\",\"Yes\",\"Yes\",\"Yes\",\"Yes\",\"Yes\",\"Yes\",\"Yes\",\"Yes\",\"Yes\",\"Yes\",\"Yes\",\"Yes\",\"Yes\",\"Yes\",\"Yes\",\"Yes\",\"Yes\",\"Yes\",\"Yes\",\"Yes\",\"Yes\",\"Yes\",\"Yes\",\"Yes\",\"Yes\",\"Yes\",\"Yes\",\"Yes\",\"Yes\",\"Yes\",\"Yes\",\"Yes\",\"Yes\",\"Yes\",\"Yes\",\"Yes\",\"Yes\",\"Yes\",\"Yes\",\"Yes\",\"Yes\",\"Yes\",\"Yes\",\"Yes\",\"Yes\",\"Yes\",\"Yes\",\"Yes\",\"Yes\",\"Yes\",\"Yes\",\"Yes\",\"Yes\",\"Yes\",\"Yes\",\"Yes\",\"Yes\",\"Yes\",\"Yes\",\"Yes\",\"Yes\",\"Yes\",\"Yes\",\"Yes\",\"Yes\",\"Yes\",\"Yes\",\"Yes\",\"Yes\",\"Yes\",\"Yes\",\"Yes\",\"Yes\",\"Yes\",\"Yes\",\"Yes\",\"Yes\",\"Yes\",\"Yes\",\"Yes\",\"Yes\",\"Yes\",\"Yes\",\"Yes\",\"Yes\",\"Yes\",\"Yes\",\"Yes\",\"Yes\",\"Yes\",\"Yes\",\"Yes\",\"Yes\",\"Yes\",\"Yes\",\"Yes\",\"Yes\",\"Yes\",\"Yes\",\"Yes\",\"Yes\",\"Yes\",\"Yes\",\"Yes\",\"Yes\",\"Yes\",\"Yes\",\"Yes\",\"Yes\",\"Yes\",\"Yes\",\"Yes\",\"Yes\",\"Yes\",\"Yes\",\"Yes\",\"Yes\",\"Yes\",\"Yes\",\"Yes\",\"Yes\",\"Yes\",\"Yes\",\"Yes\",\"Yes\",\"Yes\",\"Yes\",\"Yes\",\"Yes\",\"Yes\",\"Yes\",\"Yes\",\"Yes\",\"Yes\",\"Yes\",\"Yes\",\"Yes\",\"Yes\",\"Yes\",\"Yes\",\"Yes\",\"Yes\",\"Yes\",\"Yes\",\"Yes\",\"Yes\",\"Yes\",\"Yes\",\"Yes\",\"Yes\",\"Yes\",\"Yes\",\"Yes\",\"Yes\",\"Yes\",\"Yes\",\"Yes\",\"Yes\",\"Yes\",\"Yes\",\"Yes\",\"Yes\",\"Yes\",\"Yes\",\"Yes\",\"Yes\",\"Yes\",\"Yes\",\"Yes\",\"Yes\",\"Yes\",\"Yes\",\"Yes\",\"Yes\",\"Yes\",\"Yes\",\"Yes\",\"Yes\",\"Yes\",\"Yes\",\"Yes\",\"Yes\",\"Yes\",\"Yes\",\"Yes\",\"Yes\",\"Yes\",\"Yes\",\"Yes\",\"Yes\",\"Yes\",\"Yes\",\"Yes\",\"Yes\",\"Yes\",\"Yes\",\"Yes\",\"Yes\",\"Yes\",\"Yes\",\"Yes\",\"Yes\",\"Yes\",\"Yes\",\"Yes\",\"Yes\",\"Yes\",\"Yes\",\"Yes\",\"Yes\",\"Yes\",\"Yes\",\"Yes\",\"Yes\",\"Yes\",\"Yes\",\"Yes\",\"Yes\",\"Yes\",\"Yes\",\"Yes\",\"Yes\",\"Yes\",\"Yes\",\"Yes\",\"Yes\",\"Yes\",\"Yes\",\"Yes\",\"Yes\",\"Yes\",\"Yes\",\"Yes\",\"Yes\",\"Yes\",\"Yes\",\"Yes\",\"Yes\",\"Yes\",\"Yes\",\"Yes\",\"Yes\",\"Yes\",\"Yes\",\"Yes\",\"Yes\",\"Yes\",\"Yes\",\"Yes\",\"Yes\",\"Yes\",\"Yes\",\"Yes\",\"Yes\",\"Yes\",\"Yes\",\"Yes\",\"Yes\",\"Yes\",\"Yes\",\"Yes\",\"Yes\",\"Yes\",\"Yes\",\"Yes\",\"Yes\",\"Yes\",\"Yes\",\"Yes\",\"Yes\",\"Yes\",\"Yes\",\"Yes\",\"Yes\",\"Yes\",\"Yes\",\"Yes\",\"Yes\",\"Yes\",\"Yes\",\"Yes\",\"Yes\",\"Yes\",\"Yes\",\"Yes\",\"Yes\",\"Yes\",\"Yes\",\"Yes\",\"Yes\",\"Yes\",\"Yes\",\"Yes\",\"Yes\",\"Yes\",\"Yes\",\"Yes\",\"Yes\",\"Yes\",\"Yes\",\"Yes\",\"Yes\",\"Yes\",\"Yes\",\"Yes\",\"Yes\",\"Yes\",\"Yes\",\"Yes\",\"Yes\",\"Yes\",\"Yes\",\"Yes\",\"Yes\",\"Yes\",\"Yes\",\"Yes\",\"Yes\",\"Yes\",\"Yes\",\"Yes\",\"Yes\",\"Yes\",\"Yes\",\"Yes\",\"Yes\",\"Yes\",\"Yes\",\"Yes\",\"Yes\",\"Yes\",\"Yes\",\"Yes\",\"Yes\",\"Yes\",\"Yes\",\"Yes\",\"Yes\",\"Yes\",\"Yes\",\"Yes\",\"Yes\",\"Yes\",\"Yes\",\"Yes\",\"Yes\",\"Yes\",\"Yes\",\"Yes\",\"Yes\",\"Yes\",\"Yes\",\"Yes\",\"Yes\",\"Yes\",\"Yes\",\"Yes\",\"Yes\",\"Yes\",\"Yes\",\"Yes\",\"Yes\",\"Yes\",\"Yes\",\"Yes\",\"Yes\",\"Yes\",\"Yes\",\"Yes\",\"Yes\",\"Yes\",\"Yes\",\"Yes\",\"Yes\",\"Yes\",\"Yes\",\"Yes\",\"Yes\",\"Yes\",\"Yes\",\"Yes\",\"Yes\",\"Yes\",\"Yes\",\"Yes\",\"Yes\",\"Yes\",\"Yes\",\"Yes\",\"Yes\",\"Yes\",\"Yes\",\"Yes\",\"Yes\",\"Yes\",\"Yes\",\"Yes\",\"Yes\",\"Yes\",\"Yes\",\"Yes\",\"Yes\",\"Yes\",\"Yes\",\"Yes\",\"Yes\",\"Yes\",\"Yes\",\"Yes\",\"Yes\",\"Yes\",\"Yes\",\"Yes\",\"Yes\",\"Yes\",\"Yes\",\"Yes\",\"Yes\",\"Yes\",\"Yes\",\"Yes\",\"Yes\",\"Yes\",\"Yes\",\"Yes\",\"Yes\",\"Yes\",\"Yes\",\"Yes\",\"Yes\",\"Yes\",\"Yes\",\"Yes\",\"Yes\",\"Yes\",\"Yes\",\"Yes\",\"Yes\",\"Yes\",\"Yes\",\"Yes\",\"Yes\",\"Yes\",\"Yes\",\"Yes\",\"Yes\",\"Yes\",\"Yes\",\"Yes\",\"Yes\",\"Yes\",\"Yes\",\"Yes\",\"Yes\",\"Yes\",\"Yes\",\"Yes\",\"Yes\",\"Yes\",\"Yes\",\"Yes\",\"Yes\",\"Yes\",\"Yes\",\"Yes\",\"Yes\",\"Yes\",\"Yes\",\"Yes\",\"Yes\",\"Yes\",\"Yes\",\"Yes\",\"Yes\",\"Yes\",\"Yes\",\"Yes\",\"Yes\",\"Yes\",\"Yes\",\"Yes\",\"Yes\",\"Yes\",\"Yes\",\"Yes\",\"Yes\",\"Yes\",\"Yes\",\"Yes\",\"Yes\",\"Yes\",\"Yes\",\"Yes\",\"Yes\",\"Yes\",\"Yes\",\"Yes\",\"Yes\",\"Yes\",\"Yes\",\"Yes\",\"Yes\",\"Yes\",\"Yes\",\"Yes\",\"Yes\",\"Yes\",\"Yes\",\"Yes\",\"Yes\",\"Yes\",\"Yes\",\"Yes\",\"Yes\",\"Yes\",\"Yes\",\"Yes\",\"Yes\",\"Yes\",\"Yes\",\"Yes\",\"Yes\",\"Yes\",\"Yes\",\"Yes\",\"Yes\",\"Yes\",\"Yes\",\"Yes\",\"Yes\",\"Yes\",\"Yes\",\"Yes\",\"Yes\",\"Yes\",\"Yes\",\"Yes\",\"Yes\",\"Yes\",\"Yes\",\"Yes\",\"Yes\",\"Yes\",\"Yes\",\"Yes\",\"Yes\",\"Yes\",\"Yes\",\"Yes\",\"Yes\",\"Yes\",\"Yes\",\"Yes\",\"Yes\",\"Yes\",\"Yes\",\"Yes\",\"Yes\",\"Yes\",\"Yes\",\"Yes\",\"Yes\",\"Yes\",\"Yes\",\"Yes\",\"Yes\",\"Yes\",\"Yes\",\"Yes\",\"Yes\",\"Yes\",\"Yes\",\"Yes\",\"Yes\",\"Yes\",\"Yes\",\"Yes\",\"Yes\",\"Yes\",\"Yes\",\"Yes\",\"Yes\",\"Yes\",\"Yes\",\"Yes\",\"Yes\",\"Yes\",\"Yes\",\"Yes\",\"Yes\",\"Yes\",\"Yes\",\"Yes\",\"Yes\",\"Yes\",\"Yes\",\"Yes\",\"Yes\",\"Yes\",\"Yes\",\"Yes\",\"Yes\",\"Yes\",\"Yes\",\"Yes\",\"Yes\",\"Yes\",\"Yes\",\"Yes\",\"Yes\",\"Yes\",\"Yes\",\"Yes\",\"Yes\",\"Yes\",\"Yes\",\"Yes\",\"Yes\",\"Yes\",\"Yes\",\"Yes\",\"Yes\",\"Yes\",\"Yes\",\"Yes\",\"Yes\",\"Yes\",\"Yes\",\"Yes\",\"Yes\",\"Yes\",\"Yes\",\"Yes\",\"Yes\",\"Yes\",\"Yes\",\"Yes\",\"Yes\",\"Yes\",\"Yes\",\"Yes\",\"Yes\",\"Yes\",\"Yes\",\"Yes\",\"Yes\",\"Yes\",\"Yes\",\"Yes\",\"Yes\",\"Yes\",\"Yes\",\"Yes\",\"Yes\",\"Yes\",\"Yes\",\"Yes\",\"Yes\",\"Yes\",\"Yes\",\"Yes\",\"Yes\",\"Yes\",\"Yes\",\"Yes\",\"Yes\",\"Yes\",\"Yes\",\"Yes\",\"Yes\",\"Yes\",\"Yes\",\"Yes\",\"Yes\",\"Yes\",\"Yes\",\"Yes\",\"Yes\",\"Yes\",\"Yes\",\"Yes\",\"Yes\",\"Yes\",\"Yes\",\"Yes\",\"Yes\",\"Yes\",\"Yes\",\"Yes\",\"Yes\",\"Yes\",\"Yes\",\"Yes\",\"Yes\",\"Yes\",\"Yes\",\"Yes\",\"Yes\",\"Yes\",\"Yes\",\"Yes\",\"Yes\",\"Yes\",\"Yes\",\"Yes\",\"Yes\",\"Yes\",\"Yes\",\"Yes\",\"Yes\",\"Yes\",\"Yes\",\"Yes\",\"Yes\",\"Yes\",\"Yes\",\"Yes\",\"Yes\",\"Yes\",\"Yes\",\"Yes\",\"Yes\",\"Yes\",\"Yes\",\"Yes\",\"Yes\",\"Yes\",\"Yes\",\"Yes\",\"Yes\",\"Yes\",\"Yes\",\"Yes\",\"Yes\",\"Yes\",\"Yes\",\"Yes\",\"Yes\",\"Yes\",\"Yes\",\"Yes\",\"Yes\",\"Yes\",\"Yes\",\"Yes\",\"Yes\",\"Yes\",\"Yes\",\"Yes\",\"Yes\",\"Yes\",\"Yes\",\"Yes\",\"Yes\",\"Yes\",\"Yes\",\"Yes\",\"Yes\",\"Yes\",\"Yes\",\"Yes\",\"Yes\",\"Yes\",\"Yes\",\"Yes\",\"Yes\",\"Yes\",\"Yes\",\"Yes\",\"Yes\",\"Yes\",\"Yes\",\"Yes\",\"Yes\",\"Yes\",\"Yes\",\"Yes\",\"Yes\",\"Yes\",\"Yes\",\"Yes\",\"Yes\",\"Yes\",\"Yes\",\"Yes\",\"Yes\",\"Yes\",\"Yes\",\"Yes\",\"Yes\",\"Yes\",\"Yes\",\"Yes\",\"Yes\",\"Yes\",\"Yes\",\"Yes\",\"Yes\",\"Yes\",\"Yes\",\"Yes\",\"Yes\",\"Yes\",\"Yes\",\"Yes\",\"Yes\",\"Yes\",\"Yes\",\"Yes\",\"Yes\",\"Yes\",\"Yes\",\"Yes\",\"Yes\",\"Yes\",\"Yes\",\"Yes\",\"Yes\",\"Yes\",\"Yes\",\"Yes\",\"Yes\",\"Yes\",\"Yes\",\"Yes\",\"Yes\",\"Yes\",\"Yes\",\"Yes\",\"Yes\",\"Yes\",\"Yes\",\"Yes\",\"Yes\",\"Yes\",\"Yes\",\"Yes\",\"Yes\",\"Yes\",\"Yes\",\"Yes\",\"Yes\",\"Yes\",\"Yes\",\"Yes\",\"Yes\",\"Yes\",\"Yes\",\"Yes\",\"Yes\",\"Yes\",\"Yes\",\"Yes\",\"Yes\",\"Yes\",\"Yes\",\"Yes\",\"Yes\",\"Yes\",\"Yes\",\"Yes\",\"Yes\",\"Yes\",\"Yes\",\"Yes\",\"Yes\",\"Yes\",\"Yes\",\"Yes\",\"Yes\",\"Yes\",\"Yes\",\"Yes\",\"Yes\",\"Yes\",\"Yes\",\"Yes\",\"Yes\",\"Yes\",\"Yes\",\"Yes\",\"Yes\",\"Yes\",\"Yes\",\"Yes\",\"Yes\",\"Yes\",\"Yes\",\"Yes\",\"Yes\",\"Yes\",\"Yes\",\"Yes\",\"Yes\",\"Yes\",\"Yes\",\"Yes\",\"Yes\",\"Yes\",\"Yes\",\"Yes\",\"Yes\",\"Yes\",\"Yes\",\"Yes\",\"Yes\",\"Yes\",\"Yes\",\"Yes\",\"Yes\",\"Yes\",\"Yes\",\"Yes\",\"Yes\",\"Yes\",\"Yes\",\"Yes\",\"Yes\",\"Yes\",\"Yes\",\"Yes\",\"Yes\",\"Yes\",\"Yes\",\"Yes\",\"Yes\",\"Yes\",\"Yes\",\"Yes\",\"Yes\",\"Yes\",\"Yes\",\"Yes\",\"Yes\",\"Yes\",\"Yes\",\"Yes\",\"Yes\",\"Yes\",\"Yes\",\"Yes\",\"Yes\",\"Yes\",\"Yes\",\"Yes\",\"Yes\",\"Yes\",\"Yes\",\"Yes\",\"Yes\",\"Yes\",\"Yes\",\"Yes\",\"Yes\",\"Yes\",\"Yes\",\"Yes\",\"Yes\",\"Yes\",\"Yes\",\"Yes\",\"Yes\",\"Yes\",\"Yes\",\"Yes\",\"Yes\",\"Yes\",\"Yes\",\"Yes\",\"Yes\",\"Yes\",\"Yes\",\"Yes\",\"Yes\",\"Yes\",\"Yes\",\"Yes\",\"Yes\",\"Yes\",\"Yes\",\"Yes\",\"Yes\",\"Yes\",\"Yes\",\"Yes\",\"Yes\",\"Yes\",\"Yes\",\"Yes\",\"Yes\",\"Yes\",\"Yes\",\"Yes\",\"Yes\",\"Yes\",\"Yes\",\"Yes\",\"Yes\",\"Yes\",\"Yes\",\"Yes\",\"Yes\",\"Yes\",\"Yes\",\"Yes\",\"Yes\",\"Yes\",\"Yes\",\"Yes\",\"Yes\",\"Yes\",\"Yes\",\"Yes\",\"Yes\",\"Yes\",\"Yes\",\"Yes\",\"Yes\",\"Yes\",\"Yes\",\"Yes\",\"Yes\",\"Yes\",\"Yes\",\"Yes\",\"Yes\",\"Yes\",\"Yes\",\"Yes\",\"Yes\",\"Yes\",\"Yes\",\"Yes\",\"Yes\",\"Yes\",\"Yes\",\"Yes\",\"Yes\",\"Yes\",\"Yes\",\"Yes\",\"Yes\",\"Yes\",\"Yes\",\"Yes\",\"Yes\",\"Yes\",\"Yes\",\"Yes\",\"Yes\",\"Yes\",\"Yes\",\"Yes\",\"Yes\",\"Yes\",\"Yes\",\"Yes\",\"Yes\",\"Yes\",\"Yes\",\"Yes\",\"Yes\",\"Yes\",\"Yes\",\"Yes\",\"Yes\",\"Yes\",\"Yes\",\"Yes\",\"Yes\",\"Yes\",\"Yes\",\"Yes\",\"Yes\",\"Yes\",\"Yes\",\"Yes\",\"Yes\",\"Yes\",\"Yes\",\"Yes\",\"Yes\",\"Yes\",\"Yes\",\"Yes\",\"Yes\",\"Yes\",\"Yes\",\"Yes\",\"Yes\",\"Yes\",\"Yes\",\"Yes\",\"Yes\",\"Yes\",\"Yes\",\"Yes\",\"Yes\",\"Yes\",\"Yes\",\"Yes\",\"Yes\",\"Yes\",\"Yes\",\"Yes\",\"Yes\",\"Yes\",\"Yes\",\"Yes\",\"Yes\",\"Yes\",\"Yes\",\"Yes\",\"Yes\",\"Yes\",\"Yes\",\"Yes\",\"Yes\",\"Yes\",\"Yes\",\"Yes\",\"Yes\",\"Yes\",\"Yes\",\"Yes\",\"Yes\",\"Yes\",\"Yes\",\"Yes\",\"Yes\",\"Yes\",\"Yes\",\"Yes\",\"Yes\",\"Yes\",\"Yes\",\"Yes\",\"Yes\",\"Yes\",\"Yes\",\"Yes\",\"Yes\",\"Yes\",\"Yes\",\"Yes\",\"Yes\",\"Yes\",\"Yes\",\"Yes\",\"Yes\",\"Yes\",\"Yes\",\"Yes\",\"Yes\",\"Yes\",\"Yes\",\"Yes\",\"Yes\",\"Yes\",\"Yes\",\"Yes\",\"Yes\",\"Yes\",\"Yes\",\"Yes\",\"Yes\",\"Yes\",\"Yes\",\"Yes\",\"Yes\",\"Yes\",\"Yes\",\"Yes\",\"Yes\",\"Yes\",\"Yes\",\"Yes\",\"Yes\",\"Yes\",\"Yes\",\"Yes\",\"Yes\",\"Yes\",\"Yes\",\"Yes\",\"Yes\",\"Yes\",\"Yes\",\"Yes\",\"Yes\",\"Yes\",\"Yes\",\"Yes\",\"Yes\",\"Yes\",\"Yes\",\"Yes\",\"Yes\",\"Yes\",\"Yes\",\"Yes\",\"Yes\",\"Yes\",\"Yes\",\"Yes\",\"Yes\",\"Yes\",\"Yes\",\"Yes\",\"Yes\",\"Yes\",\"Yes\",\"Yes\",\"Yes\",\"Yes\",\"Yes\",\"Yes\",\"Yes\",\"Yes\",\"Yes\",\"Yes\",\"Yes\",\"Yes\",\"Yes\",\"Yes\",\"Yes\",\"Yes\",\"Yes\",\"Yes\",\"Yes\",\"Yes\",\"Yes\",\"Yes\",\"Yes\",\"Yes\",\"Yes\",\"Yes\",\"Yes\",\"Yes\",\"Yes\",\"Yes\",\"Yes\",\"Yes\",\"Yes\",\"Yes\",\"Yes\",\"Yes\",\"Yes\",\"Yes\",\"Yes\",\"Yes\",\"Yes\",\"Yes\",\"Yes\",\"Yes\",\"Yes\",\"Yes\",\"Yes\",\"Yes\",\"Yes\",\"Yes\",\"Yes\",\"Yes\",\"Yes\",\"Yes\",\"Yes\",\"Yes\",\"Yes\",\"Yes\",\"Yes\",\"Yes\",\"Yes\",\"Yes\",\"Yes\",\"Yes\",\"Yes\",\"Yes\",\"Yes\",\"Yes\",\"Yes\",\"Yes\",\"Yes\",\"Yes\",\"Yes\",\"Yes\",\"Yes\",\"Yes\",\"Yes\",\"Yes\",\"Yes\",\"Yes\",\"Yes\",\"Yes\",\"Yes\",\"Yes\",\"Yes\",\"Yes\",\"Yes\",\"Yes\",\"Yes\"],\"x0\":\" \",\"xaxis\":\"x\",\"y\":[53.85,70.7,99.65,104.8,103.7,55.2,39.65,20.15,99.35,30.2,64.7,69.7,106.35,97.85,80.65,99.1,80.65,95.45,94.4,79.35,75.15,78.95,21.05,98.5,110.0,96.75,76.5,100.25,74.4,78.05,58.6,35.45,44.35,70.45,71.15,45.65,95.0,82.4,70.9,45.3,104.4,94.85,74.45,76.45,29.95,84.5,79.25,24.8,91.0,79.9,106.6,46.0,70.15,50.05,55.2,84.6,54.4,95.0,74.4,48.55,70.4,40.2,44.6,41.15,106.9,19.35,94.45,24.8,70.6,85.4,105.05,95.15,70.0,74.5,44.85,76.1,73.6,95.45,74.9,80.6,80.3,93.15,82.45,70.35,73.85,80.6,75.8,104.6,103.4,90.4,84.8,41.9,80.25,30.75,96.5,85.65,104.95,50.65,90.85,19.95,85.45,73.95,99.45,19.9,19.6,81.35,83.3,75.3,19.4,45.4,105.9,69.55,81.05,101.15,99.8,55.95,55.0,74.7,80.25,96.1,69.0,45.3,83.55,74.35,74.4,43.75,28.45,99.7,94.1,94.2,80.5,74.35,104.8,75.2,75.6,100.05,85.0,86.05,45.55,86.3,80.35,100.25,100.3,19.0,75.3,89.2,85.7,61.65,105.25,29.95,65.0,20.0,90.05,110.75,105.5,104.55,85.25,56.15,89.55,94.55,45.7,89.5,69.55,74.6,19.65,19.85,24.25,69.65,45.65,75.05,49.15,34.7,80.0,49.25,75.1,50.15,79.85,19.55,85.95,45.35,94.5,91.7,87.25,98.55,98.55,85.9,89.25,70.3,93.35,19.9,88.9,95.8,82.0,45.35,52.2,110.0,96.75,98.5,85.35,101.3,69.55,103.25,104.0,86.2,111.2,89.45,95.6,90.95,108.55,78.85,44.4,100.0,19.8,89.9,100.15,50.8,73.65,95.1,94.65,80.6,85.55,50.8,105.1,110.1,83.9,100.55,103.85,24.6,98.9,98.3,93.85,100.5,72.85,73.55,79.4,81.15,84.6,79.05,74.4,99.05,44.95,44.7,45.7,100.3,19.25,96.0,90.55,30.35,108.05,69.9,103.75,86.6,80.6,85.3,70.0,94.3,95.35,75.5,90.1,68.95,99.55,57.45,53.65,100.6,83.75,88.3,92.1,79.45,90.45,69.75,19.65,43.65,39.5,97.1,80.0,84.7,89.55,90.6,90.05,99.05,69.75,49.05,98.05,114.5,80.95,74.3,89.7,100.45,90.4,56.15,94.4,78.95,44.85,105.65,74.65,64.7,104.05,35.55,95.15,96.65,80.4,31.35,89.75,94.4,19.85,109.9,101.35,60.05,60.15,90.45,94.25,74.9,80.25,69.0,66.35,86.0,80.3,90.55,75.9,45.85,49.95,78.3,76.95,96.15,45.3,19.4,90.15,45.05,75.8,79.3,30.9,95.25,89.6,110.15,89.5,75.0,44.75,44.05,85.6,115.55,86.6,85.2,97.65,109.55,89.55,19.45,20.35,69.25,99.5,25.2,45.0,20.15,105.0,54.7,87.25,79.95,88.35,94.75,95.05,78.45,70.2,41.05,85.6,79.2,70.0,49.95,69.25,94.25,73.0,100.05,99.8,35.0,76.0,93.85,84.3,84.4,101.1,50.45,99.95,91.4,75.55,80.8,100.0,20.55,85.3,70.4,98.8,74.4,98.75,106.0,104.7,96.7,55.05,88.2,19.75,75.65,74.7,76.65,25.8,42.6,68.85,90.0,75.35,100.85,69.95,107.5,45.85,106.1,91.7,95.6,74.95,95.35,45.0,99.5,98.6,59.5,80.45,77.95,74.7,88.8,90.25,64.65,89.05,87.4,94.75,86.45,98.25,75.75,85.35,106.1,45.05,109.8,84.65,79.5,85.8,79.1,44.3,105.95,69.75,94.65,96.05,50.15,113.6,78.9,60.05,34.7,85.3,102.45,104.4,99.75,74.4,74.25,59.85,69.6,45.4,19.5,69.9,87.15,84.75,89.95,113.2,90.5,79.0,20.15,71.65,20.35,84.25,78.1,89.65,98.7,76.35,79.15,85.0,85.3,86.55,73.85,44.85,45.1,96.0,20.05,108.65,45.55,35.1,46.2,45.15,43.3,57.15,73.2,85.35,45.95,83.75,70.05,86.0,100.5,72.65,21.0,45.1,50.4,78.95,94.45,84.8,50.9,99.8,107.35,19.55,79.1,25.5,80.75,91.85,75.35,75.45,49.55,78.6,81.1,74.95,93.55,102.1,90.9,29.2,89.15,108.85,84.75,45.7,69.95,44.6,74.95,95.25,89.85,100.45,47.15,80.2,87.1,75.9,98.75,86.45,45.3,104.1,81.0,90.6,88.15,20.2,90.8,79.35,96.8,83.35,49.4,79.2,48.7,95.6,59.75,108.15,71.35,20.15,69.75,93.2,80.85,33.65,79.95,19.3,99.2,85.2,75.25,54.35,24.95,42.35,75.3,94.8,70.55,86.15,85.0,80.55,75.8,98.5,95.25,74.4,85.15,88.55,54.75,91.3,79.5,70.1,111.3,95.25,86.25,100.8,86.3,89.95,76.45,70.0,64.4,102.45,80.1,80.2,98.15,112.95,70.9,86.85,99.85,74.5,109.15,65.2,99.5,71.55,93.9,108.4,48.75,85.65,106.7,25.15,110.35,103.25,47.8,98.6,83.05,70.4,104.75,94.25,45.95,70.15,85.55,70.3,106.35,103.7,88.35,94.2,96.25,70.7,33.55,94.55,112.95,35.9,99.25,24.45,103.35,84.8,99.95,90.0,104.85,106.1,74.2,89.35,77.15,35.25,48.55,98.4,93.85,100.7,80.45,55.25,54.45,75.35,75.7,74.25,89.7,96.4,69.5,85.25,19.4,83.3,80.1,62.7,25.3,98.15,93.7,105.95,82.0,95.75,94.05,54.75,95.65,94.6,98.9,76.05,69.75,34.5,105.55,30.1,70.3,80.2,94.35,44.6,19.6,110.45,70.7,99.25,84.8,105.0,54.45,85.3,83.35,33.5,90.35,90.75,89.6,49.25,19.75,95.15,101.35,70.05,74.65,50.4,79.65,79.85,78.75,80.45,50.1,76.4,98.7,100.8,90.1,51.55,79.25,94.85,85.7,44.4,89.5,86.05,44.55,35.4,95.65,20.95,34.7,19.75,92.55,60.05,74.3,85.35,74.3,98.1,109.65,74.55,100.95,94.9,104.9,24.1,104.05,88.35,94.65,74.4,79.9,69.7,98.1,20.5,99.6,81.95,69.35,91.1,86.1,94.7,85.1,99.15,102.95,45.05,71.0,70.55,79.7,59.0,60.35,69.25,70.95,89.0,99.4,73.5,95.5,92.35,74.55,83.8,54.45,99.8,105.85,75.45,93.85,100.75,31.0,80.0,70.25,100.15,94.5,33.9,89.95,84.45,79.5,89.15,74.95,74.4,55.3,55.15,84.95,43.25,48.35,79.55,71.05,84.5,108.6,30.3,30.4,45.4,84.15,19.75,85.4,75.2,55.85,106.4,84.4,56.25,85.55,68.65,77.85,105.35,87.05,53.5,25.1,79.65,54.2,19.45,103.4,84.45,85.95,59.4,30.6,99.55,70.0,45.3,29.85,95.1,19.8,76.65,99.15,44.95,49.55,95.9,81.5,84.1,36.45,25.05,49.85,55.55,69.5,104.3,93.85,50.45,74.65,94.2,106.55,20.1,83.8,55.15,86.65,106.75,78.45,87.45,70.75,101.35,81.7,68.25,79.15,95.45,100.95,69.1,69.6,103.45,77.95,78.45,29.5,70.75,84.45,85.65,70.15,97.8,46.3,106.3,89.4,83.15,74.15,99.5,44.15,53.9,85.45,50.85,59.2,83.2,54.9,103.9,19.25,75.45,54.85,95.1,75.5,73.75,96.05,88.95,50.7,53.4,101.9,83.0,50.6,89.5,69.8,93.8,101.05,94.7,104.15,61.45,90.55,88.8,85.2,91.4,106.15,45.3,73.25,51.05,85.35,75.35,75.2,20.9,43.3,109.5,84.8,95.05,50.35,74.6,19.7,59.45,105.2,45.15,93.8,96.2,79.6,85.25,80.5,89.8,50.75,89.65,65.4,72.9,40.0,99.45,86.25,45.65,70.1,70.2,55.35,84.2,45.85,75.25,100.15,105.75,48.35,24.4,20.95,49.55,20.25,50.15,95.9,25.25,45.15,84.4,75.1,70.15,101.75,45.8,20.1,40.65,101.0,69.1,75.0,100.0,71.15,54.15,108.75,49.15,19.4,79.15,80.4,102.0,20.65,70.8,89.05,96.6,104.5,50.6,49.35,94.25,68.95,93.85,76.05,24.45,89.35,80.35,55.8,79.05,95.0,25.2,98.4,79.4,101.4,89.8,109.75,19.3,91.25,49.1,65.25,85.45,94.1,71.65,104.65,74.25,74.2,101.0,100.2,89.05,70.1,105.65,96.5,70.85,85.95,73.9,109.45,100.2,74.05,101.55,111.95,55.95,45.75,74.95,80.15,109.25,35.2,78.8,106.4,49.4,69.1,90.2,93.55,80.85,82.05,20.55,78.55,78.65,42.9,34.25,58.5,96.2,74.4,105.3,73.85,84.55,24.75,85.8,24.45,105.7,24.25,76.5,93.5,101.5,74.9,69.6,24.05,50.55,100.55,20.5,74.8,24.45,71.0,40.3,50.6,84.85,65.7,70.5,94.85,19.75,65.45,98.7,67.5,69.6,84.35,100.2,78.05,73.6,74.75,20.2,93.55,25.05,95.55,39.3,20.25,23.9,85.45,99.9,84.8,75.2,49.35,74.9,101.25,18.95,28.6,24.35,98.65,79.9,103.3,96.2,104.15,102.95,90.6,50.8,90.05,75.85,68.5,73.5,69.95,70.05,94.0,61.15,84.45,75.3,109.55,19.6,66.4,100.05,102.0,90.2,25.15,79.85,49.6,105.95,91.85,40.1,73.9,89.8,72.25,96.55,40.1,101.25,79.55,84.05,89.1,94.4,78.25,44.15,75.75,19.1,80.3,74.9,80.85,24.75,90.85,79.7,57.55,86.5,103.95,25.1,48.95,83.55,89.15,70.45,60.3,24.75,103.3,78.5,19.85,79.9,99.7,58.6,98.5,50.45,94.65,100.25,88.45,69.85,81.7,79.9,25.4,83.75,20.9,69.4,74.9,74.15,70.1,78.3,96.8,94.4,84.3,92.45,99.55,81.25,19.95,99.25,80.45,79.35,79.75,100.05,69.35,85.8,79.7,50.55,80.55,84.5,84.3,67.75,85.25,80.05,20.0,48.8,85.05,102.8,99.95,117.8,79.5,79.65,94.7,92.5,19.45,75.55,70.0,74.8,104.4,86.2,51.2,19.5,74.9,74.9,100.25,102.8,100.0,99.85,94.2,83.85,88.3,104.05,94.7,100.65,80.55,78.85,44.45,84.9,20.25,74.35,62.05,80.0,104.1,39.1,76.5,49.2,23.15,80.85,60.1,78.95,45.15,79.4,53.95,99.3,80.65,71.1,106.25,20.8,94.0,89.85,46.0,66.25,90.0,70.45,19.75,53.95,105.5,81.0,69.8,73.75,54.55,76.25,93.9,70.4,91.15,70.95,99.5,83.9,117.45,104.4,29.4,44.65,25.25,84.05,85.7,74.7,90.8,106.15,85.35,90.85,35.75,46.0,89.4,19.8,50.9,81.0,98.35,51.0,91.65,90.85,69.4,94.45,20.15,95.7,74.95,47.95,63.6,36.85,44.1,50.75,104.4,39.3,106.45,96.05,75.1,44.7,55.0,74.35,104.7,55.7,19.85,70.3,85.55,94.5,85.35,79.65,79.6,90.6,20.2,106.05,99.15,55.9,82.35,40.4,75.35,85.15,93.8,20.4,94.7,30.5,77.0,20.1,75.3,99.2,85.5,20.05,70.4,49.75,75.3,94.0,118.35,30.45,96.1,104.25,80.2,104.2,69.65,80.8,80.3,84.1,69.35,79.6,36.45,89.4,80.35,40.65,60.45,84.9,73.55,20.15,34.7,107.55,98.75,101.15,88.7,79.75,94.55,69.05,96.25,101.1,104.7,55.25,90.1,53.75,89.3,95.2,45.7,74.5,79.65,101.3,80.05,89.2,83.65,19.5,51.25,45.6,49.65,20.0,34.0,92.5,88.35,107.95,74.45,64.75,89.8,95.5,29.65,84.5,90.7,70.3,103.95,74.75,50.8,80.25,78.9,84.75,85.45,19.9,99.45,70.6,81.0,84.85,89.15,24.8,105.65,80.85,89.45,72.15,76.4,61.6,79.9,96.15,65.3,19.65,84.65,69.55,31.05,51.0,44.35,79.7,55.0,84.85,73.65,73.9,77.75,84.35,84.95,73.85,51.8,46.0,79.4,71.8,88.4,46.0,51.75,94.4,70.15,34.7,81.1,20.55,106.6,106.75,89.45,97.9,55.7,79.8,39.05,83.9,69.85,53.55,93.9,113.15,84.95,80.5,19.3,49.65,54.35,88.45,90.5,94.85,69.95,48.6,55.8,80.15,75.5,20.2,74.75,104.05,96.65,20.05,103.45,19.9,46.35,19.95,79.6,75.9,76.2,19.25,84.3,79.0,70.25,84.6,24.1,60.0,86.55,20.85,50.75,105.5,85.15,54.2,109.5,104.4,105.1,75.7,90.8,97.95,108.15,80.5,104.3,71.35,89.4,20.6,99.95,81.0,70.15,70.15,96.55,95.55,69.65,89.3,87.55,96.3,85.2,35.1,81.3,19.6,85.45,71.0,85.05,44.4,70.3,79.35,90.8,70.45,45.25,75.8,71.3,69.1,88.25,70.0,97.35,25.9,55.65,69.65,100.6,86.0,106.95,29.6,59.9,95.6,41.6,100.85,40.2,84.5,78.95,20.2,85.2,98.0,94.45,105.0,93.85,84.0,48.75,84.85,56.65,73.9,24.5,89.9,78.55,99.45,25.2,74.05,55.0,89.75,85.15,94.6,94.25,72.45,105.2,82.85,103.85,83.6,108.45,91.5,80.85,49.05,105.3,88.95,110.85,114.2,36.5,70.75,40.15,94.45,97.35,45.3,94.95,44.55,23.45,29.7,101.1,50.65,55.4,90.6,86.85,99.05,111.25,55.1,102.25,95.9,95.05,53.85,104.2,50.25,99.5,71.0,93.2,19.35,19.85,104.2,79.25,44.9,70.1,29.65,77.85,54.3,95.15,110.85,80.5,72.2,51.5,89.55,77.5,95.25,85.0,85.75,98.25,25.7,69.0,46.05,76.4,100.5,40.05,69.95,93.3,49.15,35.05,73.0,83.85,70.1,70.65,20.35,99.0,83.95,116.2,93.7,19.7,75.55,77.65,95.0,105.4,95.85,79.15,19.65,79.0,91.85,106.0,49.9,100.35,74.95,49.25,103.7,89.75,20.3,101.95,94.0,89.3,74.3,44.65,84.05,80.7,101.7,20.4,102.6,106.0,55.1,106.5,91.05,77.5,54.2,69.25,50.5,74.4,79.45,104.65,100.05,100.55,95.65,94.4,55.0,101.45,67.95,69.5,18.85,69.2,69.65,101.85,82.3,79.25,84.6,93.4,94.2,25.05,25.1,48.95,45.3,85.85,95.2,100.6,55.3,74.85,102.35,115.65,79.85,76.0,104.75,74.65,56.25,106.1,79.75,68.65,20.25,100.2,74.9,70.85,69.8,54.55,70.75,94.1,29.7,110.9,105.0,25.3,55.15,20.1,69.9,101.4,80.8,62.05,76.45,91.3,95.75,62.65,74.5,102.1,50.15,86.5,81.45,69.15,79.55,95.5,91.05,79.2,45.25,74.3,74.1,100.6,75.0,70.2,70.75,50.25,79.2,96.0,100.1,56.5,85.0,59.3,49.4,55.0,69.2,62.3,92.5,69.65,111.6,48.55,20.2,39.65,24.9,56.7,105.95,74.95,29.7,50.35,47.85,70.3,98.8,99.85,80.3,80.45,86.8,84.2,99.0,100.75,91.75,79.55,111.1,89.1,101.9,91.65,88.85,25.3,95.45,91.1,54.15,69.7,89.5,35.15,73.75,101.35,55.9,105.9,43.95,45.1,70.25,55.35,103.0,103.75,69.35,73.85,75.15,69.6,80.15,30.5,98.3,107.4,82.0,75.4,101.25,89.5,74.4,20.5,74.35,99.75,111.95,39.0,94.1,95.65,88.05,66.5,35.45,49.9,104.5,75.05,81.0,74.45,60.4,70.65,59.8,44.2,75.75,102.95,74.4],\"y0\":\" \",\"yaxis\":\"y\",\"type\":\"box\"}],                        {\"template\":{\"data\":{\"histogram2dcontour\":[{\"type\":\"histogram2dcontour\",\"colorbar\":{\"outlinewidth\":0,\"ticks\":\"\"},\"colorscale\":[[0.0,\"#0d0887\"],[0.1111111111111111,\"#46039f\"],[0.2222222222222222,\"#7201a8\"],[0.3333333333333333,\"#9c179e\"],[0.4444444444444444,\"#bd3786\"],[0.5555555555555556,\"#d8576b\"],[0.6666666666666666,\"#ed7953\"],[0.7777777777777778,\"#fb9f3a\"],[0.8888888888888888,\"#fdca26\"],[1.0,\"#f0f921\"]]}],\"choropleth\":[{\"type\":\"choropleth\",\"colorbar\":{\"outlinewidth\":0,\"ticks\":\"\"}}],\"histogram2d\":[{\"type\":\"histogram2d\",\"colorbar\":{\"outlinewidth\":0,\"ticks\":\"\"},\"colorscale\":[[0.0,\"#0d0887\"],[0.1111111111111111,\"#46039f\"],[0.2222222222222222,\"#7201a8\"],[0.3333333333333333,\"#9c179e\"],[0.4444444444444444,\"#bd3786\"],[0.5555555555555556,\"#d8576b\"],[0.6666666666666666,\"#ed7953\"],[0.7777777777777778,\"#fb9f3a\"],[0.8888888888888888,\"#fdca26\"],[1.0,\"#f0f921\"]]}],\"heatmap\":[{\"type\":\"heatmap\",\"colorbar\":{\"outlinewidth\":0,\"ticks\":\"\"},\"colorscale\":[[0.0,\"#0d0887\"],[0.1111111111111111,\"#46039f\"],[0.2222222222222222,\"#7201a8\"],[0.3333333333333333,\"#9c179e\"],[0.4444444444444444,\"#bd3786\"],[0.5555555555555556,\"#d8576b\"],[0.6666666666666666,\"#ed7953\"],[0.7777777777777778,\"#fb9f3a\"],[0.8888888888888888,\"#fdca26\"],[1.0,\"#f0f921\"]]}],\"heatmapgl\":[{\"type\":\"heatmapgl\",\"colorbar\":{\"outlinewidth\":0,\"ticks\":\"\"},\"colorscale\":[[0.0,\"#0d0887\"],[0.1111111111111111,\"#46039f\"],[0.2222222222222222,\"#7201a8\"],[0.3333333333333333,\"#9c179e\"],[0.4444444444444444,\"#bd3786\"],[0.5555555555555556,\"#d8576b\"],[0.6666666666666666,\"#ed7953\"],[0.7777777777777778,\"#fb9f3a\"],[0.8888888888888888,\"#fdca26\"],[1.0,\"#f0f921\"]]}],\"contourcarpet\":[{\"type\":\"contourcarpet\",\"colorbar\":{\"outlinewidth\":0,\"ticks\":\"\"}}],\"contour\":[{\"type\":\"contour\",\"colorbar\":{\"outlinewidth\":0,\"ticks\":\"\"},\"colorscale\":[[0.0,\"#0d0887\"],[0.1111111111111111,\"#46039f\"],[0.2222222222222222,\"#7201a8\"],[0.3333333333333333,\"#9c179e\"],[0.4444444444444444,\"#bd3786\"],[0.5555555555555556,\"#d8576b\"],[0.6666666666666666,\"#ed7953\"],[0.7777777777777778,\"#fb9f3a\"],[0.8888888888888888,\"#fdca26\"],[1.0,\"#f0f921\"]]}],\"surface\":[{\"type\":\"surface\",\"colorbar\":{\"outlinewidth\":0,\"ticks\":\"\"},\"colorscale\":[[0.0,\"#0d0887\"],[0.1111111111111111,\"#46039f\"],[0.2222222222222222,\"#7201a8\"],[0.3333333333333333,\"#9c179e\"],[0.4444444444444444,\"#bd3786\"],[0.5555555555555556,\"#d8576b\"],[0.6666666666666666,\"#ed7953\"],[0.7777777777777778,\"#fb9f3a\"],[0.8888888888888888,\"#fdca26\"],[1.0,\"#f0f921\"]]}],\"mesh3d\":[{\"type\":\"mesh3d\",\"colorbar\":{\"outlinewidth\":0,\"ticks\":\"\"}}],\"scatter\":[{\"fillpattern\":{\"fillmode\":\"overlay\",\"size\":10,\"solidity\":0.2},\"type\":\"scatter\"}],\"parcoords\":[{\"type\":\"parcoords\",\"line\":{\"colorbar\":{\"outlinewidth\":0,\"ticks\":\"\"}}}],\"scatterpolargl\":[{\"type\":\"scatterpolargl\",\"marker\":{\"colorbar\":{\"outlinewidth\":0,\"ticks\":\"\"}}}],\"bar\":[{\"error_x\":{\"color\":\"#2a3f5f\"},\"error_y\":{\"color\":\"#2a3f5f\"},\"marker\":{\"line\":{\"color\":\"#E5ECF6\",\"width\":0.5},\"pattern\":{\"fillmode\":\"overlay\",\"size\":10,\"solidity\":0.2}},\"type\":\"bar\"}],\"scattergeo\":[{\"type\":\"scattergeo\",\"marker\":{\"colorbar\":{\"outlinewidth\":0,\"ticks\":\"\"}}}],\"scatterpolar\":[{\"type\":\"scatterpolar\",\"marker\":{\"colorbar\":{\"outlinewidth\":0,\"ticks\":\"\"}}}],\"histogram\":[{\"marker\":{\"pattern\":{\"fillmode\":\"overlay\",\"size\":10,\"solidity\":0.2}},\"type\":\"histogram\"}],\"scattergl\":[{\"type\":\"scattergl\",\"marker\":{\"colorbar\":{\"outlinewidth\":0,\"ticks\":\"\"}}}],\"scatter3d\":[{\"type\":\"scatter3d\",\"line\":{\"colorbar\":{\"outlinewidth\":0,\"ticks\":\"\"}},\"marker\":{\"colorbar\":{\"outlinewidth\":0,\"ticks\":\"\"}}}],\"scattermapbox\":[{\"type\":\"scattermapbox\",\"marker\":{\"colorbar\":{\"outlinewidth\":0,\"ticks\":\"\"}}}],\"scatterternary\":[{\"type\":\"scatterternary\",\"marker\":{\"colorbar\":{\"outlinewidth\":0,\"ticks\":\"\"}}}],\"scattercarpet\":[{\"type\":\"scattercarpet\",\"marker\":{\"colorbar\":{\"outlinewidth\":0,\"ticks\":\"\"}}}],\"carpet\":[{\"aaxis\":{\"endlinecolor\":\"#2a3f5f\",\"gridcolor\":\"white\",\"linecolor\":\"white\",\"minorgridcolor\":\"white\",\"startlinecolor\":\"#2a3f5f\"},\"baxis\":{\"endlinecolor\":\"#2a3f5f\",\"gridcolor\":\"white\",\"linecolor\":\"white\",\"minorgridcolor\":\"white\",\"startlinecolor\":\"#2a3f5f\"},\"type\":\"carpet\"}],\"table\":[{\"cells\":{\"fill\":{\"color\":\"#EBF0F8\"},\"line\":{\"color\":\"white\"}},\"header\":{\"fill\":{\"color\":\"#C8D4E3\"},\"line\":{\"color\":\"white\"}},\"type\":\"table\"}],\"barpolar\":[{\"marker\":{\"line\":{\"color\":\"#E5ECF6\",\"width\":0.5},\"pattern\":{\"fillmode\":\"overlay\",\"size\":10,\"solidity\":0.2}},\"type\":\"barpolar\"}],\"pie\":[{\"automargin\":true,\"type\":\"pie\"}]},\"layout\":{\"autotypenumbers\":\"strict\",\"colorway\":[\"#636efa\",\"#EF553B\",\"#00cc96\",\"#ab63fa\",\"#FFA15A\",\"#19d3f3\",\"#FF6692\",\"#B6E880\",\"#FF97FF\",\"#FECB52\"],\"font\":{\"color\":\"#2a3f5f\"},\"hovermode\":\"closest\",\"hoverlabel\":{\"align\":\"left\"},\"paper_bgcolor\":\"white\",\"plot_bgcolor\":\"#E5ECF6\",\"polar\":{\"bgcolor\":\"#E5ECF6\",\"angularaxis\":{\"gridcolor\":\"white\",\"linecolor\":\"white\",\"ticks\":\"\"},\"radialaxis\":{\"gridcolor\":\"white\",\"linecolor\":\"white\",\"ticks\":\"\"}},\"ternary\":{\"bgcolor\":\"#E5ECF6\",\"aaxis\":{\"gridcolor\":\"white\",\"linecolor\":\"white\",\"ticks\":\"\"},\"baxis\":{\"gridcolor\":\"white\",\"linecolor\":\"white\",\"ticks\":\"\"},\"caxis\":{\"gridcolor\":\"white\",\"linecolor\":\"white\",\"ticks\":\"\"}},\"coloraxis\":{\"colorbar\":{\"outlinewidth\":0,\"ticks\":\"\"}},\"colorscale\":{\"sequential\":[[0.0,\"#0d0887\"],[0.1111111111111111,\"#46039f\"],[0.2222222222222222,\"#7201a8\"],[0.3333333333333333,\"#9c179e\"],[0.4444444444444444,\"#bd3786\"],[0.5555555555555556,\"#d8576b\"],[0.6666666666666666,\"#ed7953\"],[0.7777777777777778,\"#fb9f3a\"],[0.8888888888888888,\"#fdca26\"],[1.0,\"#f0f921\"]],\"sequentialminus\":[[0.0,\"#0d0887\"],[0.1111111111111111,\"#46039f\"],[0.2222222222222222,\"#7201a8\"],[0.3333333333333333,\"#9c179e\"],[0.4444444444444444,\"#bd3786\"],[0.5555555555555556,\"#d8576b\"],[0.6666666666666666,\"#ed7953\"],[0.7777777777777778,\"#fb9f3a\"],[0.8888888888888888,\"#fdca26\"],[1.0,\"#f0f921\"]],\"diverging\":[[0,\"#8e0152\"],[0.1,\"#c51b7d\"],[0.2,\"#de77ae\"],[0.3,\"#f1b6da\"],[0.4,\"#fde0ef\"],[0.5,\"#f7f7f7\"],[0.6,\"#e6f5d0\"],[0.7,\"#b8e186\"],[0.8,\"#7fbc41\"],[0.9,\"#4d9221\"],[1,\"#276419\"]]},\"xaxis\":{\"gridcolor\":\"white\",\"linecolor\":\"white\",\"ticks\":\"\",\"title\":{\"standoff\":15},\"zerolinecolor\":\"white\",\"automargin\":true,\"zerolinewidth\":2},\"yaxis\":{\"gridcolor\":\"white\",\"linecolor\":\"white\",\"ticks\":\"\",\"title\":{\"standoff\":15},\"zerolinecolor\":\"white\",\"automargin\":true,\"zerolinewidth\":2},\"scene\":{\"xaxis\":{\"backgroundcolor\":\"#E5ECF6\",\"gridcolor\":\"white\",\"linecolor\":\"white\",\"showbackground\":true,\"ticks\":\"\",\"zerolinecolor\":\"white\",\"gridwidth\":2},\"yaxis\":{\"backgroundcolor\":\"#E5ECF6\",\"gridcolor\":\"white\",\"linecolor\":\"white\",\"showbackground\":true,\"ticks\":\"\",\"zerolinecolor\":\"white\",\"gridwidth\":2},\"zaxis\":{\"backgroundcolor\":\"#E5ECF6\",\"gridcolor\":\"white\",\"linecolor\":\"white\",\"showbackground\":true,\"ticks\":\"\",\"zerolinecolor\":\"white\",\"gridwidth\":2}},\"shapedefaults\":{\"line\":{\"color\":\"#2a3f5f\"}},\"annotationdefaults\":{\"arrowcolor\":\"#2a3f5f\",\"arrowhead\":0,\"arrowwidth\":1},\"geo\":{\"bgcolor\":\"white\",\"landcolor\":\"#E5ECF6\",\"subunitcolor\":\"white\",\"showland\":true,\"showlakes\":true,\"lakecolor\":\"white\"},\"title\":{\"x\":0.05},\"mapbox\":{\"style\":\"light\"}}},\"xaxis\":{\"anchor\":\"y\",\"domain\":[0.0,1.0],\"title\":{\"text\":\"Churn\"},\"categoryorder\":\"array\",\"categoryarray\":[\"No\",\"Yes\"]},\"yaxis\":{\"anchor\":\"x\",\"domain\":[0.0,1.0],\"title\":{\"text\":\"MonthlyCharges\"}},\"legend\":{\"title\":{\"text\":\"Churn\"},\"tracegroupgap\":0},\"title\":{\"text\":\"Distribución de Cargos Mensuales según abandono o no abandono\"},\"boxmode\":\"overlay\"},                        {\"responsive\": true}                    ).then(function(){\n",
              "                            \n",
              "var gd = document.getElementById('b1ae902b-80bd-46df-8e93-6a0710c28824');\n",
              "var x = new MutationObserver(function (mutations, observer) {{\n",
              "        var display = window.getComputedStyle(gd).display;\n",
              "        if (!display || display === 'none') {{\n",
              "            console.log([gd, 'removed!']);\n",
              "            Plotly.purge(gd);\n",
              "            observer.disconnect();\n",
              "        }}\n",
              "}});\n",
              "\n",
              "// Listen for the removal of the full notebook cells\n",
              "var notebookContainer = gd.closest('#notebook-container');\n",
              "if (notebookContainer) {{\n",
              "    x.observe(notebookContainer, {childList: true});\n",
              "}}\n",
              "\n",
              "// Listen for the clearing of the current output cell\n",
              "var outputEl = gd.closest('.output');\n",
              "if (outputEl) {{\n",
              "    x.observe(outputEl, {childList: true});\n",
              "}}\n",
              "\n",
              "                        })                };                            </script>        </div>\n",
              "</body>\n",
              "</html>"
            ]
          },
          "metadata": {},
          "output_type": "display_data"
        }
      ],
      "source": [
        "fig = px.box(\n",
        "    df,\n",
        "    x='Churn',\n",
        "    y='MonthlyCharges',\n",
        "    color='Churn',\n",
        "    title='Distribución de Cargos Mensuales Según Abandono'\n",
        ")\n",
        "fig.show()"
      ]
    },
    {
      "cell_type": "markdown",
      "metadata": {
        "id": "Xv81yeZv-_i6"
      },
      "source": [
        "En este gráfico de caja podemos observar que el cargo mensual de los abandonos es mayor que el de los retenidos, pudiendo explicar el motivo del abandono."
      ]
    },
    {
      "cell_type": "markdown",
      "metadata": {
        "id": "wyjQ_NzfD4zP"
      },
      "source": [
        "## Fuentes\n",
        "Clase 9 - 05/06/25 - limpieza de datos y EDA.ipynb  \n",
        "Clase 11 - 10/06/25 - histogramas, diagramas de caja y subplot.ipynb  \n",
        "Clase 12 - 11/06/25 - otras bibliotecas de visualizacion.ipynb"
      ]
    }
  ],
  "metadata": {
    "colab": {
      "provenance": []
    },
    "kernelspec": {
      "display_name": "Python 3",
      "name": "python3"
    },
    "language_info": {
      "name": "python"
    }
  },
  "nbformat": 4,
  "nbformat_minor": 0
}
